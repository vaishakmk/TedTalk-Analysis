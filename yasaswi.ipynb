{
  "nbformat": 4,
  "nbformat_minor": 0,
  "metadata": {
    "colab": {
      "name": "yasaswi.ipynb",
      "provenance": [],
      "toc_visible": true,
      "authorship_tag": "ABX9TyMTbsffHCn3Fq/+ULeJRMCP",
      "include_colab_link": true
    },
    "kernelspec": {
      "name": "python3",
      "display_name": "Python 3"
    },
    "language_info": {
      "name": "python"
    }
  },
  "cells": [
    {
      "cell_type": "markdown",
      "metadata": {
        "id": "view-in-github",
        "colab_type": "text"
      },
      "source": [
        "<a href=\"https://colab.research.google.com/github/vaishakmk/TedTalk-Analysis/blob/main/yasaswi.ipynb\" target=\"_parent\"><img src=\"https://colab.research.google.com/assets/colab-badge.svg\" alt=\"Open In Colab\"/></a>"
      ]
    },
    {
      "cell_type": "code",
      "execution_count": null,
      "metadata": {
        "id": "YX1WbMPNR7kf"
      },
      "outputs": [],
      "source": [
        "import numpy as np \n",
        "import pandas as pd \n",
        "import matplotlib.pyplot as plt\n",
        "import seaborn as sns\n",
        "import ast\n",
        "from collections import defaultdict\n",
        "import datetime\n",
        "from pandas.plotting import parallel_coordinates\n",
        "from scipy.stats import pearsonr\n",
        "import re\n",
        "import csv\n",
        "\n",
        "%matplotlib inline"
      ]
    },
    {
      "cell_type": "code",
      "source": [
        "speaker_data = pd.read_csv('/content/speaker_data.csv')\n",
        "talk_data = pd.read_csv('talk_data.csv')\n",
        "transcript_data = pd.read_csv('/content/transcript_data.csv')\n",
        "\n",
        "\n"
      ],
      "metadata": {
        "id": "TwhUUEuSSwdk"
      },
      "execution_count": 81,
      "outputs": []
    },
    {
      "cell_type": "code",
      "source": [
        "speaker_data.isnull().sum()"
      ],
      "metadata": {
        "colab": {
          "base_uri": "https://localhost:8080/"
        },
        "id": "dcRC_XCdS3bk",
        "outputId": "cebe554b-a151-4d47-9d97-2f1f16467aa2"
      },
      "execution_count": 82,
      "outputs": [
        {
          "output_type": "execute_result",
          "data": {
            "text/plain": [
              "talk              141\n",
              "speaker           145\n",
              "speaker_title    4433\n",
              "speaker_occ       789\n",
              "speaker_bio       764\n",
              "dtype: int64"
            ]
          },
          "metadata": {},
          "execution_count": 82
        }
      ]
    },
    {
      "cell_type": "code",
      "source": [
        "speaker_data.info()"
      ],
      "metadata": {
        "colab": {
          "base_uri": "https://localhost:8080/"
        },
        "id": "pGmhBIDCTY-6",
        "outputId": "d8a94157-1faf-41fb-c499-3fe83ab78d1f"
      },
      "execution_count": 83,
      "outputs": [
        {
          "output_type": "stream",
          "name": "stdout",
          "text": [
            "<class 'pandas.core.frame.DataFrame'>\n",
            "RangeIndex: 4442 entries, 0 to 4441\n",
            "Data columns (total 5 columns):\n",
            " #   Column         Non-Null Count  Dtype \n",
            "---  ------         --------------  ----- \n",
            " 0   talk           4301 non-null   object\n",
            " 1   speaker        4297 non-null   object\n",
            " 2   speaker_title  9 non-null      object\n",
            " 3   speaker_occ    3653 non-null   object\n",
            " 4   speaker_bio    3678 non-null   object\n",
            "dtypes: object(5)\n",
            "memory usage: 173.6+ KB\n"
          ]
        }
      ]
    },
    {
      "cell_type": "code",
      "source": [
        "speaker_data.info()"
      ],
      "metadata": {
        "colab": {
          "base_uri": "https://localhost:8080/"
        },
        "id": "EGKJXN2cTexc",
        "outputId": "1e07cc24-0501-44ac-808f-1fdf5bd4352c"
      },
      "execution_count": 84,
      "outputs": [
        {
          "output_type": "stream",
          "name": "stdout",
          "text": [
            "<class 'pandas.core.frame.DataFrame'>\n",
            "RangeIndex: 4442 entries, 0 to 4441\n",
            "Data columns (total 5 columns):\n",
            " #   Column         Non-Null Count  Dtype \n",
            "---  ------         --------------  ----- \n",
            " 0   talk           4301 non-null   object\n",
            " 1   speaker        4297 non-null   object\n",
            " 2   speaker_title  9 non-null      object\n",
            " 3   speaker_occ    3653 non-null   object\n",
            " 4   speaker_bio    3678 non-null   object\n",
            "dtypes: object(5)\n",
            "memory usage: 173.6+ KB\n"
          ]
        }
      ]
    },
    {
      "cell_type": "code",
      "source": [
        "speaker_data = speaker_data.dropna(subset=['talk'])"
      ],
      "metadata": {
        "id": "rvJExidiThYk"
      },
      "execution_count": 85,
      "outputs": []
    },
    {
      "cell_type": "code",
      "source": [
        "speaker_data.isnull().sum()"
      ],
      "metadata": {
        "colab": {
          "base_uri": "https://localhost:8080/"
        },
        "id": "ZrqEc74YTtlX",
        "outputId": "b30b9c02-5686-43de-ca03-32b1649c8933"
      },
      "execution_count": 86,
      "outputs": [
        {
          "output_type": "execute_result",
          "data": {
            "text/plain": [
              "talk                0\n",
              "speaker             4\n",
              "speaker_title    4292\n",
              "speaker_occ       648\n",
              "speaker_bio       623\n",
              "dtype: int64"
            ]
          },
          "metadata": {},
          "execution_count": 86
        }
      ]
    },
    {
      "cell_type": "code",
      "source": [
        "speaker_data['speaker_occ'] = speaker_data['speaker_occ'].fillna('Unknown')"
      ],
      "metadata": {
        "id": "V8GW76jQTwyq"
      },
      "execution_count": 87,
      "outputs": []
    },
    {
      "cell_type": "code",
      "source": [
        "speaker_data.isnull().sum()"
      ],
      "metadata": {
        "colab": {
          "base_uri": "https://localhost:8080/"
        },
        "id": "jbClf9WVT2Ny",
        "outputId": "d8688e6b-7757-469f-f3d2-665d821a70ac"
      },
      "execution_count": 88,
      "outputs": [
        {
          "output_type": "execute_result",
          "data": {
            "text/plain": [
              "talk                0\n",
              "speaker             4\n",
              "speaker_title    4292\n",
              "speaker_occ         0\n",
              "speaker_bio       623\n",
              "dtype: int64"
            ]
          },
          "metadata": {},
          "execution_count": 88
        }
      ]
    },
    {
      "cell_type": "code",
      "source": [
        "speaker_data['speaker_bio'] = speaker_data['speaker_bio'].fillna('Unknown')"
      ],
      "metadata": {
        "id": "qgwvUZqPT5z3"
      },
      "execution_count": 89,
      "outputs": []
    },
    {
      "cell_type": "code",
      "source": [
        "speaker_data.isnull().sum()"
      ],
      "metadata": {
        "colab": {
          "base_uri": "https://localhost:8080/"
        },
        "id": "XHFRe1e2UAbP",
        "outputId": "9c7d95ea-828c-48a7-f88f-4befd4f31437"
      },
      "execution_count": null,
      "outputs": [
        {
          "output_type": "execute_result",
          "data": {
            "text/plain": [
              "talk                0\n",
              "speaker             4\n",
              "speaker_title    4292\n",
              "speaker_occ         0\n",
              "speaker_bio         0\n",
              "dtype: int64"
            ]
          },
          "metadata": {},
          "execution_count": 64
        }
      ]
    },
    {
      "cell_type": "code",
      "source": [
        "speaker_data['speaker'] = speaker_data['speaker'].fillna('Unknown')"
      ],
      "metadata": {
        "id": "PxT6ew-QUFLB"
      },
      "execution_count": 90,
      "outputs": []
    },
    {
      "cell_type": "code",
      "source": [
        "speaker_data = speaker_data.drop(columns=['speaker_title'])"
      ],
      "metadata": {
        "id": "jm2q-R_pUItg"
      },
      "execution_count": 91,
      "outputs": []
    },
    {
      "cell_type": "code",
      "source": [
        "speaker_data"
      ],
      "metadata": {
        "colab": {
          "base_uri": "https://localhost:8080/",
          "height": 641
        },
        "id": "BRdO7VqhUMU_",
        "outputId": "47c6ceff-3713-4b0d-a5fc-aa87ca94a67b"
      },
      "execution_count": 92,
      "outputs": [
        {
          "output_type": "execute_result",
          "data": {
            "text/plain": [
              "                                                  talk             speaker  \\\n",
              "0     Can you outsmart the apples and oranges fallacy?       Elizabeth Cox   \n",
              "1              The exploitation of US college athletes          Tim Nevius   \n",
              "2                            How does ultrasound work?  Jacques Abramowicz   \n",
              "3     An honest history of an ancient and \"nasty\" word         Kate Lister   \n",
              "4      The electrical blueprints that orchestrate life       Michael Levin   \n",
              "...                                                ...                 ...   \n",
              "4437                   The best stats you've ever seen        Hans Rosling   \n",
              "4438                       Do schools kill creativity?    Sir Ken Robinson   \n",
              "4439                               Greening the ghetto       Majora Carter   \n",
              "4440                                  Simplicity sells         David Pogue   \n",
              "4441                       Averting the climate crisis             Al Gore   \n",
              "\n",
              "                               speaker_occ  \\\n",
              "0                                  Unknown   \n",
              "1                    College sports lawyer   \n",
              "2                                  Unknown   \n",
              "3                            Sex historian   \n",
              "4                     Bioelectric explorer   \n",
              "...                                    ...   \n",
              "4437  Global health expert; data visionary   \n",
              "4438                      Author, educator   \n",
              "4439    Activist for environmental justice   \n",
              "4440                  Technology columnist   \n",
              "4441                      Climate advocate   \n",
              "\n",
              "                                            speaker_bio  \n",
              "0                                               Unknown  \n",
              "1     Tim Nevius is a leading sports lawyer and coll...  \n",
              "2                                               Unknown  \n",
              "3     Kate Lister is a sex historian and lecturers a...  \n",
              "4     Michael Levin's research could give rise to ad...  \n",
              "...                                                 ...  \n",
              "4437  In Hans Rosling’s hands, data sings. Global tr...  \n",
              "4438  Creativity expert Sir Ken Robinson challenged ...  \n",
              "4439  Majora Carter redefined the field of environme...  \n",
              "4440  David Pogue is the personal technology columni...  \n",
              "4441  Nobel Laureate Al Gore focused the world's att...  \n",
              "\n",
              "[4301 rows x 4 columns]"
            ],
            "text/html": [
              "\n",
              "  <div id=\"df-1ca0a3e6-daae-45d2-96a9-72ff10fd10ce\">\n",
              "    <div class=\"colab-df-container\">\n",
              "      <div>\n",
              "<style scoped>\n",
              "    .dataframe tbody tr th:only-of-type {\n",
              "        vertical-align: middle;\n",
              "    }\n",
              "\n",
              "    .dataframe tbody tr th {\n",
              "        vertical-align: top;\n",
              "    }\n",
              "\n",
              "    .dataframe thead th {\n",
              "        text-align: right;\n",
              "    }\n",
              "</style>\n",
              "<table border=\"1\" class=\"dataframe\">\n",
              "  <thead>\n",
              "    <tr style=\"text-align: right;\">\n",
              "      <th></th>\n",
              "      <th>talk</th>\n",
              "      <th>speaker</th>\n",
              "      <th>speaker_occ</th>\n",
              "      <th>speaker_bio</th>\n",
              "    </tr>\n",
              "  </thead>\n",
              "  <tbody>\n",
              "    <tr>\n",
              "      <th>0</th>\n",
              "      <td>Can you outsmart the apples and oranges fallacy?</td>\n",
              "      <td>Elizabeth Cox</td>\n",
              "      <td>Unknown</td>\n",
              "      <td>Unknown</td>\n",
              "    </tr>\n",
              "    <tr>\n",
              "      <th>1</th>\n",
              "      <td>The exploitation of US college athletes</td>\n",
              "      <td>Tim Nevius</td>\n",
              "      <td>College sports lawyer</td>\n",
              "      <td>Tim Nevius is a leading sports lawyer and coll...</td>\n",
              "    </tr>\n",
              "    <tr>\n",
              "      <th>2</th>\n",
              "      <td>How does ultrasound work?</td>\n",
              "      <td>Jacques Abramowicz</td>\n",
              "      <td>Unknown</td>\n",
              "      <td>Unknown</td>\n",
              "    </tr>\n",
              "    <tr>\n",
              "      <th>3</th>\n",
              "      <td>An honest history of an ancient and \"nasty\" word</td>\n",
              "      <td>Kate Lister</td>\n",
              "      <td>Sex historian</td>\n",
              "      <td>Kate Lister is a sex historian and lecturers a...</td>\n",
              "    </tr>\n",
              "    <tr>\n",
              "      <th>4</th>\n",
              "      <td>The electrical blueprints that orchestrate life</td>\n",
              "      <td>Michael Levin</td>\n",
              "      <td>Bioelectric explorer</td>\n",
              "      <td>Michael Levin's research could give rise to ad...</td>\n",
              "    </tr>\n",
              "    <tr>\n",
              "      <th>...</th>\n",
              "      <td>...</td>\n",
              "      <td>...</td>\n",
              "      <td>...</td>\n",
              "      <td>...</td>\n",
              "    </tr>\n",
              "    <tr>\n",
              "      <th>4437</th>\n",
              "      <td>The best stats you've ever seen</td>\n",
              "      <td>Hans Rosling</td>\n",
              "      <td>Global health expert; data visionary</td>\n",
              "      <td>In Hans Rosling’s hands, data sings. Global tr...</td>\n",
              "    </tr>\n",
              "    <tr>\n",
              "      <th>4438</th>\n",
              "      <td>Do schools kill creativity?</td>\n",
              "      <td>Sir Ken Robinson</td>\n",
              "      <td>Author, educator</td>\n",
              "      <td>Creativity expert Sir Ken Robinson challenged ...</td>\n",
              "    </tr>\n",
              "    <tr>\n",
              "      <th>4439</th>\n",
              "      <td>Greening the ghetto</td>\n",
              "      <td>Majora Carter</td>\n",
              "      <td>Activist for environmental justice</td>\n",
              "      <td>Majora Carter redefined the field of environme...</td>\n",
              "    </tr>\n",
              "    <tr>\n",
              "      <th>4440</th>\n",
              "      <td>Simplicity sells</td>\n",
              "      <td>David Pogue</td>\n",
              "      <td>Technology columnist</td>\n",
              "      <td>David Pogue is the personal technology columni...</td>\n",
              "    </tr>\n",
              "    <tr>\n",
              "      <th>4441</th>\n",
              "      <td>Averting the climate crisis</td>\n",
              "      <td>Al Gore</td>\n",
              "      <td>Climate advocate</td>\n",
              "      <td>Nobel Laureate Al Gore focused the world's att...</td>\n",
              "    </tr>\n",
              "  </tbody>\n",
              "</table>\n",
              "<p>4301 rows × 4 columns</p>\n",
              "</div>\n",
              "      <button class=\"colab-df-convert\" onclick=\"convertToInteractive('df-1ca0a3e6-daae-45d2-96a9-72ff10fd10ce')\"\n",
              "              title=\"Convert this dataframe to an interactive table.\"\n",
              "              style=\"display:none;\">\n",
              "        \n",
              "  <svg xmlns=\"http://www.w3.org/2000/svg\" height=\"24px\"viewBox=\"0 0 24 24\"\n",
              "       width=\"24px\">\n",
              "    <path d=\"M0 0h24v24H0V0z\" fill=\"none\"/>\n",
              "    <path d=\"M18.56 5.44l.94 2.06.94-2.06 2.06-.94-2.06-.94-.94-2.06-.94 2.06-2.06.94zm-11 1L8.5 8.5l.94-2.06 2.06-.94-2.06-.94L8.5 2.5l-.94 2.06-2.06.94zm10 10l.94 2.06.94-2.06 2.06-.94-2.06-.94-.94-2.06-.94 2.06-2.06.94z\"/><path d=\"M17.41 7.96l-1.37-1.37c-.4-.4-.92-.59-1.43-.59-.52 0-1.04.2-1.43.59L10.3 9.45l-7.72 7.72c-.78.78-.78 2.05 0 2.83L4 21.41c.39.39.9.59 1.41.59.51 0 1.02-.2 1.41-.59l7.78-7.78 2.81-2.81c.8-.78.8-2.07 0-2.86zM5.41 20L4 18.59l7.72-7.72 1.47 1.35L5.41 20z\"/>\n",
              "  </svg>\n",
              "      </button>\n",
              "      \n",
              "  <style>\n",
              "    .colab-df-container {\n",
              "      display:flex;\n",
              "      flex-wrap:wrap;\n",
              "      gap: 12px;\n",
              "    }\n",
              "\n",
              "    .colab-df-convert {\n",
              "      background-color: #E8F0FE;\n",
              "      border: none;\n",
              "      border-radius: 50%;\n",
              "      cursor: pointer;\n",
              "      display: none;\n",
              "      fill: #1967D2;\n",
              "      height: 32px;\n",
              "      padding: 0 0 0 0;\n",
              "      width: 32px;\n",
              "    }\n",
              "\n",
              "    .colab-df-convert:hover {\n",
              "      background-color: #E2EBFA;\n",
              "      box-shadow: 0px 1px 2px rgba(60, 64, 67, 0.3), 0px 1px 3px 1px rgba(60, 64, 67, 0.15);\n",
              "      fill: #174EA6;\n",
              "    }\n",
              "\n",
              "    [theme=dark] .colab-df-convert {\n",
              "      background-color: #3B4455;\n",
              "      fill: #D2E3FC;\n",
              "    }\n",
              "\n",
              "    [theme=dark] .colab-df-convert:hover {\n",
              "      background-color: #434B5C;\n",
              "      box-shadow: 0px 1px 3px 1px rgba(0, 0, 0, 0.15);\n",
              "      filter: drop-shadow(0px 1px 2px rgba(0, 0, 0, 0.3));\n",
              "      fill: #FFFFFF;\n",
              "    }\n",
              "  </style>\n",
              "\n",
              "      <script>\n",
              "        const buttonEl =\n",
              "          document.querySelector('#df-1ca0a3e6-daae-45d2-96a9-72ff10fd10ce button.colab-df-convert');\n",
              "        buttonEl.style.display =\n",
              "          google.colab.kernel.accessAllowed ? 'block' : 'none';\n",
              "\n",
              "        async function convertToInteractive(key) {\n",
              "          const element = document.querySelector('#df-1ca0a3e6-daae-45d2-96a9-72ff10fd10ce');\n",
              "          const dataTable =\n",
              "            await google.colab.kernel.invokeFunction('convertToInteractive',\n",
              "                                                     [key], {});\n",
              "          if (!dataTable) return;\n",
              "\n",
              "          const docLinkHtml = 'Like what you see? Visit the ' +\n",
              "            '<a target=\"_blank\" href=https://colab.research.google.com/notebooks/data_table.ipynb>data table notebook</a>'\n",
              "            + ' to learn more about interactive tables.';\n",
              "          element.innerHTML = '';\n",
              "          dataTable['output_type'] = 'display_data';\n",
              "          await google.colab.output.renderOutput(dataTable, element);\n",
              "          const docLink = document.createElement('div');\n",
              "          docLink.innerHTML = docLinkHtml;\n",
              "          element.appendChild(docLink);\n",
              "        }\n",
              "      </script>\n",
              "    </div>\n",
              "  </div>\n",
              "  "
            ]
          },
          "metadata": {},
          "execution_count": 92
        }
      ]
    },
    {
      "cell_type": "code",
      "source": [
        "talk_data.info()"
      ],
      "metadata": {
        "colab": {
          "base_uri": "https://localhost:8080/"
        },
        "id": "LfW9eTdJUWQ1",
        "outputId": "02887a02-304e-4c1e-9482-565808ad6d76"
      },
      "execution_count": 93,
      "outputs": [
        {
          "output_type": "stream",
          "name": "stdout",
          "text": [
            "<class 'pandas.core.frame.DataFrame'>\n",
            "RangeIndex: 4322 entries, 0 to 4321\n",
            "Data columns (total 8 columns):\n",
            " #   Column        Non-Null Count  Dtype \n",
            "---  ------        --------------  ----- \n",
            " 0   talk_desc     4322 non-null   object\n",
            " 1   event         4322 non-null   object\n",
            " 2   talk_name     4322 non-null   object\n",
            " 3   views         4322 non-null   int64 \n",
            " 4   duration      4322 non-null   int64 \n",
            " 5   tags          4322 non-null   object\n",
            " 6   recorded_at   4322 non-null   object\n",
            " 7   published on  4322 non-null   int64 \n",
            "dtypes: int64(3), object(5)\n",
            "memory usage: 270.2+ KB\n"
          ]
        }
      ]
    },
    {
      "cell_type": "code",
      "source": [
        "talk_data.isnull().sum()"
      ],
      "metadata": {
        "colab": {
          "base_uri": "https://localhost:8080/"
        },
        "id": "VJUnZtP0UadJ",
        "outputId": "c633ad24-2fb6-4d05-a7cf-ed5424cc2cb6"
      },
      "execution_count": 94,
      "outputs": [
        {
          "output_type": "execute_result",
          "data": {
            "text/plain": [
              "talk_desc       0\n",
              "event           0\n",
              "talk_name       0\n",
              "views           0\n",
              "duration        0\n",
              "tags            0\n",
              "recorded_at     0\n",
              "published on    0\n",
              "dtype: int64"
            ]
          },
          "metadata": {},
          "execution_count": 94
        }
      ]
    },
    {
      "cell_type": "code",
      "source": [
        "transcript_data.info()"
      ],
      "metadata": {
        "colab": {
          "base_uri": "https://localhost:8080/"
        },
        "id": "9_YZW0XkUdN1",
        "outputId": "ace8f945-7db7-4280-9be1-1b91377c775f"
      },
      "execution_count": 95,
      "outputs": [
        {
          "output_type": "stream",
          "name": "stdout",
          "text": [
            "<class 'pandas.core.frame.DataFrame'>\n",
            "RangeIndex: 4442 entries, 0 to 4441\n",
            "Data columns (total 2 columns):\n",
            " #   Column      Non-Null Count  Dtype \n",
            "---  ------      --------------  ----- \n",
            " 0   title       4442 non-null   object\n",
            " 1   transcript  4298 non-null   object\n",
            "dtypes: object(2)\n",
            "memory usage: 69.5+ KB\n"
          ]
        }
      ]
    },
    {
      "cell_type": "code",
      "source": [
        "transcript_data.isnull().sum()"
      ],
      "metadata": {
        "colab": {
          "base_uri": "https://localhost:8080/"
        },
        "id": "S4QkP218UgXS",
        "outputId": "e4b95220-6665-4188-ea97-f3e34034990e"
      },
      "execution_count": 96,
      "outputs": [
        {
          "output_type": "execute_result",
          "data": {
            "text/plain": [
              "title           0\n",
              "transcript    144\n",
              "dtype: int64"
            ]
          },
          "metadata": {},
          "execution_count": 96
        }
      ]
    },
    {
      "cell_type": "code",
      "source": [
        "transcript_data = transcript_data.dropna(subset=['transcript'])\n"
      ],
      "metadata": {
        "id": "RmtlVlGgUkut"
      },
      "execution_count": 97,
      "outputs": []
    },
    {
      "cell_type": "code",
      "source": [
        "transcript_data.info()"
      ],
      "metadata": {
        "id": "9Vmq17RyUoMM",
        "colab": {
          "base_uri": "https://localhost:8080/"
        },
        "outputId": "adb35629-7c13-42f1-ce74-5a223c6c424c"
      },
      "execution_count": 98,
      "outputs": [
        {
          "output_type": "stream",
          "name": "stdout",
          "text": [
            "<class 'pandas.core.frame.DataFrame'>\n",
            "Int64Index: 4298 entries, 0 to 4441\n",
            "Data columns (total 2 columns):\n",
            " #   Column      Non-Null Count  Dtype \n",
            "---  ------      --------------  ----- \n",
            " 0   title       4298 non-null   object\n",
            " 1   transcript  4298 non-null   object\n",
            "dtypes: object(2)\n",
            "memory usage: 100.7+ KB\n"
          ]
        }
      ]
    },
    {
      "cell_type": "code",
      "source": [
        "speaker_data.info()"
      ],
      "metadata": {
        "id": "dAROdDAbUrCa",
        "colab": {
          "base_uri": "https://localhost:8080/"
        },
        "outputId": "57a03a9e-fcbc-4d10-c786-57e1049f1fc2"
      },
      "execution_count": 99,
      "outputs": [
        {
          "output_type": "stream",
          "name": "stdout",
          "text": [
            "<class 'pandas.core.frame.DataFrame'>\n",
            "Int64Index: 4301 entries, 0 to 4441\n",
            "Data columns (total 4 columns):\n",
            " #   Column       Non-Null Count  Dtype \n",
            "---  ------       --------------  ----- \n",
            " 0   talk         4301 non-null   object\n",
            " 1   speaker      4301 non-null   object\n",
            " 2   speaker_occ  4301 non-null   object\n",
            " 3   speaker_bio  4301 non-null   object\n",
            "dtypes: object(4)\n",
            "memory usage: 168.0+ KB\n"
          ]
        }
      ]
    },
    {
      "cell_type": "code",
      "source": [
        "talk_data.info()"
      ],
      "metadata": {
        "id": "tF1zfcoJUuWh",
        "colab": {
          "base_uri": "https://localhost:8080/"
        },
        "outputId": "1c330288-0be6-4960-860c-ebf9ac6ae5ae"
      },
      "execution_count": 100,
      "outputs": [
        {
          "output_type": "stream",
          "name": "stdout",
          "text": [
            "<class 'pandas.core.frame.DataFrame'>\n",
            "RangeIndex: 4322 entries, 0 to 4321\n",
            "Data columns (total 8 columns):\n",
            " #   Column        Non-Null Count  Dtype \n",
            "---  ------        --------------  ----- \n",
            " 0   talk_desc     4322 non-null   object\n",
            " 1   event         4322 non-null   object\n",
            " 2   talk_name     4322 non-null   object\n",
            " 3   views         4322 non-null   int64 \n",
            " 4   duration      4322 non-null   int64 \n",
            " 5   tags          4322 non-null   object\n",
            " 6   recorded_at   4322 non-null   object\n",
            " 7   published on  4322 non-null   int64 \n",
            "dtypes: int64(3), object(5)\n",
            "memory usage: 270.2+ KB\n"
          ]
        }
      ]
    },
    {
      "cell_type": "code",
      "source": [
        "final_df = pd.merge(speaker_data, talk_data, how='inner', left_on = 'talk', right_on = 'talk_name')"
      ],
      "metadata": {
        "id": "PReYvYkLUzpE"
      },
      "execution_count": 101,
      "outputs": []
    },
    {
      "cell_type": "code",
      "source": [
        "final_df.info()"
      ],
      "metadata": {
        "id": "ZLY4lIYSU2fr",
        "colab": {
          "base_uri": "https://localhost:8080/"
        },
        "outputId": "94187ab5-1bc9-41fe-dad9-5f68edcba083"
      },
      "execution_count": 102,
      "outputs": [
        {
          "output_type": "stream",
          "name": "stdout",
          "text": [
            "<class 'pandas.core.frame.DataFrame'>\n",
            "Int64Index: 4418 entries, 0 to 4417\n",
            "Data columns (total 12 columns):\n",
            " #   Column        Non-Null Count  Dtype \n",
            "---  ------        --------------  ----- \n",
            " 0   talk          4418 non-null   object\n",
            " 1   speaker       4418 non-null   object\n",
            " 2   speaker_occ   4418 non-null   object\n",
            " 3   speaker_bio   4418 non-null   object\n",
            " 4   talk_desc     4418 non-null   object\n",
            " 5   event         4418 non-null   object\n",
            " 6   talk_name     4418 non-null   object\n",
            " 7   views         4418 non-null   int64 \n",
            " 8   duration      4418 non-null   int64 \n",
            " 9   tags          4418 non-null   object\n",
            " 10  recorded_at   4418 non-null   object\n",
            " 11  published on  4418 non-null   int64 \n",
            "dtypes: int64(3), object(9)\n",
            "memory usage: 448.7+ KB\n"
          ]
        }
      ]
    },
    {
      "cell_type": "code",
      "source": [
        "final_df = final_df.drop(columns=['talk_name'])"
      ],
      "metadata": {
        "id": "8kaC0_9yU5by"
      },
      "execution_count": 103,
      "outputs": []
    },
    {
      "cell_type": "code",
      "source": [
        "final_df.info()"
      ],
      "metadata": {
        "id": "EfNP0jGzU82Q",
        "colab": {
          "base_uri": "https://localhost:8080/"
        },
        "outputId": "7b28ebf0-99cd-42e9-ec6f-760afa22f8cf"
      },
      "execution_count": 104,
      "outputs": [
        {
          "output_type": "stream",
          "name": "stdout",
          "text": [
            "<class 'pandas.core.frame.DataFrame'>\n",
            "Int64Index: 4418 entries, 0 to 4417\n",
            "Data columns (total 11 columns):\n",
            " #   Column        Non-Null Count  Dtype \n",
            "---  ------        --------------  ----- \n",
            " 0   talk          4418 non-null   object\n",
            " 1   speaker       4418 non-null   object\n",
            " 2   speaker_occ   4418 non-null   object\n",
            " 3   speaker_bio   4418 non-null   object\n",
            " 4   talk_desc     4418 non-null   object\n",
            " 5   event         4418 non-null   object\n",
            " 6   views         4418 non-null   int64 \n",
            " 7   duration      4418 non-null   int64 \n",
            " 8   tags          4418 non-null   object\n",
            " 9   recorded_at   4418 non-null   object\n",
            " 10  published on  4418 non-null   int64 \n",
            "dtypes: int64(3), object(8)\n",
            "memory usage: 414.2+ KB\n"
          ]
        }
      ]
    },
    {
      "cell_type": "code",
      "source": [
        "final_df = pd.merge(final_df, transcript_data, how='inner', left_on = 'talk', right_on = 'title')"
      ],
      "metadata": {
        "id": "FxmXe69sVAVV"
      },
      "execution_count": 105,
      "outputs": []
    },
    {
      "cell_type": "code",
      "source": [
        "final_df.info()"
      ],
      "metadata": {
        "colab": {
          "base_uri": "https://localhost:8080/"
        },
        "id": "lB-tA82bVDYB",
        "outputId": "57f503aa-5f98-4f59-80f2-a1dd7549a7ad"
      },
      "execution_count": 106,
      "outputs": [
        {
          "output_type": "stream",
          "name": "stdout",
          "text": [
            "<class 'pandas.core.frame.DataFrame'>\n",
            "Int64Index: 7167 entries, 0 to 7166\n",
            "Data columns (total 13 columns):\n",
            " #   Column        Non-Null Count  Dtype \n",
            "---  ------        --------------  ----- \n",
            " 0   talk          7167 non-null   object\n",
            " 1   speaker       7167 non-null   object\n",
            " 2   speaker_occ   7167 non-null   object\n",
            " 3   speaker_bio   7167 non-null   object\n",
            " 4   talk_desc     7167 non-null   object\n",
            " 5   event         7167 non-null   object\n",
            " 6   views         7167 non-null   int64 \n",
            " 7   duration      7167 non-null   int64 \n",
            " 8   tags          7167 non-null   object\n",
            " 9   recorded_at   7167 non-null   object\n",
            " 10  published on  7167 non-null   int64 \n",
            " 11  title         7167 non-null   object\n",
            " 12  transcript    7167 non-null   object\n",
            "dtypes: int64(3), object(10)\n",
            "memory usage: 783.9+ KB\n"
          ]
        }
      ]
    },
    {
      "cell_type": "code",
      "source": [
        "final_df = final_df.drop(columns=['title'])"
      ],
      "metadata": {
        "id": "sqjZMpmYVIB2"
      },
      "execution_count": 107,
      "outputs": []
    },
    {
      "cell_type": "code",
      "source": [
        "final_df.info()"
      ],
      "metadata": {
        "id": "zg08CXWuVMnh",
        "colab": {
          "base_uri": "https://localhost:8080/"
        },
        "outputId": "2a02773e-7bc7-4f4b-ba66-55031a71f947"
      },
      "execution_count": 108,
      "outputs": [
        {
          "output_type": "stream",
          "name": "stdout",
          "text": [
            "<class 'pandas.core.frame.DataFrame'>\n",
            "Int64Index: 7167 entries, 0 to 7166\n",
            "Data columns (total 12 columns):\n",
            " #   Column        Non-Null Count  Dtype \n",
            "---  ------        --------------  ----- \n",
            " 0   talk          7167 non-null   object\n",
            " 1   speaker       7167 non-null   object\n",
            " 2   speaker_occ   7167 non-null   object\n",
            " 3   speaker_bio   7167 non-null   object\n",
            " 4   talk_desc     7167 non-null   object\n",
            " 5   event         7167 non-null   object\n",
            " 6   views         7167 non-null   int64 \n",
            " 7   duration      7167 non-null   int64 \n",
            " 8   tags          7167 non-null   object\n",
            " 9   recorded_at   7167 non-null   object\n",
            " 10  published on  7167 non-null   int64 \n",
            " 11  transcript    7167 non-null   object\n",
            "dtypes: int64(3), object(9)\n",
            "memory usage: 727.9+ KB\n"
          ]
        }
      ]
    },
    {
      "cell_type": "code",
      "source": [
        "df = pd.read_csv('/content/talk_data.csv')\n",
        "df.columns"
      ],
      "metadata": {
        "colab": {
          "base_uri": "https://localhost:8080/"
        },
        "id": "jvObviECddGf",
        "outputId": "37914e86-0863-4c0a-ad2d-3b53a2673aeb"
      },
      "execution_count": 112,
      "outputs": [
        {
          "output_type": "execute_result",
          "data": {
            "text/plain": [
              "Index(['talk_desc', 'event', 'talk_name', 'views', 'duration', 'tags',\n",
              "       'recorded_at', 'published on'],\n",
              "      dtype='object')"
            ]
          },
          "metadata": {},
          "execution_count": 112
        }
      ]
    },
    {
      "cell_type": "code",
      "source": [
        "import ast\n",
        "df['tags'] = df['tags'].apply(lambda x: ast.literal_eval(x))"
      ],
      "metadata": {
        "id": "PDSEtYOGddD4"
      },
      "execution_count": 114,
      "outputs": []
    },
    {
      "cell_type": "code",
      "source": [
        "s = df.apply(lambda x: pd.Series(x['tags']),axis=1).stack().reset_index(level=1, drop=True)\n",
        "s.name = 'theme'"
      ],
      "metadata": {
        "id": "Qn_EEQqjddB0"
      },
      "execution_count": 115,
      "outputs": []
    },
    {
      "cell_type": "code",
      "source": [
        "theme_df = df.drop('tags', axis=1).join(s)\n",
        "theme_df.head()"
      ],
      "metadata": {
        "colab": {
          "base_uri": "https://localhost:8080/",
          "height": 354
        },
        "id": "RFAsqc1Ydc_c",
        "outputId": "dbf10c47-23ce-4d94-86b2-32d6dd256a20"
      },
      "execution_count": 116,
      "outputs": [
        {
          "output_type": "execute_result",
          "data": {
            "text/plain": [
              "                                           talk_desc   event  \\\n",
              "0  It's 1997. The United States Senate has called...  TED-Ed   \n",
              "0  It's 1997. The United States Senate has called...  TED-Ed   \n",
              "0  It's 1997. The United States Senate has called...  TED-Ed   \n",
              "0  It's 1997. The United States Senate has called...  TED-Ed   \n",
              "0  It's 1997. The United States Senate has called...  TED-Ed   \n",
              "\n",
              "                                          talk_name   views  duration  \\\n",
              "0  Can you outsmart the apples and oranges fallacy?  119359       327   \n",
              "0  Can you outsmart the apples and oranges fallacy?  119359       327   \n",
              "0  Can you outsmart the apples and oranges fallacy?  119359       327   \n",
              "0  Can you outsmart the apples and oranges fallacy?  119359       327   \n",
              "0  Can you outsmart the apples and oranges fallacy?  119359       327   \n",
              "\n",
              "                     recorded_at  published on       theme  \n",
              "0  2021-04-05T00:00:00.000+00:00    1617636753   education  \n",
              "0  2021-04-05T00:00:00.000+00:00    1617636753  psychology  \n",
              "0  2021-04-05T00:00:00.000+00:00    1617636753   animation  \n",
              "0  2021-04-05T00:00:00.000+00:00    1617636753      TED-Ed  \n",
              "0  2021-04-05T00:00:00.000+00:00    1617636753       brain  "
            ],
            "text/html": [
              "\n",
              "  <div id=\"df-b8c95210-8007-4fdb-b37e-e626be61e4ce\">\n",
              "    <div class=\"colab-df-container\">\n",
              "      <div>\n",
              "<style scoped>\n",
              "    .dataframe tbody tr th:only-of-type {\n",
              "        vertical-align: middle;\n",
              "    }\n",
              "\n",
              "    .dataframe tbody tr th {\n",
              "        vertical-align: top;\n",
              "    }\n",
              "\n",
              "    .dataframe thead th {\n",
              "        text-align: right;\n",
              "    }\n",
              "</style>\n",
              "<table border=\"1\" class=\"dataframe\">\n",
              "  <thead>\n",
              "    <tr style=\"text-align: right;\">\n",
              "      <th></th>\n",
              "      <th>talk_desc</th>\n",
              "      <th>event</th>\n",
              "      <th>talk_name</th>\n",
              "      <th>views</th>\n",
              "      <th>duration</th>\n",
              "      <th>recorded_at</th>\n",
              "      <th>published on</th>\n",
              "      <th>theme</th>\n",
              "    </tr>\n",
              "  </thead>\n",
              "  <tbody>\n",
              "    <tr>\n",
              "      <th>0</th>\n",
              "      <td>It's 1997. The United States Senate has called...</td>\n",
              "      <td>TED-Ed</td>\n",
              "      <td>Can you outsmart the apples and oranges fallacy?</td>\n",
              "      <td>119359</td>\n",
              "      <td>327</td>\n",
              "      <td>2021-04-05T00:00:00.000+00:00</td>\n",
              "      <td>1617636753</td>\n",
              "      <td>education</td>\n",
              "    </tr>\n",
              "    <tr>\n",
              "      <th>0</th>\n",
              "      <td>It's 1997. The United States Senate has called...</td>\n",
              "      <td>TED-Ed</td>\n",
              "      <td>Can you outsmart the apples and oranges fallacy?</td>\n",
              "      <td>119359</td>\n",
              "      <td>327</td>\n",
              "      <td>2021-04-05T00:00:00.000+00:00</td>\n",
              "      <td>1617636753</td>\n",
              "      <td>psychology</td>\n",
              "    </tr>\n",
              "    <tr>\n",
              "      <th>0</th>\n",
              "      <td>It's 1997. The United States Senate has called...</td>\n",
              "      <td>TED-Ed</td>\n",
              "      <td>Can you outsmart the apples and oranges fallacy?</td>\n",
              "      <td>119359</td>\n",
              "      <td>327</td>\n",
              "      <td>2021-04-05T00:00:00.000+00:00</td>\n",
              "      <td>1617636753</td>\n",
              "      <td>animation</td>\n",
              "    </tr>\n",
              "    <tr>\n",
              "      <th>0</th>\n",
              "      <td>It's 1997. The United States Senate has called...</td>\n",
              "      <td>TED-Ed</td>\n",
              "      <td>Can you outsmart the apples and oranges fallacy?</td>\n",
              "      <td>119359</td>\n",
              "      <td>327</td>\n",
              "      <td>2021-04-05T00:00:00.000+00:00</td>\n",
              "      <td>1617636753</td>\n",
              "      <td>TED-Ed</td>\n",
              "    </tr>\n",
              "    <tr>\n",
              "      <th>0</th>\n",
              "      <td>It's 1997. The United States Senate has called...</td>\n",
              "      <td>TED-Ed</td>\n",
              "      <td>Can you outsmart the apples and oranges fallacy?</td>\n",
              "      <td>119359</td>\n",
              "      <td>327</td>\n",
              "      <td>2021-04-05T00:00:00.000+00:00</td>\n",
              "      <td>1617636753</td>\n",
              "      <td>brain</td>\n",
              "    </tr>\n",
              "  </tbody>\n",
              "</table>\n",
              "</div>\n",
              "      <button class=\"colab-df-convert\" onclick=\"convertToInteractive('df-b8c95210-8007-4fdb-b37e-e626be61e4ce')\"\n",
              "              title=\"Convert this dataframe to an interactive table.\"\n",
              "              style=\"display:none;\">\n",
              "        \n",
              "  <svg xmlns=\"http://www.w3.org/2000/svg\" height=\"24px\"viewBox=\"0 0 24 24\"\n",
              "       width=\"24px\">\n",
              "    <path d=\"M0 0h24v24H0V0z\" fill=\"none\"/>\n",
              "    <path d=\"M18.56 5.44l.94 2.06.94-2.06 2.06-.94-2.06-.94-.94-2.06-.94 2.06-2.06.94zm-11 1L8.5 8.5l.94-2.06 2.06-.94-2.06-.94L8.5 2.5l-.94 2.06-2.06.94zm10 10l.94 2.06.94-2.06 2.06-.94-2.06-.94-.94-2.06-.94 2.06-2.06.94z\"/><path d=\"M17.41 7.96l-1.37-1.37c-.4-.4-.92-.59-1.43-.59-.52 0-1.04.2-1.43.59L10.3 9.45l-7.72 7.72c-.78.78-.78 2.05 0 2.83L4 21.41c.39.39.9.59 1.41.59.51 0 1.02-.2 1.41-.59l7.78-7.78 2.81-2.81c.8-.78.8-2.07 0-2.86zM5.41 20L4 18.59l7.72-7.72 1.47 1.35L5.41 20z\"/>\n",
              "  </svg>\n",
              "      </button>\n",
              "      \n",
              "  <style>\n",
              "    .colab-df-container {\n",
              "      display:flex;\n",
              "      flex-wrap:wrap;\n",
              "      gap: 12px;\n",
              "    }\n",
              "\n",
              "    .colab-df-convert {\n",
              "      background-color: #E8F0FE;\n",
              "      border: none;\n",
              "      border-radius: 50%;\n",
              "      cursor: pointer;\n",
              "      display: none;\n",
              "      fill: #1967D2;\n",
              "      height: 32px;\n",
              "      padding: 0 0 0 0;\n",
              "      width: 32px;\n",
              "    }\n",
              "\n",
              "    .colab-df-convert:hover {\n",
              "      background-color: #E2EBFA;\n",
              "      box-shadow: 0px 1px 2px rgba(60, 64, 67, 0.3), 0px 1px 3px 1px rgba(60, 64, 67, 0.15);\n",
              "      fill: #174EA6;\n",
              "    }\n",
              "\n",
              "    [theme=dark] .colab-df-convert {\n",
              "      background-color: #3B4455;\n",
              "      fill: #D2E3FC;\n",
              "    }\n",
              "\n",
              "    [theme=dark] .colab-df-convert:hover {\n",
              "      background-color: #434B5C;\n",
              "      box-shadow: 0px 1px 3px 1px rgba(0, 0, 0, 0.15);\n",
              "      filter: drop-shadow(0px 1px 2px rgba(0, 0, 0, 0.3));\n",
              "      fill: #FFFFFF;\n",
              "    }\n",
              "  </style>\n",
              "\n",
              "      <script>\n",
              "        const buttonEl =\n",
              "          document.querySelector('#df-b8c95210-8007-4fdb-b37e-e626be61e4ce button.colab-df-convert');\n",
              "        buttonEl.style.display =\n",
              "          google.colab.kernel.accessAllowed ? 'block' : 'none';\n",
              "\n",
              "        async function convertToInteractive(key) {\n",
              "          const element = document.querySelector('#df-b8c95210-8007-4fdb-b37e-e626be61e4ce');\n",
              "          const dataTable =\n",
              "            await google.colab.kernel.invokeFunction('convertToInteractive',\n",
              "                                                     [key], {});\n",
              "          if (!dataTable) return;\n",
              "\n",
              "          const docLinkHtml = 'Like what you see? Visit the ' +\n",
              "            '<a target=\"_blank\" href=https://colab.research.google.com/notebooks/data_table.ipynb>data table notebook</a>'\n",
              "            + ' to learn more about interactive tables.';\n",
              "          element.innerHTML = '';\n",
              "          dataTable['output_type'] = 'display_data';\n",
              "          await google.colab.output.renderOutput(dataTable, element);\n",
              "          const docLink = document.createElement('div');\n",
              "          docLink.innerHTML = docLinkHtml;\n",
              "          element.appendChild(docLink);\n",
              "        }\n",
              "      </script>\n",
              "    </div>\n",
              "  </div>\n",
              "  "
            ]
          },
          "metadata": {},
          "execution_count": 116
        }
      ]
    },
    {
      "cell_type": "code",
      "source": [
        "len(theme_df['theme'].value_counts())"
      ],
      "metadata": {
        "colab": {
          "base_uri": "https://localhost:8080/"
        },
        "id": "0vYLC7ZWdc86",
        "outputId": "496b2f05-8126-4dc3-a0a2-6b4222722fc6"
      },
      "execution_count": 117,
      "outputs": [
        {
          "output_type": "execute_result",
          "data": {
            "text/plain": [
              "460"
            ]
          },
          "metadata": {},
          "execution_count": 117
        }
      ]
    },
    {
      "cell_type": "code",
      "source": [
        "pop_themes = pd.DataFrame(theme_df['theme'].value_counts()).reset_index()\n",
        "pop_themes.columns = ['theme', 'talks']\n",
        "pop_themes.head(10)"
      ],
      "metadata": {
        "colab": {
          "base_uri": "https://localhost:8080/",
          "height": 363
        },
        "id": "8A9Zh6ZQdc6B",
        "outputId": "62554228-5c84-4e7c-92e5-979e6fb1127f"
      },
      "execution_count": 118,
      "outputs": [
        {
          "output_type": "execute_result",
          "data": {
            "text/plain": [
              "           theme  talks\n",
              "0        science   1047\n",
              "1     technology   1017\n",
              "2         TED-Ed    702\n",
              "3        culture    692\n",
              "4      animation    630\n",
              "5           TEDx    622\n",
              "6        society    576\n",
              "7  global issues    575\n",
              "8  social change    554\n",
              "9      education    552"
            ],
            "text/html": [
              "\n",
              "  <div id=\"df-5ac8d2c4-d2d7-423c-b7e7-c6ff9b38035b\">\n",
              "    <div class=\"colab-df-container\">\n",
              "      <div>\n",
              "<style scoped>\n",
              "    .dataframe tbody tr th:only-of-type {\n",
              "        vertical-align: middle;\n",
              "    }\n",
              "\n",
              "    .dataframe tbody tr th {\n",
              "        vertical-align: top;\n",
              "    }\n",
              "\n",
              "    .dataframe thead th {\n",
              "        text-align: right;\n",
              "    }\n",
              "</style>\n",
              "<table border=\"1\" class=\"dataframe\">\n",
              "  <thead>\n",
              "    <tr style=\"text-align: right;\">\n",
              "      <th></th>\n",
              "      <th>theme</th>\n",
              "      <th>talks</th>\n",
              "    </tr>\n",
              "  </thead>\n",
              "  <tbody>\n",
              "    <tr>\n",
              "      <th>0</th>\n",
              "      <td>science</td>\n",
              "      <td>1047</td>\n",
              "    </tr>\n",
              "    <tr>\n",
              "      <th>1</th>\n",
              "      <td>technology</td>\n",
              "      <td>1017</td>\n",
              "    </tr>\n",
              "    <tr>\n",
              "      <th>2</th>\n",
              "      <td>TED-Ed</td>\n",
              "      <td>702</td>\n",
              "    </tr>\n",
              "    <tr>\n",
              "      <th>3</th>\n",
              "      <td>culture</td>\n",
              "      <td>692</td>\n",
              "    </tr>\n",
              "    <tr>\n",
              "      <th>4</th>\n",
              "      <td>animation</td>\n",
              "      <td>630</td>\n",
              "    </tr>\n",
              "    <tr>\n",
              "      <th>5</th>\n",
              "      <td>TEDx</td>\n",
              "      <td>622</td>\n",
              "    </tr>\n",
              "    <tr>\n",
              "      <th>6</th>\n",
              "      <td>society</td>\n",
              "      <td>576</td>\n",
              "    </tr>\n",
              "    <tr>\n",
              "      <th>7</th>\n",
              "      <td>global issues</td>\n",
              "      <td>575</td>\n",
              "    </tr>\n",
              "    <tr>\n",
              "      <th>8</th>\n",
              "      <td>social change</td>\n",
              "      <td>554</td>\n",
              "    </tr>\n",
              "    <tr>\n",
              "      <th>9</th>\n",
              "      <td>education</td>\n",
              "      <td>552</td>\n",
              "    </tr>\n",
              "  </tbody>\n",
              "</table>\n",
              "</div>\n",
              "      <button class=\"colab-df-convert\" onclick=\"convertToInteractive('df-5ac8d2c4-d2d7-423c-b7e7-c6ff9b38035b')\"\n",
              "              title=\"Convert this dataframe to an interactive table.\"\n",
              "              style=\"display:none;\">\n",
              "        \n",
              "  <svg xmlns=\"http://www.w3.org/2000/svg\" height=\"24px\"viewBox=\"0 0 24 24\"\n",
              "       width=\"24px\">\n",
              "    <path d=\"M0 0h24v24H0V0z\" fill=\"none\"/>\n",
              "    <path d=\"M18.56 5.44l.94 2.06.94-2.06 2.06-.94-2.06-.94-.94-2.06-.94 2.06-2.06.94zm-11 1L8.5 8.5l.94-2.06 2.06-.94-2.06-.94L8.5 2.5l-.94 2.06-2.06.94zm10 10l.94 2.06.94-2.06 2.06-.94-2.06-.94-.94-2.06-.94 2.06-2.06.94z\"/><path d=\"M17.41 7.96l-1.37-1.37c-.4-.4-.92-.59-1.43-.59-.52 0-1.04.2-1.43.59L10.3 9.45l-7.72 7.72c-.78.78-.78 2.05 0 2.83L4 21.41c.39.39.9.59 1.41.59.51 0 1.02-.2 1.41-.59l7.78-7.78 2.81-2.81c.8-.78.8-2.07 0-2.86zM5.41 20L4 18.59l7.72-7.72 1.47 1.35L5.41 20z\"/>\n",
              "  </svg>\n",
              "      </button>\n",
              "      \n",
              "  <style>\n",
              "    .colab-df-container {\n",
              "      display:flex;\n",
              "      flex-wrap:wrap;\n",
              "      gap: 12px;\n",
              "    }\n",
              "\n",
              "    .colab-df-convert {\n",
              "      background-color: #E8F0FE;\n",
              "      border: none;\n",
              "      border-radius: 50%;\n",
              "      cursor: pointer;\n",
              "      display: none;\n",
              "      fill: #1967D2;\n",
              "      height: 32px;\n",
              "      padding: 0 0 0 0;\n",
              "      width: 32px;\n",
              "    }\n",
              "\n",
              "    .colab-df-convert:hover {\n",
              "      background-color: #E2EBFA;\n",
              "      box-shadow: 0px 1px 2px rgba(60, 64, 67, 0.3), 0px 1px 3px 1px rgba(60, 64, 67, 0.15);\n",
              "      fill: #174EA6;\n",
              "    }\n",
              "\n",
              "    [theme=dark] .colab-df-convert {\n",
              "      background-color: #3B4455;\n",
              "      fill: #D2E3FC;\n",
              "    }\n",
              "\n",
              "    [theme=dark] .colab-df-convert:hover {\n",
              "      background-color: #434B5C;\n",
              "      box-shadow: 0px 1px 3px 1px rgba(0, 0, 0, 0.15);\n",
              "      filter: drop-shadow(0px 1px 2px rgba(0, 0, 0, 0.3));\n",
              "      fill: #FFFFFF;\n",
              "    }\n",
              "  </style>\n",
              "\n",
              "      <script>\n",
              "        const buttonEl =\n",
              "          document.querySelector('#df-5ac8d2c4-d2d7-423c-b7e7-c6ff9b38035b button.colab-df-convert');\n",
              "        buttonEl.style.display =\n",
              "          google.colab.kernel.accessAllowed ? 'block' : 'none';\n",
              "\n",
              "        async function convertToInteractive(key) {\n",
              "          const element = document.querySelector('#df-5ac8d2c4-d2d7-423c-b7e7-c6ff9b38035b');\n",
              "          const dataTable =\n",
              "            await google.colab.kernel.invokeFunction('convertToInteractive',\n",
              "                                                     [key], {});\n",
              "          if (!dataTable) return;\n",
              "\n",
              "          const docLinkHtml = 'Like what you see? Visit the ' +\n",
              "            '<a target=\"_blank\" href=https://colab.research.google.com/notebooks/data_table.ipynb>data table notebook</a>'\n",
              "            + ' to learn more about interactive tables.';\n",
              "          element.innerHTML = '';\n",
              "          dataTable['output_type'] = 'display_data';\n",
              "          await google.colab.output.renderOutput(dataTable, element);\n",
              "          const docLink = document.createElement('div');\n",
              "          docLink.innerHTML = docLinkHtml;\n",
              "          element.appendChild(docLink);\n",
              "        }\n",
              "      </script>\n",
              "    </div>\n",
              "  </div>\n",
              "  "
            ]
          },
          "metadata": {},
          "execution_count": 118
        }
      ]
    },
    {
      "cell_type": "code",
      "source": [
        "plt.figure(figsize=(15,5))\n",
        "sns.barplot(x='theme', y='talks', data=pop_themes.head(10))\n",
        "plt.show()"
      ],
      "metadata": {
        "colab": {
          "base_uri": "https://localhost:8080/",
          "height": 334
        },
        "id": "k57A01sNdc0l",
        "outputId": "5a10f89c-5203-4e5f-8e2e-1c6894c9b56c"
      },
      "execution_count": 119,
      "outputs": [
        {
          "output_type": "display_data",
          "data": {
            "text/plain": [
              "<Figure size 1080x360 with 1 Axes>"
            ],
            "image/png": "[encoded data removed]"
          },
          "metadata": {
            "needs_background": "light"
          }
        }
      ]
    },
    {
      "cell_type": "code",
      "source": [
        ""
      ],
      "metadata": {
        "id": "Pn67ZcDRdcrx"
      },
      "execution_count": null,
      "outputs": []
    },
    {
      "cell_type": "code",
      "source": [
        ""
      ],
      "metadata": {
        "id": "BbtM0VN9V3vc",
        "colab": {
          "base_uri": "https://localhost:8080/"
        },
        "outputId": "dd0ab853-78a8-49f4-b439-01d64f50f37a"
      },
      "execution_count": 110,
      "outputs": [
        {
          "output_type": "execute_result",
          "data": {
            "text/plain": [
              "Index(['talk_desc', 'event', 'talk_name', 'views', 'duration', 'tags',\n",
              "       'recorded_at', 'published on'],\n",
              "      dtype='object')"
            ]
          },
          "metadata": {},
          "execution_count": 110
        }
      ]
    }
  ]
}