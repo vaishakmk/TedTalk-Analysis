{
  "nbformat": 4,
  "nbformat_minor": 0,
  "metadata": {
    "colab": {
      "name": "yasaswi.ipynb",
      "provenance": [],
      "authorship_tag": "ABX9TyPlNa4YOMw46tKI/vrfE476",
      "include_colab_link": true
    },
    "kernelspec": {
      "name": "python3",
      "display_name": "Python 3"
    },
    "language_info": {
      "name": "python"
    }
  },
  "cells": [
    {
      "cell_type": "markdown",
      "metadata": {
        "id": "view-in-github",
        "colab_type": "text"
      },
      "source": [
        "<a href=\"https://colab.research.google.com/github/vaishakmk/TedTalk-Analysis/blob/main/yasaswi.ipynb\" target=\"_parent\"><img src=\"https://colab.research.google.com/assets/colab-badge.svg\" alt=\"Open In Colab\"/></a>"
      ]
    },
    {
      "cell_type": "code",
      "execution_count": 1,
      "metadata": {
        "id": "YX1WbMPNR7kf"
      },
      "outputs": [],
      "source": [
        "import numpy as np \n",
        "import pandas as pd \n",
        "import matplotlib.pyplot as plt\n",
        "import seaborn as sns\n",
        "import ast\n",
        "from collections import defaultdict\n",
        "import datetime\n",
        "from pandas.plotting import parallel_coordinates\n",
        "from scipy.stats import pearsonr\n",
        "import re\n",
        "\n",
        "%matplotlib inline"
      ]
    },
    {
      "cell_type": "code",
      "source": [
        "speaker_data = pd.read_csv('speaker_data.csv')\n",
        "talk_data = pd.read_csv('talk_data.csv')\n",
        "transcript_data = pd.read_csv('transcript_data.csv')"
      ],
      "metadata": {
        "id": "TwhUUEuSSwdk"
      },
      "execution_count": 2,
      "outputs": []
    },
    {
      "cell_type": "code",
      "source": [
        "speaker_data.isnull().sum()"
      ],
      "metadata": {
        "colab": {
          "base_uri": "https://localhost:8080/"
        },
        "id": "dcRC_XCdS3bk",
        "outputId": "7133fcb7-c2e2-4a52-cd7e-0018b654f901"
      },
      "execution_count": 3,
      "outputs": [
        {
          "output_type": "execute_result",
          "data": {
            "text/plain": [
              "talk              141\n",
              "speaker           145\n",
              "speaker_title    4433\n",
              "speaker_occ       789\n",
              "speaker_bio       764\n",
              "dtype: int64"
            ]
          },
          "metadata": {},
          "execution_count": 3
        }
      ]
    },
    {
      "cell_type": "code",
      "source": [
        "speaker_data.info()"
      ],
      "metadata": {
        "colab": {
          "base_uri": "https://localhost:8080/"
        },
        "id": "pGmhBIDCTY-6",
        "outputId": "a2dd911c-c9b9-47dc-8beb-99676c29b27d"
      },
      "execution_count": 4,
      "outputs": [
        {
          "output_type": "stream",
          "name": "stdout",
          "text": [
            "<class 'pandas.core.frame.DataFrame'>\n",
            "RangeIndex: 4442 entries, 0 to 4441\n",
            "Data columns (total 5 columns):\n",
            " #   Column         Non-Null Count  Dtype \n",
            "---  ------         --------------  ----- \n",
            " 0   talk           4301 non-null   object\n",
            " 1   speaker        4297 non-null   object\n",
            " 2   speaker_title  9 non-null      object\n",
            " 3   speaker_occ    3653 non-null   object\n",
            " 4   speaker_bio    3678 non-null   object\n",
            "dtypes: object(5)\n",
            "memory usage: 173.6+ KB\n"
          ]
        }
      ]
    },
    {
      "cell_type": "code",
      "source": [
        "speaker_data.info()"
      ],
      "metadata": {
        "colab": {
          "base_uri": "https://localhost:8080/"
        },
        "id": "EGKJXN2cTexc",
        "outputId": "d7523b65-f1d6-412f-9eae-305117475c9c"
      },
      "execution_count": 5,
      "outputs": [
        {
          "output_type": "stream",
          "name": "stdout",
          "text": [
            "<class 'pandas.core.frame.DataFrame'>\n",
            "RangeIndex: 4442 entries, 0 to 4441\n",
            "Data columns (total 5 columns):\n",
            " #   Column         Non-Null Count  Dtype \n",
            "---  ------         --------------  ----- \n",
            " 0   talk           4301 non-null   object\n",
            " 1   speaker        4297 non-null   object\n",
            " 2   speaker_title  9 non-null      object\n",
            " 3   speaker_occ    3653 non-null   object\n",
            " 4   speaker_bio    3678 non-null   object\n",
            "dtypes: object(5)\n",
            "memory usage: 173.6+ KB\n"
          ]
        }
      ]
    },
    {
      "cell_type": "code",
      "source": [
        "speaker_data = speaker_data.dropna(subset=['talk'])"
      ],
      "metadata": {
        "id": "rvJExidiThYk"
      },
      "execution_count": 6,
      "outputs": []
    },
    {
      "cell_type": "code",
      "source": [
        "speaker_data.isnull().sum()"
      ],
      "metadata": {
        "colab": {
          "base_uri": "https://localhost:8080/"
        },
        "id": "ZrqEc74YTtlX",
        "outputId": "65700cde-ae2a-4c81-f546-dbc81188aa9a"
      },
      "execution_count": 7,
      "outputs": [
        {
          "output_type": "execute_result",
          "data": {
            "text/plain": [
              "talk                0\n",
              "speaker             4\n",
              "speaker_title    4292\n",
              "speaker_occ       648\n",
              "speaker_bio       623\n",
              "dtype: int64"
            ]
          },
          "metadata": {},
          "execution_count": 7
        }
      ]
    },
    {
      "cell_type": "code",
      "source": [
        "speaker_data['speaker_occ'] = speaker_data['speaker_occ'].fillna('Unknown')"
      ],
      "metadata": {
        "id": "V8GW76jQTwyq"
      },
      "execution_count": 8,
      "outputs": []
    },
    {
      "cell_type": "code",
      "source": [
        "speaker_data.isnull().sum()"
      ],
      "metadata": {
        "colab": {
          "base_uri": "https://localhost:8080/"
        },
        "id": "jbClf9WVT2Ny",
        "outputId": "b537acd2-c253-4095-fe2f-58b2a16d16e1"
      },
      "execution_count": 9,
      "outputs": [
        {
          "output_type": "execute_result",
          "data": {
            "text/plain": [
              "talk                0\n",
              "speaker             4\n",
              "speaker_title    4292\n",
              "speaker_occ         0\n",
              "speaker_bio       623\n",
              "dtype: int64"
            ]
          },
          "metadata": {},
          "execution_count": 9
        }
      ]
    },
    {
      "cell_type": "code",
      "source": [
        "speaker_data['speaker_bio'] = speaker_data['speaker_bio'].fillna('Unknown')"
      ],
      "metadata": {
        "id": "qgwvUZqPT5z3"
      },
      "execution_count": 10,
      "outputs": []
    },
    {
      "cell_type": "code",
      "source": [
        "speaker_data.isnull().sum()"
      ],
      "metadata": {
        "colab": {
          "base_uri": "https://localhost:8080/"
        },
        "id": "XHFRe1e2UAbP",
        "outputId": "5a74cd1c-f679-4803-b69d-032f4c78e856"
      },
      "execution_count": 11,
      "outputs": [
        {
          "output_type": "execute_result",
          "data": {
            "text/plain": [
              "talk                0\n",
              "speaker             4\n",
              "speaker_title    4292\n",
              "speaker_occ         0\n",
              "speaker_bio         0\n",
              "dtype: int64"
            ]
          },
          "metadata": {},
          "execution_count": 11
        }
      ]
    },
    {
      "cell_type": "code",
      "source": [
        "speaker_data['speaker'] = speaker_data['speaker'].fillna('Unknown')"
      ],
      "metadata": {
        "id": "PxT6ew-QUFLB"
      },
      "execution_count": 12,
      "outputs": []
    },
    {
      "cell_type": "code",
      "source": [
        "speaker_data = speaker_data.drop(columns=['speaker_title'])"
      ],
      "metadata": {
        "id": "jm2q-R_pUItg"
      },
      "execution_count": 13,
      "outputs": []
    },
    {
      "cell_type": "code",
      "source": [
        "speaker_data"
      ],
      "metadata": {
        "colab": {
          "base_uri": "https://localhost:8080/",
          "height": 641
        },
        "id": "BRdO7VqhUMU_",
        "outputId": "d65fb1f5-5c80-4359-c5c0-07c22dc4d8f0"
      },
      "execution_count": 14,
      "outputs": [
        {
          "output_type": "execute_result",
          "data": {
            "text/plain": [
              "                                                  talk             speaker  \\\n",
              "0     Can you outsmart the apples and oranges fallacy?       Elizabeth Cox   \n",
              "1              The exploitation of US college athletes          Tim Nevius   \n",
              "2                            How does ultrasound work?  Jacques Abramowicz   \n",
              "3     An honest history of an ancient and \"nasty\" word         Kate Lister   \n",
              "4      The electrical blueprints that orchestrate life       Michael Levin   \n",
              "...                                                ...                 ...   \n",
              "4437                   The best stats you've ever seen        Hans Rosling   \n",
              "4438                       Do schools kill creativity?    Sir Ken Robinson   \n",
              "4439                               Greening the ghetto       Majora Carter   \n",
              "4440                                  Simplicity sells         David Pogue   \n",
              "4441                       Averting the climate crisis             Al Gore   \n",
              "\n",
              "                               speaker_occ  \\\n",
              "0                                  Unknown   \n",
              "1                    College sports lawyer   \n",
              "2                                  Unknown   \n",
              "3                            Sex historian   \n",
              "4                     Bioelectric explorer   \n",
              "...                                    ...   \n",
              "4437  Global health expert; data visionary   \n",
              "4438                      Author, educator   \n",
              "4439    Activist for environmental justice   \n",
              "4440                  Technology columnist   \n",
              "4441                      Climate advocate   \n",
              "\n",
              "                                            speaker_bio  \n",
              "0                                               Unknown  \n",
              "1     Tim Nevius is a leading sports lawyer and coll...  \n",
              "2                                               Unknown  \n",
              "3     Kate Lister is a sex historian and lecturers a...  \n",
              "4     Michael Levin's research could give rise to ad...  \n",
              "...                                                 ...  \n",
              "4437  In Hans Rosling’s hands, data sings. Global tr...  \n",
              "4438  Creativity expert Sir Ken Robinson challenged ...  \n",
              "4439  Majora Carter redefined the field of environme...  \n",
              "4440  David Pogue is the personal technology columni...  \n",
              "4441  Nobel Laureate Al Gore focused the world's att...  \n",
              "\n",
              "[4301 rows x 4 columns]"
            ],
            "text/html": [
              "\n",
              "  <div id=\"df-58cf483a-51eb-41b1-938c-8b7df313ca58\">\n",
              "    <div class=\"colab-df-container\">\n",
              "      <div>\n",
              "<style scoped>\n",
              "    .dataframe tbody tr th:only-of-type {\n",
              "        vertical-align: middle;\n",
              "    }\n",
              "\n",
              "    .dataframe tbody tr th {\n",
              "        vertical-align: top;\n",
              "    }\n",
              "\n",
              "    .dataframe thead th {\n",
              "        text-align: right;\n",
              "    }\n",
              "</style>\n",
              "<table border=\"1\" class=\"dataframe\">\n",
              "  <thead>\n",
              "    <tr style=\"text-align: right;\">\n",
              "      <th></th>\n",
              "      <th>talk</th>\n",
              "      <th>speaker</th>\n",
              "      <th>speaker_occ</th>\n",
              "      <th>speaker_bio</th>\n",
              "    </tr>\n",
              "  </thead>\n",
              "  <tbody>\n",
              "    <tr>\n",
              "      <th>0</th>\n",
              "      <td>Can you outsmart the apples and oranges fallacy?</td>\n",
              "      <td>Elizabeth Cox</td>\n",
              "      <td>Unknown</td>\n",
              "      <td>Unknown</td>\n",
              "    </tr>\n",
              "    <tr>\n",
              "      <th>1</th>\n",
              "      <td>The exploitation of US college athletes</td>\n",
              "      <td>Tim Nevius</td>\n",
              "      <td>College sports lawyer</td>\n",
              "      <td>Tim Nevius is a leading sports lawyer and coll...</td>\n",
              "    </tr>\n",
              "    <tr>\n",
              "      <th>2</th>\n",
              "      <td>How does ultrasound work?</td>\n",
              "      <td>Jacques Abramowicz</td>\n",
              "      <td>Unknown</td>\n",
              "      <td>Unknown</td>\n",
              "    </tr>\n",
              "    <tr>\n",
              "      <th>3</th>\n",
              "      <td>An honest history of an ancient and \"nasty\" word</td>\n",
              "      <td>Kate Lister</td>\n",
              "      <td>Sex historian</td>\n",
              "      <td>Kate Lister is a sex historian and lecturers a...</td>\n",
              "    </tr>\n",
              "    <tr>\n",
              "      <th>4</th>\n",
              "      <td>The electrical blueprints that orchestrate life</td>\n",
              "      <td>Michael Levin</td>\n",
              "      <td>Bioelectric explorer</td>\n",
              "      <td>Michael Levin's research could give rise to ad...</td>\n",
              "    </tr>\n",
              "    <tr>\n",
              "      <th>...</th>\n",
              "      <td>...</td>\n",
              "      <td>...</td>\n",
              "      <td>...</td>\n",
              "      <td>...</td>\n",
              "    </tr>\n",
              "    <tr>\n",
              "      <th>4437</th>\n",
              "      <td>The best stats you've ever seen</td>\n",
              "      <td>Hans Rosling</td>\n",
              "      <td>Global health expert; data visionary</td>\n",
              "      <td>In Hans Rosling’s hands, data sings. Global tr...</td>\n",
              "    </tr>\n",
              "    <tr>\n",
              "      <th>4438</th>\n",
              "      <td>Do schools kill creativity?</td>\n",
              "      <td>Sir Ken Robinson</td>\n",
              "      <td>Author, educator</td>\n",
              "      <td>Creativity expert Sir Ken Robinson challenged ...</td>\n",
              "    </tr>\n",
              "    <tr>\n",
              "      <th>4439</th>\n",
              "      <td>Greening the ghetto</td>\n",
              "      <td>Majora Carter</td>\n",
              "      <td>Activist for environmental justice</td>\n",
              "      <td>Majora Carter redefined the field of environme...</td>\n",
              "    </tr>\n",
              "    <tr>\n",
              "      <th>4440</th>\n",
              "      <td>Simplicity sells</td>\n",
              "      <td>David Pogue</td>\n",
              "      <td>Technology columnist</td>\n",
              "      <td>David Pogue is the personal technology columni...</td>\n",
              "    </tr>\n",
              "    <tr>\n",
              "      <th>4441</th>\n",
              "      <td>Averting the climate crisis</td>\n",
              "      <td>Al Gore</td>\n",
              "      <td>Climate advocate</td>\n",
              "      <td>Nobel Laureate Al Gore focused the world's att...</td>\n",
              "    </tr>\n",
              "  </tbody>\n",
              "</table>\n",
              "<p>4301 rows × 4 columns</p>\n",
              "</div>\n",
              "      <button class=\"colab-df-convert\" onclick=\"convertToInteractive('df-58cf483a-51eb-41b1-938c-8b7df313ca58')\"\n",
              "              title=\"Convert this dataframe to an interactive table.\"\n",
              "              style=\"display:none;\">\n",
              "        \n",
              "  <svg xmlns=\"http://www.w3.org/2000/svg\" height=\"24px\"viewBox=\"0 0 24 24\"\n",
              "       width=\"24px\">\n",
              "    <path d=\"M0 0h24v24H0V0z\" fill=\"none\"/>\n",
              "    <path d=\"M18.56 5.44l.94 2.06.94-2.06 2.06-.94-2.06-.94-.94-2.06-.94 2.06-2.06.94zm-11 1L8.5 8.5l.94-2.06 2.06-.94-2.06-.94L8.5 2.5l-.94 2.06-2.06.94zm10 10l.94 2.06.94-2.06 2.06-.94-2.06-.94-.94-2.06-.94 2.06-2.06.94z\"/><path d=\"M17.41 7.96l-1.37-1.37c-.4-.4-.92-.59-1.43-.59-.52 0-1.04.2-1.43.59L10.3 9.45l-7.72 7.72c-.78.78-.78 2.05 0 2.83L4 21.41c.39.39.9.59 1.41.59.51 0 1.02-.2 1.41-.59l7.78-7.78 2.81-2.81c.8-.78.8-2.07 0-2.86zM5.41 20L4 18.59l7.72-7.72 1.47 1.35L5.41 20z\"/>\n",
              "  </svg>\n",
              "      </button>\n",
              "      \n",
              "  <style>\n",
              "    .colab-df-container {\n",
              "      display:flex;\n",
              "      flex-wrap:wrap;\n",
              "      gap: 12px;\n",
              "    }\n",
              "\n",
              "    .colab-df-convert {\n",
              "      background-color: #E8F0FE;\n",
              "      border: none;\n",
              "      border-radius: 50%;\n",
              "      cursor: pointer;\n",
              "      display: none;\n",
              "      fill: #1967D2;\n",
              "      height: 32px;\n",
              "      padding: 0 0 0 0;\n",
              "      width: 32px;\n",
              "    }\n",
              "\n",
              "    .colab-df-convert:hover {\n",
              "      background-color: #E2EBFA;\n",
              "      box-shadow: 0px 1px 2px rgba(60, 64, 67, 0.3), 0px 1px 3px 1px rgba(60, 64, 67, 0.15);\n",
              "      fill: #174EA6;\n",
              "    }\n",
              "\n",
              "    [theme=dark] .colab-df-convert {\n",
              "      background-color: #3B4455;\n",
              "      fill: #D2E3FC;\n",
              "    }\n",
              "\n",
              "    [theme=dark] .colab-df-convert:hover {\n",
              "      background-color: #434B5C;\n",
              "      box-shadow: 0px 1px 3px 1px rgba(0, 0, 0, 0.15);\n",
              "      filter: drop-shadow(0px 1px 2px rgba(0, 0, 0, 0.3));\n",
              "      fill: #FFFFFF;\n",
              "    }\n",
              "  </style>\n",
              "\n",
              "      <script>\n",
              "        const buttonEl =\n",
              "          document.querySelector('#df-58cf483a-51eb-41b1-938c-8b7df313ca58 button.colab-df-convert');\n",
              "        buttonEl.style.display =\n",
              "          google.colab.kernel.accessAllowed ? 'block' : 'none';\n",
              "\n",
              "        async function convertToInteractive(key) {\n",
              "          const element = document.querySelector('#df-58cf483a-51eb-41b1-938c-8b7df313ca58');\n",
              "          const dataTable =\n",
              "            await google.colab.kernel.invokeFunction('convertToInteractive',\n",
              "                                                     [key], {});\n",
              "          if (!dataTable) return;\n",
              "\n",
              "          const docLinkHtml = 'Like what you see? Visit the ' +\n",
              "            '<a target=\"_blank\" href=https://colab.research.google.com/notebooks/data_table.ipynb>data table notebook</a>'\n",
              "            + ' to learn more about interactive tables.';\n",
              "          element.innerHTML = '';\n",
              "          dataTable['output_type'] = 'display_data';\n",
              "          await google.colab.output.renderOutput(dataTable, element);\n",
              "          const docLink = document.createElement('div');\n",
              "          docLink.innerHTML = docLinkHtml;\n",
              "          element.appendChild(docLink);\n",
              "        }\n",
              "      </script>\n",
              "    </div>\n",
              "  </div>\n",
              "  "
            ]
          },
          "metadata": {},
          "execution_count": 14
        }
      ]
    },
    {
      "cell_type": "code",
      "source": [
        "talk_data.info()"
      ],
      "metadata": {
        "colab": {
          "base_uri": "https://localhost:8080/"
        },
        "id": "LfW9eTdJUWQ1",
        "outputId": "68284022-47d2-4ada-a02d-653043c45d6c"
      },
      "execution_count": 15,
      "outputs": [
        {
          "output_type": "stream",
          "name": "stdout",
          "text": [
            "<class 'pandas.core.frame.DataFrame'>\n",
            "RangeIndex: 4322 entries, 0 to 4321\n",
            "Data columns (total 8 columns):\n",
            " #   Column        Non-Null Count  Dtype \n",
            "---  ------        --------------  ----- \n",
            " 0   talk_desc     4322 non-null   object\n",
            " 1   event         4322 non-null   object\n",
            " 2   talk_name     4322 non-null   object\n",
            " 3   views         4322 non-null   int64 \n",
            " 4   duration      4322 non-null   int64 \n",
            " 5   tags          4322 non-null   object\n",
            " 6   recorded_at   4322 non-null   object\n",
            " 7   published on  4322 non-null   int64 \n",
            "dtypes: int64(3), object(5)\n",
            "memory usage: 270.2+ KB\n"
          ]
        }
      ]
    },
    {
      "cell_type": "code",
      "source": [
        "talk_data.isnull().sum()"
      ],
      "metadata": {
        "colab": {
          "base_uri": "https://localhost:8080/"
        },
        "id": "VJUnZtP0UadJ",
        "outputId": "dff8514f-c18a-4758-dcd2-631bfeda4f8a"
      },
      "execution_count": 16,
      "outputs": [
        {
          "output_type": "execute_result",
          "data": {
            "text/plain": [
              "talk_desc       0\n",
              "event           0\n",
              "talk_name       0\n",
              "views           0\n",
              "duration        0\n",
              "tags            0\n",
              "recorded_at     0\n",
              "published on    0\n",
              "dtype: int64"
            ]
          },
          "metadata": {},
          "execution_count": 16
        }
      ]
    },
    {
      "cell_type": "code",
      "source": [
        "transcript_data.info()"
      ],
      "metadata": {
        "colab": {
          "base_uri": "https://localhost:8080/"
        },
        "id": "9_YZW0XkUdN1",
        "outputId": "0791ec21-bd55-4383-b2fc-4903ed8b5d77"
      },
      "execution_count": 17,
      "outputs": [
        {
          "output_type": "stream",
          "name": "stdout",
          "text": [
            "<class 'pandas.core.frame.DataFrame'>\n",
            "RangeIndex: 4442 entries, 0 to 4441\n",
            "Data columns (total 2 columns):\n",
            " #   Column      Non-Null Count  Dtype \n",
            "---  ------      --------------  ----- \n",
            " 0   title       4442 non-null   object\n",
            " 1   transcript  4298 non-null   object\n",
            "dtypes: object(2)\n",
            "memory usage: 69.5+ KB\n"
          ]
        }
      ]
    },
    {
      "cell_type": "code",
      "source": [
        "transcript_data.isnull().sum()"
      ],
      "metadata": {
        "colab": {
          "base_uri": "https://localhost:8080/"
        },
        "id": "S4QkP218UgXS",
        "outputId": "80d0bdd6-3f59-4984-bb56-bfb854042e46"
      },
      "execution_count": 18,
      "outputs": [
        {
          "output_type": "execute_result",
          "data": {
            "text/plain": [
              "title           0\n",
              "transcript    144\n",
              "dtype: int64"
            ]
          },
          "metadata": {},
          "execution_count": 18
        }
      ]
    },
    {
      "cell_type": "code",
      "source": [
        "transcript_data = transcript_data.dropna(subset=['transcript'])\n"
      ],
      "metadata": {
        "id": "RmtlVlGgUkut"
      },
      "execution_count": 19,
      "outputs": []
    },
    {
      "cell_type": "code",
      "source": [
        "transcript_data.info()"
      ],
      "metadata": {
        "colab": {
          "base_uri": "https://localhost:8080/"
        },
        "id": "9Vmq17RyUoMM",
        "outputId": "d7b00111-3703-4cac-81a9-45a43df0532a"
      },
      "execution_count": 20,
      "outputs": [
        {
          "output_type": "stream",
          "name": "stdout",
          "text": [
            "<class 'pandas.core.frame.DataFrame'>\n",
            "Int64Index: 4298 entries, 0 to 4441\n",
            "Data columns (total 2 columns):\n",
            " #   Column      Non-Null Count  Dtype \n",
            "---  ------      --------------  ----- \n",
            " 0   title       4298 non-null   object\n",
            " 1   transcript  4298 non-null   object\n",
            "dtypes: object(2)\n",
            "memory usage: 100.7+ KB\n"
          ]
        }
      ]
    },
    {
      "cell_type": "code",
      "source": [
        "speaker_data.info()"
      ],
      "metadata": {
        "colab": {
          "base_uri": "https://localhost:8080/"
        },
        "id": "dAROdDAbUrCa",
        "outputId": "29f9b880-1cb5-4c23-810c-01fd939346f0"
      },
      "execution_count": 21,
      "outputs": [
        {
          "output_type": "stream",
          "name": "stdout",
          "text": [
            "<class 'pandas.core.frame.DataFrame'>\n",
            "Int64Index: 4301 entries, 0 to 4441\n",
            "Data columns (total 4 columns):\n",
            " #   Column       Non-Null Count  Dtype \n",
            "---  ------       --------------  ----- \n",
            " 0   talk         4301 non-null   object\n",
            " 1   speaker      4301 non-null   object\n",
            " 2   speaker_occ  4301 non-null   object\n",
            " 3   speaker_bio  4301 non-null   object\n",
            "dtypes: object(4)\n",
            "memory usage: 168.0+ KB\n"
          ]
        }
      ]
    },
    {
      "cell_type": "code",
      "source": [
        "talk_data.info()"
      ],
      "metadata": {
        "colab": {
          "base_uri": "https://localhost:8080/"
        },
        "id": "tF1zfcoJUuWh",
        "outputId": "f1185112-898b-4295-a367-a9cdd1ec67da"
      },
      "execution_count": 22,
      "outputs": [
        {
          "output_type": "stream",
          "name": "stdout",
          "text": [
            "<class 'pandas.core.frame.DataFrame'>\n",
            "RangeIndex: 4322 entries, 0 to 4321\n",
            "Data columns (total 8 columns):\n",
            " #   Column        Non-Null Count  Dtype \n",
            "---  ------        --------------  ----- \n",
            " 0   talk_desc     4322 non-null   object\n",
            " 1   event         4322 non-null   object\n",
            " 2   talk_name     4322 non-null   object\n",
            " 3   views         4322 non-null   int64 \n",
            " 4   duration      4322 non-null   int64 \n",
            " 5   tags          4322 non-null   object\n",
            " 6   recorded_at   4322 non-null   object\n",
            " 7   published on  4322 non-null   int64 \n",
            "dtypes: int64(3), object(5)\n",
            "memory usage: 270.2+ KB\n"
          ]
        }
      ]
    },
    {
      "cell_type": "code",
      "source": [
        "final_df = pd.merge(speaker_data, talk_data, how='inner', left_on = 'talk', right_on = 'talk_name')"
      ],
      "metadata": {
        "id": "PReYvYkLUzpE"
      },
      "execution_count": 23,
      "outputs": []
    },
    {
      "cell_type": "code",
      "source": [
        "final_df.info()"
      ],
      "metadata": {
        "colab": {
          "base_uri": "https://localhost:8080/"
        },
        "id": "ZLY4lIYSU2fr",
        "outputId": "b0cdda0a-18d6-48bd-d9cd-5490a56ec887"
      },
      "execution_count": 24,
      "outputs": [
        {
          "output_type": "stream",
          "name": "stdout",
          "text": [
            "<class 'pandas.core.frame.DataFrame'>\n",
            "Int64Index: 4418 entries, 0 to 4417\n",
            "Data columns (total 12 columns):\n",
            " #   Column        Non-Null Count  Dtype \n",
            "---  ------        --------------  ----- \n",
            " 0   talk          4418 non-null   object\n",
            " 1   speaker       4418 non-null   object\n",
            " 2   speaker_occ   4418 non-null   object\n",
            " 3   speaker_bio   4418 non-null   object\n",
            " 4   talk_desc     4418 non-null   object\n",
            " 5   event         4418 non-null   object\n",
            " 6   talk_name     4418 non-null   object\n",
            " 7   views         4418 non-null   int64 \n",
            " 8   duration      4418 non-null   int64 \n",
            " 9   tags          4418 non-null   object\n",
            " 10  recorded_at   4418 non-null   object\n",
            " 11  published on  4418 non-null   int64 \n",
            "dtypes: int64(3), object(9)\n",
            "memory usage: 448.7+ KB\n"
          ]
        }
      ]
    },
    {
      "cell_type": "code",
      "source": [
        "final_df = final_df.drop(columns=['talk_name'])"
      ],
      "metadata": {
        "id": "8kaC0_9yU5by"
      },
      "execution_count": 25,
      "outputs": []
    },
    {
      "cell_type": "code",
      "source": [
        "final_df.info()"
      ],
      "metadata": {
        "colab": {
          "base_uri": "https://localhost:8080/"
        },
        "id": "EfNP0jGzU82Q",
        "outputId": "7f7f346e-9a3b-4901-af3c-9fb61da7d218"
      },
      "execution_count": 26,
      "outputs": [
        {
          "output_type": "stream",
          "name": "stdout",
          "text": [
            "<class 'pandas.core.frame.DataFrame'>\n",
            "Int64Index: 4418 entries, 0 to 4417\n",
            "Data columns (total 11 columns):\n",
            " #   Column        Non-Null Count  Dtype \n",
            "---  ------        --------------  ----- \n",
            " 0   talk          4418 non-null   object\n",
            " 1   speaker       4418 non-null   object\n",
            " 2   speaker_occ   4418 non-null   object\n",
            " 3   speaker_bio   4418 non-null   object\n",
            " 4   talk_desc     4418 non-null   object\n",
            " 5   event         4418 non-null   object\n",
            " 6   views         4418 non-null   int64 \n",
            " 7   duration      4418 non-null   int64 \n",
            " 8   tags          4418 non-null   object\n",
            " 9   recorded_at   4418 non-null   object\n",
            " 10  published on  4418 non-null   int64 \n",
            "dtypes: int64(3), object(8)\n",
            "memory usage: 414.2+ KB\n"
          ]
        }
      ]
    },
    {
      "cell_type": "code",
      "source": [
        "final_df = pd.merge(final_df, transcript_data, how='inner', left_on = 'talk', right_on = 'title')"
      ],
      "metadata": {
        "id": "FxmXe69sVAVV"
      },
      "execution_count": 27,
      "outputs": []
    },
    {
      "cell_type": "code",
      "source": [
        "final_df.info()"
      ],
      "metadata": {
        "colab": {
          "base_uri": "https://localhost:8080/"
        },
        "id": "lB-tA82bVDYB",
        "outputId": "989ed988-732e-4b18-e572-1749e05105dc"
      },
      "execution_count": 28,
      "outputs": [
        {
          "output_type": "stream",
          "name": "stdout",
          "text": [
            "<class 'pandas.core.frame.DataFrame'>\n",
            "Int64Index: 7167 entries, 0 to 7166\n",
            "Data columns (total 13 columns):\n",
            " #   Column        Non-Null Count  Dtype \n",
            "---  ------        --------------  ----- \n",
            " 0   talk          7167 non-null   object\n",
            " 1   speaker       7167 non-null   object\n",
            " 2   speaker_occ   7167 non-null   object\n",
            " 3   speaker_bio   7167 non-null   object\n",
            " 4   talk_desc     7167 non-null   object\n",
            " 5   event         7167 non-null   object\n",
            " 6   views         7167 non-null   int64 \n",
            " 7   duration      7167 non-null   int64 \n",
            " 8   tags          7167 non-null   object\n",
            " 9   recorded_at   7167 non-null   object\n",
            " 10  published on  7167 non-null   int64 \n",
            " 11  title         7167 non-null   object\n",
            " 12  transcript    7167 non-null   object\n",
            "dtypes: int64(3), object(10)\n",
            "memory usage: 783.9+ KB\n"
          ]
        }
      ]
    },
    {
      "cell_type": "code",
      "source": [
        "final_df = final_df.drop(columns=['title'])"
      ],
      "metadata": {
        "id": "sqjZMpmYVIB2"
      },
      "execution_count": 29,
      "outputs": []
    },
    {
      "cell_type": "code",
      "source": [
        "final_df.info()"
      ],
      "metadata": {
        "colab": {
          "base_uri": "https://localhost:8080/"
        },
        "id": "zg08CXWuVMnh",
        "outputId": "00bdcbbe-6feb-4ec7-8172-5f0b2333aad1"
      },
      "execution_count": 30,
      "outputs": [
        {
          "output_type": "stream",
          "name": "stdout",
          "text": [
            "<class 'pandas.core.frame.DataFrame'>\n",
            "Int64Index: 7167 entries, 0 to 7166\n",
            "Data columns (total 12 columns):\n",
            " #   Column        Non-Null Count  Dtype \n",
            "---  ------        --------------  ----- \n",
            " 0   talk          7167 non-null   object\n",
            " 1   speaker       7167 non-null   object\n",
            " 2   speaker_occ   7167 non-null   object\n",
            " 3   speaker_bio   7167 non-null   object\n",
            " 4   talk_desc     7167 non-null   object\n",
            " 5   event         7167 non-null   object\n",
            " 6   views         7167 non-null   int64 \n",
            " 7   duration      7167 non-null   int64 \n",
            " 8   tags          7167 non-null   object\n",
            " 9   recorded_at   7167 non-null   object\n",
            " 10  published on  7167 non-null   int64 \n",
            " 11  transcript    7167 non-null   object\n",
            "dtypes: int64(3), object(9)\n",
            "memory usage: 727.9+ KB\n"
          ]
        }
      ]
    },
    {
      "cell_type": "code",
      "source": [
        ""
      ],
      "metadata": {
        "id": "BbtM0VN9V3vc"
      },
      "execution_count": null,
      "outputs": []
    }
  ]
}