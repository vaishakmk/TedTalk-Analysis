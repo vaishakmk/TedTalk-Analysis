{
  "nbformat": 4,
  "nbformat_minor": 0,
  "metadata": {
    "colab": {
      "name": "yasaswi.ipynb",
      "provenance": [],
      "authorship_tag": "ABX9TyO471aPveE2yCLHqyQJmOrB",
      "include_colab_link": true
    },
    "kernelspec": {
      "name": "python3",
      "display_name": "Python 3"
    },
    "language_info": {
      "name": "python"
    }
  },
  "cells": [
    {
      "cell_type": "markdown",
      "metadata": {
        "id": "view-in-github",
        "colab_type": "text"
      },
      "source": [
        "<a href=\"https://colab.research.google.com/github/vaishakmk/TedTalk-Analysis/blob/main/yasaswi.ipynb\" target=\"_parent\"><img src=\"https://colab.research.google.com/assets/colab-badge.svg\" alt=\"Open In Colab\"/></a>"
      ]
    },
    {
      "cell_type": "code",
      "execution_count": 6,
      "metadata": {
        "id": "YX1WbMPNR7kf"
      },
      "outputs": [],
      "source": [
        "import numpy as np \n",
        "import pandas as pd \n",
        "import matplotlib.pyplot as plt\n",
        "import seaborn as sns\n",
        "import ast\n",
        "from collections import defaultdict\n",
        "import datetime\n",
        "from pandas.plotting import parallel_coordinates\n",
        "from scipy.stats import pearsonr\n",
        "import re\n",
        "import csv\n",
        "\n",
        "%matplotlib inline"
      ]
    },
    {
      "cell_type": "code",
      "source": [
        "speaker_data = pd.read_csv('/content/speaker_data.csv')\n",
        "talk_data = pd.read_csv('/content/talk_data.csv')\n",
        "transcript_data = pd.read_csv('/content/transcript_data.csv')\n",
        "\n",
        "\n"
      ],
      "metadata": {
        "id": "TwhUUEuSSwdk"
      },
      "execution_count": 9,
      "outputs": []
    },
    {
      "cell_type": "code",
      "source": [
        "speaker_data.isnull().sum()"
      ],
      "metadata": {
        "colab": {
          "base_uri": "https://localhost:8080/"
        },
        "id": "dcRC_XCdS3bk",
        "outputId": "cac4a234-541d-4e03-9398-bb5677acf6bc"
      },
      "execution_count": 10,
      "outputs": [
        {
          "output_type": "execute_result",
          "data": {
            "text/plain": [
              "talk              141\n",
              "speaker           145\n",
              "speaker_title    4433\n",
              "speaker_occ       789\n",
              "speaker_bio       764\n",
              "dtype: int64"
            ]
          },
          "metadata": {},
          "execution_count": 10
        }
      ]
    },
    {
      "cell_type": "code",
      "source": [
        "speaker_data.info()"
      ],
      "metadata": {
        "colab": {
          "base_uri": "https://localhost:8080/"
        },
        "id": "pGmhBIDCTY-6",
        "outputId": "96debfb4-9e42-4f0c-d6c0-5160444f5e21"
      },
      "execution_count": 11,
      "outputs": [
        {
          "output_type": "stream",
          "name": "stdout",
          "text": [
            "<class 'pandas.core.frame.DataFrame'>\n",
            "RangeIndex: 4442 entries, 0 to 4441\n",
            "Data columns (total 5 columns):\n",
            " #   Column         Non-Null Count  Dtype \n",
            "---  ------         --------------  ----- \n",
            " 0   talk           4301 non-null   object\n",
            " 1   speaker        4297 non-null   object\n",
            " 2   speaker_title  9 non-null      object\n",
            " 3   speaker_occ    3653 non-null   object\n",
            " 4   speaker_bio    3678 non-null   object\n",
            "dtypes: object(5)\n",
            "memory usage: 173.6+ KB\n"
          ]
        }
      ]
    },
    {
      "cell_type": "code",
      "source": [
        "speaker_data.info()"
      ],
      "metadata": {
        "colab": {
          "base_uri": "https://localhost:8080/"
        },
        "id": "EGKJXN2cTexc",
        "outputId": "fc72f53a-714c-492f-e0b5-383ee0d5ae3b"
      },
      "execution_count": 12,
      "outputs": [
        {
          "output_type": "stream",
          "name": "stdout",
          "text": [
            "<class 'pandas.core.frame.DataFrame'>\n",
            "RangeIndex: 4442 entries, 0 to 4441\n",
            "Data columns (total 5 columns):\n",
            " #   Column         Non-Null Count  Dtype \n",
            "---  ------         --------------  ----- \n",
            " 0   talk           4301 non-null   object\n",
            " 1   speaker        4297 non-null   object\n",
            " 2   speaker_title  9 non-null      object\n",
            " 3   speaker_occ    3653 non-null   object\n",
            " 4   speaker_bio    3678 non-null   object\n",
            "dtypes: object(5)\n",
            "memory usage: 173.6+ KB\n"
          ]
        }
      ]
    },
    {
      "cell_type": "code",
      "source": [
        "speaker_data = speaker_data.dropna(subset=['talk'])"
      ],
      "metadata": {
        "id": "rvJExidiThYk"
      },
      "execution_count": 13,
      "outputs": []
    },
    {
      "cell_type": "code",
      "source": [
        "speaker_data.isnull().sum()"
      ],
      "metadata": {
        "colab": {
          "base_uri": "https://localhost:8080/"
        },
        "id": "ZrqEc74YTtlX",
        "outputId": "aac8d627-2e6d-4f42-a2d2-8918519e023b"
      },
      "execution_count": 14,
      "outputs": [
        {
          "output_type": "execute_result",
          "data": {
            "text/plain": [
              "talk                0\n",
              "speaker             4\n",
              "speaker_title    4292\n",
              "speaker_occ       648\n",
              "speaker_bio       623\n",
              "dtype: int64"
            ]
          },
          "metadata": {},
          "execution_count": 14
        }
      ]
    },
    {
      "cell_type": "code",
      "source": [
        "speaker_data['speaker_occ'] = speaker_data['speaker_occ'].fillna('Unknown')"
      ],
      "metadata": {
        "id": "V8GW76jQTwyq"
      },
      "execution_count": 15,
      "outputs": []
    },
    {
      "cell_type": "code",
      "source": [
        "speaker_data.isnull().sum()"
      ],
      "metadata": {
        "colab": {
          "base_uri": "https://localhost:8080/"
        },
        "id": "jbClf9WVT2Ny",
        "outputId": "038ea0c4-df2b-43de-cd5e-659f7ef95cff"
      },
      "execution_count": 16,
      "outputs": [
        {
          "output_type": "execute_result",
          "data": {
            "text/plain": [
              "talk                0\n",
              "speaker             4\n",
              "speaker_title    4292\n",
              "speaker_occ         0\n",
              "speaker_bio       623\n",
              "dtype: int64"
            ]
          },
          "metadata": {},
          "execution_count": 16
        }
      ]
    },
    {
      "cell_type": "code",
      "source": [
        "speaker_data['speaker_bio'] = speaker_data['speaker_bio'].fillna('Unknown')"
      ],
      "metadata": {
        "id": "qgwvUZqPT5z3"
      },
      "execution_count": 17,
      "outputs": []
    },
    {
      "cell_type": "code",
      "source": [
        "speaker_data.isnull().sum()"
      ],
      "metadata": {
        "colab": {
          "base_uri": "https://localhost:8080/"
        },
        "id": "XHFRe1e2UAbP",
        "outputId": "51ca1db1-26c8-4ac1-89a1-1c62f6942490"
      },
      "execution_count": 18,
      "outputs": [
        {
          "output_type": "execute_result",
          "data": {
            "text/plain": [
              "talk                0\n",
              "speaker             4\n",
              "speaker_title    4292\n",
              "speaker_occ         0\n",
              "speaker_bio         0\n",
              "dtype: int64"
            ]
          },
          "metadata": {},
          "execution_count": 18
        }
      ]
    },
    {
      "cell_type": "code",
      "source": [
        "speaker_data['speaker'] = speaker_data['speaker'].fillna('Unknown')"
      ],
      "metadata": {
        "id": "PxT6ew-QUFLB"
      },
      "execution_count": 19,
      "outputs": []
    },
    {
      "cell_type": "code",
      "source": [
        "speaker_data = speaker_data.drop(columns=['speaker_title'])"
      ],
      "metadata": {
        "id": "jm2q-R_pUItg"
      },
      "execution_count": 20,
      "outputs": []
    },
    {
      "cell_type": "code",
      "source": [
        "speaker_data"
      ],
      "metadata": {
        "colab": {
          "base_uri": "https://localhost:8080/",
          "height": 641
        },
        "id": "BRdO7VqhUMU_",
        "outputId": "856861b3-24fb-4899-9752-c41ce55e5cee"
      },
      "execution_count": 21,
      "outputs": [
        {
          "output_type": "execute_result",
          "data": {
            "text/plain": [
              "                                                  talk             speaker  \\\n",
              "0     Can you outsmart the apples and oranges fallacy?       Elizabeth Cox   \n",
              "1              The exploitation of US college athletes          Tim Nevius   \n",
              "2                            How does ultrasound work?  Jacques Abramowicz   \n",
              "3     An honest history of an ancient and \"nasty\" word         Kate Lister   \n",
              "4      The electrical blueprints that orchestrate life       Michael Levin   \n",
              "...                                                ...                 ...   \n",
              "4437                   The best stats you've ever seen        Hans Rosling   \n",
              "4438                       Do schools kill creativity?    Sir Ken Robinson   \n",
              "4439                               Greening the ghetto       Majora Carter   \n",
              "4440                                  Simplicity sells         David Pogue   \n",
              "4441                       Averting the climate crisis             Al Gore   \n",
              "\n",
              "                               speaker_occ  \\\n",
              "0                                  Unknown   \n",
              "1                    College sports lawyer   \n",
              "2                                  Unknown   \n",
              "3                            Sex historian   \n",
              "4                     Bioelectric explorer   \n",
              "...                                    ...   \n",
              "4437  Global health expert; data visionary   \n",
              "4438                      Author, educator   \n",
              "4439    Activist for environmental justice   \n",
              "4440                  Technology columnist   \n",
              "4441                      Climate advocate   \n",
              "\n",
              "                                            speaker_bio  \n",
              "0                                               Unknown  \n",
              "1     Tim Nevius is a leading sports lawyer and coll...  \n",
              "2                                               Unknown  \n",
              "3     Kate Lister is a sex historian and lecturers a...  \n",
              "4     Michael Levin's research could give rise to ad...  \n",
              "...                                                 ...  \n",
              "4437  In Hans Rosling’s hands, data sings. Global tr...  \n",
              "4438  Creativity expert Sir Ken Robinson challenged ...  \n",
              "4439  Majora Carter redefined the field of environme...  \n",
              "4440  David Pogue is the personal technology columni...  \n",
              "4441  Nobel Laureate Al Gore focused the world's att...  \n",
              "\n",
              "[4301 rows x 4 columns]"
            ],
            "text/html": [
              "\n",
              "  <div id=\"df-b80e017f-7023-4505-8c51-ee8ffb0ad093\">\n",
              "    <div class=\"colab-df-container\">\n",
              "      <div>\n",
              "<style scoped>\n",
              "    .dataframe tbody tr th:only-of-type {\n",
              "        vertical-align: middle;\n",
              "    }\n",
              "\n",
              "    .dataframe tbody tr th {\n",
              "        vertical-align: top;\n",
              "    }\n",
              "\n",
              "    .dataframe thead th {\n",
              "        text-align: right;\n",
              "    }\n",
              "</style>\n",
              "<table border=\"1\" class=\"dataframe\">\n",
              "  <thead>\n",
              "    <tr style=\"text-align: right;\">\n",
              "      <th></th>\n",
              "      <th>talk</th>\n",
              "      <th>speaker</th>\n",
              "      <th>speaker_occ</th>\n",
              "      <th>speaker_bio</th>\n",
              "    </tr>\n",
              "  </thead>\n",
              "  <tbody>\n",
              "    <tr>\n",
              "      <th>0</th>\n",
              "      <td>Can you outsmart the apples and oranges fallacy?</td>\n",
              "      <td>Elizabeth Cox</td>\n",
              "      <td>Unknown</td>\n",
              "      <td>Unknown</td>\n",
              "    </tr>\n",
              "    <tr>\n",
              "      <th>1</th>\n",
              "      <td>The exploitation of US college athletes</td>\n",
              "      <td>Tim Nevius</td>\n",
              "      <td>College sports lawyer</td>\n",
              "      <td>Tim Nevius is a leading sports lawyer and coll...</td>\n",
              "    </tr>\n",
              "    <tr>\n",
              "      <th>2</th>\n",
              "      <td>How does ultrasound work?</td>\n",
              "      <td>Jacques Abramowicz</td>\n",
              "      <td>Unknown</td>\n",
              "      <td>Unknown</td>\n",
              "    </tr>\n",
              "    <tr>\n",
              "      <th>3</th>\n",
              "      <td>An honest history of an ancient and \"nasty\" word</td>\n",
              "      <td>Kate Lister</td>\n",
              "      <td>Sex historian</td>\n",
              "      <td>Kate Lister is a sex historian and lecturers a...</td>\n",
              "    </tr>\n",
              "    <tr>\n",
              "      <th>4</th>\n",
              "      <td>The electrical blueprints that orchestrate life</td>\n",
              "      <td>Michael Levin</td>\n",
              "      <td>Bioelectric explorer</td>\n",
              "      <td>Michael Levin's research could give rise to ad...</td>\n",
              "    </tr>\n",
              "    <tr>\n",
              "      <th>...</th>\n",
              "      <td>...</td>\n",
              "      <td>...</td>\n",
              "      <td>...</td>\n",
              "      <td>...</td>\n",
              "    </tr>\n",
              "    <tr>\n",
              "      <th>4437</th>\n",
              "      <td>The best stats you've ever seen</td>\n",
              "      <td>Hans Rosling</td>\n",
              "      <td>Global health expert; data visionary</td>\n",
              "      <td>In Hans Rosling’s hands, data sings. Global tr...</td>\n",
              "    </tr>\n",
              "    <tr>\n",
              "      <th>4438</th>\n",
              "      <td>Do schools kill creativity?</td>\n",
              "      <td>Sir Ken Robinson</td>\n",
              "      <td>Author, educator</td>\n",
              "      <td>Creativity expert Sir Ken Robinson challenged ...</td>\n",
              "    </tr>\n",
              "    <tr>\n",
              "      <th>4439</th>\n",
              "      <td>Greening the ghetto</td>\n",
              "      <td>Majora Carter</td>\n",
              "      <td>Activist for environmental justice</td>\n",
              "      <td>Majora Carter redefined the field of environme...</td>\n",
              "    </tr>\n",
              "    <tr>\n",
              "      <th>4440</th>\n",
              "      <td>Simplicity sells</td>\n",
              "      <td>David Pogue</td>\n",
              "      <td>Technology columnist</td>\n",
              "      <td>David Pogue is the personal technology columni...</td>\n",
              "    </tr>\n",
              "    <tr>\n",
              "      <th>4441</th>\n",
              "      <td>Averting the climate crisis</td>\n",
              "      <td>Al Gore</td>\n",
              "      <td>Climate advocate</td>\n",
              "      <td>Nobel Laureate Al Gore focused the world's att...</td>\n",
              "    </tr>\n",
              "  </tbody>\n",
              "</table>\n",
              "<p>4301 rows × 4 columns</p>\n",
              "</div>\n",
              "      <button class=\"colab-df-convert\" onclick=\"convertToInteractive('df-b80e017f-7023-4505-8c51-ee8ffb0ad093')\"\n",
              "              title=\"Convert this dataframe to an interactive table.\"\n",
              "              style=\"display:none;\">\n",
              "        \n",
              "  <svg xmlns=\"http://www.w3.org/2000/svg\" height=\"24px\"viewBox=\"0 0 24 24\"\n",
              "       width=\"24px\">\n",
              "    <path d=\"M0 0h24v24H0V0z\" fill=\"none\"/>\n",
              "    <path d=\"M18.56 5.44l.94 2.06.94-2.06 2.06-.94-2.06-.94-.94-2.06-.94 2.06-2.06.94zm-11 1L8.5 8.5l.94-2.06 2.06-.94-2.06-.94L8.5 2.5l-.94 2.06-2.06.94zm10 10l.94 2.06.94-2.06 2.06-.94-2.06-.94-.94-2.06-.94 2.06-2.06.94z\"/><path d=\"M17.41 7.96l-1.37-1.37c-.4-.4-.92-.59-1.43-.59-.52 0-1.04.2-1.43.59L10.3 9.45l-7.72 7.72c-.78.78-.78 2.05 0 2.83L4 21.41c.39.39.9.59 1.41.59.51 0 1.02-.2 1.41-.59l7.78-7.78 2.81-2.81c.8-.78.8-2.07 0-2.86zM5.41 20L4 18.59l7.72-7.72 1.47 1.35L5.41 20z\"/>\n",
              "  </svg>\n",
              "      </button>\n",
              "      \n",
              "  <style>\n",
              "    .colab-df-container {\n",
              "      display:flex;\n",
              "      flex-wrap:wrap;\n",
              "      gap: 12px;\n",
              "    }\n",
              "\n",
              "    .colab-df-convert {\n",
              "      background-color: #E8F0FE;\n",
              "      border: none;\n",
              "      border-radius: 50%;\n",
              "      cursor: pointer;\n",
              "      display: none;\n",
              "      fill: #1967D2;\n",
              "      height: 32px;\n",
              "      padding: 0 0 0 0;\n",
              "      width: 32px;\n",
              "    }\n",
              "\n",
              "    .colab-df-convert:hover {\n",
              "      background-color: #E2EBFA;\n",
              "      box-shadow: 0px 1px 2px rgba(60, 64, 67, 0.3), 0px 1px 3px 1px rgba(60, 64, 67, 0.15);\n",
              "      fill: #174EA6;\n",
              "    }\n",
              "\n",
              "    [theme=dark] .colab-df-convert {\n",
              "      background-color: #3B4455;\n",
              "      fill: #D2E3FC;\n",
              "    }\n",
              "\n",
              "    [theme=dark] .colab-df-convert:hover {\n",
              "      background-color: #434B5C;\n",
              "      box-shadow: 0px 1px 3px 1px rgba(0, 0, 0, 0.15);\n",
              "      filter: drop-shadow(0px 1px 2px rgba(0, 0, 0, 0.3));\n",
              "      fill: #FFFFFF;\n",
              "    }\n",
              "  </style>\n",
              "\n",
              "      <script>\n",
              "        const buttonEl =\n",
              "          document.querySelector('#df-b80e017f-7023-4505-8c51-ee8ffb0ad093 button.colab-df-convert');\n",
              "        buttonEl.style.display =\n",
              "          google.colab.kernel.accessAllowed ? 'block' : 'none';\n",
              "\n",
              "        async function convertToInteractive(key) {\n",
              "          const element = document.querySelector('#df-b80e017f-7023-4505-8c51-ee8ffb0ad093');\n",
              "          const dataTable =\n",
              "            await google.colab.kernel.invokeFunction('convertToInteractive',\n",
              "                                                     [key], {});\n",
              "          if (!dataTable) return;\n",
              "\n",
              "          const docLinkHtml = 'Like what you see? Visit the ' +\n",
              "            '<a target=\"_blank\" href=https://colab.research.google.com/notebooks/data_table.ipynb>data table notebook</a>'\n",
              "            + ' to learn more about interactive tables.';\n",
              "          element.innerHTML = '';\n",
              "          dataTable['output_type'] = 'display_data';\n",
              "          await google.colab.output.renderOutput(dataTable, element);\n",
              "          const docLink = document.createElement('div');\n",
              "          docLink.innerHTML = docLinkHtml;\n",
              "          element.appendChild(docLink);\n",
              "        }\n",
              "      </script>\n",
              "    </div>\n",
              "  </div>\n",
              "  "
            ]
          },
          "metadata": {},
          "execution_count": 21
        }
      ]
    },
    {
      "cell_type": "code",
      "source": [
        "talk_data.info()"
      ],
      "metadata": {
        "colab": {
          "base_uri": "https://localhost:8080/"
        },
        "id": "LfW9eTdJUWQ1",
        "outputId": "64a60113-8d77-4290-ef99-f06b34a47603"
      },
      "execution_count": 22,
      "outputs": [
        {
          "output_type": "stream",
          "name": "stdout",
          "text": [
            "<class 'pandas.core.frame.DataFrame'>\n",
            "RangeIndex: 4322 entries, 0 to 4321\n",
            "Data columns (total 8 columns):\n",
            " #   Column        Non-Null Count  Dtype \n",
            "---  ------        --------------  ----- \n",
            " 0   talk_desc     4322 non-null   object\n",
            " 1   event         4322 non-null   object\n",
            " 2   talk_name     4322 non-null   object\n",
            " 3   views         4322 non-null   int64 \n",
            " 4   duration      4322 non-null   int64 \n",
            " 5   tags          4322 non-null   object\n",
            " 6   recorded_at   4322 non-null   object\n",
            " 7   published on  4322 non-null   int64 \n",
            "dtypes: int64(3), object(5)\n",
            "memory usage: 270.2+ KB\n"
          ]
        }
      ]
    },
    {
      "cell_type": "code",
      "source": [
        "talk_data.isnull().sum()"
      ],
      "metadata": {
        "colab": {
          "base_uri": "https://localhost:8080/"
        },
        "id": "VJUnZtP0UadJ",
        "outputId": "7318dcbe-e238-42c4-d88a-f9333db3b36d"
      },
      "execution_count": 23,
      "outputs": [
        {
          "output_type": "execute_result",
          "data": {
            "text/plain": [
              "talk_desc       0\n",
              "event           0\n",
              "talk_name       0\n",
              "views           0\n",
              "duration        0\n",
              "tags            0\n",
              "recorded_at     0\n",
              "published on    0\n",
              "dtype: int64"
            ]
          },
          "metadata": {},
          "execution_count": 23
        }
      ]
    },
    {
      "cell_type": "code",
      "source": [
        "transcript_data.info()"
      ],
      "metadata": {
        "colab": {
          "base_uri": "https://localhost:8080/"
        },
        "id": "9_YZW0XkUdN1",
        "outputId": "63f7f287-db92-4214-b27f-d2592790f045"
      },
      "execution_count": 24,
      "outputs": [
        {
          "output_type": "stream",
          "name": "stdout",
          "text": [
            "<class 'pandas.core.frame.DataFrame'>\n",
            "RangeIndex: 4442 entries, 0 to 4441\n",
            "Data columns (total 2 columns):\n",
            " #   Column      Non-Null Count  Dtype \n",
            "---  ------      --------------  ----- \n",
            " 0   title       4442 non-null   object\n",
            " 1   transcript  4298 non-null   object\n",
            "dtypes: object(2)\n",
            "memory usage: 69.5+ KB\n"
          ]
        }
      ]
    },
    {
      "cell_type": "code",
      "source": [
        "transcript_data.isnull().sum()"
      ],
      "metadata": {
        "colab": {
          "base_uri": "https://localhost:8080/"
        },
        "id": "S4QkP218UgXS",
        "outputId": "e04e5740-33ed-43a5-d9c5-8ef98f0ce612"
      },
      "execution_count": 25,
      "outputs": [
        {
          "output_type": "execute_result",
          "data": {
            "text/plain": [
              "title           0\n",
              "transcript    144\n",
              "dtype: int64"
            ]
          },
          "metadata": {},
          "execution_count": 25
        }
      ]
    },
    {
      "cell_type": "code",
      "source": [
        "transcript_data = transcript_data.dropna(subset=['transcript'])\n"
      ],
      "metadata": {
        "id": "RmtlVlGgUkut"
      },
      "execution_count": 26,
      "outputs": []
    },
    {
      "cell_type": "code",
      "source": [
        "transcript_data.info()"
      ],
      "metadata": {
        "id": "9Vmq17RyUoMM",
        "colab": {
          "base_uri": "https://localhost:8080/"
        },
        "outputId": "8c40ea44-8a78-4601-dff2-6c6eb0485705"
      },
      "execution_count": 27,
      "outputs": [
        {
          "output_type": "stream",
          "name": "stdout",
          "text": [
            "<class 'pandas.core.frame.DataFrame'>\n",
            "Int64Index: 4298 entries, 0 to 4441\n",
            "Data columns (total 2 columns):\n",
            " #   Column      Non-Null Count  Dtype \n",
            "---  ------      --------------  ----- \n",
            " 0   title       4298 non-null   object\n",
            " 1   transcript  4298 non-null   object\n",
            "dtypes: object(2)\n",
            "memory usage: 100.7+ KB\n"
          ]
        }
      ]
    },
    {
      "cell_type": "code",
      "source": [
        "speaker_data.info()"
      ],
      "metadata": {
        "id": "dAROdDAbUrCa",
        "colab": {
          "base_uri": "https://localhost:8080/"
        },
        "outputId": "5da3c20a-e2a2-4ab8-c1fe-3661c9d4711b"
      },
      "execution_count": 28,
      "outputs": [
        {
          "output_type": "stream",
          "name": "stdout",
          "text": [
            "<class 'pandas.core.frame.DataFrame'>\n",
            "Int64Index: 4301 entries, 0 to 4441\n",
            "Data columns (total 4 columns):\n",
            " #   Column       Non-Null Count  Dtype \n",
            "---  ------       --------------  ----- \n",
            " 0   talk         4301 non-null   object\n",
            " 1   speaker      4301 non-null   object\n",
            " 2   speaker_occ  4301 non-null   object\n",
            " 3   speaker_bio  4301 non-null   object\n",
            "dtypes: object(4)\n",
            "memory usage: 168.0+ KB\n"
          ]
        }
      ]
    },
    {
      "cell_type": "code",
      "source": [
        "talk_data.info()"
      ],
      "metadata": {
        "id": "tF1zfcoJUuWh",
        "colab": {
          "base_uri": "https://localhost:8080/"
        },
        "outputId": "3f175634-8334-4f10-91dc-12d8a7690944"
      },
      "execution_count": 29,
      "outputs": [
        {
          "output_type": "stream",
          "name": "stdout",
          "text": [
            "<class 'pandas.core.frame.DataFrame'>\n",
            "RangeIndex: 4322 entries, 0 to 4321\n",
            "Data columns (total 8 columns):\n",
            " #   Column        Non-Null Count  Dtype \n",
            "---  ------        --------------  ----- \n",
            " 0   talk_desc     4322 non-null   object\n",
            " 1   event         4322 non-null   object\n",
            " 2   talk_name     4322 non-null   object\n",
            " 3   views         4322 non-null   int64 \n",
            " 4   duration      4322 non-null   int64 \n",
            " 5   tags          4322 non-null   object\n",
            " 6   recorded_at   4322 non-null   object\n",
            " 7   published on  4322 non-null   int64 \n",
            "dtypes: int64(3), object(5)\n",
            "memory usage: 270.2+ KB\n"
          ]
        }
      ]
    },
    {
      "cell_type": "code",
      "source": [
        "final_df = pd.merge(speaker_data, talk_data, how='inner', left_on = 'talk', right_on = 'talk_name')"
      ],
      "metadata": {
        "id": "PReYvYkLUzpE"
      },
      "execution_count": 30,
      "outputs": []
    },
    {
      "cell_type": "code",
      "source": [
        "final_df.info()"
      ],
      "metadata": {
        "id": "ZLY4lIYSU2fr",
        "colab": {
          "base_uri": "https://localhost:8080/"
        },
        "outputId": "8dfc9f79-d8d9-48ec-bd0f-dbea55ef6ba9"
      },
      "execution_count": 31,
      "outputs": [
        {
          "output_type": "stream",
          "name": "stdout",
          "text": [
            "<class 'pandas.core.frame.DataFrame'>\n",
            "Int64Index: 4418 entries, 0 to 4417\n",
            "Data columns (total 12 columns):\n",
            " #   Column        Non-Null Count  Dtype \n",
            "---  ------        --------------  ----- \n",
            " 0   talk          4418 non-null   object\n",
            " 1   speaker       4418 non-null   object\n",
            " 2   speaker_occ   4418 non-null   object\n",
            " 3   speaker_bio   4418 non-null   object\n",
            " 4   talk_desc     4418 non-null   object\n",
            " 5   event         4418 non-null   object\n",
            " 6   talk_name     4418 non-null   object\n",
            " 7   views         4418 non-null   int64 \n",
            " 8   duration      4418 non-null   int64 \n",
            " 9   tags          4418 non-null   object\n",
            " 10  recorded_at   4418 non-null   object\n",
            " 11  published on  4418 non-null   int64 \n",
            "dtypes: int64(3), object(9)\n",
            "memory usage: 448.7+ KB\n"
          ]
        }
      ]
    },
    {
      "cell_type": "code",
      "source": [
        "final_df = final_df.drop(columns=['talk_name'])"
      ],
      "metadata": {
        "id": "8kaC0_9yU5by"
      },
      "execution_count": 32,
      "outputs": []
    },
    {
      "cell_type": "code",
      "source": [
        "final_df.info()"
      ],
      "metadata": {
        "id": "EfNP0jGzU82Q",
        "colab": {
          "base_uri": "https://localhost:8080/"
        },
        "outputId": "d52c80dc-6506-48c4-99a3-3a5d64f96638"
      },
      "execution_count": 33,
      "outputs": [
        {
          "output_type": "stream",
          "name": "stdout",
          "text": [
            "<class 'pandas.core.frame.DataFrame'>\n",
            "Int64Index: 4418 entries, 0 to 4417\n",
            "Data columns (total 11 columns):\n",
            " #   Column        Non-Null Count  Dtype \n",
            "---  ------        --------------  ----- \n",
            " 0   talk          4418 non-null   object\n",
            " 1   speaker       4418 non-null   object\n",
            " 2   speaker_occ   4418 non-null   object\n",
            " 3   speaker_bio   4418 non-null   object\n",
            " 4   talk_desc     4418 non-null   object\n",
            " 5   event         4418 non-null   object\n",
            " 6   views         4418 non-null   int64 \n",
            " 7   duration      4418 non-null   int64 \n",
            " 8   tags          4418 non-null   object\n",
            " 9   recorded_at   4418 non-null   object\n",
            " 10  published on  4418 non-null   int64 \n",
            "dtypes: int64(3), object(8)\n",
            "memory usage: 414.2+ KB\n"
          ]
        }
      ]
    },
    {
      "cell_type": "code",
      "source": [
        "final_df = pd.merge(final_df, transcript_data, how='inner', left_on = 'talk', right_on = 'title')"
      ],
      "metadata": {
        "id": "FxmXe69sVAVV"
      },
      "execution_count": 34,
      "outputs": []
    },
    {
      "cell_type": "code",
      "source": [
        "final_df.info()"
      ],
      "metadata": {
        "colab": {
          "base_uri": "https://localhost:8080/"
        },
        "id": "lB-tA82bVDYB",
        "outputId": "f7e63de2-7592-479b-cd5f-9dddb0a1abc0"
      },
      "execution_count": 35,
      "outputs": [
        {
          "output_type": "stream",
          "name": "stdout",
          "text": [
            "<class 'pandas.core.frame.DataFrame'>\n",
            "Int64Index: 7167 entries, 0 to 7166\n",
            "Data columns (total 13 columns):\n",
            " #   Column        Non-Null Count  Dtype \n",
            "---  ------        --------------  ----- \n",
            " 0   talk          7167 non-null   object\n",
            " 1   speaker       7167 non-null   object\n",
            " 2   speaker_occ   7167 non-null   object\n",
            " 3   speaker_bio   7167 non-null   object\n",
            " 4   talk_desc     7167 non-null   object\n",
            " 5   event         7167 non-null   object\n",
            " 6   views         7167 non-null   int64 \n",
            " 7   duration      7167 non-null   int64 \n",
            " 8   tags          7167 non-null   object\n",
            " 9   recorded_at   7167 non-null   object\n",
            " 10  published on  7167 non-null   int64 \n",
            " 11  title         7167 non-null   object\n",
            " 12  transcript    7167 non-null   object\n",
            "dtypes: int64(3), object(10)\n",
            "memory usage: 783.9+ KB\n"
          ]
        }
      ]
    },
    {
      "cell_type": "code",
      "source": [
        "final_df = final_df.drop(columns=['title'])"
      ],
      "metadata": {
        "id": "sqjZMpmYVIB2"
      },
      "execution_count": 36,
      "outputs": []
    },
    {
      "cell_type": "code",
      "source": [
        "final_df.info()"
      ],
      "metadata": {
        "id": "zg08CXWuVMnh",
        "colab": {
          "base_uri": "https://localhost:8080/"
        },
        "outputId": "ee5785ed-1321-4785-f143-69f35174c84e"
      },
      "execution_count": 37,
      "outputs": [
        {
          "output_type": "stream",
          "name": "stdout",
          "text": [
            "<class 'pandas.core.frame.DataFrame'>\n",
            "Int64Index: 7167 entries, 0 to 7166\n",
            "Data columns (total 12 columns):\n",
            " #   Column        Non-Null Count  Dtype \n",
            "---  ------        --------------  ----- \n",
            " 0   talk          7167 non-null   object\n",
            " 1   speaker       7167 non-null   object\n",
            " 2   speaker_occ   7167 non-null   object\n",
            " 3   speaker_bio   7167 non-null   object\n",
            " 4   talk_desc     7167 non-null   object\n",
            " 5   event         7167 non-null   object\n",
            " 6   views         7167 non-null   int64 \n",
            " 7   duration      7167 non-null   int64 \n",
            " 8   tags          7167 non-null   object\n",
            " 9   recorded_at   7167 non-null   object\n",
            " 10  published on  7167 non-null   int64 \n",
            " 11  transcript    7167 non-null   object\n",
            "dtypes: int64(3), object(9)\n",
            "memory usage: 727.9+ KB\n"
          ]
        }
      ]
    },
    {
      "cell_type": "code",
      "source": [
        "df = pd.read_csv('/content/talk_data.csv')\n",
        "df.columns"
      ],
      "metadata": {
        "colab": {
          "base_uri": "https://localhost:8080/"
        },
        "id": "jvObviECddGf",
        "outputId": "d42c2b81-317b-49ee-8a4d-90e241345094"
      },
      "execution_count": 38,
      "outputs": [
        {
          "output_type": "execute_result",
          "data": {
            "text/plain": [
              "Index(['talk_desc', 'event', 'talk_name', 'views', 'duration', 'tags',\n",
              "       'recorded_at', 'published on'],\n",
              "      dtype='object')"
            ]
          },
          "metadata": {},
          "execution_count": 38
        }
      ]
    },
    {
      "cell_type": "code",
      "source": [
        "import ast\n",
        "df['tags'] = df['tags'].apply(lambda x: ast.literal_eval(x))"
      ],
      "metadata": {
        "id": "PDSEtYOGddD4"
      },
      "execution_count": 39,
      "outputs": []
    },
    {
      "cell_type": "code",
      "source": [
        "s = df.apply(lambda x: pd.Series(x['tags']),axis=1).stack().reset_index(level=1, drop=True)\n",
        "s.name = 'theme'"
      ],
      "metadata": {
        "id": "Qn_EEQqjddB0"
      },
      "execution_count": 40,
      "outputs": []
    },
    {
      "cell_type": "code",
      "source": [
        "theme_df = df.drop('tags', axis=1).join(s)\n",
        "theme_df.head()"
      ],
      "metadata": {
        "colab": {
          "base_uri": "https://localhost:8080/",
          "height": 354
        },
        "id": "RFAsqc1Ydc_c",
        "outputId": "d70fa256-fcfb-4029-c97c-f4eff1d81a60"
      },
      "execution_count": 41,
      "outputs": [
        {
          "output_type": "execute_result",
          "data": {
            "text/plain": [
              "                                           talk_desc   event  \\\n",
              "0  It's 1997. The United States Senate has called...  TED-Ed   \n",
              "0  It's 1997. The United States Senate has called...  TED-Ed   \n",
              "0  It's 1997. The United States Senate has called...  TED-Ed   \n",
              "0  It's 1997. The United States Senate has called...  TED-Ed   \n",
              "0  It's 1997. The United States Senate has called...  TED-Ed   \n",
              "\n",
              "                                          talk_name   views  duration  \\\n",
              "0  Can you outsmart the apples and oranges fallacy?  119359       327   \n",
              "0  Can you outsmart the apples and oranges fallacy?  119359       327   \n",
              "0  Can you outsmart the apples and oranges fallacy?  119359       327   \n",
              "0  Can you outsmart the apples and oranges fallacy?  119359       327   \n",
              "0  Can you outsmart the apples and oranges fallacy?  119359       327   \n",
              "\n",
              "                     recorded_at  published on       theme  \n",
              "0  2021-04-05T00:00:00.000+00:00    1617636753   education  \n",
              "0  2021-04-05T00:00:00.000+00:00    1617636753  psychology  \n",
              "0  2021-04-05T00:00:00.000+00:00    1617636753   animation  \n",
              "0  2021-04-05T00:00:00.000+00:00    1617636753      TED-Ed  \n",
              "0  2021-04-05T00:00:00.000+00:00    1617636753       brain  "
            ],
            "text/html": [
              "\n",
              "  <div id=\"df-8462675a-083c-470b-b010-765c5eb7dc56\">\n",
              "    <div class=\"colab-df-container\">\n",
              "      <div>\n",
              "<style scoped>\n",
              "    .dataframe tbody tr th:only-of-type {\n",
              "        vertical-align: middle;\n",
              "    }\n",
              "\n",
              "    .dataframe tbody tr th {\n",
              "        vertical-align: top;\n",
              "    }\n",
              "\n",
              "    .dataframe thead th {\n",
              "        text-align: right;\n",
              "    }\n",
              "</style>\n",
              "<table border=\"1\" class=\"dataframe\">\n",
              "  <thead>\n",
              "    <tr style=\"text-align: right;\">\n",
              "      <th></th>\n",
              "      <th>talk_desc</th>\n",
              "      <th>event</th>\n",
              "      <th>talk_name</th>\n",
              "      <th>views</th>\n",
              "      <th>duration</th>\n",
              "      <th>recorded_at</th>\n",
              "      <th>published on</th>\n",
              "      <th>theme</th>\n",
              "    </tr>\n",
              "  </thead>\n",
              "  <tbody>\n",
              "    <tr>\n",
              "      <th>0</th>\n",
              "      <td>It's 1997. The United States Senate has called...</td>\n",
              "      <td>TED-Ed</td>\n",
              "      <td>Can you outsmart the apples and oranges fallacy?</td>\n",
              "      <td>119359</td>\n",
              "      <td>327</td>\n",
              "      <td>2021-04-05T00:00:00.000+00:00</td>\n",
              "      <td>1617636753</td>\n",
              "      <td>education</td>\n",
              "    </tr>\n",
              "    <tr>\n",
              "      <th>0</th>\n",
              "      <td>It's 1997. The United States Senate has called...</td>\n",
              "      <td>TED-Ed</td>\n",
              "      <td>Can you outsmart the apples and oranges fallacy?</td>\n",
              "      <td>119359</td>\n",
              "      <td>327</td>\n",
              "      <td>2021-04-05T00:00:00.000+00:00</td>\n",
              "      <td>1617636753</td>\n",
              "      <td>psychology</td>\n",
              "    </tr>\n",
              "    <tr>\n",
              "      <th>0</th>\n",
              "      <td>It's 1997. The United States Senate has called...</td>\n",
              "      <td>TED-Ed</td>\n",
              "      <td>Can you outsmart the apples and oranges fallacy?</td>\n",
              "      <td>119359</td>\n",
              "      <td>327</td>\n",
              "      <td>2021-04-05T00:00:00.000+00:00</td>\n",
              "      <td>1617636753</td>\n",
              "      <td>animation</td>\n",
              "    </tr>\n",
              "    <tr>\n",
              "      <th>0</th>\n",
              "      <td>It's 1997. The United States Senate has called...</td>\n",
              "      <td>TED-Ed</td>\n",
              "      <td>Can you outsmart the apples and oranges fallacy?</td>\n",
              "      <td>119359</td>\n",
              "      <td>327</td>\n",
              "      <td>2021-04-05T00:00:00.000+00:00</td>\n",
              "      <td>1617636753</td>\n",
              "      <td>TED-Ed</td>\n",
              "    </tr>\n",
              "    <tr>\n",
              "      <th>0</th>\n",
              "      <td>It's 1997. The United States Senate has called...</td>\n",
              "      <td>TED-Ed</td>\n",
              "      <td>Can you outsmart the apples and oranges fallacy?</td>\n",
              "      <td>119359</td>\n",
              "      <td>327</td>\n",
              "      <td>2021-04-05T00:00:00.000+00:00</td>\n",
              "      <td>1617636753</td>\n",
              "      <td>brain</td>\n",
              "    </tr>\n",
              "  </tbody>\n",
              "</table>\n",
              "</div>\n",
              "      <button class=\"colab-df-convert\" onclick=\"convertToInteractive('df-8462675a-083c-470b-b010-765c5eb7dc56')\"\n",
              "              title=\"Convert this dataframe to an interactive table.\"\n",
              "              style=\"display:none;\">\n",
              "        \n",
              "  <svg xmlns=\"http://www.w3.org/2000/svg\" height=\"24px\"viewBox=\"0 0 24 24\"\n",
              "       width=\"24px\">\n",
              "    <path d=\"M0 0h24v24H0V0z\" fill=\"none\"/>\n",
              "    <path d=\"M18.56 5.44l.94 2.06.94-2.06 2.06-.94-2.06-.94-.94-2.06-.94 2.06-2.06.94zm-11 1L8.5 8.5l.94-2.06 2.06-.94-2.06-.94L8.5 2.5l-.94 2.06-2.06.94zm10 10l.94 2.06.94-2.06 2.06-.94-2.06-.94-.94-2.06-.94 2.06-2.06.94z\"/><path d=\"M17.41 7.96l-1.37-1.37c-.4-.4-.92-.59-1.43-.59-.52 0-1.04.2-1.43.59L10.3 9.45l-7.72 7.72c-.78.78-.78 2.05 0 2.83L4 21.41c.39.39.9.59 1.41.59.51 0 1.02-.2 1.41-.59l7.78-7.78 2.81-2.81c.8-.78.8-2.07 0-2.86zM5.41 20L4 18.59l7.72-7.72 1.47 1.35L5.41 20z\"/>\n",
              "  </svg>\n",
              "      </button>\n",
              "      \n",
              "  <style>\n",
              "    .colab-df-container {\n",
              "      display:flex;\n",
              "      flex-wrap:wrap;\n",
              "      gap: 12px;\n",
              "    }\n",
              "\n",
              "    .colab-df-convert {\n",
              "      background-color: #E8F0FE;\n",
              "      border: none;\n",
              "      border-radius: 50%;\n",
              "      cursor: pointer;\n",
              "      display: none;\n",
              "      fill: #1967D2;\n",
              "      height: 32px;\n",
              "      padding: 0 0 0 0;\n",
              "      width: 32px;\n",
              "    }\n",
              "\n",
              "    .colab-df-convert:hover {\n",
              "      background-color: #E2EBFA;\n",
              "      box-shadow: 0px 1px 2px rgba(60, 64, 67, 0.3), 0px 1px 3px 1px rgba(60, 64, 67, 0.15);\n",
              "      fill: #174EA6;\n",
              "    }\n",
              "\n",
              "    [theme=dark] .colab-df-convert {\n",
              "      background-color: #3B4455;\n",
              "      fill: #D2E3FC;\n",
              "    }\n",
              "\n",
              "    [theme=dark] .colab-df-convert:hover {\n",
              "      background-color: #434B5C;\n",
              "      box-shadow: 0px 1px 3px 1px rgba(0, 0, 0, 0.15);\n",
              "      filter: drop-shadow(0px 1px 2px rgba(0, 0, 0, 0.3));\n",
              "      fill: #FFFFFF;\n",
              "    }\n",
              "  </style>\n",
              "\n",
              "      <script>\n",
              "        const buttonEl =\n",
              "          document.querySelector('#df-8462675a-083c-470b-b010-765c5eb7dc56 button.colab-df-convert');\n",
              "        buttonEl.style.display =\n",
              "          google.colab.kernel.accessAllowed ? 'block' : 'none';\n",
              "\n",
              "        async function convertToInteractive(key) {\n",
              "          const element = document.querySelector('#df-8462675a-083c-470b-b010-765c5eb7dc56');\n",
              "          const dataTable =\n",
              "            await google.colab.kernel.invokeFunction('convertToInteractive',\n",
              "                                                     [key], {});\n",
              "          if (!dataTable) return;\n",
              "\n",
              "          const docLinkHtml = 'Like what you see? Visit the ' +\n",
              "            '<a target=\"_blank\" href=https://colab.research.google.com/notebooks/data_table.ipynb>data table notebook</a>'\n",
              "            + ' to learn more about interactive tables.';\n",
              "          element.innerHTML = '';\n",
              "          dataTable['output_type'] = 'display_data';\n",
              "          await google.colab.output.renderOutput(dataTable, element);\n",
              "          const docLink = document.createElement('div');\n",
              "          docLink.innerHTML = docLinkHtml;\n",
              "          element.appendChild(docLink);\n",
              "        }\n",
              "      </script>\n",
              "    </div>\n",
              "  </div>\n",
              "  "
            ]
          },
          "metadata": {},
          "execution_count": 41
        }
      ]
    },
    {
      "cell_type": "code",
      "source": [
        "len(theme_df['theme'].value_counts())"
      ],
      "metadata": {
        "colab": {
          "base_uri": "https://localhost:8080/"
        },
        "id": "0vYLC7ZWdc86",
        "outputId": "bd58e762-e857-4d71-e530-61289e8329c0"
      },
      "execution_count": 42,
      "outputs": [
        {
          "output_type": "execute_result",
          "data": {
            "text/plain": [
              "460"
            ]
          },
          "metadata": {},
          "execution_count": 42
        }
      ]
    },
    {
      "cell_type": "code",
      "source": [
        "pop_themes = pd.DataFrame(theme_df['theme'].value_counts()).reset_index()\n",
        "pop_themes.columns = ['theme', 'talks']\n",
        "pop_themes.head(10)"
      ],
      "metadata": {
        "colab": {
          "base_uri": "https://localhost:8080/",
          "height": 363
        },
        "id": "8A9Zh6ZQdc6B",
        "outputId": "3572540c-91ce-4bf1-f9e6-37503d3814fc"
      },
      "execution_count": 43,
      "outputs": [
        {
          "output_type": "execute_result",
          "data": {
            "text/plain": [
              "           theme  talks\n",
              "0        science   1047\n",
              "1     technology   1017\n",
              "2         TED-Ed    702\n",
              "3        culture    692\n",
              "4      animation    630\n",
              "5           TEDx    622\n",
              "6        society    576\n",
              "7  global issues    575\n",
              "8  social change    554\n",
              "9      education    552"
            ],
            "text/html": [
              "\n",
              "  <div id=\"df-820579bd-7400-45a4-ab36-4e89358df451\">\n",
              "    <div class=\"colab-df-container\">\n",
              "      <div>\n",
              "<style scoped>\n",
              "    .dataframe tbody tr th:only-of-type {\n",
              "        vertical-align: middle;\n",
              "    }\n",
              "\n",
              "    .dataframe tbody tr th {\n",
              "        vertical-align: top;\n",
              "    }\n",
              "\n",
              "    .dataframe thead th {\n",
              "        text-align: right;\n",
              "    }\n",
              "</style>\n",
              "<table border=\"1\" class=\"dataframe\">\n",
              "  <thead>\n",
              "    <tr style=\"text-align: right;\">\n",
              "      <th></th>\n",
              "      <th>theme</th>\n",
              "      <th>talks</th>\n",
              "    </tr>\n",
              "  </thead>\n",
              "  <tbody>\n",
              "    <tr>\n",
              "      <th>0</th>\n",
              "      <td>science</td>\n",
              "      <td>1047</td>\n",
              "    </tr>\n",
              "    <tr>\n",
              "      <th>1</th>\n",
              "      <td>technology</td>\n",
              "      <td>1017</td>\n",
              "    </tr>\n",
              "    <tr>\n",
              "      <th>2</th>\n",
              "      <td>TED-Ed</td>\n",
              "      <td>702</td>\n",
              "    </tr>\n",
              "    <tr>\n",
              "      <th>3</th>\n",
              "      <td>culture</td>\n",
              "      <td>692</td>\n",
              "    </tr>\n",
              "    <tr>\n",
              "      <th>4</th>\n",
              "      <td>animation</td>\n",
              "      <td>630</td>\n",
              "    </tr>\n",
              "    <tr>\n",
              "      <th>5</th>\n",
              "      <td>TEDx</td>\n",
              "      <td>622</td>\n",
              "    </tr>\n",
              "    <tr>\n",
              "      <th>6</th>\n",
              "      <td>society</td>\n",
              "      <td>576</td>\n",
              "    </tr>\n",
              "    <tr>\n",
              "      <th>7</th>\n",
              "      <td>global issues</td>\n",
              "      <td>575</td>\n",
              "    </tr>\n",
              "    <tr>\n",
              "      <th>8</th>\n",
              "      <td>social change</td>\n",
              "      <td>554</td>\n",
              "    </tr>\n",
              "    <tr>\n",
              "      <th>9</th>\n",
              "      <td>education</td>\n",
              "      <td>552</td>\n",
              "    </tr>\n",
              "  </tbody>\n",
              "</table>\n",
              "</div>\n",
              "      <button class=\"colab-df-convert\" onclick=\"convertToInteractive('df-820579bd-7400-45a4-ab36-4e89358df451')\"\n",
              "              title=\"Convert this dataframe to an interactive table.\"\n",
              "              style=\"display:none;\">\n",
              "        \n",
              "  <svg xmlns=\"http://www.w3.org/2000/svg\" height=\"24px\"viewBox=\"0 0 24 24\"\n",
              "       width=\"24px\">\n",
              "    <path d=\"M0 0h24v24H0V0z\" fill=\"none\"/>\n",
              "    <path d=\"M18.56 5.44l.94 2.06.94-2.06 2.06-.94-2.06-.94-.94-2.06-.94 2.06-2.06.94zm-11 1L8.5 8.5l.94-2.06 2.06-.94-2.06-.94L8.5 2.5l-.94 2.06-2.06.94zm10 10l.94 2.06.94-2.06 2.06-.94-2.06-.94-.94-2.06-.94 2.06-2.06.94z\"/><path d=\"M17.41 7.96l-1.37-1.37c-.4-.4-.92-.59-1.43-.59-.52 0-1.04.2-1.43.59L10.3 9.45l-7.72 7.72c-.78.78-.78 2.05 0 2.83L4 21.41c.39.39.9.59 1.41.59.51 0 1.02-.2 1.41-.59l7.78-7.78 2.81-2.81c.8-.78.8-2.07 0-2.86zM5.41 20L4 18.59l7.72-7.72 1.47 1.35L5.41 20z\"/>\n",
              "  </svg>\n",
              "      </button>\n",
              "      \n",
              "  <style>\n",
              "    .colab-df-container {\n",
              "      display:flex;\n",
              "      flex-wrap:wrap;\n",
              "      gap: 12px;\n",
              "    }\n",
              "\n",
              "    .colab-df-convert {\n",
              "      background-color: #E8F0FE;\n",
              "      border: none;\n",
              "      border-radius: 50%;\n",
              "      cursor: pointer;\n",
              "      display: none;\n",
              "      fill: #1967D2;\n",
              "      height: 32px;\n",
              "      padding: 0 0 0 0;\n",
              "      width: 32px;\n",
              "    }\n",
              "\n",
              "    .colab-df-convert:hover {\n",
              "      background-color: #E2EBFA;\n",
              "      box-shadow: 0px 1px 2px rgba(60, 64, 67, 0.3), 0px 1px 3px 1px rgba(60, 64, 67, 0.15);\n",
              "      fill: #174EA6;\n",
              "    }\n",
              "\n",
              "    [theme=dark] .colab-df-convert {\n",
              "      background-color: #3B4455;\n",
              "      fill: #D2E3FC;\n",
              "    }\n",
              "\n",
              "    [theme=dark] .colab-df-convert:hover {\n",
              "      background-color: #434B5C;\n",
              "      box-shadow: 0px 1px 3px 1px rgba(0, 0, 0, 0.15);\n",
              "      filter: drop-shadow(0px 1px 2px rgba(0, 0, 0, 0.3));\n",
              "      fill: #FFFFFF;\n",
              "    }\n",
              "  </style>\n",
              "\n",
              "      <script>\n",
              "        const buttonEl =\n",
              "          document.querySelector('#df-820579bd-7400-45a4-ab36-4e89358df451 button.colab-df-convert');\n",
              "        buttonEl.style.display =\n",
              "          google.colab.kernel.accessAllowed ? 'block' : 'none';\n",
              "\n",
              "        async function convertToInteractive(key) {\n",
              "          const element = document.querySelector('#df-820579bd-7400-45a4-ab36-4e89358df451');\n",
              "          const dataTable =\n",
              "            await google.colab.kernel.invokeFunction('convertToInteractive',\n",
              "                                                     [key], {});\n",
              "          if (!dataTable) return;\n",
              "\n",
              "          const docLinkHtml = 'Like what you see? Visit the ' +\n",
              "            '<a target=\"_blank\" href=https://colab.research.google.com/notebooks/data_table.ipynb>data table notebook</a>'\n",
              "            + ' to learn more about interactive tables.';\n",
              "          element.innerHTML = '';\n",
              "          dataTable['output_type'] = 'display_data';\n",
              "          await google.colab.output.renderOutput(dataTable, element);\n",
              "          const docLink = document.createElement('div');\n",
              "          docLink.innerHTML = docLinkHtml;\n",
              "          element.appendChild(docLink);\n",
              "        }\n",
              "      </script>\n",
              "    </div>\n",
              "  </div>\n",
              "  "
            ]
          },
          "metadata": {},
          "execution_count": 43
        }
      ]
    },
    {
      "cell_type": "code",
      "source": [
        "plt.figure(figsize=(15,5))\n",
        "sns.barplot(x='theme', y='talks', data=pop_themes.head(10))\n",
        "plt.show()"
      ],
      "metadata": {
        "colab": {
          "base_uri": "https://localhost:8080/",
          "height": 334
        },
        "id": "k57A01sNdc0l",
        "outputId": "cc685fea-8ba8-45bc-b824-7fd15154021a"
      },
      "execution_count": 44,
      "outputs": [
        {
          "output_type": "display_data",
          "data": {
            "text/plain": [
              "<Figure size 1080x360 with 1 Axes>"
            ],
            "image/png": "[encoded data removed]"
          },
          "metadata": {
            "needs_background": "light"
          }
        }
      ]
    },
    {
      "cell_type": "code",
      "source": [
        "pop_theme_talks = theme_df[(theme_df['theme'].isin(pop_themes.head(8)['theme'])) & (theme_df['theme'] != 'TEDx')]\n",
        "pop_theme_talks"
      ],
      "metadata": {
        "id": "Pn67ZcDRdcrx",
        "colab": {
          "base_uri": "https://localhost:8080/",
          "height": 693
        },
        "outputId": "4aec4523-d65a-4846-d7d5-69da68fb8dd9"
      },
      "execution_count": 52,
      "outputs": [
        {
          "output_type": "execute_result",
          "data": {
            "text/plain": [
              "                                              talk_desc    event  \\\n",
              "0     It's 1997. The United States Senate has called...   TED-Ed   \n",
              "0     It's 1997. The United States Senate has called...   TED-Ed   \n",
              "2     In a dark cave, bats can't see much. But even ...   TED-Ed   \n",
              "2     In a dark cave, bats can't see much. But even ...   TED-Ed   \n",
              "2     In a dark cave, bats can't see much. But even ...   TED-Ed   \n",
              "...                                                 ...      ...   \n",
              "4320  New York Times columnist David Pogue takes aim...  TED2006   \n",
              "4321  With the same humor and humanity he exuded in ...  TED2006   \n",
              "4321  With the same humor and humanity he exuded in ...  TED2006   \n",
              "4321  With the same humor and humanity he exuded in ...  TED2006   \n",
              "4321  With the same humor and humanity he exuded in ...  TED2006   \n",
              "\n",
              "                                             talk_name    views  duration  \\\n",
              "0     Can you outsmart the apples and oranges fallacy?   119359       327   \n",
              "0     Can you outsmart the apples and oranges fallacy?   119359       327   \n",
              "2                            How does ultrasound work?   140874       295   \n",
              "2                            How does ultrasound work?   140874       295   \n",
              "2                            How does ultrasound work?   140874       295   \n",
              "...                                                ...      ...       ...   \n",
              "4320                                  Simplicity sells  1973959      1286   \n",
              "4321                       Averting the climate crisis  3595242       977   \n",
              "4321                       Averting the climate crisis  3595242       977   \n",
              "4321                       Averting the climate crisis  3595242       977   \n",
              "4321                       Averting the climate crisis  3595242       977   \n",
              "\n",
              "                        recorded_at  published on          theme  \n",
              "0     2021-04-05T00:00:00.000+00:00    1617636753      animation  \n",
              "0     2021-04-05T00:00:00.000+00:00    1617636753         TED-Ed  \n",
              "2     2021-04-01T00:00:00.000+00:00    1617290223     technology  \n",
              "2     2021-04-01T00:00:00.000+00:00    1617290223      animation  \n",
              "2     2021-04-01T00:00:00.000+00:00    1617290223         TED-Ed  \n",
              "...                             ...           ...            ...  \n",
              "4320  2006-02-24T00:00:00.000+00:00    1151367060     technology  \n",
              "4321  2006-02-25T00:00:00.000+00:00    1151367060        culture  \n",
              "4321  2006-02-25T00:00:00.000+00:00    1151367060  global issues  \n",
              "4321  2006-02-25T00:00:00.000+00:00    1151367060        science  \n",
              "4321  2006-02-25T00:00:00.000+00:00    1151367060     technology  \n",
              "\n",
              "[5239 rows x 8 columns]"
            ],
            "text/html": [
              "\n",
              "  <div id=\"df-bd5ad904-095d-47fa-a2b7-63b606ee843e\">\n",
              "    <div class=\"colab-df-container\">\n",
              "      <div>\n",
              "<style scoped>\n",
              "    .dataframe tbody tr th:only-of-type {\n",
              "        vertical-align: middle;\n",
              "    }\n",
              "\n",
              "    .dataframe tbody tr th {\n",
              "        vertical-align: top;\n",
              "    }\n",
              "\n",
              "    .dataframe thead th {\n",
              "        text-align: right;\n",
              "    }\n",
              "</style>\n",
              "<table border=\"1\" class=\"dataframe\">\n",
              "  <thead>\n",
              "    <tr style=\"text-align: right;\">\n",
              "      <th></th>\n",
              "      <th>talk_desc</th>\n",
              "      <th>event</th>\n",
              "      <th>talk_name</th>\n",
              "      <th>views</th>\n",
              "      <th>duration</th>\n",
              "      <th>recorded_at</th>\n",
              "      <th>published on</th>\n",
              "      <th>theme</th>\n",
              "    </tr>\n",
              "  </thead>\n",
              "  <tbody>\n",
              "    <tr>\n",
              "      <th>0</th>\n",
              "      <td>It's 1997. The United States Senate has called...</td>\n",
              "      <td>TED-Ed</td>\n",
              "      <td>Can you outsmart the apples and oranges fallacy?</td>\n",
              "      <td>119359</td>\n",
              "      <td>327</td>\n",
              "      <td>2021-04-05T00:00:00.000+00:00</td>\n",
              "      <td>1617636753</td>\n",
              "      <td>animation</td>\n",
              "    </tr>\n",
              "    <tr>\n",
              "      <th>0</th>\n",
              "      <td>It's 1997. The United States Senate has called...</td>\n",
              "      <td>TED-Ed</td>\n",
              "      <td>Can you outsmart the apples and oranges fallacy?</td>\n",
              "      <td>119359</td>\n",
              "      <td>327</td>\n",
              "      <td>2021-04-05T00:00:00.000+00:00</td>\n",
              "      <td>1617636753</td>\n",
              "      <td>TED-Ed</td>\n",
              "    </tr>\n",
              "    <tr>\n",
              "      <th>2</th>\n",
              "      <td>In a dark cave, bats can't see much. But even ...</td>\n",
              "      <td>TED-Ed</td>\n",
              "      <td>How does ultrasound work?</td>\n",
              "      <td>140874</td>\n",
              "      <td>295</td>\n",
              "      <td>2021-04-01T00:00:00.000+00:00</td>\n",
              "      <td>1617290223</td>\n",
              "      <td>technology</td>\n",
              "    </tr>\n",
              "    <tr>\n",
              "      <th>2</th>\n",
              "      <td>In a dark cave, bats can't see much. But even ...</td>\n",
              "      <td>TED-Ed</td>\n",
              "      <td>How does ultrasound work?</td>\n",
              "      <td>140874</td>\n",
              "      <td>295</td>\n",
              "      <td>2021-04-01T00:00:00.000+00:00</td>\n",
              "      <td>1617290223</td>\n",
              "      <td>animation</td>\n",
              "    </tr>\n",
              "    <tr>\n",
              "      <th>2</th>\n",
              "      <td>In a dark cave, bats can't see much. But even ...</td>\n",
              "      <td>TED-Ed</td>\n",
              "      <td>How does ultrasound work?</td>\n",
              "      <td>140874</td>\n",
              "      <td>295</td>\n",
              "      <td>2021-04-01T00:00:00.000+00:00</td>\n",
              "      <td>1617290223</td>\n",
              "      <td>TED-Ed</td>\n",
              "    </tr>\n",
              "    <tr>\n",
              "      <th>...</th>\n",
              "      <td>...</td>\n",
              "      <td>...</td>\n",
              "      <td>...</td>\n",
              "      <td>...</td>\n",
              "      <td>...</td>\n",
              "      <td>...</td>\n",
              "      <td>...</td>\n",
              "      <td>...</td>\n",
              "    </tr>\n",
              "    <tr>\n",
              "      <th>4320</th>\n",
              "      <td>New York Times columnist David Pogue takes aim...</td>\n",
              "      <td>TED2006</td>\n",
              "      <td>Simplicity sells</td>\n",
              "      <td>1973959</td>\n",
              "      <td>1286</td>\n",
              "      <td>2006-02-24T00:00:00.000+00:00</td>\n",
              "      <td>1151367060</td>\n",
              "      <td>technology</td>\n",
              "    </tr>\n",
              "    <tr>\n",
              "      <th>4321</th>\n",
              "      <td>With the same humor and humanity he exuded in ...</td>\n",
              "      <td>TED2006</td>\n",
              "      <td>Averting the climate crisis</td>\n",
              "      <td>3595242</td>\n",
              "      <td>977</td>\n",
              "      <td>2006-02-25T00:00:00.000+00:00</td>\n",
              "      <td>1151367060</td>\n",
              "      <td>culture</td>\n",
              "    </tr>\n",
              "    <tr>\n",
              "      <th>4321</th>\n",
              "      <td>With the same humor and humanity he exuded in ...</td>\n",
              "      <td>TED2006</td>\n",
              "      <td>Averting the climate crisis</td>\n",
              "      <td>3595242</td>\n",
              "      <td>977</td>\n",
              "      <td>2006-02-25T00:00:00.000+00:00</td>\n",
              "      <td>1151367060</td>\n",
              "      <td>global issues</td>\n",
              "    </tr>\n",
              "    <tr>\n",
              "      <th>4321</th>\n",
              "      <td>With the same humor and humanity he exuded in ...</td>\n",
              "      <td>TED2006</td>\n",
              "      <td>Averting the climate crisis</td>\n",
              "      <td>3595242</td>\n",
              "      <td>977</td>\n",
              "      <td>2006-02-25T00:00:00.000+00:00</td>\n",
              "      <td>1151367060</td>\n",
              "      <td>science</td>\n",
              "    </tr>\n",
              "    <tr>\n",
              "      <th>4321</th>\n",
              "      <td>With the same humor and humanity he exuded in ...</td>\n",
              "      <td>TED2006</td>\n",
              "      <td>Averting the climate crisis</td>\n",
              "      <td>3595242</td>\n",
              "      <td>977</td>\n",
              "      <td>2006-02-25T00:00:00.000+00:00</td>\n",
              "      <td>1151367060</td>\n",
              "      <td>technology</td>\n",
              "    </tr>\n",
              "  </tbody>\n",
              "</table>\n",
              "<p>5239 rows × 8 columns</p>\n",
              "</div>\n",
              "      <button class=\"colab-df-convert\" onclick=\"convertToInteractive('df-bd5ad904-095d-47fa-a2b7-63b606ee843e')\"\n",
              "              title=\"Convert this dataframe to an interactive table.\"\n",
              "              style=\"display:none;\">\n",
              "        \n",
              "  <svg xmlns=\"http://www.w3.org/2000/svg\" height=\"24px\"viewBox=\"0 0 24 24\"\n",
              "       width=\"24px\">\n",
              "    <path d=\"M0 0h24v24H0V0z\" fill=\"none\"/>\n",
              "    <path d=\"M18.56 5.44l.94 2.06.94-2.06 2.06-.94-2.06-.94-.94-2.06-.94 2.06-2.06.94zm-11 1L8.5 8.5l.94-2.06 2.06-.94-2.06-.94L8.5 2.5l-.94 2.06-2.06.94zm10 10l.94 2.06.94-2.06 2.06-.94-2.06-.94-.94-2.06-.94 2.06-2.06.94z\"/><path d=\"M17.41 7.96l-1.37-1.37c-.4-.4-.92-.59-1.43-.59-.52 0-1.04.2-1.43.59L10.3 9.45l-7.72 7.72c-.78.78-.78 2.05 0 2.83L4 21.41c.39.39.9.59 1.41.59.51 0 1.02-.2 1.41-.59l7.78-7.78 2.81-2.81c.8-.78.8-2.07 0-2.86zM5.41 20L4 18.59l7.72-7.72 1.47 1.35L5.41 20z\"/>\n",
              "  </svg>\n",
              "      </button>\n",
              "      \n",
              "  <style>\n",
              "    .colab-df-container {\n",
              "      display:flex;\n",
              "      flex-wrap:wrap;\n",
              "      gap: 12px;\n",
              "    }\n",
              "\n",
              "    .colab-df-convert {\n",
              "      background-color: #E8F0FE;\n",
              "      border: none;\n",
              "      border-radius: 50%;\n",
              "      cursor: pointer;\n",
              "      display: none;\n",
              "      fill: #1967D2;\n",
              "      height: 32px;\n",
              "      padding: 0 0 0 0;\n",
              "      width: 32px;\n",
              "    }\n",
              "\n",
              "    .colab-df-convert:hover {\n",
              "      background-color: #E2EBFA;\n",
              "      box-shadow: 0px 1px 2px rgba(60, 64, 67, 0.3), 0px 1px 3px 1px rgba(60, 64, 67, 0.15);\n",
              "      fill: #174EA6;\n",
              "    }\n",
              "\n",
              "    [theme=dark] .colab-df-convert {\n",
              "      background-color: #3B4455;\n",
              "      fill: #D2E3FC;\n",
              "    }\n",
              "\n",
              "    [theme=dark] .colab-df-convert:hover {\n",
              "      background-color: #434B5C;\n",
              "      box-shadow: 0px 1px 3px 1px rgba(0, 0, 0, 0.15);\n",
              "      filter: drop-shadow(0px 1px 2px rgba(0, 0, 0, 0.3));\n",
              "      fill: #FFFFFF;\n",
              "    }\n",
              "  </style>\n",
              "\n",
              "      <script>\n",
              "        const buttonEl =\n",
              "          document.querySelector('#df-bd5ad904-095d-47fa-a2b7-63b606ee843e button.colab-df-convert');\n",
              "        buttonEl.style.display =\n",
              "          google.colab.kernel.accessAllowed ? 'block' : 'none';\n",
              "\n",
              "        async function convertToInteractive(key) {\n",
              "          const element = document.querySelector('#df-bd5ad904-095d-47fa-a2b7-63b606ee843e');\n",
              "          const dataTable =\n",
              "            await google.colab.kernel.invokeFunction('convertToInteractive',\n",
              "                                                     [key], {});\n",
              "          if (!dataTable) return;\n",
              "\n",
              "          const docLinkHtml = 'Like what you see? Visit the ' +\n",
              "            '<a target=\"_blank\" href=https://colab.research.google.com/notebooks/data_table.ipynb>data table notebook</a>'\n",
              "            + ' to learn more about interactive tables.';\n",
              "          element.innerHTML = '';\n",
              "          dataTable['output_type'] = 'display_data';\n",
              "          await google.colab.output.renderOutput(dataTable, element);\n",
              "          const docLink = document.createElement('div');\n",
              "          docLink.innerHTML = docLinkHtml;\n",
              "          element.appendChild(docLink);\n",
              "        }\n",
              "      </script>\n",
              "    </div>\n",
              "  </div>\n",
              "  "
            ]
          },
          "metadata": {},
          "execution_count": 52
        }
      ]
    },
    {
      "cell_type": "code",
      "source": [
        "pop_theme_talks = theme_df[(theme_df['theme'].isin(pop_themes.head(8)['theme'])) & (theme_df['theme'] != 'TEDx')]\n",
        "pop_theme_talks['event'] = pop_theme_talks['event']\n"
      ],
      "metadata": {
        "id": "BbtM0VN9V3vc",
        "colab": {
          "base_uri": "https://localhost:8080/"
        },
        "outputId": "115f759c-a50d-4904-9435-90d10b397957"
      },
      "execution_count": 56,
      "outputs": [
        {
          "output_type": "stream",
          "name": "stderr",
          "text": [
            "/usr/local/lib/python3.7/dist-packages/ipykernel_launcher.py:2: SettingWithCopyWarning: \n",
            "A value is trying to be set on a copy of a slice from a DataFrame.\n",
            "Try using .loc[row_indexer,col_indexer] = value instead\n",
            "\n",
            "See the caveats in the documentation: https://pandas.pydata.org/pandas-docs/stable/user_guide/indexing.html#returning-a-view-versus-a-copy\n",
            "  \n"
          ]
        }
      ]
    },
    {
      "cell_type": "code",
      "source": [
        "ctab[themes].plot(kind='line', stacked=False, colormap='rainbow', figsize=(12,8)).legend(loc='center left', bbox_to_anchor=(1, 0.5))\n",
        "plt.show()"
      ],
      "metadata": {
        "colab": {
          "base_uri": "https://localhost:8080/",
          "height": 497
        },
        "id": "CzVccXxazpGk",
        "outputId": "f9f529ae-e6da-46c5-ca7a-01eb0abecf83"
      },
      "execution_count": 60,
      "outputs": [
        {
          "output_type": "display_data",
          "data": {
            "text/plain": [
              "<Figure size 864x576 with 1 Axes>"
            ],
            "image/png": "[encoded data removed]"
          },
          "metadata": {
            "needs_background": "light"
          }
        }
      ]
    },
    {
      "cell_type": "code",
      "source": [
        "pop_theme_talks = theme_df[theme_df['theme'].isin(pop_themes.head(10)['theme'])]\n",
        "fig, ax = plt.subplots(nrows=1, ncols=1,figsize=(15, 8))\n",
        "sns.boxplot(x='theme', y='views', data=pop_theme_talks, palette=\"muted\", ax =ax)\n",
        "ax.set_ylim([0, 0.4e7])"
      ],
      "metadata": {
        "colab": {
          "base_uri": "https://localhost:8080/",
          "height": 526
        },
        "id": "zEPvaEKj0lSh",
        "outputId": "fcb8ae29-33d7-425d-bc28-30717faeea57"
      },
      "execution_count": 61,
      "outputs": [
        {
          "output_type": "execute_result",
          "data": {
            "text/plain": [
              "(0.0, 4000000.0)"
            ]
          },
          "metadata": {},
          "execution_count": 61
        },
        {
          "output_type": "display_data",
          "data": {
            "text/plain": [
              "<Figure size 1080x576 with 1 Axes>"
            ],
            "image/png": "[encoded data removed]"
          },
          "metadata": {
            "needs_background": "light"
          }
        }
      ]
    }
  ]
}