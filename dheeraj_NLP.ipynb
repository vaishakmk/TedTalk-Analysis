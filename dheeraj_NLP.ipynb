{
  "nbformat": 4,
  "nbformat_minor": 0,
  "metadata": {
    "colab": {
      "name": "dheeraj_NLP",
      "provenance": [],
      "mount_file_id": "1L4lP-VjfbSiCD9cQqfaDQjyd6Yy_2W5x",
      "authorship_tag": "ABX9TyM3o+MYZ0jDqhp9M3/NIhy2",
      "include_colab_link": true
    },
    "kernelspec": {
      "name": "python3",
      "display_name": "Python 3"
    },
    "language_info": {
      "name": "python"
    }
  },
  "cells": [
    {
      "cell_type": "markdown",
      "metadata": {
        "id": "view-in-github",
        "colab_type": "text"
      },
      "source": [
        "<a href=\"https://colab.research.google.com/github/vaishakmk/TedTalk-Analysis/blob/main/dheeraj_NLP.ipynb\" target=\"_parent\"><img src=\"https://colab.research.google.com/assets/colab-badge.svg\" alt=\"Open In Colab\"/></a>"
      ]
    },
    {
      "cell_type": "code",
      "execution_count": null,
      "metadata": { 
        "id": "dDd7phNRCONP"
      },
      "outputs": [],
      "source": [
        "import torch\n",
        "import pandas as pd\n",
        "\n",
        "\n",
        "import os\n",
        "import io\n",
        "import codecs\n",
        "import joblib\n",
        "import numpy as np\n",
        "from numpy import percentile\n",
        "import matplotlib.pyplot as plt\n",
        "import seaborn as sns\n",
        "import matplotlib\n",
        "import re # for regular expressions\n",
        "import pandas as pd \n",
        "pd.set_option(\"display.max_colwidth\", 200) \n",
        "import string\n",
        "import tensorflow as tf\n",
        "\n",
        "import warnings \n",
        "warnings.filterwarnings(\"ignore\")\n",
        "\n",
        "%matplotlib inline"
      ]
    },
    {
      "cell_type": "markdown",
      "source": [
        "#Load dataframe"
      ],
      "metadata": {
        "id": "jpeK_oOUGxy4"
      }
    },
    {
      "cell_type": "code",
      "source": [
        "speaker=pd.read_csv('/content/drive/MyDrive/ted_talk_dataset/speaker_data.csv')\n",
        "talk=pd.read_csv('/content/drive/MyDrive/ted_talk_dataset/talk_data.csv')\n",
        "transcript=pd.read_csv('/content/drive/MyDrive/ted_talk_dataset/transcript_data.csv')\n"
      ],
      "metadata": {
        "id": "Qv86gue6CVw0"
      },
      "execution_count": null,
      "outputs": []
    },
    {
      "cell_type": "markdown",
      "source": [
        "#Speaker"
      ],
      "metadata": {
        "id": "hKLgM4pAG0QW"
      }
    },
    {
      "cell_type": "code",
      "source": [
        "speaker.head()"
      ],
      "metadata": {
        "colab": {
          "base_uri": "https://localhost:8080/"
        },
        "id": "a_N_WD08C65C",
        "outputId": "0bce5c0f-99ea-4457-944f-76bba9691724"
      },
      "execution_count": null,
      "outputs": [
        {
          "output_type": "execute_result",
          "data": {
            "text/plain": [
              "                                               talk             speaker  \\\n",
              "0  Can you outsmart the apples and oranges fallacy?       Elizabeth Cox   \n",
              "1           The exploitation of US college athletes          Tim Nevius   \n",
              "2                         How does ultrasound work?  Jacques Abramowicz   \n",
              "3  An honest history of an ancient and \"nasty\" word         Kate Lister   \n",
              "4   The electrical blueprints that orchestrate life       Michael Levin   \n",
              "\n",
              "  speaker_title            speaker_occ  \\\n",
              "0           NaN                    NaN   \n",
              "1           NaN  College sports lawyer   \n",
              "2           NaN                    NaN   \n",
              "3           NaN          Sex historian   \n",
              "4           NaN   Bioelectric explorer   \n",
              "\n",
              "                                                                                                                      speaker_bio  \n",
              "0                                                                                                                             NaN  \n",
              "1                                                             Tim Nevius is a leading sports lawyer and college athlete advocate.  \n",
              "2                                                                                                                             NaN  \n",
              "3                                                       Kate Lister is a sex historian and lecturers at Leeds Trinity University.  \n",
              "4  Michael Levin's research could give rise to adaptive, self-repairing robotics and novel platforms for artificial intelligence.  "
            ],
            "text/html": [
              "\n",
              "  <div id=\"df-3fb26b04-8b6d-4d4e-8bf5-cc6c17e8df20\">\n",
              "    <div class=\"colab-df-container\">\n",
              "      <div>\n",
              "<style scoped>\n",
              "    .dataframe tbody tr th:only-of-type {\n",
              "        vertical-align: middle;\n",
              "    }\n",
              "\n",
              "    .dataframe tbody tr th {\n",
              "        vertical-align: top;\n",
              "    }\n",
              "\n",
              "    .dataframe thead th {\n",
              "        text-align: right;\n",
              "    }\n",
              "</style>\n",
              "<table border=\"1\" class=\"dataframe\">\n",
              "  <thead>\n",
              "    <tr style=\"text-align: right;\">\n",
              "      <th></th>\n",
              "      <th>talk</th>\n",
              "      <th>speaker</th>\n",
              "      <th>speaker_title</th>\n",
              "      <th>speaker_occ</th>\n",
              "      <th>speaker_bio</th>\n",
              "    </tr>\n",
              "  </thead>\n",
              "  <tbody>\n",
              "    <tr>\n",
              "      <th>0</th>\n",
              "      <td>Can you outsmart the apples and oranges fallacy?</td>\n",
              "      <td>Elizabeth Cox</td>\n",
              "      <td>NaN</td>\n",
              "      <td>NaN</td>\n",
              "      <td>NaN</td>\n",
              "    </tr>\n",
              "    <tr>\n",
              "      <th>1</th>\n",
              "      <td>The exploitation of US college athletes</td>\n",
              "      <td>Tim Nevius</td>\n",
              "      <td>NaN</td>\n",
              "      <td>College sports lawyer</td>\n",
              "      <td>Tim Nevius is a leading sports lawyer and college athlete advocate.</td>\n",
              "    </tr>\n",
              "    <tr>\n",
              "      <th>2</th>\n",
              "      <td>How does ultrasound work?</td>\n",
              "      <td>Jacques Abramowicz</td>\n",
              "      <td>NaN</td>\n",
              "      <td>NaN</td>\n",
              "      <td>NaN</td>\n",
              "    </tr>\n",
              "    <tr>\n",
              "      <th>3</th>\n",
              "      <td>An honest history of an ancient and \"nasty\" word</td>\n",
              "      <td>Kate Lister</td>\n",
              "      <td>NaN</td>\n",
              "      <td>Sex historian</td>\n",
              "      <td>Kate Lister is a sex historian and lecturers at Leeds Trinity University.</td>\n",
              "    </tr>\n",
              "    <tr>\n",
              "      <th>4</th>\n",
              "      <td>The electrical blueprints that orchestrate life</td>\n",
              "      <td>Michael Levin</td>\n",
              "      <td>NaN</td>\n",
              "      <td>Bioelectric explorer</td>\n",
              "      <td>Michael Levin's research could give rise to adaptive, self-repairing robotics and novel platforms for artificial intelligence.</td>\n",
              "    </tr>\n",
              "  </tbody>\n",
              "</table>\n",
              "</div>\n",
              "      <button class=\"colab-df-convert\" onclick=\"convertToInteractive('df-3fb26b04-8b6d-4d4e-8bf5-cc6c17e8df20')\"\n",
              "              title=\"Convert this dataframe to an interactive table.\"\n",
              "              style=\"display:none;\">\n",
              "        \n",
              "  <svg xmlns=\"http://www.w3.org/2000/svg\" height=\"24px\"viewBox=\"0 0 24 24\"\n",
              "       width=\"24px\">\n",
              "    <path d=\"M0 0h24v24H0V0z\" fill=\"none\"/>\n",
              "    <path d=\"M18.56 5.44l.94 2.06.94-2.06 2.06-.94-2.06-.94-.94-2.06-.94 2.06-2.06.94zm-11 1L8.5 8.5l.94-2.06 2.06-.94-2.06-.94L8.5 2.5l-.94 2.06-2.06.94zm10 10l.94 2.06.94-2.06 2.06-.94-2.06-.94-.94-2.06-.94 2.06-2.06.94z\"/><path d=\"M17.41 7.96l-1.37-1.37c-.4-.4-.92-.59-1.43-.59-.52 0-1.04.2-1.43.59L10.3 9.45l-7.72 7.72c-.78.78-.78 2.05 0 2.83L4 21.41c.39.39.9.59 1.41.59.51 0 1.02-.2 1.41-.59l7.78-7.78 2.81-2.81c.8-.78.8-2.07 0-2.86zM5.41 20L4 18.59l7.72-7.72 1.47 1.35L5.41 20z\"/>\n",
              "  </svg>\n",
              "      </button>\n",
              "      \n",
              "  <style>\n",
              "    .colab-df-container {\n",
              "      display:flex;\n",
              "      flex-wrap:wrap;\n",
              "      gap: 12px;\n",
              "    }\n",
              "\n",
              "    .colab-df-convert {\n",
              "      background-color: #E8F0FE;\n",
              "      border: none;\n",
              "      border-radius: 50%;\n",
              "      cursor: pointer;\n",
              "      display: none;\n",
              "      fill: #1967D2;\n",
              "      height: 32px;\n",
              "      padding: 0 0 0 0;\n",
              "      width: 32px;\n",
              "    }\n",
              "\n",
              "    .colab-df-convert:hover {\n",
              "      background-color: #E2EBFA;\n",
              "      box-shadow: 0px 1px 2px rgba(60, 64, 67, 0.3), 0px 1px 3px 1px rgba(60, 64, 67, 0.15);\n",
              "      fill: #174EA6;\n",
              "    }\n",
              "\n",
              "    [theme=dark] .colab-df-convert {\n",
              "      background-color: #3B4455;\n",
              "      fill: #D2E3FC;\n",
              "    }\n",
              "\n",
              "    [theme=dark] .colab-df-convert:hover {\n",
              "      background-color: #434B5C;\n",
              "      box-shadow: 0px 1px 3px 1px rgba(0, 0, 0, 0.15);\n",
              "      filter: drop-shadow(0px 1px 2px rgba(0, 0, 0, 0.3));\n",
              "      fill: #FFFFFF;\n",
              "    }\n",
              "  </style>\n",
              "\n",
              "      <script>\n",
              "        const buttonEl =\n",
              "          document.querySelector('#df-3fb26b04-8b6d-4d4e-8bf5-cc6c17e8df20 button.colab-df-convert');\n",
              "        buttonEl.style.display =\n",
              "          google.colab.kernel.accessAllowed ? 'block' : 'none';\n",
              "\n",
              "        async function convertToInteractive(key) {\n",
              "          const element = document.querySelector('#df-3fb26b04-8b6d-4d4e-8bf5-cc6c17e8df20');\n",
              "          const dataTable =\n",
              "            await google.colab.kernel.invokeFunction('convertToInteractive',\n",
              "                                                     [key], {});\n",
              "          if (!dataTable) return;\n",
              "\n",
              "          const docLinkHtml = 'Like what you see? Visit the ' +\n",
              "            '<a target=\"_blank\" href=https://colab.research.google.com/notebooks/data_table.ipynb>data table notebook</a>'\n",
              "            + ' to learn more about interactive tables.';\n",
              "          element.innerHTML = '';\n",
              "          dataTable['output_type'] = 'display_data';\n",
              "          await google.colab.output.renderOutput(dataTable, element);\n",
              "          const docLink = document.createElement('div');\n",
              "          docLink.innerHTML = docLinkHtml;\n",
              "          element.appendChild(docLink);\n",
              "        }\n",
              "      </script>\n",
              "    </div>\n",
              "  </div>\n",
              "  "
            ]
          },
          "metadata": {},
          "execution_count": 3
        }
      ]
    },
    {
      "cell_type": "code",
      "source": [
        "speaker.isnull().sum()"
      ],
      "metadata": {
        "colab": {
          "base_uri": "https://localhost:8080/"
        },
        "id": "fOpMOGifC_RQ",
        "outputId": "bf6f8f53-a533-4265-ceb4-4ba5ee1eaa38"
      },
      "execution_count": null,
      "outputs": [
        {
          "output_type": "execute_result",
          "data": {
            "text/plain": [
              "talk              141\n",
              "speaker           145\n",
              "speaker_title    4433\n",
              "speaker_occ       789\n",
              "speaker_bio       764\n",
              "dtype: int64"
            ]
          },
          "metadata": {},
          "execution_count": 4
        }
      ]
    },
    {
      "cell_type": "code",
      "source": [
        "#remove rows with no talk \n",
        "speaker=speaker.dropna(subset=['talk'])"
      ],
      "metadata": {
        "id": "icTUuLxpDKnV"
      },
      "execution_count": null,
      "outputs": []
    },
    {
      "cell_type": "code",
      "source": [
        "speaker.isnull().sum()"
      ],
      "metadata": {
        "colab": {
          "base_uri": "https://localhost:8080/"
        },
        "id": "3RSTwBmtEQZm",
        "outputId": "9dbc4cb7-8819-4a1c-a4a8-7d8b91e48bbe"
      },
      "execution_count": null,
      "outputs": [
        {
          "output_type": "execute_result",
          "data": {
            "text/plain": [
              "talk                0\n",
              "speaker             4\n",
              "speaker_title    4292\n",
              "speaker_occ       648\n",
              "speaker_bio       623\n",
              "dtype: int64"
            ]
          },
          "metadata": {},
          "execution_count": 6
        }
      ]
    },
    {
      "cell_type": "code",
      "source": [
        "speaker=speaker.drop(columns=['speaker_title'])"
      ],
      "metadata": {
        "id": "F2NgfJ53F5p2"
      },
      "execution_count": null,
      "outputs": []
    },
    {
      "cell_type": "code",
      "source": [
        "#fill the null values for speaker occ with \"unknown\"\n",
        "speaker['speaker_occ'] = speaker['speaker_occ'].fillna('Unknown')"
      ],
      "metadata": {
        "id": "YKhyaOoJEfWh"
      },
      "execution_count": null,
      "outputs": []
    },
    {
      "cell_type": "code",
      "source": [
        "#fill the null values for speaker bio with \"unknown\"\n",
        "speaker['speaker_bio'] = speaker['speaker_bio'].fillna('Unknown')"
      ],
      "metadata": {
        "id": "dE7e-etAEp-C"
      },
      "execution_count": null,
      "outputs": []
    },
    {
      "cell_type": "code",
      "source": [
        "speaker.isnull().sum()"
      ],
      "metadata": {
        "colab": {
          "base_uri": "https://localhost:8080/"
        },
        "id": "Khx9UO-cE0mT",
        "outputId": "80ff579d-20c0-4517-9919-e7ab1874afba"
      },
      "execution_count": null,
      "outputs": [
        {
          "output_type": "execute_result",
          "data": {
            "text/plain": [
              "talk           0\n",
              "speaker        4\n",
              "speaker_occ    0\n",
              "speaker_bio    0\n",
              "dtype: int64"
            ]
          },
          "metadata": {},
          "execution_count": 10
        }
      ]
    },
    {
      "cell_type": "code",
      "source": [
        "#fill the null values for speaker with \"unknown\"\n",
        "speaker['speaker'] = speaker['speaker'].fillna('Unknown')"
      ],
      "metadata": {
        "id": "TnTHH0aOFU4U"
      },
      "execution_count": null,
      "outputs": []
    },
    {
      "cell_type": "code",
      "source": [
        "speaker.isnull().sum()"
      ],
      "metadata": {
        "colab": {
          "base_uri": "https://localhost:8080/"
        },
        "id": "eJGbs_iXFeIS",
        "outputId": "6a39297e-856e-4976-8ab0-17626435399c"
      },
      "execution_count": null,
      "outputs": [
        {
          "output_type": "execute_result",
          "data": {
            "text/plain": [
              "talk           0\n",
              "speaker        0\n",
              "speaker_occ    0\n",
              "speaker_bio    0\n",
              "dtype: int64"
            ]
          },
          "metadata": {},
          "execution_count": 12
        }
      ]
    },
    {
      "cell_type": "code",
      "source": [
        "speaker.head()"
      ],
      "metadata": {
        "colab": {
          "base_uri": "https://localhost:8080/"
        },
        "id": "GHScK5VSF3oR",
        "outputId": "ed4cb068-bae1-4de6-e8e7-671057a96ebc"
      },
      "execution_count": null,
      "outputs": [
        {
          "output_type": "execute_result",
          "data": {
            "text/plain": [
              "                                               talk             speaker  \\\n",
              "0  Can you outsmart the apples and oranges fallacy?       Elizabeth Cox   \n",
              "1           The exploitation of US college athletes          Tim Nevius   \n",
              "2                         How does ultrasound work?  Jacques Abramowicz   \n",
              "3  An honest history of an ancient and \"nasty\" word         Kate Lister   \n",
              "4   The electrical blueprints that orchestrate life       Michael Levin   \n",
              "\n",
              "             speaker_occ  \\\n",
              "0                Unknown   \n",
              "1  College sports lawyer   \n",
              "2                Unknown   \n",
              "3          Sex historian   \n",
              "4   Bioelectric explorer   \n",
              "\n",
              "                                                                                                                      speaker_bio  \n",
              "0                                                                                                                         Unknown  \n",
              "1                                                             Tim Nevius is a leading sports lawyer and college athlete advocate.  \n",
              "2                                                                                                                         Unknown  \n",
              "3                                                       Kate Lister is a sex historian and lecturers at Leeds Trinity University.  \n",
              "4  Michael Levin's research could give rise to adaptive, self-repairing robotics and novel platforms for artificial intelligence.  "
            ],
            "text/html": [
              "\n",
              "  <div id=\"df-a0c0643c-098f-4192-a7d7-7b2b1e451304\">\n",
              "    <div class=\"colab-df-container\">\n",
              "      <div>\n",
              "<style scoped>\n",
              "    .dataframe tbody tr th:only-of-type {\n",
              "        vertical-align: middle;\n",
              "    }\n",
              "\n",
              "    .dataframe tbody tr th {\n",
              "        vertical-align: top;\n",
              "    }\n",
              "\n",
              "    .dataframe thead th {\n",
              "        text-align: right;\n",
              "    }\n",
              "</style>\n",
              "<table border=\"1\" class=\"dataframe\">\n",
              "  <thead>\n",
              "    <tr style=\"text-align: right;\">\n",
              "      <th></th>\n",
              "      <th>talk</th>\n",
              "      <th>speaker</th>\n",
              "      <th>speaker_occ</th>\n",
              "      <th>speaker_bio</th>\n",
              "    </tr>\n",
              "  </thead>\n",
              "  <tbody>\n",
              "    <tr>\n",
              "      <th>0</th>\n",
              "      <td>Can you outsmart the apples and oranges fallacy?</td>\n",
              "      <td>Elizabeth Cox</td>\n",
              "      <td>Unknown</td>\n",
              "      <td>Unknown</td>\n",
              "    </tr>\n",
              "    <tr>\n",
              "      <th>1</th>\n",
              "      <td>The exploitation of US college athletes</td>\n",
              "      <td>Tim Nevius</td>\n",
              "      <td>College sports lawyer</td>\n",
              "      <td>Tim Nevius is a leading sports lawyer and college athlete advocate.</td>\n",
              "    </tr>\n",
              "    <tr>\n",
              "      <th>2</th>\n",
              "      <td>How does ultrasound work?</td>\n",
              "      <td>Jacques Abramowicz</td>\n",
              "      <td>Unknown</td>\n",
              "      <td>Unknown</td>\n",
              "    </tr>\n",
              "    <tr>\n",
              "      <th>3</th>\n",
              "      <td>An honest history of an ancient and \"nasty\" word</td>\n",
              "      <td>Kate Lister</td>\n",
              "      <td>Sex historian</td>\n",
              "      <td>Kate Lister is a sex historian and lecturers at Leeds Trinity University.</td>\n",
              "    </tr>\n",
              "    <tr>\n",
              "      <th>4</th>\n",
              "      <td>The electrical blueprints that orchestrate life</td>\n",
              "      <td>Michael Levin</td>\n",
              "      <td>Bioelectric explorer</td>\n",
              "      <td>Michael Levin's research could give rise to adaptive, self-repairing robotics and novel platforms for artificial intelligence.</td>\n",
              "    </tr>\n",
              "  </tbody>\n",
              "</table>\n",
              "</div>\n",
              "      <button class=\"colab-df-convert\" onclick=\"convertToInteractive('df-a0c0643c-098f-4192-a7d7-7b2b1e451304')\"\n",
              "              title=\"Convert this dataframe to an interactive table.\"\n",
              "              style=\"display:none;\">\n",
              "        \n",
              "  <svg xmlns=\"http://www.w3.org/2000/svg\" height=\"24px\"viewBox=\"0 0 24 24\"\n",
              "       width=\"24px\">\n",
              "    <path d=\"M0 0h24v24H0V0z\" fill=\"none\"/>\n",
              "    <path d=\"M18.56 5.44l.94 2.06.94-2.06 2.06-.94-2.06-.94-.94-2.06-.94 2.06-2.06.94zm-11 1L8.5 8.5l.94-2.06 2.06-.94-2.06-.94L8.5 2.5l-.94 2.06-2.06.94zm10 10l.94 2.06.94-2.06 2.06-.94-2.06-.94-.94-2.06-.94 2.06-2.06.94z\"/><path d=\"M17.41 7.96l-1.37-1.37c-.4-.4-.92-.59-1.43-.59-.52 0-1.04.2-1.43.59L10.3 9.45l-7.72 7.72c-.78.78-.78 2.05 0 2.83L4 21.41c.39.39.9.59 1.41.59.51 0 1.02-.2 1.41-.59l7.78-7.78 2.81-2.81c.8-.78.8-2.07 0-2.86zM5.41 20L4 18.59l7.72-7.72 1.47 1.35L5.41 20z\"/>\n",
              "  </svg>\n",
              "      </button>\n",
              "      \n",
              "  <style>\n",
              "    .colab-df-container {\n",
              "      display:flex;\n",
              "      flex-wrap:wrap;\n",
              "      gap: 12px;\n",
              "    }\n",
              "\n",
              "    .colab-df-convert {\n",
              "      background-color: #E8F0FE;\n",
              "      border: none;\n",
              "      border-radius: 50%;\n",
              "      cursor: pointer;\n",
              "      display: none;\n",
              "      fill: #1967D2;\n",
              "      height: 32px;\n",
              "      padding: 0 0 0 0;\n",
              "      width: 32px;\n",
              "    }\n",
              "\n",
              "    .colab-df-convert:hover {\n",
              "      background-color: #E2EBFA;\n",
              "      box-shadow: 0px 1px 2px rgba(60, 64, 67, 0.3), 0px 1px 3px 1px rgba(60, 64, 67, 0.15);\n",
              "      fill: #174EA6;\n",
              "    }\n",
              "\n",
              "    [theme=dark] .colab-df-convert {\n",
              "      background-color: #3B4455;\n",
              "      fill: #D2E3FC;\n",
              "    }\n",
              "\n",
              "    [theme=dark] .colab-df-convert:hover {\n",
              "      background-color: #434B5C;\n",
              "      box-shadow: 0px 1px 3px 1px rgba(0, 0, 0, 0.15);\n",
              "      filter: drop-shadow(0px 1px 2px rgba(0, 0, 0, 0.3));\n",
              "      fill: #FFFFFF;\n",
              "    }\n",
              "  </style>\n",
              "\n",
              "      <script>\n",
              "        const buttonEl =\n",
              "          document.querySelector('#df-a0c0643c-098f-4192-a7d7-7b2b1e451304 button.colab-df-convert');\n",
              "        buttonEl.style.display =\n",
              "          google.colab.kernel.accessAllowed ? 'block' : 'none';\n",
              "\n",
              "        async function convertToInteractive(key) {\n",
              "          const element = document.querySelector('#df-a0c0643c-098f-4192-a7d7-7b2b1e451304');\n",
              "          const dataTable =\n",
              "            await google.colab.kernel.invokeFunction('convertToInteractive',\n",
              "                                                     [key], {});\n",
              "          if (!dataTable) return;\n",
              "\n",
              "          const docLinkHtml = 'Like what you see? Visit the ' +\n",
              "            '<a target=\"_blank\" href=https://colab.research.google.com/notebooks/data_table.ipynb>data table notebook</a>'\n",
              "            + ' to learn more about interactive tables.';\n",
              "          element.innerHTML = '';\n",
              "          dataTable['output_type'] = 'display_data';\n",
              "          await google.colab.output.renderOutput(dataTable, element);\n",
              "          const docLink = document.createElement('div');\n",
              "          docLink.innerHTML = docLinkHtml;\n",
              "          element.appendChild(docLink);\n",
              "        }\n",
              "      </script>\n",
              "    </div>\n",
              "  </div>\n",
              "  "
            ]
          },
          "metadata": {},
          "execution_count": 13
        }
      ]
    },
    {
      "cell_type": "markdown",
      "source": [
        "#Talk"
      ],
      "metadata": {
        "id": "fTV4vVybG4Da"
      }
    },
    {
      "cell_type": "code",
      "source": [
        "talk.head()"
      ],
      "metadata": {
        "colab": {
          "base_uri": "https://localhost:8080/"
        },
        "id": "3eoghZAfGJ6c",
        "outputId": "dc3ed655-9506-487e-af78-ff6365ceb704"
      },
      "execution_count": null,
      "outputs": [
        {
          "output_type": "execute_result",
          "data": {
            "text/plain": [
              "                                                                                                                                                                                                 talk_desc  \\\n",
              "0  It's 1997. The United States Senate has called a hearing about global warming. Some expert witnesses point out that past periods in Earth's history were warmer than the 20th century. Because such ...   \n",
              "1  Colleges and universities in the US make billions of dollars each year from sports, compromising the health and education of athletes -- who are disproportionately Black -- in the name of money, p...   \n",
              "2  In a dark cave, bats can't see much. But even with their eyes shut, they can navigate rocky topography at incredible speeds. This is because bats aren't just guided by their eyes, but rather, by t...   \n",
              "3  With candor and cunning, sex historian Kate Lister chronicles the curious journey of an ancient, honest word with innocent origins and a now-scandalous connotation in this uproarious love letter t...   \n",
              "4  DNA isn't the only builder in the biological world -- there's also a mysterious bioelectric layer directing cells to work together to grow organs, systems and bodies, says biologist Michael Levin....   \n",
              "\n",
              "                     event                                         talk_name  \\\n",
              "0                   TED-Ed  Can you outsmart the apples and oranges fallacy?   \n",
              "1               TEDxDayton           The exploitation of US college athletes   \n",
              "2                   TED-Ed                         How does ultrasound work?   \n",
              "3  TEDxUniversityofGlasgow  An honest history of an ancient and \"nasty\" word   \n",
              "4                 TED2020    The electrical blueprints that orchestrate life   \n",
              "\n",
              "    views  duration  \\\n",
              "0  119359       327   \n",
              "1  438573       611   \n",
              "2  140874       295   \n",
              "3  569477      1148   \n",
              "4  122682      1176   \n",
              "\n",
              "                                                                                                                                                                                              tags  \\\n",
              "0                                                                                                                    ['education', 'psychology', 'animation', 'TED-Ed', 'brain', 'climate change']   \n",
              "1                                                                                                                        ['sports', 'law', 'education', 'United States', 'race', 'policy', 'TEDx']   \n",
              "2  ['education', 'technology', 'animation', 'TED-Ed', 'invention', 'medicine', 'health care', 'medical imaging', 'science', 'pregnancy', 'innovation', 'health', 'biology', 'healthcare', 'sound']   \n",
              "3                                                                                                                      ['sex', 'language', 'ancient world', 'history', 'society', 'TEDx', 'humor']   \n",
              "4                                                                              ['biology', 'science', 'invention', 'robots', 'DNA', 'technology', 'nature', 'innovation', 'future', 'engineering']   \n",
              "\n",
              "                     recorded_at  published on  \n",
              "0  2021-04-05T00:00:00.000+00:00    1617636753  \n",
              "1  2020-11-10T00:00:00.000+00:00    1617634131  \n",
              "2  2021-04-01T00:00:00.000+00:00    1617290223  \n",
              "3  2020-03-06T00:00:00.000+00:00    1617289565  \n",
              "4  2020-05-18T00:00:00.000+00:00    1617213773  "
            ],
            "text/html": [
              "\n",
              "  <div id=\"df-fd1c2694-af3a-407a-a417-4087cfcc3fef\">\n",
              "    <div class=\"colab-df-container\">\n",
              "      <div>\n",
              "<style scoped>\n",
              "    .dataframe tbody tr th:only-of-type {\n",
              "        vertical-align: middle;\n",
              "    }\n",
              "\n",
              "    .dataframe tbody tr th {\n",
              "        vertical-align: top;\n",
              "    }\n",
              "\n",
              "    .dataframe thead th {\n",
              "        text-align: right;\n",
              "    }\n",
              "</style>\n",
              "<table border=\"1\" class=\"dataframe\">\n",
              "  <thead>\n",
              "    <tr style=\"text-align: right;\">\n",
              "      <th></th>\n",
              "      <th>talk_desc</th>\n",
              "      <th>event</th>\n",
              "      <th>talk_name</th>\n",
              "      <th>views</th>\n",
              "      <th>duration</th>\n",
              "      <th>tags</th>\n",
              "      <th>recorded_at</th>\n",
              "      <th>published on</th>\n",
              "    </tr>\n",
              "  </thead>\n",
              "  <tbody>\n",
              "    <tr>\n",
              "      <th>0</th>\n",
              "      <td>It's 1997. The United States Senate has called a hearing about global warming. Some expert witnesses point out that past periods in Earth's history were warmer than the 20th century. Because such ...</td>\n",
              "      <td>TED-Ed</td>\n",
              "      <td>Can you outsmart the apples and oranges fallacy?</td>\n",
              "      <td>119359</td>\n",
              "      <td>327</td>\n",
              "      <td>['education', 'psychology', 'animation', 'TED-Ed', 'brain', 'climate change']</td>\n",
              "      <td>2021-04-05T00:00:00.000+00:00</td>\n",
              "      <td>1617636753</td>\n",
              "    </tr>\n",
              "    <tr>\n",
              "      <th>1</th>\n",
              "      <td>Colleges and universities in the US make billions of dollars each year from sports, compromising the health and education of athletes -- who are disproportionately Black -- in the name of money, p...</td>\n",
              "      <td>TEDxDayton</td>\n",
              "      <td>The exploitation of US college athletes</td>\n",
              "      <td>438573</td>\n",
              "      <td>611</td>\n",
              "      <td>['sports', 'law', 'education', 'United States', 'race', 'policy', 'TEDx']</td>\n",
              "      <td>2020-11-10T00:00:00.000+00:00</td>\n",
              "      <td>1617634131</td>\n",
              "    </tr>\n",
              "    <tr>\n",
              "      <th>2</th>\n",
              "      <td>In a dark cave, bats can't see much. But even with their eyes shut, they can navigate rocky topography at incredible speeds. This is because bats aren't just guided by their eyes, but rather, by t...</td>\n",
              "      <td>TED-Ed</td>\n",
              "      <td>How does ultrasound work?</td>\n",
              "      <td>140874</td>\n",
              "      <td>295</td>\n",
              "      <td>['education', 'technology', 'animation', 'TED-Ed', 'invention', 'medicine', 'health care', 'medical imaging', 'science', 'pregnancy', 'innovation', 'health', 'biology', 'healthcare', 'sound']</td>\n",
              "      <td>2021-04-01T00:00:00.000+00:00</td>\n",
              "      <td>1617290223</td>\n",
              "    </tr>\n",
              "    <tr>\n",
              "      <th>3</th>\n",
              "      <td>With candor and cunning, sex historian Kate Lister chronicles the curious journey of an ancient, honest word with innocent origins and a now-scandalous connotation in this uproarious love letter t...</td>\n",
              "      <td>TEDxUniversityofGlasgow</td>\n",
              "      <td>An honest history of an ancient and \"nasty\" word</td>\n",
              "      <td>569477</td>\n",
              "      <td>1148</td>\n",
              "      <td>['sex', 'language', 'ancient world', 'history', 'society', 'TEDx', 'humor']</td>\n",
              "      <td>2020-03-06T00:00:00.000+00:00</td>\n",
              "      <td>1617289565</td>\n",
              "    </tr>\n",
              "    <tr>\n",
              "      <th>4</th>\n",
              "      <td>DNA isn't the only builder in the biological world -- there's also a mysterious bioelectric layer directing cells to work together to grow organs, systems and bodies, says biologist Michael Levin....</td>\n",
              "      <td>TED2020</td>\n",
              "      <td>The electrical blueprints that orchestrate life</td>\n",
              "      <td>122682</td>\n",
              "      <td>1176</td>\n",
              "      <td>['biology', 'science', 'invention', 'robots', 'DNA', 'technology', 'nature', 'innovation', 'future', 'engineering']</td>\n",
              "      <td>2020-05-18T00:00:00.000+00:00</td>\n",
              "      <td>1617213773</td>\n",
              "    </tr>\n",
              "  </tbody>\n",
              "</table>\n",
              "</div>\n",
              "      <button class=\"colab-df-convert\" onclick=\"convertToInteractive('df-fd1c2694-af3a-407a-a417-4087cfcc3fef')\"\n",
              "              title=\"Convert this dataframe to an interactive table.\"\n",
              "              style=\"display:none;\">\n",
              "        \n",
              "  <svg xmlns=\"http://www.w3.org/2000/svg\" height=\"24px\"viewBox=\"0 0 24 24\"\n",
              "       width=\"24px\">\n",
              "    <path d=\"M0 0h24v24H0V0z\" fill=\"none\"/>\n",
              "    <path d=\"M18.56 5.44l.94 2.06.94-2.06 2.06-.94-2.06-.94-.94-2.06-.94 2.06-2.06.94zm-11 1L8.5 8.5l.94-2.06 2.06-.94-2.06-.94L8.5 2.5l-.94 2.06-2.06.94zm10 10l.94 2.06.94-2.06 2.06-.94-2.06-.94-.94-2.06-.94 2.06-2.06.94z\"/><path d=\"M17.41 7.96l-1.37-1.37c-.4-.4-.92-.59-1.43-.59-.52 0-1.04.2-1.43.59L10.3 9.45l-7.72 7.72c-.78.78-.78 2.05 0 2.83L4 21.41c.39.39.9.59 1.41.59.51 0 1.02-.2 1.41-.59l7.78-7.78 2.81-2.81c.8-.78.8-2.07 0-2.86zM5.41 20L4 18.59l7.72-7.72 1.47 1.35L5.41 20z\"/>\n",
              "  </svg>\n",
              "      </button>\n",
              "      \n",
              "  <style>\n",
              "    .colab-df-container {\n",
              "      display:flex;\n",
              "      flex-wrap:wrap;\n",
              "      gap: 12px;\n",
              "    }\n",
              "\n",
              "    .colab-df-convert {\n",
              "      background-color: #E8F0FE;\n",
              "      border: none;\n",
              "      border-radius: 50%;\n",
              "      cursor: pointer;\n",
              "      display: none;\n",
              "      fill: #1967D2;\n",
              "      height: 32px;\n",
              "      padding: 0 0 0 0;\n",
              "      width: 32px;\n",
              "    }\n",
              "\n",
              "    .colab-df-convert:hover {\n",
              "      background-color: #E2EBFA;\n",
              "      box-shadow: 0px 1px 2px rgba(60, 64, 67, 0.3), 0px 1px 3px 1px rgba(60, 64, 67, 0.15);\n",
              "      fill: #174EA6;\n",
              "    }\n",
              "\n",
              "    [theme=dark] .colab-df-convert {\n",
              "      background-color: #3B4455;\n",
              "      fill: #D2E3FC;\n",
              "    }\n",
              "\n",
              "    [theme=dark] .colab-df-convert:hover {\n",
              "      background-color: #434B5C;\n",
              "      box-shadow: 0px 1px 3px 1px rgba(0, 0, 0, 0.15);\n",
              "      filter: drop-shadow(0px 1px 2px rgba(0, 0, 0, 0.3));\n",
              "      fill: #FFFFFF;\n",
              "    }\n",
              "  </style>\n",
              "\n",
              "      <script>\n",
              "        const buttonEl =\n",
              "          document.querySelector('#df-fd1c2694-af3a-407a-a417-4087cfcc3fef button.colab-df-convert');\n",
              "        buttonEl.style.display =\n",
              "          google.colab.kernel.accessAllowed ? 'block' : 'none';\n",
              "\n",
              "        async function convertToInteractive(key) {\n",
              "          const element = document.querySelector('#df-fd1c2694-af3a-407a-a417-4087cfcc3fef');\n",
              "          const dataTable =\n",
              "            await google.colab.kernel.invokeFunction('convertToInteractive',\n",
              "                                                     [key], {});\n",
              "          if (!dataTable) return;\n",
              "\n",
              "          const docLinkHtml = 'Like what you see? Visit the ' +\n",
              "            '<a target=\"_blank\" href=https://colab.research.google.com/notebooks/data_table.ipynb>data table notebook</a>'\n",
              "            + ' to learn more about interactive tables.';\n",
              "          element.innerHTML = '';\n",
              "          dataTable['output_type'] = 'display_data';\n",
              "          await google.colab.output.renderOutput(dataTable, element);\n",
              "          const docLink = document.createElement('div');\n",
              "          docLink.innerHTML = docLinkHtml;\n",
              "          element.appendChild(docLink);\n",
              "        }\n",
              "      </script>\n",
              "    </div>\n",
              "  </div>\n",
              "  "
            ]
          },
          "metadata": {},
          "execution_count": 14
        }
      ]
    },
    {
      "cell_type": "code",
      "source": [
        "#no null values\n",
        "talk.isnull().sum()"
      ],
      "metadata": {
        "colab": {
          "base_uri": "https://localhost:8080/"
        },
        "id": "2jVrW01wGtKi",
        "outputId": "2f9aaa2e-83d6-4858-c0d3-678e9a7f36c0"
      },
      "execution_count": null,
      "outputs": [
        {
          "output_type": "execute_result",
          "data": {
            "text/plain": [
              "talk_desc       0\n",
              "event           0\n",
              "talk_name       0\n",
              "views           0\n",
              "duration        0\n",
              "tags            0\n",
              "recorded_at     0\n",
              "published on    0\n",
              "dtype: int64"
            ]
          },
          "metadata": {},
          "execution_count": 15
        }
      ]
    },
    {
      "cell_type": "markdown",
      "source": [
        "#Transcript"
      ],
      "metadata": {
        "id": "iYpuBUeGHER5"
      }
    },
    {
      "cell_type": "code",
      "source": [
        "transcript.head()"
      ],
      "metadata": {
        "colab": {
          "base_uri": "https://localhost:8080/"
        },
        "id": "0cV1NJGaHAcD",
        "outputId": "aad4c0ee-db0c-418b-db7c-cb1b53e2ed36"
      },
      "execution_count": null,
      "outputs": [
        {
          "output_type": "execute_result",
          "data": {
            "text/plain": [
              "                                              title  \\\n",
              "0  Can you outsmart the apples and oranges fallacy?   \n",
              "1           The exploitation of US college athletes   \n",
              "2                         How does ultrasound work?   \n",
              "3  An honest history of an ancient and \"nasty\" word   \n",
              "4   The electrical blueprints that orchestrate life   \n",
              "\n",
              "                                                                                                                                                                                                transcript  \n",
              "0  Baking apple pie? Discount orange warehouse has you covered! A fruit’s a fruit, right?It’s 1988, and scientist James Hansen  has just testified to the United States Congress  that global warming t...  \n",
              "1  In college sports, American universities are exploiting, disproportionately, Black athletes for billions of dollars, while diminishing their education, health and safety. Let me start with a bit o...  \n",
              "2  In a pitch-black cave, bats can’t see much. But even with their eyes shut, they can navigate rocky topography  at incredible speeds. This is because a bat’s flight isn’t just guided by its eyes, b...  \n",
              "3  First, a warning. As far as offensive words go, you are now entering a hard-hat area. We're going to be unabashed in this, I am talking to you about a very particular word, a very powerful word, a...  \n",
              "4  Chris Anderson: Mike, welcome. It's good to see you. I'm excited for this conversation.Michael Levin: Thank you so much. I'm so happy to be here.CA: So, most of us have this mental model in biolog...  "
            ],
            "text/html": [
              "\n",
              "  <div id=\"df-65cc3d61-0dce-4b90-b992-ecd7b3f58a03\">\n",
              "    <div class=\"colab-df-container\">\n",
              "      <div>\n",
              "<style scoped>\n",
              "    .dataframe tbody tr th:only-of-type {\n",
              "        vertical-align: middle;\n",
              "    }\n",
              "\n",
              "    .dataframe tbody tr th {\n",
              "        vertical-align: top;\n",
              "    }\n",
              "\n",
              "    .dataframe thead th {\n",
              "        text-align: right;\n",
              "    }\n",
              "</style>\n",
              "<table border=\"1\" class=\"dataframe\">\n",
              "  <thead>\n",
              "    <tr style=\"text-align: right;\">\n",
              "      <th></th>\n",
              "      <th>title</th>\n",
              "      <th>transcript</th>\n",
              "    </tr>\n",
              "  </thead>\n",
              "  <tbody>\n",
              "    <tr>\n",
              "      <th>0</th>\n",
              "      <td>Can you outsmart the apples and oranges fallacy?</td>\n",
              "      <td>Baking apple pie? Discount orange warehouse has you covered! A fruit’s a fruit, right?It’s 1988, and scientist James Hansen  has just testified to the United States Congress  that global warming t...</td>\n",
              "    </tr>\n",
              "    <tr>\n",
              "      <th>1</th>\n",
              "      <td>The exploitation of US college athletes</td>\n",
              "      <td>In college sports, American universities are exploiting, disproportionately, Black athletes for billions of dollars, while diminishing their education, health and safety. Let me start with a bit o...</td>\n",
              "    </tr>\n",
              "    <tr>\n",
              "      <th>2</th>\n",
              "      <td>How does ultrasound work?</td>\n",
              "      <td>In a pitch-black cave, bats can’t see much. But even with their eyes shut, they can navigate rocky topography  at incredible speeds. This is because a bat’s flight isn’t just guided by its eyes, b...</td>\n",
              "    </tr>\n",
              "    <tr>\n",
              "      <th>3</th>\n",
              "      <td>An honest history of an ancient and \"nasty\" word</td>\n",
              "      <td>First, a warning. As far as offensive words go, you are now entering a hard-hat area. We're going to be unabashed in this, I am talking to you about a very particular word, a very powerful word, a...</td>\n",
              "    </tr>\n",
              "    <tr>\n",
              "      <th>4</th>\n",
              "      <td>The electrical blueprints that orchestrate life</td>\n",
              "      <td>Chris Anderson: Mike, welcome. It's good to see you. I'm excited for this conversation.Michael Levin: Thank you so much. I'm so happy to be here.CA: So, most of us have this mental model in biolog...</td>\n",
              "    </tr>\n",
              "  </tbody>\n",
              "</table>\n",
              "</div>\n",
              "      <button class=\"colab-df-convert\" onclick=\"convertToInteractive('df-65cc3d61-0dce-4b90-b992-ecd7b3f58a03')\"\n",
              "              title=\"Convert this dataframe to an interactive table.\"\n",
              "              style=\"display:none;\">\n",
              "        \n",
              "  <svg xmlns=\"http://www.w3.org/2000/svg\" height=\"24px\"viewBox=\"0 0 24 24\"\n",
              "       width=\"24px\">\n",
              "    <path d=\"M0 0h24v24H0V0z\" fill=\"none\"/>\n",
              "    <path d=\"M18.56 5.44l.94 2.06.94-2.06 2.06-.94-2.06-.94-.94-2.06-.94 2.06-2.06.94zm-11 1L8.5 8.5l.94-2.06 2.06-.94-2.06-.94L8.5 2.5l-.94 2.06-2.06.94zm10 10l.94 2.06.94-2.06 2.06-.94-2.06-.94-.94-2.06-.94 2.06-2.06.94z\"/><path d=\"M17.41 7.96l-1.37-1.37c-.4-.4-.92-.59-1.43-.59-.52 0-1.04.2-1.43.59L10.3 9.45l-7.72 7.72c-.78.78-.78 2.05 0 2.83L4 21.41c.39.39.9.59 1.41.59.51 0 1.02-.2 1.41-.59l7.78-7.78 2.81-2.81c.8-.78.8-2.07 0-2.86zM5.41 20L4 18.59l7.72-7.72 1.47 1.35L5.41 20z\"/>\n",
              "  </svg>\n",
              "      </button>\n",
              "      \n",
              "  <style>\n",
              "    .colab-df-container {\n",
              "      display:flex;\n",
              "      flex-wrap:wrap;\n",
              "      gap: 12px;\n",
              "    }\n",
              "\n",
              "    .colab-df-convert {\n",
              "      background-color: #E8F0FE;\n",
              "      border: none;\n",
              "      border-radius: 50%;\n",
              "      cursor: pointer;\n",
              "      display: none;\n",
              "      fill: #1967D2;\n",
              "      height: 32px;\n",
              "      padding: 0 0 0 0;\n",
              "      width: 32px;\n",
              "    }\n",
              "\n",
              "    .colab-df-convert:hover {\n",
              "      background-color: #E2EBFA;\n",
              "      box-shadow: 0px 1px 2px rgba(60, 64, 67, 0.3), 0px 1px 3px 1px rgba(60, 64, 67, 0.15);\n",
              "      fill: #174EA6;\n",
              "    }\n",
              "\n",
              "    [theme=dark] .colab-df-convert {\n",
              "      background-color: #3B4455;\n",
              "      fill: #D2E3FC;\n",
              "    }\n",
              "\n",
              "    [theme=dark] .colab-df-convert:hover {\n",
              "      background-color: #434B5C;\n",
              "      box-shadow: 0px 1px 3px 1px rgba(0, 0, 0, 0.15);\n",
              "      filter: drop-shadow(0px 1px 2px rgba(0, 0, 0, 0.3));\n",
              "      fill: #FFFFFF;\n",
              "    }\n",
              "  </style>\n",
              "\n",
              "      <script>\n",
              "        const buttonEl =\n",
              "          document.querySelector('#df-65cc3d61-0dce-4b90-b992-ecd7b3f58a03 button.colab-df-convert');\n",
              "        buttonEl.style.display =\n",
              "          google.colab.kernel.accessAllowed ? 'block' : 'none';\n",
              "\n",
              "        async function convertToInteractive(key) {\n",
              "          const element = document.querySelector('#df-65cc3d61-0dce-4b90-b992-ecd7b3f58a03');\n",
              "          const dataTable =\n",
              "            await google.colab.kernel.invokeFunction('convertToInteractive',\n",
              "                                                     [key], {});\n",
              "          if (!dataTable) return;\n",
              "\n",
              "          const docLinkHtml = 'Like what you see? Visit the ' +\n",
              "            '<a target=\"_blank\" href=https://colab.research.google.com/notebooks/data_table.ipynb>data table notebook</a>'\n",
              "            + ' to learn more about interactive tables.';\n",
              "          element.innerHTML = '';\n",
              "          dataTable['output_type'] = 'display_data';\n",
              "          await google.colab.output.renderOutput(dataTable, element);\n",
              "          const docLink = document.createElement('div');\n",
              "          docLink.innerHTML = docLinkHtml;\n",
              "          element.appendChild(docLink);\n",
              "        }\n",
              "      </script>\n",
              "    </div>\n",
              "  </div>\n",
              "  "
            ]
          },
          "metadata": {},
          "execution_count": 16
        }
      ]
    },
    {
      "cell_type": "code",
      "source": [
        "transcript.isnull().sum()"
      ],
      "metadata": {
        "colab": {
          "base_uri": "https://localhost:8080/"
        },
        "id": "LAHLy3UBHLyC",
        "outputId": "4e2162ef-1cb8-40fb-f5d8-9b52c6c9b41e"
      },
      "execution_count": null,
      "outputs": [
        {
          "output_type": "execute_result",
          "data": {
            "text/plain": [
              "title           0\n",
              "transcript    144\n",
              "dtype: int64"
            ]
          },
          "metadata": {},
          "execution_count": 17
        }
      ]
    },
    {
      "cell_type": "code",
      "source": [
        "transcript = transcript.dropna(subset=['transcript'])"
      ],
      "metadata": {
        "id": "IwF4zKdTHOKl"
      },
      "execution_count": null,
      "outputs": []
    },
    {
      "cell_type": "markdown",
      "source": [
        "#Merging"
      ],
      "metadata": {
        "id": "kwaNBnBaJNl8"
      }
    },
    {
      "cell_type": "code",
      "source": [
        "df = pd.merge(speaker, talk, how='inner', left_on = 'talk', right_on = 'talk_name')"
      ],
      "metadata": {
        "id": "6WCJDo5nHVgf"
      },
      "execution_count": null,
      "outputs": []
    },
    {
      "cell_type": "code",
      "source": [
        "df.info()"
      ],
      "metadata": {
        "colab": {
          "base_uri": "https://localhost:8080/"
        },
        "id": "ihyRqa9nIMQk",
        "outputId": "3ccd11e7-e382-4bdf-ebf5-0783c8afdf3d"
      },
      "execution_count": null,
      "outputs": [
        {
          "output_type": "stream",
          "name": "stdout",
          "text": [
            "<class 'pandas.core.frame.DataFrame'>\n",
            "Int64Index: 4418 entries, 0 to 4417\n",
            "Data columns (total 12 columns):\n",
            " #   Column        Non-Null Count  Dtype \n",
            "---  ------        --------------  ----- \n",
            " 0   talk          4418 non-null   object\n",
            " 1   speaker       4418 non-null   object\n",
            " 2   speaker_occ   4418 non-null   object\n",
            " 3   speaker_bio   4418 non-null   object\n",
            " 4   talk_desc     4418 non-null   object\n",
            " 5   event         4418 non-null   object\n",
            " 6   talk_name     4418 non-null   object\n",
            " 7   views         4418 non-null   int64 \n",
            " 8   duration      4418 non-null   int64 \n",
            " 9   tags          4418 non-null   object\n",
            " 10  recorded_at   4418 non-null   object\n",
            " 11  published on  4418 non-null   int64 \n",
            "dtypes: int64(3), object(9)\n",
            "memory usage: 448.7+ KB\n"
          ]
        }
      ]
    },
    {
      "cell_type": "code",
      "source": [
        "df = df.drop(columns=['talk_name'])"
      ],
      "metadata": {
        "id": "RF7jYduvIOCY"
      },
      "execution_count": null,
      "outputs": []
    },
    {
      "cell_type": "code",
      "source": [
        "df = pd.merge(df, transcript, how='inner', left_on = 'talk', right_on = 'title')"
      ],
      "metadata": {
        "id": "3auvH0LaIad2"
      },
      "execution_count": null,
      "outputs": []
    },
    {
      "cell_type": "code",
      "source": [
        "df.info()"
      ],
      "metadata": {
        "colab": {
          "base_uri": "https://localhost:8080/"
        },
        "id": "5lEwey9MIf9I",
        "outputId": "ff6d2268-872f-4095-8af1-5c9494f4154b"
      },
      "execution_count": null,
      "outputs": [
        {
          "output_type": "stream",
          "name": "stdout",
          "text": [
            "<class 'pandas.core.frame.DataFrame'>\n",
            "Int64Index: 7167 entries, 0 to 7166\n",
            "Data columns (total 13 columns):\n",
            " #   Column        Non-Null Count  Dtype \n",
            "---  ------        --------------  ----- \n",
            " 0   talk          7167 non-null   object\n",
            " 1   speaker       7167 non-null   object\n",
            " 2   speaker_occ   7167 non-null   object\n",
            " 3   speaker_bio   7167 non-null   object\n",
            " 4   talk_desc     7167 non-null   object\n",
            " 5   event         7167 non-null   object\n",
            " 6   views         7167 non-null   int64 \n",
            " 7   duration      7167 non-null   int64 \n",
            " 8   tags          7167 non-null   object\n",
            " 9   recorded_at   7167 non-null   object\n",
            " 10  published on  7167 non-null   int64 \n",
            " 11  title         7167 non-null   object\n",
            " 12  transcript    7167 non-null   object\n",
            "dtypes: int64(3), object(10)\n",
            "memory usage: 783.9+ KB\n"
          ]
        }
      ]
    },
    {
      "cell_type": "code",
      "source": [
        "df = df.drop(columns=['title'])"
      ],
      "metadata": {
        "id": "3OL12PPuIjiV"
      },
      "execution_count": null,
      "outputs": []
    },
    {
      "cell_type": "code",
      "source": [
        "df = df.drop_duplicates(subset=['talk'])"
      ],
      "metadata": {
        "id": "YjUD32riIr5_"
      },
      "execution_count": null,
      "outputs": []
    },
    {
      "cell_type": "code",
      "source": [
        "df.info()"
      ],
      "metadata": {
        "colab": {
          "base_uri": "https://localhost:8080/"
        },
        "id": "5_SEYhbBIvWk",
        "outputId": "281983f8-8c7b-4fd9-90c2-749b96d92c01"
      },
      "execution_count": null,
      "outputs": [
        {
          "output_type": "stream",
          "name": "stdout",
          "text": [
            "<class 'pandas.core.frame.DataFrame'>\n",
            "Int64Index: 4016 entries, 0 to 7166\n",
            "Data columns (total 12 columns):\n",
            " #   Column        Non-Null Count  Dtype \n",
            "---  ------        --------------  ----- \n",
            " 0   talk          4016 non-null   object\n",
            " 1   speaker       4016 non-null   object\n",
            " 2   speaker_occ   4016 non-null   object\n",
            " 3   speaker_bio   4016 non-null   object\n",
            " 4   talk_desc     4016 non-null   object\n",
            " 5   event         4016 non-null   object\n",
            " 6   views         4016 non-null   int64 \n",
            " 7   duration      4016 non-null   int64 \n",
            " 8   tags          4016 non-null   object\n",
            " 9   recorded_at   4016 non-null   object\n",
            " 10  published on  4016 non-null   int64 \n",
            " 11  transcript    4016 non-null   object\n",
            "dtypes: int64(3), object(9)\n",
            "memory usage: 407.9+ KB\n"
          ]
        }
      ]
    },
    {
      "cell_type": "code",
      "source": [
        "df.to_csv('/content/drive/MyDrive/ted_talk_dataset/dheeraj_data.csv',index=False)"
      ],
      "metadata": {
        "id": "24rgYObIIy6G"
      },
      "execution_count": null,
      "outputs": []
    },
    {
      "cell_type": "markdown",
      "source": [
        "#Analysis"
      ],
      "metadata": {
        "id": "IgsFqwY-JRdz"
      }
    },
    {
      "cell_type": "code",
      "source": [
        "df1 = pd.read_csv('/content/drive/MyDrive/ted_talk_dataset/dheeraj_data.csv')"
      ],
      "metadata": {
        "id": "ajr2kBx3I7Js"
      },
      "execution_count": null,
      "outputs": []
    },
    {
      "cell_type": "code",
      "source": [
        "df1['transcript']"
      ],
      "metadata": {
        "colab": {
          "base_uri": "https://localhost:8080/"
        },
        "id": "DDMnTXRfJdud",
        "outputId": "61b23b2e-e324-4be9-ec6b-1b3079224e47"
      },
      "execution_count": null,
      "outputs": [
        {
          "output_type": "execute_result",
          "data": {
            "text/plain": [
              "0       Baking apple pie? Discount orange warehouse has you covered! A fruit’s a fruit, right?It’s 1988, and scientist James Hansen  has just testified to the United States Congress  that global warming t...\n",
              "1       In college sports, American universities are exploiting, disproportionately, Black athletes for billions of dollars, while diminishing their education, health and safety. Let me start with a bit o...\n",
              "2       In a pitch-black cave, bats can’t see much. But even with their eyes shut, they can navigate rocky topography  at incredible speeds. This is because a bat’s flight isn’t just guided by its eyes, b...\n",
              "3       First, a warning. As far as offensive words go, you are now entering a hard-hat area. We're going to be unabashed in this, I am talking to you about a very particular word, a very powerful word, a...\n",
              "4       Chris Anderson: Mike, welcome. It's good to see you. I'm excited for this conversation.Michael Levin: Thank you so much. I'm so happy to be here.CA: So, most of us have this mental model in biolog...\n",
              "                                                                                                         ...                                                                                                   \n",
              "4011    About 10 years ago, I took on the task to teach global development to Swedish undergraduate students. That was after having spent about 20 years, together with African institutions, studying hunge...\n",
              "4012    Good morning. How are you?(Audience) Good.It's been great, hasn't it? I've been blown away by the whole thing. In fact, I'm leaving.(Laughter)There have been three themes running through the confe...\n",
              "4013    If you're here today — and I'm very happy that you are — you've all heard about how sustainable development will save us from ourselves. However, when we're not at TED, we are often told that a re...\n",
              "4014    (Music: \"The Sound of Silence,\" Simon &amp; Garfunkel)Hello voice mail, my old friend.(Laughter)I've called for tech support again. I ignored my boss's warning. I called on a Monday morning. Now i...\n",
              "4015    Thank you so much, Chris. And it's truly a great honor to have the opportunity to come to this stage twice; I'm extremely grateful. I have been blown away by this conference, and I want to thank a...\n",
              "Name: transcript, Length: 4016, dtype: object"
            ]
          },
          "metadata": {},
          "execution_count": 29
        }
      ]
    },
    {
      "cell_type": "code",
      "source": [
        "#Number of characters \n",
        "def count_chars(text):\n",
        "    return len(text)\n",
        "    print(text)\n",
        "\n",
        "df1['char_count'] = df1[\"transcript\"].apply(lambda x:count_chars(x))"
      ],
      "metadata": {
        "id": "4iSnUUsJJo9x"
      },
      "execution_count": null,
      "outputs": []
    },
    {
      "cell_type": "code",
      "source": [
        "df1['char_count']"
      ],
      "metadata": {
        "colab": {
          "base_uri": "https://localhost:8080/"
        },
        "id": "x2wfs34lJwq-",
        "outputId": "ba22df37-59eb-4668-8a50-43d57d5d3185"
      },
      "execution_count": null,
      "outputs": [
        {
          "output_type": "execute_result",
          "data": {
            "text/plain": [
              "0        4061\n",
              "1        9091\n",
              "2        4068\n",
              "3       17155\n",
              "4       19537\n",
              "        ...  \n",
              "4011    17403\n",
              "4012    17454\n",
              "4013    18249\n",
              "4014    18317\n",
              "4015    11814\n",
              "Name: char_count, Length: 4016, dtype: int64"
            ]
          },
          "metadata": {},
          "execution_count": 31
        }
      ]
    },
    {
      "cell_type": "code",
      "source": [
        "#Number of words\n",
        "def count_words(text):\n",
        "    return len(text.split())\n",
        "\n",
        "df1['word_count'] = df1[\"transcript\"].apply(lambda x:count_words(x))\n",
        "df1['word_count']"
      ],
      "metadata": {
        "colab": {
          "base_uri": "https://localhost:8080/"
        },
        "id": "SzRPY14HJ0OO",
        "outputId": "e9c5d058-1c69-4186-930e-76c49fc69462"
      },
      "execution_count": null,
      "outputs": [
        {
          "output_type": "execute_result",
          "data": {
            "text/plain": [
              "0        645\n",
              "1       1444\n",
              "2        654\n",
              "3       3033\n",
              "4       3451\n",
              "        ... \n",
              "4011    3127\n",
              "4012    3066\n",
              "4013    3015\n",
              "4014    3253\n",
              "4015    2089\n",
              "Name: word_count, Length: 4016, dtype: int64"
            ]
          },
          "metadata": {},
          "execution_count": 32
        }
      ]
    },
    {
      "cell_type": "code",
      "source": [
        "#Number of words in quotes\n",
        "def count_words_in_quotes(text):\n",
        "    x = re.findall(\"'.'|\\\".\\\"\", text)\n",
        "    count=0\n",
        "    if x is None:\n",
        "        return 0\n",
        "    else:\n",
        "        for i in x:\n",
        "            t=i[1:-1]\n",
        "            count+=count_words(t)\n",
        "        return count\n",
        "\n",
        "df1['quoted_word_count'] = df1[\"transcript\"].apply(lambda x:count_words_in_quotes(x))"
      ],
      "metadata": {
        "id": "RNjhAOFBJ-fn"
      },
      "execution_count": null,
      "outputs": []
    },
    {
      "cell_type": "code",
      "source": [
        "df1['quoted_word_count']"
      ],
      "metadata": {
        "colab": {
          "base_uri": "https://localhost:8080/"
        },
        "id": "rtocDgfhKs60",
        "outputId": "0eff36a9-f1d7-4c5c-9843-cb313e6b8fd0"
      },
      "execution_count": null,
      "outputs": [
        {
          "output_type": "execute_result",
          "data": {
            "text/plain": [
              "0       0\n",
              "1       0\n",
              "2       0\n",
              "3       0\n",
              "4       0\n",
              "       ..\n",
              "4011    0\n",
              "4012    0\n",
              "4013    0\n",
              "4014    1\n",
              "4015    0\n",
              "Name: quoted_word_count, Length: 4016, dtype: int64"
            ]
          },
          "metadata": {},
          "execution_count": 34
        }
      ]
    },
    {
      "cell_type": "code",
      "source": [
        "import nltk\n",
        "nltk.download('punkt')\n",
        "\n",
        "from nltk.tokenize import word_tokenize"
      ],
      "metadata": {
        "colab": {
          "base_uri": "https://localhost:8080/"
        },
        "id": "GPBJXII3KxAq",
        "outputId": "ff3964b1-0308-440b-e013-12d98a89c779"
      },
      "execution_count": null,
      "outputs": [
        {
          "output_type": "stream",
          "name": "stdout",
          "text": [
            "[nltk_data] Downloading package punkt to /root/nltk_data...\n",
            "[nltk_data]   Package punkt is already up-to-date!\n"
          ]
        }
      ]
    },
    {
      "cell_type": "code",
      "source": [
        "#Number of sentences\n",
        "def count_sent(text):\n",
        "    return len(nltk.sent_tokenize(text))\n",
        "\n",
        "df1['sent_count'] = df1[\"transcript\"].apply(lambda x:count_sent(x))"
      ],
      "metadata": {
        "id": "wmiAgVm_LVno"
      },
      "execution_count": null,
      "outputs": []
    },
    {
      "cell_type": "code",
      "source": [
        "df1['sent_count']"
      ],
      "metadata": {
        "colab": {
          "base_uri": "https://localhost:8080/"
        },
        "id": "5wEviQGlLblh",
        "outputId": "be960af1-893b-494a-e1fc-30c96adc9c09"
      },
      "execution_count": null,
      "outputs": [
        {
          "output_type": "execute_result",
          "data": {
            "text/plain": [
              "0        30\n",
              "1        49\n",
              "2        31\n",
              "3       185\n",
              "4       148\n",
              "       ... \n",
              "4011    227\n",
              "4012    255\n",
              "4013    167\n",
              "4014    273\n",
              "4015    134\n",
              "Name: sent_count, Length: 4016, dtype: int64"
            ]
          },
          "metadata": {},
          "execution_count": 37
        }
      ]
    },
    {
      "cell_type": "code",
      "source": [
        "#Count the number of unique words\n",
        "def count_unique_words(text):\n",
        "    return len(set(text.split()))\n",
        "\n",
        "df1['unique_word_count'] = df1[\"transcript\"].apply(lambda x:count_unique_words(x))\n",
        "df1['unique_word_count']"
      ],
      "metadata": {
        "colab": {
          "base_uri": "https://localhost:8080/"
        },
        "id": "K2aaSiCpLj6d",
        "outputId": "49150f56-92d4-41bc-a742-7b9a413138e8"
      },
      "execution_count": null,
      "outputs": [
        {
          "output_type": "execute_result",
          "data": {
            "text/plain": [
              "0        374\n",
              "1        697\n",
              "2        399\n",
              "3       1272\n",
              "4       1034\n",
              "        ... \n",
              "4011     989\n",
              "4012    1153\n",
              "4013    1330\n",
              "4014    1291\n",
              "4015     875\n",
              "Name: unique_word_count, Length: 4016, dtype: int64"
            ]
          },
          "metadata": {},
          "execution_count": 38
        }
      ]
    },
    {
      "cell_type": "code",
      "source": [
        "#Count of stopwords\n",
        "from nltk.corpus import stopwords\n",
        "nltk.download('stopwords')\n",
        "\n",
        "def count_stopwords(text):\n",
        "    stop_words = set(stopwords.words('english'))  \n",
        "    word_tokens = word_tokenize(text)\n",
        "    stopwords_x = [w for w in word_tokens if w in stop_words]\n",
        "    return len(stopwords_x)\n",
        "\n",
        "df1['stopword_count'] = df1[\"transcript\"].apply(lambda x:count_stopwords(x))\n",
        "df1['stopword_count']"
      ],
      "metadata": {
        "colab": {
          "base_uri": "https://localhost:8080/"
        },
        "id": "OaWfSHEVLt-o",
        "outputId": "d1d4dac1-b333-47eb-824b-f163ac53e494"
      },
      "execution_count": null,
      "outputs": [
        {
          "output_type": "stream",
          "name": "stdout",
          "text": [
            "[nltk_data] Downloading package stopwords to /root/nltk_data...\n",
            "[nltk_data]   Package stopwords is already up-to-date!\n"
          ]
        },
        {
          "output_type": "execute_result",
          "data": {
            "text/plain": [
              "0        296\n",
              "1        591\n",
              "2        231\n",
              "3       1396\n",
              "4       1731\n",
              "        ... \n",
              "4011    1470\n",
              "4012    1480\n",
              "4013    1271\n",
              "4014    1398\n",
              "4015     986\n",
              "Name: stopword_count, Length: 4016, dtype: int64"
            ]
          },
          "metadata": {},
          "execution_count": 39
        }
      ]
    },
    {
      "cell_type": "code",
      "source": [
        "#Calculating average word length\n",
        "df1['avg_wordlength'] = df1['char_count']/df1['word_count']\n",
        "df1['avg_wordlength']"
      ],
      "metadata": {
        "colab": {
          "base_uri": "https://localhost:8080/"
        },
        "id": "PQ-hrUqZMDTf",
        "outputId": "27459317-eee5-4fd2-bbc5-b243d14689e4"
      },
      "execution_count": null,
      "outputs": [
        {
          "output_type": "execute_result",
          "data": {
            "text/plain": [
              "0       6.296124\n",
              "1       6.295706\n",
              "2       6.220183\n",
              "3       5.656116\n",
              "4       5.661258\n",
              "          ...   \n",
              "4011    5.565398\n",
              "4012    5.692759\n",
              "4013    6.052736\n",
              "4014    5.630802\n",
              "4015    5.655337\n",
              "Name: avg_wordlength, Length: 4016, dtype: float64"
            ]
          },
          "metadata": {},
          "execution_count": 40
        }
      ]
    },
    {
      "cell_type": "code",
      "source": [
        "#Calculating average sentence length\n",
        "df1['avg_sentlength'] = df1['word_count']/df1['sent_count']\n",
        "df1['avg_sentlength']"
      ],
      "metadata": {
        "colab": {
          "base_uri": "https://localhost:8080/"
        },
        "id": "FUgMALg_Mjgv",
        "outputId": "ba80d126-1979-4f1a-e339-77c8a7037f48"
      },
      "execution_count": null,
      "outputs": [
        {
          "output_type": "execute_result",
          "data": {
            "text/plain": [
              "0       21.500000\n",
              "1       29.469388\n",
              "2       21.096774\n",
              "3       16.394595\n",
              "4       23.317568\n",
              "          ...    \n",
              "4011    13.775330\n",
              "4012    12.023529\n",
              "4013    18.053892\n",
              "4014    11.915751\n",
              "4015    15.589552\n",
              "Name: avg_sentlength, Length: 4016, dtype: float64"
            ]
          },
          "metadata": {},
          "execution_count": 41
        }
      ]
    },
    {
      "cell_type": "code",
      "source": [
        "feature_set = df1"
      ],
      "metadata": {
        "id": "UlyxY_I1MqJD"
      },
      "execution_count": null,
      "outputs": []
    },
    {
      "cell_type": "code",
      "source": [
        "feature_set.columns"
      ],
      "metadata": {
        "colab": {
          "base_uri": "https://localhost:8080/"
        },
        "id": "PwEWkNnHMybb",
        "outputId": "2715b4e7-7442-4fb1-bfec-f33635fad355"
      },
      "execution_count": null,
      "outputs": [
        {
          "output_type": "execute_result",
          "data": {
            "text/plain": [
              "Index(['talk', 'speaker', 'speaker_occ', 'speaker_bio', 'talk_desc', 'event',\n",
              "       'views', 'duration', 'tags', 'recorded_at', 'published on',\n",
              "       'transcript', 'char_count', 'word_count', 'quoted_word_count',\n",
              "       'sent_count', 'unique_word_count', 'stopword_count', 'avg_wordlength',\n",
              "       'avg_sentlength'],\n",
              "      dtype='object')"
            ]
          },
          "metadata": {},
          "execution_count": 43
        }
      ]
    },
    {
      "cell_type": "code",
      "source": [
        "feature_set.drop(['talk', 'speaker', 'speaker_occ', 'speaker_bio', 'talk_desc', 'event',\n",
        "       'views', 'duration', 'tags', 'recorded_at', 'published on',\n",
        "       'transcript'],axis=1,inplace=True)\n"
      ],
      "metadata": {
        "id": "JDE-H6iFM3ak"
      },
      "execution_count": null,
      "outputs": []
    },
    {
      "cell_type": "code",
      "source": [
        "df1.drop(['char_count', 'word_count', 'quoted_word_count',\n",
        "       'sent_count', 'unique_word_count', 'stopword_count', 'avg_wordlength',\n",
        "       'avg_sentlength'],axis=1,inplace=True)\n",
        "df.info()"
      ],
      "metadata": {
        "colab": {
          "base_uri": "https://localhost:8080/"
        },
        "id": "q1GluY5yM_JC",
        "outputId": "a28eec7c-0211-4a59-afbc-dc8c07db98f7"
      },
      "execution_count": null,
      "outputs": [
        {
          "output_type": "stream",
          "name": "stdout",
          "text": [
            "<class 'pandas.core.frame.DataFrame'>\n",
            "Int64Index: 4016 entries, 0 to 7166\n",
            "Data columns (total 12 columns):\n",
            " #   Column        Non-Null Count  Dtype \n",
            "---  ------        --------------  ----- \n",
            " 0   talk          4016 non-null   object\n",
            " 1   speaker       4016 non-null   object\n",
            " 2   speaker_occ   4016 non-null   object\n",
            " 3   speaker_bio   4016 non-null   object\n",
            " 4   talk_desc     4016 non-null   object\n",
            " 5   event         4016 non-null   object\n",
            " 6   views         4016 non-null   int64 \n",
            " 7   duration      4016 non-null   int64 \n",
            " 8   tags          4016 non-null   object\n",
            " 9   recorded_at   4016 non-null   object\n",
            " 10  published on  4016 non-null   int64 \n",
            " 11  transcript    4016 non-null   object\n",
            "dtypes: int64(3), object(9)\n",
            "memory usage: 407.9+ KB\n"
          ]
        }
      ]
    },
    {
      "cell_type": "code",
      "source": [
        "feature_set.head(5)"
      ],
      "metadata": {
        "colab": {
          "base_uri": "https://localhost:8080/",
          "height": 206
        },
        "id": "WlvpQdZFNhbm",
        "outputId": "88047d90-4c9b-43e5-80a0-731d44c5ed29"
      },
      "execution_count": null,
      "outputs": [
        {
          "output_type": "execute_result",
          "data": {
            "text/plain": [
              "   char_count  word_count  quoted_word_count  sent_count  unique_word_count  \\\n",
              "0        4061         645                  0          30                374   \n",
              "1        9091        1444                  0          49                697   \n",
              "2        4068         654                  0          31                399   \n",
              "3       17155        3033                  0         185               1272   \n",
              "4       19537        3451                  0         148               1034   \n",
              "\n",
              "   stopword_count  avg_wordlength  avg_sentlength  \n",
              "0             296        6.296124       21.500000  \n",
              "1             591        6.295706       29.469388  \n",
              "2             231        6.220183       21.096774  \n",
              "3            1396        5.656116       16.394595  \n",
              "4            1731        5.661258       23.317568  "
            ],
            "text/html": [
              "\n",
              "  <div id=\"df-ecf644fb-9bf2-469c-ad32-19f5b6022a0b\">\n",
              "    <div class=\"colab-df-container\">\n",
              "      <div>\n",
              "<style scoped>\n",
              "    .dataframe tbody tr th:only-of-type {\n",
              "        vertical-align: middle;\n",
              "    }\n",
              "\n",
              "    .dataframe tbody tr th {\n",
              "        vertical-align: top;\n",
              "    }\n",
              "\n",
              "    .dataframe thead th {\n",
              "        text-align: right;\n",
              "    }\n",
              "</style>\n",
              "<table border=\"1\" class=\"dataframe\">\n",
              "  <thead>\n",
              "    <tr style=\"text-align: right;\">\n",
              "      <th></th>\n",
              "      <th>char_count</th>\n",
              "      <th>word_count</th>\n",
              "      <th>quoted_word_count</th>\n",
              "      <th>sent_count</th>\n",
              "      <th>unique_word_count</th>\n",
              "      <th>stopword_count</th>\n",
              "      <th>avg_wordlength</th>\n",
              "      <th>avg_sentlength</th>\n",
              "    </tr>\n",
              "  </thead>\n",
              "  <tbody>\n",
              "    <tr>\n",
              "      <th>0</th>\n",
              "      <td>4061</td>\n",
              "      <td>645</td>\n",
              "      <td>0</td>\n",
              "      <td>30</td>\n",
              "      <td>374</td>\n",
              "      <td>296</td>\n",
              "      <td>6.296124</td>\n",
              "      <td>21.500000</td>\n",
              "    </tr>\n",
              "    <tr>\n",
              "      <th>1</th>\n",
              "      <td>9091</td>\n",
              "      <td>1444</td>\n",
              "      <td>0</td>\n",
              "      <td>49</td>\n",
              "      <td>697</td>\n",
              "      <td>591</td>\n",
              "      <td>6.295706</td>\n",
              "      <td>29.469388</td>\n",
              "    </tr>\n",
              "    <tr>\n",
              "      <th>2</th>\n",
              "      <td>4068</td>\n",
              "      <td>654</td>\n",
              "      <td>0</td>\n",
              "      <td>31</td>\n",
              "      <td>399</td>\n",
              "      <td>231</td>\n",
              "      <td>6.220183</td>\n",
              "      <td>21.096774</td>\n",
              "    </tr>\n",
              "    <tr>\n",
              "      <th>3</th>\n",
              "      <td>17155</td>\n",
              "      <td>3033</td>\n",
              "      <td>0</td>\n",
              "      <td>185</td>\n",
              "      <td>1272</td>\n",
              "      <td>1396</td>\n",
              "      <td>5.656116</td>\n",
              "      <td>16.394595</td>\n",
              "    </tr>\n",
              "    <tr>\n",
              "      <th>4</th>\n",
              "      <td>19537</td>\n",
              "      <td>3451</td>\n",
              "      <td>0</td>\n",
              "      <td>148</td>\n",
              "      <td>1034</td>\n",
              "      <td>1731</td>\n",
              "      <td>5.661258</td>\n",
              "      <td>23.317568</td>\n",
              "    </tr>\n",
              "  </tbody>\n",
              "</table>\n",
              "</div>\n",
              "      <button class=\"colab-df-convert\" onclick=\"convertToInteractive('df-ecf644fb-9bf2-469c-ad32-19f5b6022a0b')\"\n",
              "              title=\"Convert this dataframe to an interactive table.\"\n",
              "              style=\"display:none;\">\n",
              "        \n",
              "  <svg xmlns=\"http://www.w3.org/2000/svg\" height=\"24px\"viewBox=\"0 0 24 24\"\n",
              "       width=\"24px\">\n",
              "    <path d=\"M0 0h24v24H0V0z\" fill=\"none\"/>\n",
              "    <path d=\"M18.56 5.44l.94 2.06.94-2.06 2.06-.94-2.06-.94-.94-2.06-.94 2.06-2.06.94zm-11 1L8.5 8.5l.94-2.06 2.06-.94-2.06-.94L8.5 2.5l-.94 2.06-2.06.94zm10 10l.94 2.06.94-2.06 2.06-.94-2.06-.94-.94-2.06-.94 2.06-2.06.94z\"/><path d=\"M17.41 7.96l-1.37-1.37c-.4-.4-.92-.59-1.43-.59-.52 0-1.04.2-1.43.59L10.3 9.45l-7.72 7.72c-.78.78-.78 2.05 0 2.83L4 21.41c.39.39.9.59 1.41.59.51 0 1.02-.2 1.41-.59l7.78-7.78 2.81-2.81c.8-.78.8-2.07 0-2.86zM5.41 20L4 18.59l7.72-7.72 1.47 1.35L5.41 20z\"/>\n",
              "  </svg>\n",
              "      </button>\n",
              "      \n",
              "  <style>\n",
              "    .colab-df-container {\n",
              "      display:flex;\n",
              "      flex-wrap:wrap;\n",
              "      gap: 12px;\n",
              "    }\n",
              "\n",
              "    .colab-df-convert {\n",
              "      background-color: #E8F0FE;\n",
              "      border: none;\n",
              "      border-radius: 50%;\n",
              "      cursor: pointer;\n",
              "      display: none;\n",
              "      fill: #1967D2;\n",
              "      height: 32px;\n",
              "      padding: 0 0 0 0;\n",
              "      width: 32px;\n",
              "    }\n",
              "\n",
              "    .colab-df-convert:hover {\n",
              "      background-color: #E2EBFA;\n",
              "      box-shadow: 0px 1px 2px rgba(60, 64, 67, 0.3), 0px 1px 3px 1px rgba(60, 64, 67, 0.15);\n",
              "      fill: #174EA6;\n",
              "    }\n",
              "\n",
              "    [theme=dark] .colab-df-convert {\n",
              "      background-color: #3B4455;\n",
              "      fill: #D2E3FC;\n",
              "    }\n",
              "\n",
              "    [theme=dark] .colab-df-convert:hover {\n",
              "      background-color: #434B5C;\n",
              "      box-shadow: 0px 1px 3px 1px rgba(0, 0, 0, 0.15);\n",
              "      filter: drop-shadow(0px 1px 2px rgba(0, 0, 0, 0.3));\n",
              "      fill: #FFFFFF;\n",
              "    }\n",
              "  </style>\n",
              "\n",
              "      <script>\n",
              "        const buttonEl =\n",
              "          document.querySelector('#df-ecf644fb-9bf2-469c-ad32-19f5b6022a0b button.colab-df-convert');\n",
              "        buttonEl.style.display =\n",
              "          google.colab.kernel.accessAllowed ? 'block' : 'none';\n",
              "\n",
              "        async function convertToInteractive(key) {\n",
              "          const element = document.querySelector('#df-ecf644fb-9bf2-469c-ad32-19f5b6022a0b');\n",
              "          const dataTable =\n",
              "            await google.colab.kernel.invokeFunction('convertToInteractive',\n",
              "                                                     [key], {});\n",
              "          if (!dataTable) return;\n",
              "\n",
              "          const docLinkHtml = 'Like what you see? Visit the ' +\n",
              "            '<a target=\"_blank\" href=https://colab.research.google.com/notebooks/data_table.ipynb>data table notebook</a>'\n",
              "            + ' to learn more about interactive tables.';\n",
              "          element.innerHTML = '';\n",
              "          dataTable['output_type'] = 'display_data';\n",
              "          await google.colab.output.renderOutput(dataTable, element);\n",
              "          const docLink = document.createElement('div');\n",
              "          docLink.innerHTML = docLinkHtml;\n",
              "          element.appendChild(docLink);\n",
              "        }\n",
              "      </script>\n",
              "    </div>\n",
              "  </div>\n",
              "  "
            ]
          },
          "metadata": {},
          "execution_count": 48
        }
      ]
    },
    {
      "cell_type": "code",
      "source": [
        ""
      ],
      "metadata": {
        "id": "s9hkIJ3cS0cQ"
      },
      "execution_count": null,
      "outputs": []
    }
  ]
}
