{
 "cells": [
  {
   "cell_type": "code",
   "execution_count": 29,
   "id": "4b033472",
   "metadata": {},
   "outputs": [],
   "source": [
    "import numpy as np\n",
    "import pandas as pd\n",
    "import matplotlib.pyplot as plt\n",
    "from sklearn.feature_extraction import text"
   ]
  },
  {
   "cell_type": "code",
   "execution_count": 30,
   "id": "56d018e0",
   "metadata": {},
   "outputs": [],
   "source": [
    "cleaned_df = pd.read_csv('cleaned data/vaishak_data.csv')"
   ]
  },
  {
   "cell_type": "code",
   "execution_count": 31,
   "id": "46bdee0e",
   "metadata": {},
   "outputs": [
    {
     "data": {
      "text/plain": [
       "(4016, 12)"
      ]
     },
     "execution_count": 31,
     "metadata": {},
     "output_type": "execute_result"
    }
   ],
   "source": [
    "cleaned_df.shape"
   ]
  },
  {
   "cell_type": "markdown",
   "id": "333aa3bf",
   "metadata": {},
   "source": [
    "# Recommendation using transcript"
   ]
  },
  {
   "cell_type": "markdown",
   "id": "cc5cb2b4",
   "metadata": {},
   "source": [
    "## Term Frequency-Inverse Document Frequency (Tf-Idf)"
   ]
  },
  {
   "cell_type": "code",
   "execution_count": 32,
   "id": "e3531839",
   "metadata": {},
   "outputs": [
    {
     "name": "stdout",
     "output_type": "stream",
     "text": [
      "(4016, 68448)\n"
     ]
    }
   ],
   "source": [
    "Text=cleaned_df['transcript'].tolist()\n",
    "tfidf=text.TfidfVectorizer(input=Text,stop_words=\"english\")\n",
    "matrix=tfidf.fit_transform(Text)\n",
    "print(matrix.shape)"
   ]
  },
  {
   "cell_type": "markdown",
   "id": "0fe11961",
   "metadata": {},
   "source": [
    "## Cosine Similarity"
   ]
  },
  {
   "cell_type": "markdown",
   "id": "1c15182b",
   "metadata": {},
   "source": [
    "### Unigrams"
   ]
  },
  {
   "cell_type": "code",
   "execution_count": 33,
   "id": "d606add7",
   "metadata": {},
   "outputs": [
    {
     "data": {
      "text/plain": [
       "(4016, 4016)"
      ]
     },
     "execution_count": 33,
     "metadata": {},
     "output_type": "execute_result"
    }
   ],
   "source": [
    "from sklearn.metrics.pairwise import cosine_similarity\n",
    "sim_unigram=cosine_similarity(matrix)\n",
    "sim_unigram.shape"
   ]
  },
  {
   "cell_type": "code",
   "execution_count": 34,
   "id": "dd181baf",
   "metadata": {},
   "outputs": [],
   "source": [
    "#https://www.kaggle.com/code/gunnvant/building-content-recommender-tutorial\n",
    "#finding the most similar 5 ted talks using the correlation matrix of words created using cosine similarity\n",
    "def get_similar_articles(x):\n",
    "    return \",\".join((cleaned_df['talk']).loc[x.argsort()[-5:-1]])\n",
    "cleaned_df['most_similar_transcript_unigrams']=[get_similar_articles(x) for x in sim_unigram]"
   ]
  },
  {
   "cell_type": "code",
   "execution_count": 35,
   "id": "e41c3b99",
   "metadata": {},
   "outputs": [
    {
     "data": {
      "text/html": [
       "<div>\n",
       "<style scoped>\n",
       "    .dataframe tbody tr th:only-of-type {\n",
       "        vertical-align: middle;\n",
       "    }\n",
       "\n",
       "    .dataframe tbody tr th {\n",
       "        vertical-align: top;\n",
       "    }\n",
       "\n",
       "    .dataframe thead th {\n",
       "        text-align: right;\n",
       "    }\n",
       "</style>\n",
       "<table border=\"1\" class=\"dataframe\">\n",
       "  <thead>\n",
       "    <tr style=\"text-align: right;\">\n",
       "      <th></th>\n",
       "      <th>talk</th>\n",
       "      <th>speaker</th>\n",
       "      <th>speaker_occ</th>\n",
       "      <th>speaker_bio</th>\n",
       "      <th>talk_desc</th>\n",
       "      <th>event</th>\n",
       "      <th>views</th>\n",
       "      <th>duration</th>\n",
       "      <th>tags</th>\n",
       "      <th>recorded_at</th>\n",
       "      <th>published on</th>\n",
       "      <th>transcript</th>\n",
       "      <th>most_similar_transcript_unigrams</th>\n",
       "    </tr>\n",
       "  </thead>\n",
       "  <tbody>\n",
       "    <tr>\n",
       "      <th>0</th>\n",
       "      <td>Can you outsmart the apples and oranges fallacy?</td>\n",
       "      <td>Elizabeth Cox</td>\n",
       "      <td>Unknown</td>\n",
       "      <td>Unknown</td>\n",
       "      <td>It's 1997. The United States Senate has called...</td>\n",
       "      <td>TED-Ed</td>\n",
       "      <td>119359</td>\n",
       "      <td>327</td>\n",
       "      <td>['education', 'psychology', 'animation', 'TED-...</td>\n",
       "      <td>2021-04-05T00:00:00.000+00:00</td>\n",
       "      <td>1617636753</td>\n",
       "      <td>Baking apple pie? Discount orange warehouse ha...</td>\n",
       "      <td>100 solutions to reverse global warming,How we...</td>\n",
       "    </tr>\n",
       "    <tr>\n",
       "      <th>1</th>\n",
       "      <td>The exploitation of US college athletes</td>\n",
       "      <td>Tim Nevius</td>\n",
       "      <td>College sports lawyer</td>\n",
       "      <td>Tim Nevius is a leading sports lawyer and coll...</td>\n",
       "      <td>Colleges and universities in the US make billi...</td>\n",
       "      <td>TEDxDayton</td>\n",
       "      <td>438573</td>\n",
       "      <td>611</td>\n",
       "      <td>['sports', 'law', 'education', 'United States'...</td>\n",
       "      <td>2020-11-10T00:00:00.000+00:00</td>\n",
       "      <td>1617634131</td>\n",
       "      <td>In college sports, American universities are e...</td>\n",
       "      <td>Protecting the brain against concussion,A summ...</td>\n",
       "    </tr>\n",
       "    <tr>\n",
       "      <th>2</th>\n",
       "      <td>How does ultrasound work?</td>\n",
       "      <td>Jacques Abramowicz</td>\n",
       "      <td>Unknown</td>\n",
       "      <td>Unknown</td>\n",
       "      <td>In a dark cave, bats can't see much. But even ...</td>\n",
       "      <td>TED-Ed</td>\n",
       "      <td>140874</td>\n",
       "      <td>295</td>\n",
       "      <td>['education', 'technology', 'animation', 'TED-...</td>\n",
       "      <td>2021-04-01T00:00:00.000+00:00</td>\n",
       "      <td>1617290223</td>\n",
       "      <td>In a pitch-black cave, bats can’t see much. Bu...</td>\n",
       "      <td>How LIGO discovered gravitational waves -- and...</td>\n",
       "    </tr>\n",
       "    <tr>\n",
       "      <th>3</th>\n",
       "      <td>An honest history of an ancient and \"nasty\" word</td>\n",
       "      <td>Kate Lister</td>\n",
       "      <td>Sex historian</td>\n",
       "      <td>Kate Lister is a sex historian and lecturers a...</td>\n",
       "      <td>With candor and cunning, sex historian Kate Li...</td>\n",
       "      <td>TEDxUniversityofGlasgow</td>\n",
       "      <td>569477</td>\n",
       "      <td>1148</td>\n",
       "      <td>['sex', 'language', 'ancient world', 'history'...</td>\n",
       "      <td>2020-03-06T00:00:00.000+00:00</td>\n",
       "      <td>1617289565</td>\n",
       "      <td>First, a warning. As far as offensive words go...</td>\n",
       "      <td>Beautiful new words to describe obscure emotio...</td>\n",
       "    </tr>\n",
       "    <tr>\n",
       "      <th>4</th>\n",
       "      <td>The electrical blueprints that orchestrate life</td>\n",
       "      <td>Michael Levin</td>\n",
       "      <td>Bioelectric explorer</td>\n",
       "      <td>Michael Levin's research could give rise to ad...</td>\n",
       "      <td>DNA isn't the only builder in the biological w...</td>\n",
       "      <td>TED2020</td>\n",
       "      <td>122682</td>\n",
       "      <td>1176</td>\n",
       "      <td>['biology', 'science', 'invention', 'robots', ...</td>\n",
       "      <td>2020-05-18T00:00:00.000+00:00</td>\n",
       "      <td>1617213773</td>\n",
       "      <td>Chris Anderson: Mike, welcome. It's good to se...</td>\n",
       "      <td>The next software revolution,Growing new organ...</td>\n",
       "    </tr>\n",
       "  </tbody>\n",
       "</table>\n",
       "</div>"
      ],
      "text/plain": [
       "                                               talk             speaker  \\\n",
       "0  Can you outsmart the apples and oranges fallacy?       Elizabeth Cox   \n",
       "1           The exploitation of US college athletes          Tim Nevius   \n",
       "2                         How does ultrasound work?  Jacques Abramowicz   \n",
       "3  An honest history of an ancient and \"nasty\" word         Kate Lister   \n",
       "4   The electrical blueprints that orchestrate life       Michael Levin   \n",
       "\n",
       "             speaker_occ                                        speaker_bio  \\\n",
       "0                Unknown                                            Unknown   \n",
       "1  College sports lawyer  Tim Nevius is a leading sports lawyer and coll...   \n",
       "2                Unknown                                            Unknown   \n",
       "3          Sex historian  Kate Lister is a sex historian and lecturers a...   \n",
       "4   Bioelectric explorer  Michael Levin's research could give rise to ad...   \n",
       "\n",
       "                                           talk_desc                    event  \\\n",
       "0  It's 1997. The United States Senate has called...                   TED-Ed   \n",
       "1  Colleges and universities in the US make billi...               TEDxDayton   \n",
       "2  In a dark cave, bats can't see much. But even ...                   TED-Ed   \n",
       "3  With candor and cunning, sex historian Kate Li...  TEDxUniversityofGlasgow   \n",
       "4  DNA isn't the only builder in the biological w...                 TED2020    \n",
       "\n",
       "    views  duration                                               tags  \\\n",
       "0  119359       327  ['education', 'psychology', 'animation', 'TED-...   \n",
       "1  438573       611  ['sports', 'law', 'education', 'United States'...   \n",
       "2  140874       295  ['education', 'technology', 'animation', 'TED-...   \n",
       "3  569477      1148  ['sex', 'language', 'ancient world', 'history'...   \n",
       "4  122682      1176  ['biology', 'science', 'invention', 'robots', ...   \n",
       "\n",
       "                     recorded_at  published on  \\\n",
       "0  2021-04-05T00:00:00.000+00:00    1617636753   \n",
       "1  2020-11-10T00:00:00.000+00:00    1617634131   \n",
       "2  2021-04-01T00:00:00.000+00:00    1617290223   \n",
       "3  2020-03-06T00:00:00.000+00:00    1617289565   \n",
       "4  2020-05-18T00:00:00.000+00:00    1617213773   \n",
       "\n",
       "                                          transcript  \\\n",
       "0  Baking apple pie? Discount orange warehouse ha...   \n",
       "1  In college sports, American universities are e...   \n",
       "2  In a pitch-black cave, bats can’t see much. Bu...   \n",
       "3  First, a warning. As far as offensive words go...   \n",
       "4  Chris Anderson: Mike, welcome. It's good to se...   \n",
       "\n",
       "                    most_similar_transcript_unigrams  \n",
       "0  100 solutions to reverse global warming,How we...  \n",
       "1  Protecting the brain against concussion,A summ...  \n",
       "2  How LIGO discovered gravitational waves -- and...  \n",
       "3  Beautiful new words to describe obscure emotio...  \n",
       "4  The next software revolution,Growing new organ...  "
      ]
     },
     "execution_count": 35,
     "metadata": {},
     "output_type": "execute_result"
    }
   ],
   "source": [
    "cleaned_df.head(5)"
   ]
  },
  {
   "cell_type": "markdown",
   "id": "9ef27fab",
   "metadata": {},
   "source": [
    "### Bigrams"
   ]
  },
  {
   "cell_type": "code",
   "execution_count": 36,
   "id": "b8c3727c",
   "metadata": {},
   "outputs": [
    {
     "data": {
      "text/plain": [
       "(4016, 1881347)"
      ]
     },
     "execution_count": 36,
     "metadata": {},
     "output_type": "execute_result"
    }
   ],
   "source": [
    "tfidf_bigrams=text.TfidfVectorizer(input=Text,stop_words=\"english\",ngram_range=(2,2))\n",
    "matrix_bigrams=tfidf_bigrams.fit_transform(Text)\n",
    "matrix_bigrams.shape"
   ]
  },
  {
   "cell_type": "code",
   "execution_count": 37,
   "id": "27577c1b",
   "metadata": {},
   "outputs": [
    {
     "data": {
      "text/plain": [
       "(4016, 4016)"
      ]
     },
     "execution_count": 37,
     "metadata": {},
     "output_type": "execute_result"
    }
   ],
   "source": [
    "sim_bigram=cosine_similarity(matrix_bigrams)\n",
    "sim_bigram.shape"
   ]
  },
  {
   "cell_type": "code",
   "execution_count": 38,
   "id": "7de0b347",
   "metadata": {},
   "outputs": [],
   "source": [
    "cleaned_df['most_similar_transcript_bigrams']=[get_similar_articles(x) for x in sim_bigram]"
   ]
  },
  {
   "cell_type": "code",
   "execution_count": 39,
   "id": "5ea86f0e",
   "metadata": {},
   "outputs": [
    {
     "data": {
      "text/html": [
       "<div>\n",
       "<style scoped>\n",
       "    .dataframe tbody tr th:only-of-type {\n",
       "        vertical-align: middle;\n",
       "    }\n",
       "\n",
       "    .dataframe tbody tr th {\n",
       "        vertical-align: top;\n",
       "    }\n",
       "\n",
       "    .dataframe thead th {\n",
       "        text-align: right;\n",
       "    }\n",
       "</style>\n",
       "<table border=\"1\" class=\"dataframe\">\n",
       "  <thead>\n",
       "    <tr style=\"text-align: right;\">\n",
       "      <th></th>\n",
       "      <th>talk</th>\n",
       "      <th>speaker</th>\n",
       "      <th>speaker_occ</th>\n",
       "      <th>speaker_bio</th>\n",
       "      <th>talk_desc</th>\n",
       "      <th>event</th>\n",
       "      <th>views</th>\n",
       "      <th>duration</th>\n",
       "      <th>tags</th>\n",
       "      <th>recorded_at</th>\n",
       "      <th>published on</th>\n",
       "      <th>transcript</th>\n",
       "      <th>most_similar_transcript_unigrams</th>\n",
       "      <th>most_similar_transcript_bigrams</th>\n",
       "    </tr>\n",
       "  </thead>\n",
       "  <tbody>\n",
       "    <tr>\n",
       "      <th>0</th>\n",
       "      <td>Can you outsmart the apples and oranges fallacy?</td>\n",
       "      <td>Elizabeth Cox</td>\n",
       "      <td>Unknown</td>\n",
       "      <td>Unknown</td>\n",
       "      <td>It's 1997. The United States Senate has called...</td>\n",
       "      <td>TED-Ed</td>\n",
       "      <td>119359</td>\n",
       "      <td>327</td>\n",
       "      <td>['education', 'psychology', 'animation', 'TED-...</td>\n",
       "      <td>2021-04-05T00:00:00.000+00:00</td>\n",
       "      <td>1617636753</td>\n",
       "      <td>Baking apple pie? Discount orange warehouse ha...</td>\n",
       "      <td>100 solutions to reverse global warming,How we...</td>\n",
       "      <td>Can clouds buy us more time to solve climate c...</td>\n",
       "    </tr>\n",
       "  </tbody>\n",
       "</table>\n",
       "</div>"
      ],
      "text/plain": [
       "                                               talk        speaker  \\\n",
       "0  Can you outsmart the apples and oranges fallacy?  Elizabeth Cox   \n",
       "\n",
       "  speaker_occ speaker_bio                                          talk_desc  \\\n",
       "0     Unknown     Unknown  It's 1997. The United States Senate has called...   \n",
       "\n",
       "    event   views  duration  \\\n",
       "0  TED-Ed  119359       327   \n",
       "\n",
       "                                                tags  \\\n",
       "0  ['education', 'psychology', 'animation', 'TED-...   \n",
       "\n",
       "                     recorded_at  published on  \\\n",
       "0  2021-04-05T00:00:00.000+00:00    1617636753   \n",
       "\n",
       "                                          transcript  \\\n",
       "0  Baking apple pie? Discount orange warehouse ha...   \n",
       "\n",
       "                    most_similar_transcript_unigrams  \\\n",
       "0  100 solutions to reverse global warming,How we...   \n",
       "\n",
       "                     most_similar_transcript_bigrams  \n",
       "0  Can clouds buy us more time to solve climate c...  "
      ]
     },
     "execution_count": 39,
     "metadata": {},
     "output_type": "execute_result"
    }
   ],
   "source": [
    "cleaned_df.head(1)"
   ]
  },
  {
   "cell_type": "markdown",
   "id": "dccb20a1",
   "metadata": {},
   "source": [
    "### Trigrams"
   ]
  },
  {
   "cell_type": "code",
   "execution_count": 40,
   "id": "fcfe7edb",
   "metadata": {},
   "outputs": [
    {
     "data": {
      "text/plain": [
       "(4016, 2893949)"
      ]
     },
     "execution_count": 40,
     "metadata": {},
     "output_type": "execute_result"
    }
   ],
   "source": [
    "tfidf_trigrams=text.TfidfVectorizer(input=Text,stop_words=\"english\",ngram_range=(3,3))\n",
    "matrix_trigrams=tfidf_trigrams.fit_transform(Text)\n",
    "matrix_trigrams.shape"
   ]
  },
  {
   "cell_type": "code",
   "execution_count": 41,
   "id": "866e4262",
   "metadata": {},
   "outputs": [
    {
     "data": {
      "text/plain": [
       "(4016, 4016)"
      ]
     },
     "execution_count": 41,
     "metadata": {},
     "output_type": "execute_result"
    }
   ],
   "source": [
    "sim_trigram=cosine_similarity(matrix_trigrams)\n",
    "sim_trigram.shape"
   ]
  },
  {
   "cell_type": "code",
   "execution_count": 42,
   "id": "c40f500f",
   "metadata": {},
   "outputs": [],
   "source": [
    "cleaned_df['most_similar_transcript_trigrams']=[get_similar_articles(x) for x in sim_trigram]"
   ]
  },
  {
   "cell_type": "code",
   "execution_count": 43,
   "id": "366bdb15",
   "metadata": {},
   "outputs": [],
   "source": [
    "example_talk = cleaned_df.iloc[9,0]\n",
    "example_tags = cleaned_df.iloc[9,8]\n",
    "example_recommendations_unigram = cleaned_df.iloc[9,12].split(',')\n",
    "example_recommendations_bigram = cleaned_df.iloc[9,13].split(',')\n",
    "example_recommendations_trigram = cleaned_df.iloc[9,14].split(',')"
   ]
  },
  {
   "cell_type": "code",
   "execution_count": 44,
   "id": "40362a41",
   "metadata": {},
   "outputs": [
    {
     "name": "stdout",
     "output_type": "stream",
     "text": [
      "Example : Recommendation using Transcript\n",
      "\n",
      "Talk name -> An election system that puts voters (not politicians) first\n",
      "Talk tags -> ['United States', 'democracy', 'politics', 'society', 'TEDx', 'policy', 'government']\n",
      "\n",
      "Recommendations Unigram : \n",
      "What's needed to bring the US voting system into the 21st century\n",
      "E-voting without fraud\n",
      "The fight for the right to vote in the United States\n",
      "Which voting system is the best?\n",
      "\n",
      "Recommendations Bigram : \n",
      "What's needed to bring the US voting system into the 21st century\n",
      "E-voting without fraud\n",
      "How to gain control of your free time\n",
      "How much sleep do you really need?\n",
      "\n",
      "Recommendations Trigram : \n",
      "What's needed to bring the US voting system into the 21st century\n",
      "What makes life worth living in the face of death\n",
      "What if every satellite suddenly disappeared?\n",
      "The science of friction -- and its surprising impact on our lives\n",
      "\n"
     ]
    }
   ],
   "source": [
    "print(\"Example : Recommendation using Transcript\\n\")\n",
    "print(\"Talk name ->\",example_talk)\n",
    "print(\"Talk tags ->\",example_tags)\n",
    "print()\n",
    "print(\"Recommendations Unigram : \")\n",
    "for each in example_recommendations_unigram[::-1]:\n",
    "    print(each)\n",
    "print()\n",
    "print(\"Recommendations Bigram : \")\n",
    "for each in example_recommendations_bigram[::-1]:\n",
    "    print(each)\n",
    "print()\n",
    "print(\"Recommendations Trigram : \")\n",
    "for each in example_recommendations_trigram[::-1]:\n",
    "    print(each)\n",
    "print()\n",
    "\n",
    "    "
   ]
  },
  {
   "cell_type": "code",
   "execution_count": 45,
   "id": "e0c7d1cc",
   "metadata": {},
   "outputs": [
    {
     "data": {
      "text/html": [
       "<div>\n",
       "<style scoped>\n",
       "    .dataframe tbody tr th:only-of-type {\n",
       "        vertical-align: middle;\n",
       "    }\n",
       "\n",
       "    .dataframe tbody tr th {\n",
       "        vertical-align: top;\n",
       "    }\n",
       "\n",
       "    .dataframe thead th {\n",
       "        text-align: right;\n",
       "    }\n",
       "</style>\n",
       "<table border=\"1\" class=\"dataframe\">\n",
       "  <thead>\n",
       "    <tr style=\"text-align: right;\">\n",
       "      <th></th>\n",
       "      <th>talk</th>\n",
       "      <th>speaker</th>\n",
       "      <th>speaker_occ</th>\n",
       "      <th>speaker_bio</th>\n",
       "      <th>talk_desc</th>\n",
       "      <th>event</th>\n",
       "      <th>views</th>\n",
       "      <th>duration</th>\n",
       "      <th>tags</th>\n",
       "      <th>recorded_at</th>\n",
       "      <th>published on</th>\n",
       "      <th>transcript</th>\n",
       "      <th>most_similar_transcript_unigrams</th>\n",
       "      <th>most_similar_transcript_bigrams</th>\n",
       "      <th>most_similar_transcript_trigrams</th>\n",
       "    </tr>\n",
       "  </thead>\n",
       "  <tbody>\n",
       "    <tr>\n",
       "      <th>0</th>\n",
       "      <td>Can you outsmart the apples and oranges fallacy?</td>\n",
       "      <td>Elizabeth Cox</td>\n",
       "      <td>Unknown</td>\n",
       "      <td>Unknown</td>\n",
       "      <td>It's 1997. The United States Senate has called...</td>\n",
       "      <td>TED-Ed</td>\n",
       "      <td>119359</td>\n",
       "      <td>327</td>\n",
       "      <td>['education', 'psychology', 'animation', 'TED-...</td>\n",
       "      <td>2021-04-05T00:00:00.000+00:00</td>\n",
       "      <td>1617636753</td>\n",
       "      <td>Baking apple pie? Discount orange warehouse ha...</td>\n",
       "      <td>100 solutions to reverse global warming,How we...</td>\n",
       "      <td>Can clouds buy us more time to solve climate c...</td>\n",
       "      <td>Art made of the air we breathe,Swim with the g...</td>\n",
       "    </tr>\n",
       "    <tr>\n",
       "      <th>1</th>\n",
       "      <td>The exploitation of US college athletes</td>\n",
       "      <td>Tim Nevius</td>\n",
       "      <td>College sports lawyer</td>\n",
       "      <td>Tim Nevius is a leading sports lawyer and coll...</td>\n",
       "      <td>Colleges and universities in the US make billi...</td>\n",
       "      <td>TEDxDayton</td>\n",
       "      <td>438573</td>\n",
       "      <td>611</td>\n",
       "      <td>['sports', 'law', 'education', 'United States'...</td>\n",
       "      <td>2020-11-10T00:00:00.000+00:00</td>\n",
       "      <td>1617634131</td>\n",
       "      <td>In college sports, American universities are e...</td>\n",
       "      <td>Protecting the brain against concussion,A summ...</td>\n",
       "      <td>An ultra-low-cost college degree,Our dangerous...</td>\n",
       "      <td>The boost students need to overcome obstacles,...</td>\n",
       "    </tr>\n",
       "    <tr>\n",
       "      <th>2</th>\n",
       "      <td>How does ultrasound work?</td>\n",
       "      <td>Jacques Abramowicz</td>\n",
       "      <td>Unknown</td>\n",
       "      <td>Unknown</td>\n",
       "      <td>In a dark cave, bats can't see much. But even ...</td>\n",
       "      <td>TED-Ed</td>\n",
       "      <td>140874</td>\n",
       "      <td>295</td>\n",
       "      <td>['education', 'technology', 'animation', 'TED-...</td>\n",
       "      <td>2021-04-01T00:00:00.000+00:00</td>\n",
       "      <td>1617290223</td>\n",
       "      <td>In a pitch-black cave, bats can’t see much. Bu...</td>\n",
       "      <td>How LIGO discovered gravitational waves -- and...</td>\n",
       "      <td>A census of the ocean,The beautiful, mysteriou...</td>\n",
       "      <td>Color-coded surgery,A new weapon in the fight ...</td>\n",
       "    </tr>\n",
       "    <tr>\n",
       "      <th>3</th>\n",
       "      <td>An honest history of an ancient and \"nasty\" word</td>\n",
       "      <td>Kate Lister</td>\n",
       "      <td>Sex historian</td>\n",
       "      <td>Kate Lister is a sex historian and lecturers a...</td>\n",
       "      <td>With candor and cunning, sex historian Kate Li...</td>\n",
       "      <td>TEDxUniversityofGlasgow</td>\n",
       "      <td>569477</td>\n",
       "      <td>1148</td>\n",
       "      <td>['sex', 'language', 'ancient world', 'history'...</td>\n",
       "      <td>2020-03-06T00:00:00.000+00:00</td>\n",
       "      <td>1617289565</td>\n",
       "      <td>First, a warning. As far as offensive words go...</td>\n",
       "      <td>Beautiful new words to describe obscure emotio...</td>\n",
       "      <td>What makes a word \"real\"?,Where did English co...</td>\n",
       "      <td>Doodlers, unite!,Where did English come from?,...</td>\n",
       "    </tr>\n",
       "    <tr>\n",
       "      <th>4</th>\n",
       "      <td>The electrical blueprints that orchestrate life</td>\n",
       "      <td>Michael Levin</td>\n",
       "      <td>Bioelectric explorer</td>\n",
       "      <td>Michael Levin's research could give rise to ad...</td>\n",
       "      <td>DNA isn't the only builder in the biological w...</td>\n",
       "      <td>TED2020</td>\n",
       "      <td>122682</td>\n",
       "      <td>1176</td>\n",
       "      <td>['biology', 'science', 'invention', 'robots', ...</td>\n",
       "      <td>2020-05-18T00:00:00.000+00:00</td>\n",
       "      <td>1617213773</td>\n",
       "      <td>Chris Anderson: Mike, welcome. It's good to se...</td>\n",
       "      <td>The next software revolution,Growing new organ...</td>\n",
       "      <td>A computer that works like the brain,How do ca...</td>\n",
       "      <td>It's time to question bio-engineering,The unhe...</td>\n",
       "    </tr>\n",
       "  </tbody>\n",
       "</table>\n",
       "</div>"
      ],
      "text/plain": [
       "                                               talk             speaker  \\\n",
       "0  Can you outsmart the apples and oranges fallacy?       Elizabeth Cox   \n",
       "1           The exploitation of US college athletes          Tim Nevius   \n",
       "2                         How does ultrasound work?  Jacques Abramowicz   \n",
       "3  An honest history of an ancient and \"nasty\" word         Kate Lister   \n",
       "4   The electrical blueprints that orchestrate life       Michael Levin   \n",
       "\n",
       "             speaker_occ                                        speaker_bio  \\\n",
       "0                Unknown                                            Unknown   \n",
       "1  College sports lawyer  Tim Nevius is a leading sports lawyer and coll...   \n",
       "2                Unknown                                            Unknown   \n",
       "3          Sex historian  Kate Lister is a sex historian and lecturers a...   \n",
       "4   Bioelectric explorer  Michael Levin's research could give rise to ad...   \n",
       "\n",
       "                                           talk_desc                    event  \\\n",
       "0  It's 1997. The United States Senate has called...                   TED-Ed   \n",
       "1  Colleges and universities in the US make billi...               TEDxDayton   \n",
       "2  In a dark cave, bats can't see much. But even ...                   TED-Ed   \n",
       "3  With candor and cunning, sex historian Kate Li...  TEDxUniversityofGlasgow   \n",
       "4  DNA isn't the only builder in the biological w...                 TED2020    \n",
       "\n",
       "    views  duration                                               tags  \\\n",
       "0  119359       327  ['education', 'psychology', 'animation', 'TED-...   \n",
       "1  438573       611  ['sports', 'law', 'education', 'United States'...   \n",
       "2  140874       295  ['education', 'technology', 'animation', 'TED-...   \n",
       "3  569477      1148  ['sex', 'language', 'ancient world', 'history'...   \n",
       "4  122682      1176  ['biology', 'science', 'invention', 'robots', ...   \n",
       "\n",
       "                     recorded_at  published on  \\\n",
       "0  2021-04-05T00:00:00.000+00:00    1617636753   \n",
       "1  2020-11-10T00:00:00.000+00:00    1617634131   \n",
       "2  2021-04-01T00:00:00.000+00:00    1617290223   \n",
       "3  2020-03-06T00:00:00.000+00:00    1617289565   \n",
       "4  2020-05-18T00:00:00.000+00:00    1617213773   \n",
       "\n",
       "                                          transcript  \\\n",
       "0  Baking apple pie? Discount orange warehouse ha...   \n",
       "1  In college sports, American universities are e...   \n",
       "2  In a pitch-black cave, bats can’t see much. Bu...   \n",
       "3  First, a warning. As far as offensive words go...   \n",
       "4  Chris Anderson: Mike, welcome. It's good to se...   \n",
       "\n",
       "                    most_similar_transcript_unigrams  \\\n",
       "0  100 solutions to reverse global warming,How we...   \n",
       "1  Protecting the brain against concussion,A summ...   \n",
       "2  How LIGO discovered gravitational waves -- and...   \n",
       "3  Beautiful new words to describe obscure emotio...   \n",
       "4  The next software revolution,Growing new organ...   \n",
       "\n",
       "                     most_similar_transcript_bigrams  \\\n",
       "0  Can clouds buy us more time to solve climate c...   \n",
       "1  An ultra-low-cost college degree,Our dangerous...   \n",
       "2  A census of the ocean,The beautiful, mysteriou...   \n",
       "3  What makes a word \"real\"?,Where did English co...   \n",
       "4  A computer that works like the brain,How do ca...   \n",
       "\n",
       "                    most_similar_transcript_trigrams  \n",
       "0  Art made of the air we breathe,Swim with the g...  \n",
       "1  The boost students need to overcome obstacles,...  \n",
       "2  Color-coded surgery,A new weapon in the fight ...  \n",
       "3  Doodlers, unite!,Where did English come from?,...  \n",
       "4  It's time to question bio-engineering,The unhe...  "
      ]
     },
     "execution_count": 45,
     "metadata": {},
     "output_type": "execute_result"
    }
   ],
   "source": [
    "cleaned_df.head(5)"
   ]
  },
  {
   "cell_type": "markdown",
   "id": "86c1f642",
   "metadata": {},
   "source": [
    "# Recommendation using Talk Description"
   ]
  },
  {
   "cell_type": "markdown",
   "id": "b28c399b",
   "metadata": {},
   "source": [
    "## Term Frequency-Inverse Document Frequency (Tf-Idf)"
   ]
  },
  {
   "cell_type": "code",
   "execution_count": 46,
   "id": "f05b2f1f",
   "metadata": {},
   "outputs": [
    {
     "name": "stdout",
     "output_type": "stream",
     "text": [
      "(4016, 21448)\n",
      "Example : Recommendation using Talk Descritption\n",
      "\n",
      "Talk name -> An election system that puts voters (not politicians) first\n",
      "Talk tags -> ['United States', 'democracy', 'politics', 'society', 'TEDx', 'policy', 'government']\n",
      "\n",
      "Recommendations Unigram : \n",
      "The unexpected challenges of a country's first election\n",
      "Can democracy exist without trust?\n",
      "What's needed to bring the US voting system into the 21st century\n",
      "Does your vote count? The Electoral College explained\n",
      "\n",
      "Recommendations Bigram : \n",
      "The fight for the right to vote in the United States\n",
      "Does racism affect how you vote?\n",
      "Averting the climate crisis\n",
      "Why must artists be poor?\n",
      "\n",
      "Recommendations Trigram : \n",
      "Averting the climate crisis\n",
      "\"my mama\" / \"BLACK BANANA\"\n",
      "How to inspire every child to be a lifelong reader\n",
      "Why we should end animal agriculture\n",
      "\n"
     ]
    }
   ],
   "source": [
    "Text=cleaned_df['talk_desc'].tolist()\n",
    "tfidf=text.TfidfVectorizer(input=Text,stop_words=\"english\")\n",
    "matrix=tfidf.fit_transform(Text)\n",
    "print(matrix.shape)\n",
    "\n",
    "## Cosine Similarity\n",
    "\n",
    "### Unigrams\n",
    "\n",
    "from sklearn.metrics.pairwise import cosine_similarity\n",
    "sim_unigram=cosine_similarity(matrix)\n",
    "sim_unigram.shape\n",
    "\n",
    "#https://www.kaggle.com/code/gunnvant/building-content-recommender-tutorial\n",
    "#finding the most similar 5 ted talks using the correlation matrix of words created using cosine similarity\n",
    "def get_similar_articles(x):\n",
    "    return \",\".join((cleaned_df['talk']).loc[x.argsort()[-5:-1]])\n",
    "cleaned_df['most_similar_desc_unigrams']=[get_similar_articles(x) for x in sim_unigram]\n",
    "\n",
    "cleaned_df.head(5)\n",
    "\n",
    "### Bigrams\n",
    "\n",
    "tfidf_bigrams=text.TfidfVectorizer(input=Text,stop_words=\"english\",ngram_range=(2,2))\n",
    "matrix_bigrams=tfidf_bigrams.fit_transform(Text)\n",
    "matrix_bigrams.shape\n",
    "\n",
    "sim_bigram=cosine_similarity(matrix_bigrams)\n",
    "sim_bigram.shape\n",
    "\n",
    "cleaned_df['most_similar_desc_bigrams']=[get_similar_articles(x) for x in sim_bigram]\n",
    "\n",
    "cleaned_df.head(1).most_similar_desc_unigrams\n",
    "\n",
    "### Trigrams\n",
    "\n",
    "tfidf_trigrams=text.TfidfVectorizer(input=Text,stop_words=\"english\",ngram_range=(3,3))\n",
    "matrix_trigrams=tfidf_trigrams.fit_transform(Text)\n",
    "matrix_trigrams.shape\n",
    "\n",
    "sim_trigram=cosine_similarity(matrix_trigrams)\n",
    "sim_trigram.shape\n",
    "\n",
    "cleaned_df['most_similar_desc_trigrams']=[get_similar_articles(x) for x in sim_trigram]\n",
    "\n",
    "example_talk = cleaned_df.iloc[9,0]\n",
    "example_tags = cleaned_df.iloc[9,8]\n",
    "example_recommendations_unigram = cleaned_df.iloc[9,15].split(',')\n",
    "example_recommendations_bigram = cleaned_df.iloc[9,16].split(',')\n",
    "example_recommendations_trigram = cleaned_df.iloc[9,17].split(',')\n",
    "\n",
    "print(\"Example : Recommendation using Talk Descritption\\n\")\n",
    "print(\"Talk name ->\",example_talk)\n",
    "print(\"Talk tags ->\",example_tags)\n",
    "print()\n",
    "print(\"Recommendations Unigram : \")\n",
    "for each in example_recommendations_unigram[::-1]:\n",
    "    print(each)\n",
    "print()\n",
    "print(\"Recommendations Bigram : \")\n",
    "for each in example_recommendations_bigram[::-1]:\n",
    "    print(each)\n",
    "print()\n",
    "print(\"Recommendations Trigram : \")\n",
    "for each in example_recommendations_trigram[::-1]:\n",
    "    print(each)\n",
    "print()\n",
    "\n",
    "    "
   ]
  },
  {
   "cell_type": "markdown",
   "id": "d8155b00",
   "metadata": {},
   "source": [
    "# Recommendation using Talk title"
   ]
  },
  {
   "cell_type": "markdown",
   "id": "a517bbc1",
   "metadata": {},
   "source": [
    "## Term Frequency-Inverse Document Frequency (Tf-Idf)"
   ]
  },
  {
   "cell_type": "code",
   "execution_count": 47,
   "id": "956ccfb6",
   "metadata": {},
   "outputs": [
    {
     "name": "stdout",
     "output_type": "stream",
     "text": [
      "(4016, 4900)\n",
      "Example : Recommendation using Talk Title\n",
      "\n",
      "Talk name -> An election system that puts voters (not politicians) first\n",
      "Talk tags -> ['United States', 'democracy', 'politics', 'society', 'TEDx', 'policy', 'government']\n",
      "\n",
      "Recommendations Unigram : \n",
      "A bold idea to replace politicians\n",
      "Can you solve the fantasy election riddle?\n",
      "How (and why) Russia hacked the US election\n",
      "How the new generation of Latinx voters could change US elections\n",
      "\n",
      "Recommendations Bigram : \n",
      "Averting the climate crisis\n",
      "\"my mama\" / \"BLACK BANANA\"\n",
      "How to inspire every child to be a lifelong reader\n",
      "Why we should end animal agriculture\n",
      "\n",
      "Recommendations Trigram : \n",
      "Averting the climate crisis\n",
      "\"my mama\" / \"BLACK BANANA\"\n",
      "How to inspire every child to be a lifelong reader\n",
      "Why we should end animal agriculture\n",
      "\n"
     ]
    }
   ],
   "source": [
    "Text=cleaned_df['talk'].tolist()\n",
    "tfidf=text.TfidfVectorizer(input=Text,stop_words=\"english\")\n",
    "matrix=tfidf.fit_transform(Text)\n",
    "print(matrix.shape)\n",
    "\n",
    "## Cosine Similarity\n",
    "\n",
    "### Unigrams\n",
    "\n",
    "from sklearn.metrics.pairwise import cosine_similarity\n",
    "sim_unigram=cosine_similarity(matrix)\n",
    "sim_unigram.shape\n",
    "\n",
    "#https://www.kaggle.com/code/gunnvant/building-content-recommender-tutorial\n",
    "#finding the most similar 5 ted talks using the correlation matrix of words created using cosine similarity\n",
    "def get_similar_articles(x):\n",
    "    return \",\".join((cleaned_df['talk']).loc[x.argsort()[-5:-1]])\n",
    "cleaned_df['most_similar_title_unigrams']=[get_similar_articles(x) for x in sim_unigram]\n",
    "\n",
    "cleaned_df.head(5)\n",
    "\n",
    "### Bigrams\n",
    "\n",
    "tfidf_bigrams=text.TfidfVectorizer(input=Text,stop_words=\"english\",ngram_range=(2,2))\n",
    "matrix_bigrams=tfidf_bigrams.fit_transform(Text)\n",
    "matrix_bigrams.shape\n",
    "\n",
    "sim_bigram=cosine_similarity(matrix_bigrams)\n",
    "sim_bigram.shape\n",
    "\n",
    "cleaned_df['most_similar_title_bigrams']=[get_similar_articles(x) for x in sim_bigram]\n",
    "\n",
    "cleaned_df.head(1).most_similar_title_unigrams\n",
    "\n",
    "### Trigrams\n",
    "\n",
    "tfidf_trigrams=text.TfidfVectorizer(input=Text,stop_words=\"english\",ngram_range=(3,3))\n",
    "matrix_trigrams=tfidf_trigrams.fit_transform(Text)\n",
    "matrix_trigrams.shape\n",
    "\n",
    "sim_trigram=cosine_similarity(matrix_trigrams)\n",
    "sim_trigram.shape\n",
    "\n",
    "cleaned_df['most_similar_title_trigrams']=[get_similar_articles(x) for x in sim_trigram]\n",
    "\n",
    "\n",
    "example_talk = cleaned_df.iloc[9,0]\n",
    "example_tags = cleaned_df.iloc[9,8]\n",
    "example_recommendations_unigram = cleaned_df.iloc[9,18].split(',')\n",
    "example_recommendations_bigram = cleaned_df.iloc[9,19].split(',')\n",
    "example_recommendations_trigram = cleaned_df.iloc[9,20].split(',')\n",
    "\n",
    "print(\"Example : Recommendation using Talk Title\\n\")\n",
    "print(\"Talk name ->\",example_talk)\n",
    "print(\"Talk tags ->\",example_tags)\n",
    "print()\n",
    "print(\"Recommendations Unigram : \")\n",
    "for each in example_recommendations_unigram[::-1]:\n",
    "    print(each)\n",
    "print()\n",
    "print(\"Recommendations Bigram : \")\n",
    "for each in example_recommendations_bigram[::-1]:\n",
    "    print(each)\n",
    "print()\n",
    "print(\"Recommendations Trigram : \")\n",
    "for each in example_recommendations_trigram[::-1]:\n",
    "    print(each)\n",
    "print()\n"
   ]
  },
  {
   "cell_type": "code",
   "execution_count": null,
   "id": "f76264fc",
   "metadata": {},
   "outputs": [],
   "source": [
    "\n"
   ]
  },
  {
   "cell_type": "code",
   "execution_count": null,
   "id": "df78057e",
   "metadata": {},
   "outputs": [],
   "source": []
  }
 ],
 "metadata": {
  "kernelspec": {
   "display_name": "Python 3.8 (tensorflow)",
   "language": "python",
   "name": "tensorflow"
  },
  "language_info": {
   "codemirror_mode": {
    "name": "ipython",
    "version": 3
   },
   "file_extension": ".py",
   "mimetype": "text/x-python",
   "name": "python",
   "nbconvert_exporter": "python",
   "pygments_lexer": "ipython3",
   "version": "3.8.12"
  }
 },
 "nbformat": 4,
 "nbformat_minor": 5
}
