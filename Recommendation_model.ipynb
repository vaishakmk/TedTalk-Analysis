{
 "cells": [
  {
   "cell_type": "code",
   "execution_count": 1,
   "id": "4b033472",
   "metadata": {},
   "outputs": [],
   "source": [
    "import numpy as np\n",
    "import pandas as pd\n",
    "import matplotlib.pyplot as plt\n",
    "from sklearn.feature_extraction import text"
   ]
  },
  {
   "cell_type": "code",
   "execution_count": 2,
   "id": "56d018e0",
   "metadata": {},
   "outputs": [],
   "source": [
    "cleaned_df = pd.read_csv('cleaned data/vaishak_data.csv')"
   ]
  },
  {
   "cell_type": "code",
   "execution_count": 3,
   "id": "46bdee0e",
   "metadata": {},
   "outputs": [
    {
     "data": {
      "text/plain": [
       "(4016, 12)"
      ]
     },
     "execution_count": 3,
     "metadata": {},
     "output_type": "execute_result"
    }
   ],
   "source": [
    "cleaned_df.shape"
   ]
  },
  {
   "cell_type": "markdown",
   "id": "333aa3bf",
   "metadata": {},
   "source": [
    "# Recommendation using transcript"
   ]
  },
  {
   "cell_type": "markdown",
   "id": "cc5cb2b4",
   "metadata": {},
   "source": [
    "## Term Frequency-Inverse Document Frequency (Tf-Idf)"
   ]
  },
  {
   "cell_type": "code",
   "execution_count": 4,
   "id": "e3531839",
   "metadata": {},
   "outputs": [
    {
     "name": "stdout",
     "output_type": "stream",
     "text": [
      "(4016, 68448)\n"
     ]
    }
   ],
   "source": [
    "Text=cleaned_df['transcript'].tolist()\n",
    "tfidf=text.TfidfVectorizer(input=Text,stop_words=\"english\")\n",
    "matrix=tfidf.fit_transform(Text)\n",
    "print(matrix.shape)"
   ]
  },
  {
   "cell_type": "markdown",
   "id": "0fe11961",
   "metadata": {},
   "source": [
    "## Cosine Similarity"
   ]
  },
  {
   "cell_type": "markdown",
   "id": "1c15182b",
   "metadata": {},
   "source": [
    "### Unigrams"
   ]
  },
  {
   "cell_type": "code",
   "execution_count": 5,
   "id": "d606add7",
   "metadata": {},
   "outputs": [
    {
     "data": {
      "text/plain": [
       "(4016, 4016)"
      ]
     },
     "execution_count": 5,
     "metadata": {},
     "output_type": "execute_result"
    }
   ],
   "source": [
    "from sklearn.metrics.pairwise import cosine_similarity\n",
    "sim_unigram=cosine_similarity(matrix)\n",
    "sim_unigram.shape"
   ]
  },
  {
   "cell_type": "code",
   "execution_count": 6,
   "id": "dd181baf",
   "metadata": {},
   "outputs": [],
   "source": [
    "#https://www.kaggle.com/code/gunnvant/building-content-recommender-tutorial\n",
    "#finding the most similar 5 ted talks using the correlation matrix of words created using cosine similarity\n",
    "def get_similar_articles(x):\n",
    "    return \"-,\".join((cleaned_df['talk']).loc[x.argsort()[-6:-1]])\n",
    "cleaned_df['most_similar_transcript_unigrams']=[get_similar_articles(x) for x in sim_unigram]"
   ]
  },
  {
   "cell_type": "code",
   "execution_count": 7,
   "id": "e41c3b99",
   "metadata": {},
   "outputs": [
    {
     "data": {
      "text/html": [
       "<div>\n",
       "<style scoped>\n",
       "    .dataframe tbody tr th:only-of-type {\n",
       "        vertical-align: middle;\n",
       "    }\n",
       "\n",
       "    .dataframe tbody tr th {\n",
       "        vertical-align: top;\n",
       "    }\n",
       "\n",
       "    .dataframe thead th {\n",
       "        text-align: right;\n",
       "    }\n",
       "</style>\n",
       "<table border=\"1\" class=\"dataframe\">\n",
       "  <thead>\n",
       "    <tr style=\"text-align: right;\">\n",
       "      <th></th>\n",
       "      <th>talk</th>\n",
       "      <th>speaker</th>\n",
       "      <th>speaker_occ</th>\n",
       "      <th>speaker_bio</th>\n",
       "      <th>talk_desc</th>\n",
       "      <th>event</th>\n",
       "      <th>views</th>\n",
       "      <th>duration</th>\n",
       "      <th>tags</th>\n",
       "      <th>recorded_at</th>\n",
       "      <th>published on</th>\n",
       "      <th>transcript</th>\n",
       "      <th>most_similar_transcript_unigrams</th>\n",
       "    </tr>\n",
       "  </thead>\n",
       "  <tbody>\n",
       "    <tr>\n",
       "      <th>0</th>\n",
       "      <td>Can you outsmart the apples and oranges fallacy?</td>\n",
       "      <td>Elizabeth Cox</td>\n",
       "      <td>Unknown</td>\n",
       "      <td>Unknown</td>\n",
       "      <td>It's 1997. The United States Senate has called...</td>\n",
       "      <td>TED-Ed</td>\n",
       "      <td>119359</td>\n",
       "      <td>327</td>\n",
       "      <td>['education', 'psychology', 'animation', 'TED-...</td>\n",
       "      <td>2021-04-05T00:00:00.000+00:00</td>\n",
       "      <td>1617636753</td>\n",
       "      <td>Baking apple pie? Discount orange warehouse ha...</td>\n",
       "      <td>Can clouds buy us more time to solve climate c...</td>\n",
       "    </tr>\n",
       "    <tr>\n",
       "      <th>1</th>\n",
       "      <td>The exploitation of US college athletes</td>\n",
       "      <td>Tim Nevius</td>\n",
       "      <td>College sports lawyer</td>\n",
       "      <td>Tim Nevius is a leading sports lawyer and coll...</td>\n",
       "      <td>Colleges and universities in the US make billi...</td>\n",
       "      <td>TEDxDayton</td>\n",
       "      <td>438573</td>\n",
       "      <td>611</td>\n",
       "      <td>['sports', 'law', 'education', 'United States'...</td>\n",
       "      <td>2020-11-10T00:00:00.000+00:00</td>\n",
       "      <td>1617634131</td>\n",
       "      <td>In college sports, American universities are e...</td>\n",
       "      <td>The \"opportunity gap\" in US public education -...</td>\n",
       "    </tr>\n",
       "    <tr>\n",
       "      <th>2</th>\n",
       "      <td>How does ultrasound work?</td>\n",
       "      <td>Jacques Abramowicz</td>\n",
       "      <td>Unknown</td>\n",
       "      <td>Unknown</td>\n",
       "      <td>In a dark cave, bats can't see much. But even ...</td>\n",
       "      <td>TED-Ed</td>\n",
       "      <td>140874</td>\n",
       "      <td>295</td>\n",
       "      <td>['education', 'technology', 'animation', 'TED-...</td>\n",
       "      <td>2021-04-01T00:00:00.000+00:00</td>\n",
       "      <td>1617290223</td>\n",
       "      <td>In a pitch-black cave, bats can’t see much. Bu...</td>\n",
       "      <td>The sonic boom problem-,How LIGO discovered gr...</td>\n",
       "    </tr>\n",
       "    <tr>\n",
       "      <th>3</th>\n",
       "      <td>An honest history of an ancient and \"nasty\" word</td>\n",
       "      <td>Kate Lister</td>\n",
       "      <td>Sex historian</td>\n",
       "      <td>Kate Lister is a sex historian and lecturers a...</td>\n",
       "      <td>With candor and cunning, sex historian Kate Li...</td>\n",
       "      <td>TEDxUniversityofGlasgow</td>\n",
       "      <td>569477</td>\n",
       "      <td>1148</td>\n",
       "      <td>['sex', 'language', 'ancient world', 'history'...</td>\n",
       "      <td>2020-03-06T00:00:00.000+00:00</td>\n",
       "      <td>1617289565</td>\n",
       "      <td>First, a warning. As far as offensive words go...</td>\n",
       "      <td>Go ahead, make up new words!-,Beautiful new wo...</td>\n",
       "    </tr>\n",
       "    <tr>\n",
       "      <th>4</th>\n",
       "      <td>The electrical blueprints that orchestrate life</td>\n",
       "      <td>Michael Levin</td>\n",
       "      <td>Bioelectric explorer</td>\n",
       "      <td>Michael Levin's research could give rise to ad...</td>\n",
       "      <td>DNA isn't the only builder in the biological w...</td>\n",
       "      <td>TED2020</td>\n",
       "      <td>122682</td>\n",
       "      <td>1176</td>\n",
       "      <td>['biology', 'science', 'invention', 'robots', ...</td>\n",
       "      <td>2020-05-18T00:00:00.000+00:00</td>\n",
       "      <td>1617213773</td>\n",
       "      <td>Chris Anderson: Mike, welcome. It's good to se...</td>\n",
       "      <td>Printing a human kidney-,The next software rev...</td>\n",
       "    </tr>\n",
       "  </tbody>\n",
       "</table>\n",
       "</div>"
      ],
      "text/plain": [
       "                                               talk             speaker  \\\n",
       "0  Can you outsmart the apples and oranges fallacy?       Elizabeth Cox   \n",
       "1           The exploitation of US college athletes          Tim Nevius   \n",
       "2                         How does ultrasound work?  Jacques Abramowicz   \n",
       "3  An honest history of an ancient and \"nasty\" word         Kate Lister   \n",
       "4   The electrical blueprints that orchestrate life       Michael Levin   \n",
       "\n",
       "             speaker_occ                                        speaker_bio  \\\n",
       "0                Unknown                                            Unknown   \n",
       "1  College sports lawyer  Tim Nevius is a leading sports lawyer and coll...   \n",
       "2                Unknown                                            Unknown   \n",
       "3          Sex historian  Kate Lister is a sex historian and lecturers a...   \n",
       "4   Bioelectric explorer  Michael Levin's research could give rise to ad...   \n",
       "\n",
       "                                           talk_desc                    event  \\\n",
       "0  It's 1997. The United States Senate has called...                   TED-Ed   \n",
       "1  Colleges and universities in the US make billi...               TEDxDayton   \n",
       "2  In a dark cave, bats can't see much. But even ...                   TED-Ed   \n",
       "3  With candor and cunning, sex historian Kate Li...  TEDxUniversityofGlasgow   \n",
       "4  DNA isn't the only builder in the biological w...                 TED2020    \n",
       "\n",
       "    views  duration                                               tags  \\\n",
       "0  119359       327  ['education', 'psychology', 'animation', 'TED-...   \n",
       "1  438573       611  ['sports', 'law', 'education', 'United States'...   \n",
       "2  140874       295  ['education', 'technology', 'animation', 'TED-...   \n",
       "3  569477      1148  ['sex', 'language', 'ancient world', 'history'...   \n",
       "4  122682      1176  ['biology', 'science', 'invention', 'robots', ...   \n",
       "\n",
       "                     recorded_at  published on  \\\n",
       "0  2021-04-05T00:00:00.000+00:00    1617636753   \n",
       "1  2020-11-10T00:00:00.000+00:00    1617634131   \n",
       "2  2021-04-01T00:00:00.000+00:00    1617290223   \n",
       "3  2020-03-06T00:00:00.000+00:00    1617289565   \n",
       "4  2020-05-18T00:00:00.000+00:00    1617213773   \n",
       "\n",
       "                                          transcript  \\\n",
       "0  Baking apple pie? Discount orange warehouse ha...   \n",
       "1  In college sports, American universities are e...   \n",
       "2  In a pitch-black cave, bats can’t see much. Bu...   \n",
       "3  First, a warning. As far as offensive words go...   \n",
       "4  Chris Anderson: Mike, welcome. It's good to se...   \n",
       "\n",
       "                    most_similar_transcript_unigrams  \n",
       "0  Can clouds buy us more time to solve climate c...  \n",
       "1  The \"opportunity gap\" in US public education -...  \n",
       "2  The sonic boom problem-,How LIGO discovered gr...  \n",
       "3  Go ahead, make up new words!-,Beautiful new wo...  \n",
       "4  Printing a human kidney-,The next software rev...  "
      ]
     },
     "execution_count": 7,
     "metadata": {},
     "output_type": "execute_result"
    }
   ],
   "source": [
    "cleaned_df.head(5)"
   ]
  },
  {
   "cell_type": "code",
   "execution_count": 8,
   "id": "1f7dd52e",
   "metadata": {},
   "outputs": [
    {
     "name": "stdout",
     "output_type": "stream",
     "text": [
      "['Can clouds buy us more time to solve climate change?', '100 solutions to reverse global warming', \"How we could change the planet's climate future\", 'Emergency medicine for our climate fever', 'Why I must speak out about climate change']\n"
     ]
    }
   ],
   "source": [
    "example_talk = cleaned_df.iloc[0,0]\n",
    "example_tags = cleaned_df.iloc[0,8]\n",
    "example_recommendations_unigram = cleaned_df.iloc[0,12].split('-,')\n",
    "print(example_recommendations_unigram)"
   ]
  },
  {
   "cell_type": "code",
   "execution_count": 45,
   "id": "231f8559",
   "metadata": {},
   "outputs": [
    {
     "data": {
      "text/plain": [
       "['education', 'psychology', 'animation', 'TEDEd', 'brain', 'climatechange']"
      ]
     },
     "execution_count": 45,
     "metadata": {},
     "output_type": "execute_result"
    }
   ],
   "source": [
    "example_tags = cleaned_df.iloc[0,8]\n",
    "result = [''.join(c for c in word if c.isalpha()) for word in example_tags.split(',')]\n",
    "result"
   ]
  },
  {
   "cell_type": "code",
   "execution_count": 43,
   "id": "1768ae54",
   "metadata": {},
   "outputs": [
    {
     "name": "stdout",
     "output_type": "stream",
     "text": [
      "Example : Recommendation using Transcript\n",
      "\n",
      "Talk name -> An election system that puts voters (not politicians) first\n",
      "Talk tags -> ['education', 'psychology', 'animation', 'TED-Ed', 'brain', 'climate change']\n",
      "\n",
      "Recommendations Unigram : \n",
      "{'education', 'TEDEd', 'animation', 'psychology', 'brain', 'climate', 'change'}\n",
      "A bold idea to replace politicians\n",
      "Can you solve the fantasy election riddle?\n",
      "How (and why) Russia hacked the US election\n",
      "How the new generation of Latinx voters could change US elections\n",
      "\n"
     ]
    }
   ],
   "source": [
    "print(\"Example : Recommendation using Transcript\\n\")\n",
    "print(\"Talk name ->\",example_talk)\n",
    "print(\"Talk tags ->\",example_tags)\n",
    "print()\n",
    "listA = [''.join(c for c in word if c.isalpha()) for word in example_tags.split(',')]\n",
    "setA = set(listA)\n",
    "print(\"Recommendations Unigram : \")\n",
    "i = 0\n",
    "print(setA)\n",
    "for each in example_recommendations_unigram[::-1]:\n",
    "    tagsB = cleaned_df['tags'][cleaned_df.talk==each].values\n",
    "#     print(tagsB)\n",
    "    listB = [''.join(c for c in word if c.isalpha()) for word in tagsB[0].split()]\n",
    "    setB = set(listB)\n",
    "    overlap = setA & setB\n",
    "    universe = setA | setB\n",
    "\n",
    "    result1 = round(float(len(overlap)) / len(setA) * 100,1)\n",
    "    result2 = round(float(len(overlap)) / len(setB) * 100,1)\n",
    "    result3 = round(float(len(overlap)) / len(universe) * 100,1)\n",
    "    print(each)\n",
    "#     print(result1, result2, result3)\n",
    "\n",
    "  \n",
    "# print(each,'->\\t', cleaned_df['tags'][cleaned_df.talk==each].values,'\\n')\n",
    "print()"
   ]
  },
  {
   "cell_type": "code",
   "execution_count": 18,
   "id": "b8f587a8",
   "metadata": {},
   "outputs": [
    {
     "data": {
      "text/html": [
       "<div>\n",
       "<style scoped>\n",
       "    .dataframe tbody tr th:only-of-type {\n",
       "        vertical-align: middle;\n",
       "    }\n",
       "\n",
       "    .dataframe tbody tr th {\n",
       "        vertical-align: top;\n",
       "    }\n",
       "\n",
       "    .dataframe thead th {\n",
       "        text-align: right;\n",
       "    }\n",
       "</style>\n",
       "<table border=\"1\" class=\"dataframe\">\n",
       "  <thead>\n",
       "    <tr style=\"text-align: right;\">\n",
       "      <th></th>\n",
       "      <th>talk</th>\n",
       "      <th>speaker</th>\n",
       "      <th>speaker_occ</th>\n",
       "      <th>speaker_bio</th>\n",
       "      <th>talk_desc</th>\n",
       "      <th>event</th>\n",
       "      <th>views</th>\n",
       "      <th>duration</th>\n",
       "      <th>tags</th>\n",
       "      <th>recorded_at</th>\n",
       "      <th>published on</th>\n",
       "      <th>transcript</th>\n",
       "      <th>most_similar_transcript_unigrams</th>\n",
       "    </tr>\n",
       "  </thead>\n",
       "  <tbody>\n",
       "    <tr>\n",
       "      <th>2486</th>\n",
       "      <td>Depression, the secret we share</td>\n",
       "      <td>Andrew Solomon</td>\n",
       "      <td>Writer</td>\n",
       "      <td>Andrew Solomon writes about politics, culture ...</td>\n",
       "      <td>\"The opposite of depression is not happiness, ...</td>\n",
       "      <td>TEDxMet</td>\n",
       "      <td>11733589</td>\n",
       "      <td>1761</td>\n",
       "      <td>['TEDx', 'culture', 'depression', 'medicine', ...</td>\n",
       "      <td>2013-10-23T00:00:00.000+00:00</td>\n",
       "      <td>1387382509</td>\n",
       "      <td>\"I felt a Funeral, in my Brain, and Mourners t...</td>\n",
       "      <td>How do antidepressants work?-,Don't suffer fro...</td>\n",
       "    </tr>\n",
       "  </tbody>\n",
       "</table>\n",
       "</div>"
      ],
      "text/plain": [
       "                                 talk         speaker speaker_occ  \\\n",
       "2486  Depression, the secret we share  Andrew Solomon      Writer   \n",
       "\n",
       "                                            speaker_bio  \\\n",
       "2486  Andrew Solomon writes about politics, culture ...   \n",
       "\n",
       "                                              talk_desc    event     views  \\\n",
       "2486  \"The opposite of depression is not happiness, ...  TEDxMet  11733589   \n",
       "\n",
       "      duration                                               tags  \\\n",
       "2486      1761  ['TEDx', 'culture', 'depression', 'medicine', ...   \n",
       "\n",
       "                        recorded_at  published on  \\\n",
       "2486  2013-10-23T00:00:00.000+00:00    1387382509   \n",
       "\n",
       "                                             transcript  \\\n",
       "2486  \"I felt a Funeral, in my Brain, and Mourners t...   \n",
       "\n",
       "                       most_similar_transcript_unigrams  \n",
       "2486  How do antidepressants work?-,Don't suffer fro...  "
      ]
     },
     "execution_count": 18,
     "metadata": {},
     "output_type": "execute_result"
    }
   ],
   "source": [
    "cleaned_df[cleaned_df.talk==\"Depression, the secret we share\"]"
   ]
  },
  {
   "cell_type": "code",
   "execution_count": null,
   "id": "a06e7027",
   "metadata": {},
   "outputs": [],
   "source": []
  },
  {
   "cell_type": "code",
   "execution_count": null,
   "id": "bfe85cb0",
   "metadata": {},
   "outputs": [],
   "source": []
  },
  {
   "cell_type": "code",
   "execution_count": null,
   "id": "fc91b2fa",
   "metadata": {},
   "outputs": [],
   "source": []
  },
  {
   "cell_type": "markdown",
   "id": "9ef27fab",
   "metadata": {},
   "source": [
    "### Bigrams"
   ]
  },
  {
   "cell_type": "code",
   "execution_count": 19,
   "id": "b8c3727c",
   "metadata": {},
   "outputs": [
    {
     "data": {
      "text/plain": [
       "(4016, 1881347)"
      ]
     },
     "execution_count": 19,
     "metadata": {},
     "output_type": "execute_result"
    }
   ],
   "source": [
    "tfidf_bigrams=text.TfidfVectorizer(input=Text,stop_words=\"english\",ngram_range=(2,2))\n",
    "matrix_bigrams=tfidf_bigrams.fit_transform(Text)\n",
    "matrix_bigrams.shape"
   ]
  },
  {
   "cell_type": "code",
   "execution_count": 20,
   "id": "27577c1b",
   "metadata": {},
   "outputs": [
    {
     "data": {
      "text/plain": [
       "(4016, 4016)"
      ]
     },
     "execution_count": 20,
     "metadata": {},
     "output_type": "execute_result"
    }
   ],
   "source": [
    "sim_bigram=cosine_similarity(matrix_bigrams)\n",
    "sim_bigram.shape"
   ]
  },
  {
   "cell_type": "code",
   "execution_count": 21,
   "id": "7de0b347",
   "metadata": {},
   "outputs": [],
   "source": [
    "cleaned_df['most_similar_transcript_bigrams']=[get_similar_articles(x) for x in sim_bigram]"
   ]
  },
  {
   "cell_type": "code",
   "execution_count": 22,
   "id": "5ea86f0e",
   "metadata": {},
   "outputs": [
    {
     "data": {
      "text/html": [
       "<div>\n",
       "<style scoped>\n",
       "    .dataframe tbody tr th:only-of-type {\n",
       "        vertical-align: middle;\n",
       "    }\n",
       "\n",
       "    .dataframe tbody tr th {\n",
       "        vertical-align: top;\n",
       "    }\n",
       "\n",
       "    .dataframe thead th {\n",
       "        text-align: right;\n",
       "    }\n",
       "</style>\n",
       "<table border=\"1\" class=\"dataframe\">\n",
       "  <thead>\n",
       "    <tr style=\"text-align: right;\">\n",
       "      <th></th>\n",
       "      <th>talk</th>\n",
       "      <th>speaker</th>\n",
       "      <th>speaker_occ</th>\n",
       "      <th>speaker_bio</th>\n",
       "      <th>talk_desc</th>\n",
       "      <th>event</th>\n",
       "      <th>views</th>\n",
       "      <th>duration</th>\n",
       "      <th>tags</th>\n",
       "      <th>recorded_at</th>\n",
       "      <th>published on</th>\n",
       "      <th>transcript</th>\n",
       "      <th>most_similar_transcript_unigrams</th>\n",
       "      <th>most_similar_transcript_bigrams</th>\n",
       "    </tr>\n",
       "  </thead>\n",
       "  <tbody>\n",
       "    <tr>\n",
       "      <th>0</th>\n",
       "      <td>Can you outsmart the apples and oranges fallacy?</td>\n",
       "      <td>Elizabeth Cox</td>\n",
       "      <td>Unknown</td>\n",
       "      <td>Unknown</td>\n",
       "      <td>It's 1997. The United States Senate has called...</td>\n",
       "      <td>TED-Ed</td>\n",
       "      <td>119359</td>\n",
       "      <td>327</td>\n",
       "      <td>['education', 'psychology', 'animation', 'TED-...</td>\n",
       "      <td>2021-04-05T00:00:00.000+00:00</td>\n",
       "      <td>1617636753</td>\n",
       "      <td>Baking apple pie? Discount orange warehouse ha...</td>\n",
       "      <td>Can clouds buy us more time to solve climate c...</td>\n",
       "      <td>The case for optimism-,Can clouds buy us more ...</td>\n",
       "    </tr>\n",
       "  </tbody>\n",
       "</table>\n",
       "</div>"
      ],
      "text/plain": [
       "                                               talk        speaker  \\\n",
       "0  Can you outsmart the apples and oranges fallacy?  Elizabeth Cox   \n",
       "\n",
       "  speaker_occ speaker_bio                                          talk_desc  \\\n",
       "0     Unknown     Unknown  It's 1997. The United States Senate has called...   \n",
       "\n",
       "    event   views  duration  \\\n",
       "0  TED-Ed  119359       327   \n",
       "\n",
       "                                                tags  \\\n",
       "0  ['education', 'psychology', 'animation', 'TED-...   \n",
       "\n",
       "                     recorded_at  published on  \\\n",
       "0  2021-04-05T00:00:00.000+00:00    1617636753   \n",
       "\n",
       "                                          transcript  \\\n",
       "0  Baking apple pie? Discount orange warehouse ha...   \n",
       "\n",
       "                    most_similar_transcript_unigrams  \\\n",
       "0  Can clouds buy us more time to solve climate c...   \n",
       "\n",
       "                     most_similar_transcript_bigrams  \n",
       "0  The case for optimism-,Can clouds buy us more ...  "
      ]
     },
     "execution_count": 22,
     "metadata": {},
     "output_type": "execute_result"
    }
   ],
   "source": [
    "cleaned_df.head(1)"
   ]
  },
  {
   "cell_type": "markdown",
   "id": "dccb20a1",
   "metadata": {},
   "source": [
    "### Trigrams"
   ]
  },
  {
   "cell_type": "code",
   "execution_count": 23,
   "id": "fcfe7edb",
   "metadata": {},
   "outputs": [
    {
     "data": {
      "text/plain": [
       "(4016, 2893949)"
      ]
     },
     "execution_count": 23,
     "metadata": {},
     "output_type": "execute_result"
    }
   ],
   "source": [
    "tfidf_trigrams=text.TfidfVectorizer(input=Text,stop_words=\"english\",ngram_range=(3,3))\n",
    "matrix_trigrams=tfidf_trigrams.fit_transform(Text)\n",
    "matrix_trigrams.shape"
   ]
  },
  {
   "cell_type": "code",
   "execution_count": 24,
   "id": "866e4262",
   "metadata": {},
   "outputs": [
    {
     "data": {
      "text/plain": [
       "(4016, 4016)"
      ]
     },
     "execution_count": 24,
     "metadata": {},
     "output_type": "execute_result"
    }
   ],
   "source": [
    "sim_trigram=cosine_similarity(matrix_trigrams)\n",
    "sim_trigram.shape"
   ]
  },
  {
   "cell_type": "code",
   "execution_count": 25,
   "id": "c40f500f",
   "metadata": {},
   "outputs": [],
   "source": [
    "cleaned_df['most_similar_transcript_trigrams']=[get_similar_articles(x) for x in sim_trigram]"
   ]
  },
  {
   "cell_type": "code",
   "execution_count": 26,
   "id": "366bdb15",
   "metadata": {},
   "outputs": [],
   "source": [
    "example_talk = cleaned_df.iloc[9,0]\n",
    "example_tags = cleaned_df.iloc[9,8]\n",
    "example_recommendations_unigram = cleaned_df.iloc[9,12].split(',')\n",
    "example_recommendations_bigram = cleaned_df.iloc[9,13].split(',')\n",
    "example_recommendations_trigram = cleaned_df.iloc[9,14].split(',')"
   ]
  },
  {
   "cell_type": "code",
   "execution_count": 27,
   "id": "40362a41",
   "metadata": {},
   "outputs": [
    {
     "name": "stdout",
     "output_type": "stream",
     "text": [
      "Example : Recommendation using Transcript\n",
      "\n",
      "Talk name -> An election system that puts voters (not politicians) first\n",
      "Talk tags -> ['United States', 'democracy', 'politics', 'society', 'TEDx', 'policy', 'government']\n",
      "\n",
      "Recommendations Unigram : \n",
      "What's needed to bring the US voting system into the 21st century\n",
      "E-voting without fraud-\n",
      "The fight for the right to vote in the United States-\n",
      "Which voting system is the best?-\n",
      "The unexpected challenges of a country's first election-\n",
      "\n",
      "Recommendations Bigram : \n",
      "What's needed to bring the US voting system into the 21st century\n",
      "E-voting without fraud-\n",
      "How to gain control of your free time-\n",
      "How much sleep do you really need?-\n",
      "It’s our city. Let’s fix it-\n",
      "\n",
      "Recommendations Trigram : \n",
      "What's needed to bring the US voting system into the 21st century\n",
      "What makes life worth living in the face of death-\n",
      "What if every satellite suddenly disappeared?-\n",
      "The science of friction -- and its surprising impact on our lives-\n",
      "The quest for the coronavirus vaccine-\n",
      "\n"
     ]
    }
   ],
   "source": [
    "print(\"Example : Recommendation using Transcript\\n\")\n",
    "print(\"Talk name ->\",example_talk)\n",
    "print(\"Talk tags ->\",example_tags)\n",
    "print()\n",
    "print(\"Recommendations Unigram : \")\n",
    "for each in example_recommendations_unigram[::-1]:\n",
    "    print(each)\n",
    "print()\n",
    "print(\"Recommendations Bigram : \")\n",
    "for each in example_recommendations_bigram[::-1]:\n",
    "    print(each)\n",
    "print()\n",
    "print(\"Recommendations Trigram : \")\n",
    "for each in example_recommendations_trigram[::-1]:\n",
    "    print(each)\n",
    "print()\n",
    "\n",
    "    "
   ]
  },
  {
   "cell_type": "code",
   "execution_count": 28,
   "id": "e0c7d1cc",
   "metadata": {},
   "outputs": [
    {
     "data": {
      "text/html": [
       "<div>\n",
       "<style scoped>\n",
       "    .dataframe tbody tr th:only-of-type {\n",
       "        vertical-align: middle;\n",
       "    }\n",
       "\n",
       "    .dataframe tbody tr th {\n",
       "        vertical-align: top;\n",
       "    }\n",
       "\n",
       "    .dataframe thead th {\n",
       "        text-align: right;\n",
       "    }\n",
       "</style>\n",
       "<table border=\"1\" class=\"dataframe\">\n",
       "  <thead>\n",
       "    <tr style=\"text-align: right;\">\n",
       "      <th></th>\n",
       "      <th>talk</th>\n",
       "      <th>speaker</th>\n",
       "      <th>speaker_occ</th>\n",
       "      <th>speaker_bio</th>\n",
       "      <th>talk_desc</th>\n",
       "      <th>event</th>\n",
       "      <th>views</th>\n",
       "      <th>duration</th>\n",
       "      <th>tags</th>\n",
       "      <th>recorded_at</th>\n",
       "      <th>published on</th>\n",
       "      <th>transcript</th>\n",
       "      <th>most_similar_transcript_unigrams</th>\n",
       "      <th>most_similar_transcript_bigrams</th>\n",
       "      <th>most_similar_transcript_trigrams</th>\n",
       "    </tr>\n",
       "  </thead>\n",
       "  <tbody>\n",
       "    <tr>\n",
       "      <th>0</th>\n",
       "      <td>Can you outsmart the apples and oranges fallacy?</td>\n",
       "      <td>Elizabeth Cox</td>\n",
       "      <td>Unknown</td>\n",
       "      <td>Unknown</td>\n",
       "      <td>It's 1997. The United States Senate has called...</td>\n",
       "      <td>TED-Ed</td>\n",
       "      <td>119359</td>\n",
       "      <td>327</td>\n",
       "      <td>['education', 'psychology', 'animation', 'TED-...</td>\n",
       "      <td>2021-04-05T00:00:00.000+00:00</td>\n",
       "      <td>1617636753</td>\n",
       "      <td>Baking apple pie? Discount orange warehouse ha...</td>\n",
       "      <td>Can clouds buy us more time to solve climate c...</td>\n",
       "      <td>The case for optimism-,Can clouds buy us more ...</td>\n",
       "      <td>The material that could change the world... fo...</td>\n",
       "    </tr>\n",
       "    <tr>\n",
       "      <th>1</th>\n",
       "      <td>The exploitation of US college athletes</td>\n",
       "      <td>Tim Nevius</td>\n",
       "      <td>College sports lawyer</td>\n",
       "      <td>Tim Nevius is a leading sports lawyer and coll...</td>\n",
       "      <td>Colleges and universities in the US make billi...</td>\n",
       "      <td>TEDxDayton</td>\n",
       "      <td>438573</td>\n",
       "      <td>611</td>\n",
       "      <td>['sports', 'law', 'education', 'United States'...</td>\n",
       "      <td>2020-11-10T00:00:00.000+00:00</td>\n",
       "      <td>1617634131</td>\n",
       "      <td>In college sports, American universities are e...</td>\n",
       "      <td>The \"opportunity gap\" in US public education -...</td>\n",
       "      <td>Help for kids the education system ignores-,An...</td>\n",
       "      <td>An ultra-low-cost college degree-,The boost st...</td>\n",
       "    </tr>\n",
       "    <tr>\n",
       "      <th>2</th>\n",
       "      <td>How does ultrasound work?</td>\n",
       "      <td>Jacques Abramowicz</td>\n",
       "      <td>Unknown</td>\n",
       "      <td>Unknown</td>\n",
       "      <td>In a dark cave, bats can't see much. But even ...</td>\n",
       "      <td>TED-Ed</td>\n",
       "      <td>140874</td>\n",
       "      <td>295</td>\n",
       "      <td>['education', 'technology', 'animation', 'TED-...</td>\n",
       "      <td>2021-04-01T00:00:00.000+00:00</td>\n",
       "      <td>1617290223</td>\n",
       "      <td>In a pitch-black cave, bats can’t see much. Bu...</td>\n",
       "      <td>The sonic boom problem-,How LIGO discovered gr...</td>\n",
       "      <td>Why we need to stop obsessing over World War I...</td>\n",
       "      <td>Averting the climate crisis-,Color-coded surge...</td>\n",
       "    </tr>\n",
       "    <tr>\n",
       "      <th>3</th>\n",
       "      <td>An honest history of an ancient and \"nasty\" word</td>\n",
       "      <td>Kate Lister</td>\n",
       "      <td>Sex historian</td>\n",
       "      <td>Kate Lister is a sex historian and lecturers a...</td>\n",
       "      <td>With candor and cunning, sex historian Kate Li...</td>\n",
       "      <td>TEDxUniversityofGlasgow</td>\n",
       "      <td>569477</td>\n",
       "      <td>1148</td>\n",
       "      <td>['sex', 'language', 'ancient world', 'history'...</td>\n",
       "      <td>2020-03-06T00:00:00.000+00:00</td>\n",
       "      <td>1617289565</td>\n",
       "      <td>First, a warning. As far as offensive words go...</td>\n",
       "      <td>Go ahead, make up new words!-,Beautiful new wo...</td>\n",
       "      <td>The extraordinary power of ordinary people-,Wh...</td>\n",
       "      <td>The extraordinary power of ordinary people-,Do...</td>\n",
       "    </tr>\n",
       "    <tr>\n",
       "      <th>4</th>\n",
       "      <td>The electrical blueprints that orchestrate life</td>\n",
       "      <td>Michael Levin</td>\n",
       "      <td>Bioelectric explorer</td>\n",
       "      <td>Michael Levin's research could give rise to ad...</td>\n",
       "      <td>DNA isn't the only builder in the biological w...</td>\n",
       "      <td>TED2020</td>\n",
       "      <td>122682</td>\n",
       "      <td>1176</td>\n",
       "      <td>['biology', 'science', 'invention', 'robots', ...</td>\n",
       "      <td>2020-05-18T00:00:00.000+00:00</td>\n",
       "      <td>1617213773</td>\n",
       "      <td>Chris Anderson: Mike, welcome. It's good to se...</td>\n",
       "      <td>Printing a human kidney-,The next software rev...</td>\n",
       "      <td>The radical possibilities of man-made DNA-,A c...</td>\n",
       "      <td>My creations, a new form of life-,It's time to...</td>\n",
       "    </tr>\n",
       "  </tbody>\n",
       "</table>\n",
       "</div>"
      ],
      "text/plain": [
       "                                               talk             speaker  \\\n",
       "0  Can you outsmart the apples and oranges fallacy?       Elizabeth Cox   \n",
       "1           The exploitation of US college athletes          Tim Nevius   \n",
       "2                         How does ultrasound work?  Jacques Abramowicz   \n",
       "3  An honest history of an ancient and \"nasty\" word         Kate Lister   \n",
       "4   The electrical blueprints that orchestrate life       Michael Levin   \n",
       "\n",
       "             speaker_occ                                        speaker_bio  \\\n",
       "0                Unknown                                            Unknown   \n",
       "1  College sports lawyer  Tim Nevius is a leading sports lawyer and coll...   \n",
       "2                Unknown                                            Unknown   \n",
       "3          Sex historian  Kate Lister is a sex historian and lecturers a...   \n",
       "4   Bioelectric explorer  Michael Levin's research could give rise to ad...   \n",
       "\n",
       "                                           talk_desc                    event  \\\n",
       "0  It's 1997. The United States Senate has called...                   TED-Ed   \n",
       "1  Colleges and universities in the US make billi...               TEDxDayton   \n",
       "2  In a dark cave, bats can't see much. But even ...                   TED-Ed   \n",
       "3  With candor and cunning, sex historian Kate Li...  TEDxUniversityofGlasgow   \n",
       "4  DNA isn't the only builder in the biological w...                 TED2020    \n",
       "\n",
       "    views  duration                                               tags  \\\n",
       "0  119359       327  ['education', 'psychology', 'animation', 'TED-...   \n",
       "1  438573       611  ['sports', 'law', 'education', 'United States'...   \n",
       "2  140874       295  ['education', 'technology', 'animation', 'TED-...   \n",
       "3  569477      1148  ['sex', 'language', 'ancient world', 'history'...   \n",
       "4  122682      1176  ['biology', 'science', 'invention', 'robots', ...   \n",
       "\n",
       "                     recorded_at  published on  \\\n",
       "0  2021-04-05T00:00:00.000+00:00    1617636753   \n",
       "1  2020-11-10T00:00:00.000+00:00    1617634131   \n",
       "2  2021-04-01T00:00:00.000+00:00    1617290223   \n",
       "3  2020-03-06T00:00:00.000+00:00    1617289565   \n",
       "4  2020-05-18T00:00:00.000+00:00    1617213773   \n",
       "\n",
       "                                          transcript  \\\n",
       "0  Baking apple pie? Discount orange warehouse ha...   \n",
       "1  In college sports, American universities are e...   \n",
       "2  In a pitch-black cave, bats can’t see much. Bu...   \n",
       "3  First, a warning. As far as offensive words go...   \n",
       "4  Chris Anderson: Mike, welcome. It's good to se...   \n",
       "\n",
       "                    most_similar_transcript_unigrams  \\\n",
       "0  Can clouds buy us more time to solve climate c...   \n",
       "1  The \"opportunity gap\" in US public education -...   \n",
       "2  The sonic boom problem-,How LIGO discovered gr...   \n",
       "3  Go ahead, make up new words!-,Beautiful new wo...   \n",
       "4  Printing a human kidney-,The next software rev...   \n",
       "\n",
       "                     most_similar_transcript_bigrams  \\\n",
       "0  The case for optimism-,Can clouds buy us more ...   \n",
       "1  Help for kids the education system ignores-,An...   \n",
       "2  Why we need to stop obsessing over World War I...   \n",
       "3  The extraordinary power of ordinary people-,Wh...   \n",
       "4  The radical possibilities of man-made DNA-,A c...   \n",
       "\n",
       "                    most_similar_transcript_trigrams  \n",
       "0  The material that could change the world... fo...  \n",
       "1  An ultra-low-cost college degree-,The boost st...  \n",
       "2  Averting the climate crisis-,Color-coded surge...  \n",
       "3  The extraordinary power of ordinary people-,Do...  \n",
       "4  My creations, a new form of life-,It's time to...  "
      ]
     },
     "execution_count": 28,
     "metadata": {},
     "output_type": "execute_result"
    }
   ],
   "source": [
    "cleaned_df.head(5)"
   ]
  },
  {
   "cell_type": "markdown",
   "id": "86c1f642",
   "metadata": {},
   "source": [
    "# Recommendation using Talk Description"
   ]
  },
  {
   "cell_type": "markdown",
   "id": "b28c399b",
   "metadata": {},
   "source": [
    "## Term Frequency-Inverse Document Frequency (Tf-Idf)"
   ]
  },
  {
   "cell_type": "code",
   "execution_count": 29,
   "id": "f05b2f1f",
   "metadata": {},
   "outputs": [
    {
     "name": "stdout",
     "output_type": "stream",
     "text": [
      "(4016, 21448)\n",
      "Example : Recommendation using Talk Descritption\n",
      "\n",
      "Talk name -> An election system that puts voters (not politicians) first\n",
      "Talk tags -> ['United States', 'democracy', 'politics', 'society', 'TEDx', 'policy', 'government']\n",
      "\n",
      "Recommendations Unigram : \n",
      "The unexpected challenges of a country's first election\n",
      "Can democracy exist without trust?\n",
      "What's needed to bring the US voting system into the 21st century\n",
      "Does your vote count? The Electoral College explained\n",
      "\n",
      "Recommendations Bigram : \n",
      "The fight for the right to vote in the United States\n",
      "Does racism affect how you vote?\n",
      "Averting the climate crisis\n",
      "Why must artists be poor?\n",
      "\n",
      "Recommendations Trigram : \n",
      "Averting the climate crisis\n",
      "\"my mama\" / \"BLACK BANANA\"\n",
      "How to inspire every child to be a lifelong reader\n",
      "Why we should end animal agriculture\n",
      "\n"
     ]
    }
   ],
   "source": [
    "Text=cleaned_df['talk_desc'].tolist()\n",
    "tfidf=text.TfidfVectorizer(input=Text,stop_words=\"english\")\n",
    "matrix=tfidf.fit_transform(Text)\n",
    "print(matrix.shape)\n",
    "\n",
    "## Cosine Similarity\n",
    "\n",
    "### Unigrams\n",
    "\n",
    "from sklearn.metrics.pairwise import cosine_similarity\n",
    "sim_unigram=cosine_similarity(matrix)\n",
    "sim_unigram.shape\n",
    "\n",
    "#https://www.kaggle.com/code/gunnvant/building-content-recommender-tutorial\n",
    "#finding the most similar 5 ted talks using the correlation matrix of words created using cosine similarity\n",
    "def get_similar_articles(x):\n",
    "    return \",\".join((cleaned_df['talk']).loc[x.argsort()[-5:-1]])\n",
    "cleaned_df['most_similar_desc_unigrams']=[get_similar_articles(x) for x in sim_unigram]\n",
    "\n",
    "cleaned_df.head(5)\n",
    "\n",
    "### Bigrams\n",
    "\n",
    "tfidf_bigrams=text.TfidfVectorizer(input=Text,stop_words=\"english\",ngram_range=(2,2))\n",
    "matrix_bigrams=tfidf_bigrams.fit_transform(Text)\n",
    "matrix_bigrams.shape\n",
    "\n",
    "sim_bigram=cosine_similarity(matrix_bigrams)\n",
    "sim_bigram.shape\n",
    "\n",
    "cleaned_df['most_similar_desc_bigrams']=[get_similar_articles(x) for x in sim_bigram]\n",
    "\n",
    "cleaned_df.head(1).most_similar_desc_unigrams\n",
    "\n",
    "### Trigrams\n",
    "\n",
    "tfidf_trigrams=text.TfidfVectorizer(input=Text,stop_words=\"english\",ngram_range=(3,3))\n",
    "matrix_trigrams=tfidf_trigrams.fit_transform(Text)\n",
    "matrix_trigrams.shape\n",
    "\n",
    "sim_trigram=cosine_similarity(matrix_trigrams)\n",
    "sim_trigram.shape\n",
    "\n",
    "cleaned_df['most_similar_desc_trigrams']=[get_similar_articles(x) for x in sim_trigram]\n",
    "\n",
    "example_talk = cleaned_df.iloc[9,0]\n",
    "example_tags = cleaned_df.iloc[9,8]\n",
    "example_recommendations_unigram = cleaned_df.iloc[9,15].split(',')\n",
    "example_recommendations_bigram = cleaned_df.iloc[9,16].split(',')\n",
    "example_recommendations_trigram = cleaned_df.iloc[9,17].split(',')\n",
    "\n",
    "print(\"Example : Recommendation using Talk Descritption\\n\")\n",
    "print(\"Talk name ->\",example_talk)\n",
    "print(\"Talk tags ->\",example_tags)\n",
    "print()\n",
    "print(\"Recommendations Unigram : \")\n",
    "for each in example_recommendations_unigram[::-1]:\n",
    "    print(each)\n",
    "print()\n",
    "print(\"Recommendations Bigram : \")\n",
    "for each in example_recommendations_bigram[::-1]:\n",
    "    print(each)\n",
    "print()\n",
    "print(\"Recommendations Trigram : \")\n",
    "for each in example_recommendations_trigram[::-1]:\n",
    "    print(each)\n",
    "print()\n",
    "\n",
    "    "
   ]
  },
  {
   "cell_type": "markdown",
   "id": "d8155b00",
   "metadata": {},
   "source": [
    "# Recommendation using Talk title"
   ]
  },
  {
   "cell_type": "markdown",
   "id": "a517bbc1",
   "metadata": {},
   "source": [
    "## Term Frequency-Inverse Document Frequency (Tf-Idf)"
   ]
  },
  {
   "cell_type": "code",
   "execution_count": 30,
   "id": "956ccfb6",
   "metadata": {},
   "outputs": [
    {
     "name": "stdout",
     "output_type": "stream",
     "text": [
      "(4016, 4900)\n",
      "Example : Recommendation using Talk Title\n",
      "\n",
      "Talk name -> An election system that puts voters (not politicians) first\n",
      "Talk tags -> ['United States', 'democracy', 'politics', 'society', 'TEDx', 'policy', 'government']\n",
      "\n",
      "Recommendations Unigram : \n",
      "A bold idea to replace politicians\n",
      "Can you solve the fantasy election riddle?\n",
      "How (and why) Russia hacked the US election\n",
      "How the new generation of Latinx voters could change US elections\n",
      "\n",
      "Recommendations Bigram : \n",
      "Averting the climate crisis\n",
      "\"my mama\" / \"BLACK BANANA\"\n",
      "How to inspire every child to be a lifelong reader\n",
      "Why we should end animal agriculture\n",
      "\n",
      "Recommendations Trigram : \n",
      "Averting the climate crisis\n",
      "\"my mama\" / \"BLACK BANANA\"\n",
      "How to inspire every child to be a lifelong reader\n",
      "Why we should end animal agriculture\n",
      "\n"
     ]
    }
   ],
   "source": [
    "Text=cleaned_df['talk'].tolist()\n",
    "tfidf=text.TfidfVectorizer(input=Text,stop_words=\"english\")\n",
    "matrix=tfidf.fit_transform(Text)\n",
    "print(matrix.shape)\n",
    "\n",
    "## Cosine Similarity\n",
    "\n",
    "### Unigrams\n",
    "\n",
    "from sklearn.metrics.pairwise import cosine_similarity\n",
    "sim_unigram=cosine_similarity(matrix)\n",
    "sim_unigram.shape\n",
    "\n",
    "#https://www.kaggle.com/code/gunnvant/building-content-recommender-tutorial\n",
    "#finding the most similar 5 ted talks using the correlation matrix of words created using cosine similarity\n",
    "def get_similar_articles(x):\n",
    "    return \",\".join((cleaned_df['talk']).loc[x.argsort()[-5:-1]])\n",
    "cleaned_df['most_similar_title_unigrams']=[get_similar_articles(x) for x in sim_unigram]\n",
    "\n",
    "cleaned_df.head(5)\n",
    "\n",
    "### Bigrams\n",
    "\n",
    "tfidf_bigrams=text.TfidfVectorizer(input=Text,stop_words=\"english\",ngram_range=(2,2))\n",
    "matrix_bigrams=tfidf_bigrams.fit_transform(Text)\n",
    "matrix_bigrams.shape\n",
    "\n",
    "sim_bigram=cosine_similarity(matrix_bigrams)\n",
    "sim_bigram.shape\n",
    "\n",
    "cleaned_df['most_similar_title_bigrams']=[get_similar_articles(x) for x in sim_bigram]\n",
    "\n",
    "cleaned_df.head(1).most_similar_title_unigrams\n",
    "\n",
    "### Trigrams\n",
    "\n",
    "tfidf_trigrams=text.TfidfVectorizer(input=Text,stop_words=\"english\",ngram_range=(3,3))\n",
    "matrix_trigrams=tfidf_trigrams.fit_transform(Text)\n",
    "matrix_trigrams.shape\n",
    "\n",
    "sim_trigram=cosine_similarity(matrix_trigrams)\n",
    "sim_trigram.shape\n",
    "\n",
    "cleaned_df['most_similar_title_trigrams']=[get_similar_articles(x) for x in sim_trigram]\n",
    "\n",
    "\n",
    "example_talk = cleaned_df.iloc[9,0]\n",
    "example_tags = cleaned_df.iloc[9,8]\n",
    "example_recommendations_unigram = cleaned_df.iloc[9,18].split(',')\n",
    "example_recommendations_bigram = cleaned_df.iloc[9,19].split(',')\n",
    "example_recommendations_trigram = cleaned_df.iloc[9,20].split(',')\n",
    "\n",
    "print(\"Example : Recommendation using Talk Title\\n\")\n",
    "print(\"Talk name ->\",example_talk)\n",
    "print(\"Talk tags ->\",example_tags)\n",
    "print()\n",
    "print(\"Recommendations Unigram : \")\n",
    "for each in example_recommendations_unigram[::-1]:\n",
    "    print(each)\n",
    "print()\n",
    "print(\"Recommendations Bigram : \")\n",
    "for each in example_recommendations_bigram[::-1]:\n",
    "    print(each)\n",
    "print()\n",
    "print(\"Recommendations Trigram : \")\n",
    "for each in example_recommendations_trigram[::-1]:\n",
    "    print(each)\n",
    "print()\n"
   ]
  },
  {
   "cell_type": "code",
   "execution_count": null,
   "id": "f76264fc",
   "metadata": {},
   "outputs": [],
   "source": [
    "\n"
   ]
  },
  {
   "cell_type": "code",
   "execution_count": null,
   "id": "df78057e",
   "metadata": {},
   "outputs": [],
   "source": []
  }
 ],
 "metadata": {
  "kernelspec": {
   "display_name": "Python 3.8 (tensorflow)",
   "language": "python",
   "name": "tensorflow"
  },
  "language_info": {
   "codemirror_mode": {
    "name": "ipython",
    "version": 3
   },
   "file_extension": ".py",
   "mimetype": "text/x-python",
   "name": "python",
   "nbconvert_exporter": "python",
   "pygments_lexer": "ipython3",
   "version": "3.8.12"
  }
 },
 "nbformat": 4,
 "nbformat_minor": 5
}
