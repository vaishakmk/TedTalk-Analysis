{
 "cells": [
  {
   "cell_type": "code",
   "execution_count": 3,
   "id": "d8895bea",
   "metadata": {},
   "outputs": [],
   "source": [
    "import numpy as np\n",
    "import pandas as pd\n",
    "import matplotlib.pyplot as plt"
   ]
  },
  {
   "cell_type": "code",
   "execution_count": null,
   "id": "e8cf916d",
   "metadata": {},
   "outputs": [],
   "source": [
    "speaker_data = pd.read_csv('dataset/speaker_data.csv')\n",
    "talk_data = pd.read_csv('dataset/talk_data.csv')\n",
    "transcript_data = pd.read_csv('dataset/transcript_data.csv')"
   ]
  },
  {
   "cell_type": "code",
   "execution_count": null,
   "id": "5495e551",
   "metadata": {},
   "outputs": [],
   "source": [
    "speaker_data.info()"
   ]
  },
  {
   "cell_type": "code",
   "execution_count": null,
   "id": "00e36e03",
   "metadata": {},
   "outputs": [],
   "source": [
    "speaker_data.shape"
   ]
  },
  {
   "cell_type": "code",
   "execution_count": null,
   "id": "f81c5c1c",
   "metadata": {},
   "outputs": [],
   "source": [
    "talk_data.shape"
   ]
  },
  {
   "cell_type": "code",
   "execution_count": null,
   "id": "5e904c23",
   "metadata": {},
   "outputs": [],
   "source": [
    "transcript_data.shape"
   ]
  },
  {
   "cell_type": "code",
   "execution_count": null,
   "id": "0b29431d",
   "metadata": {},
   "outputs": [],
   "source": [
    "speaker_data.isnull().sum()"
   ]
  },
  {
   "cell_type": "code",
   "execution_count": null,
   "id": "7a6b3296",
   "metadata": {},
   "outputs": [],
   "source": [
    "speaker_data = speaker_data.dropna(subset=['talk'])"
   ]
  },
  {
   "cell_type": "code",
   "execution_count": null,
   "id": "089fbf5a",
   "metadata": {},
   "outputs": [],
   "source": [
    "speaker_data.isnull().sum()"
   ]
  },
  {
   "cell_type": "code",
   "execution_count": null,
   "id": "f7956b83",
   "metadata": {},
   "outputs": [],
   "source": [
    "# filling 648 'speaker_occ'=Nan with value 'Unknown'\n",
    "speaker_data['speaker_occ'] = speaker_data['speaker_occ'].fillna('Unknown')"
   ]
  },
  {
   "cell_type": "code",
   "execution_count": null,
   "id": "9e26e6c5",
   "metadata": {},
   "outputs": [],
   "source": [
    "speaker_data.isnull().sum()"
   ]
  },
  {
   "cell_type": "code",
   "execution_count": null,
   "id": "bc39ddd9",
   "metadata": {},
   "outputs": [],
   "source": [
    "#filling 623 'speaker_bio'=Nan with value 'Unknown'\n",
    "speaker_data['speaker_bio'] = speaker_data['speaker_bio'].fillna('Unknown')"
   ]
  },
  {
   "cell_type": "code",
   "execution_count": null,
   "id": "06afa661",
   "metadata": {},
   "outputs": [],
   "source": [
    "speaker_data.isnull().sum()"
   ]
  },
  {
   "cell_type": "code",
   "execution_count": null,
   "id": "0fb96bda",
   "metadata": {},
   "outputs": [],
   "source": [
    "speaker_data['speaker'] = speaker_data['speaker'].fillna('Unknown')"
   ]
  },
  {
   "cell_type": "code",
   "execution_count": null,
   "id": "62e5b5c6",
   "metadata": {},
   "outputs": [],
   "source": [
    "speaker_data.isnull().sum()"
   ]
  },
  {
   "cell_type": "code",
   "execution_count": null,
   "id": "110cb217",
   "metadata": {},
   "outputs": [],
   "source": [
    "#dropping the 'speaker_title' since majority is Nan and it does not provide any useful insight for our use case\n",
    "speaker_data = speaker_data.drop(columns=['speaker_title'])"
   ]
  },
  {
   "cell_type": "code",
   "execution_count": null,
   "id": "351b42f9",
   "metadata": {},
   "outputs": [],
   "source": [
    "speaker_data"
   ]
  },
  {
   "cell_type": "code",
   "execution_count": null,
   "id": "b148260e",
   "metadata": {},
   "outputs": [],
   "source": [
    "talk_data.info()"
   ]
  },
  {
   "cell_type": "code",
   "execution_count": null,
   "id": "b2bdf183",
   "metadata": {},
   "outputs": [],
   "source": [
    "talk_data.isnull().sum()"
   ]
  },
  {
   "cell_type": "code",
   "execution_count": null,
   "id": "4e2bcf3a",
   "metadata": {},
   "outputs": [],
   "source": [
    "transcript_data.info()"
   ]
  },
  {
   "cell_type": "code",
   "execution_count": null,
   "id": "b5146c14",
   "metadata": {},
   "outputs": [],
   "source": [
    "transcript_data.isnull().sum()"
   ]
  },
  {
   "cell_type": "code",
   "execution_count": null,
   "id": "9bdd3edd",
   "metadata": {},
   "outputs": [],
   "source": [
    "transcript_data = transcript_data.dropna(subset=['transcript'])"
   ]
  },
  {
   "cell_type": "code",
   "execution_count": null,
   "id": "ea6b436f",
   "metadata": {},
   "outputs": [],
   "source": [
    "transcript_data.info()"
   ]
  },
  {
   "cell_type": "code",
   "execution_count": null,
   "id": "687d2942",
   "metadata": {},
   "outputs": [],
   "source": [
    "speaker_data.info()"
   ]
  },
  {
   "cell_type": "code",
   "execution_count": null,
   "id": "ba4b732e",
   "metadata": {},
   "outputs": [],
   "source": [
    "talk_data.info()"
   ]
  },
  {
   "cell_type": "code",
   "execution_count": null,
   "id": "74a8c217",
   "metadata": {},
   "outputs": [],
   "source": [
    "final_df = pd.merge(speaker_data, talk_data, how='inner', left_on = 'talk', right_on = 'talk_name')"
   ]
  },
  {
   "cell_type": "code",
   "execution_count": null,
   "id": "3a439993",
   "metadata": {},
   "outputs": [],
   "source": [
    "final_df.info()"
   ]
  },
  {
   "cell_type": "code",
   "execution_count": null,
   "id": "6fe49041",
   "metadata": {},
   "outputs": [],
   "source": [
    "#Dropping the duplicate column 'talk_name'\n",
    "final_df = final_df.drop(columns=['talk_name'])"
   ]
  },
  {
   "cell_type": "code",
   "execution_count": null,
   "id": "dea39571",
   "metadata": {},
   "outputs": [],
   "source": [
    "final_df.info()"
   ]
  },
  {
   "cell_type": "code",
   "execution_count": null,
   "id": "899b3a9b",
   "metadata": {},
   "outputs": [],
   "source": [
    "final_df = pd.merge(final_df, transcript_data, how='inner', left_on = 'talk', right_on = 'title')"
   ]
  },
  {
   "cell_type": "code",
   "execution_count": null,
   "id": "1dddda11",
   "metadata": {},
   "outputs": [],
   "source": [
    "final_df.info()"
   ]
  },
  {
   "cell_type": "code",
   "execution_count": null,
   "id": "a60b08c9",
   "metadata": {},
   "outputs": [],
   "source": [
    "final_df = final_df.drop(columns=['title'])"
   ]
  },
  {
   "cell_type": "code",
   "execution_count": null,
   "id": "51458cf7",
   "metadata": {},
   "outputs": [],
   "source": [
    "#Removing all rows which have duplicated talk name\n",
    "final_df = final_df.drop_duplicates(subset=['talk'])"
   ]
  },
  {
   "cell_type": "code",
   "execution_count": null,
   "id": "9cb14d25",
   "metadata": {},
   "outputs": [],
   "source": [
    "final_df.info()"
   ]
  },
  {
   "cell_type": "code",
   "execution_count": null,
   "id": "cc2da36c",
   "metadata": {},
   "outputs": [],
   "source": [
    "final_df.to_csv('cleaned data/vaishak_data.csv',index=False)"
   ]
  },
  {
   "cell_type": "code",
   "execution_count": null,
   "id": "c037f71d",
   "metadata": {},
   "outputs": [],
   "source": [
    "final_df.iloc[3][8]"
   ]
  },
  {
   "cell_type": "code",
   "execution_count": null,
   "id": "56b603a6",
   "metadata": {},
   "outputs": [],
   "source": []
  },
  {
   "cell_type": "code",
   "execution_count": null,
   "id": "b38cee92",
   "metadata": {},
   "outputs": [],
   "source": []
  }
 ],
 "metadata": {
  "kernelspec": {
   "display_name": "Python 3",
   "language": "python",
   "name": "python3"
  },
  "language_info": {
   "codemirror_mode": {
    "name": "ipython",
    "version": 3
   },
   "file_extension": ".py",
   "mimetype": "text/x-python",
   "name": "python",
   "nbconvert_exporter": "python",
   "pygments_lexer": "ipython3",
   "version": "3.8.8"
  }
 },
 "nbformat": 4,
 "nbformat_minor": 5
}
