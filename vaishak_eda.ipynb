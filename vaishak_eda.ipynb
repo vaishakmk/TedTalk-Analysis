{
 "cells": [
  {
   "cell_type": "code",
   "execution_count": 1,
   "id": "d8895bea",
   "metadata": {},
   "outputs": [],
   "source": [
    "import numpy as np\n",
    "import pandas as pd\n",
    "import matplotlib.pyplot as plt"
   ]
  },
  {
   "cell_type": "code",
   "execution_count": 2,
   "id": "e8cf916d",
   "metadata": {},
   "outputs": [],
   "source": [
    "speaker_data = pd.read_csv('dataset/speaker_data.csv')\n",
    "talk_data = pd.read_csv('dataset/talk_data.csv')\n",
    "transcript_data = pd.read_csv('dataset/transcript_data.csv')"
   ]
  },
  {
   "cell_type": "code",
   "execution_count": 3,
   "id": "5495e551",
   "metadata": {},
   "outputs": [
    {
     "name": "stdout",
     "output_type": "stream",
     "text": [
      "<class 'pandas.core.frame.DataFrame'>\n",
      "RangeIndex: 4442 entries, 0 to 4441\n",
      "Data columns (total 5 columns):\n",
      " #   Column         Non-Null Count  Dtype \n",
      "---  ------         --------------  ----- \n",
      " 0   talk           4301 non-null   object\n",
      " 1   speaker        4297 non-null   object\n",
      " 2   speaker_title  9 non-null      object\n",
      " 3   speaker_occ    3653 non-null   object\n",
      " 4   speaker_bio    3678 non-null   object\n",
      "dtypes: object(5)\n",
      "memory usage: 173.6+ KB\n"
     ]
    }
   ],
   "source": [
    "speaker_data.info()"
   ]
  },
  {
   "cell_type": "code",
   "execution_count": 4,
   "id": "00e36e03",
   "metadata": {},
   "outputs": [
    {
     "data": {
      "text/plain": [
       "(4442, 5)"
      ]
     },
     "execution_count": 4,
     "metadata": {},
     "output_type": "execute_result"
    }
   ],
   "source": [
    "speaker_data.shape"
   ]
  },
  {
   "cell_type": "code",
   "execution_count": 5,
   "id": "f81c5c1c",
   "metadata": {},
   "outputs": [
    {
     "data": {
      "text/plain": [
       "(4322, 8)"
      ]
     },
     "execution_count": 5,
     "metadata": {},
     "output_type": "execute_result"
    }
   ],
   "source": [
    "talk_data.shape"
   ]
  },
  {
   "cell_type": "code",
   "execution_count": 6,
   "id": "5e904c23",
   "metadata": {},
   "outputs": [
    {
     "data": {
      "text/plain": [
       "(4442, 2)"
      ]
     },
     "execution_count": 6,
     "metadata": {},
     "output_type": "execute_result"
    }
   ],
   "source": [
    "transcript_data.shape"
   ]
  },
  {
   "cell_type": "code",
   "execution_count": 7,
   "id": "0b29431d",
   "metadata": {},
   "outputs": [
    {
     "data": {
      "text/plain": [
       "talk              141\n",
       "speaker           145\n",
       "speaker_title    4433\n",
       "speaker_occ       789\n",
       "speaker_bio       764\n",
       "dtype: int64"
      ]
     },
     "execution_count": 7,
     "metadata": {},
     "output_type": "execute_result"
    }
   ],
   "source": [
    "speaker_data.isnull().sum()"
   ]
  },
  {
   "cell_type": "code",
   "execution_count": 8,
   "id": "7a6b3296",
   "metadata": {},
   "outputs": [],
   "source": [
    "speaker_data = speaker_data.dropna(subset=['talk'])"
   ]
  },
  {
   "cell_type": "code",
   "execution_count": 9,
   "id": "089fbf5a",
   "metadata": {},
   "outputs": [
    {
     "data": {
      "text/plain": [
       "talk                0\n",
       "speaker             4\n",
       "speaker_title    4292\n",
       "speaker_occ       648\n",
       "speaker_bio       623\n",
       "dtype: int64"
      ]
     },
     "execution_count": 9,
     "metadata": {},
     "output_type": "execute_result"
    }
   ],
   "source": [
    "speaker_data.isnull().sum()"
   ]
  },
  {
   "cell_type": "code",
   "execution_count": 10,
   "id": "f7956b83",
   "metadata": {},
   "outputs": [],
   "source": [
    "# filling 648 'speaker_occ'=Nan with value 'Unknown'\n",
    "speaker_data['speaker_occ'] = speaker_data['speaker_occ'].fillna('Unknown')"
   ]
  },
  {
   "cell_type": "code",
   "execution_count": 11,
   "id": "9e26e6c5",
   "metadata": {},
   "outputs": [
    {
     "data": {
      "text/plain": [
       "talk                0\n",
       "speaker             4\n",
       "speaker_title    4292\n",
       "speaker_occ         0\n",
       "speaker_bio       623\n",
       "dtype: int64"
      ]
     },
     "execution_count": 11,
     "metadata": {},
     "output_type": "execute_result"
    }
   ],
   "source": [
    "speaker_data.isnull().sum()"
   ]
  },
  {
   "cell_type": "code",
   "execution_count": 12,
   "id": "bc39ddd9",
   "metadata": {},
   "outputs": [],
   "source": [
    "#filling 623 'speaker_bio'=Nan with value 'Unknown'\n",
    "speaker_data['speaker_bio'] = speaker_data['speaker_bio'].fillna('Unknown')"
   ]
  },
  {
   "cell_type": "code",
   "execution_count": 13,
   "id": "06afa661",
   "metadata": {},
   "outputs": [
    {
     "data": {
      "text/plain": [
       "talk                0\n",
       "speaker             4\n",
       "speaker_title    4292\n",
       "speaker_occ         0\n",
       "speaker_bio         0\n",
       "dtype: int64"
      ]
     },
     "execution_count": 13,
     "metadata": {},
     "output_type": "execute_result"
    }
   ],
   "source": [
    "speaker_data.isnull().sum()"
   ]
  },
  {
   "cell_type": "code",
   "execution_count": 14,
   "id": "0fb96bda",
   "metadata": {},
   "outputs": [],
   "source": [
    "speaker_data['speaker'] = speaker_data['speaker'].fillna('Unknown')"
   ]
  },
  {
   "cell_type": "code",
   "execution_count": 15,
   "id": "62e5b5c6",
   "metadata": {},
   "outputs": [
    {
     "data": {
      "text/plain": [
       "talk                0\n",
       "speaker             0\n",
       "speaker_title    4292\n",
       "speaker_occ         0\n",
       "speaker_bio         0\n",
       "dtype: int64"
      ]
     },
     "execution_count": 15,
     "metadata": {},
     "output_type": "execute_result"
    }
   ],
   "source": [
    "speaker_data.isnull().sum()"
   ]
  },
  {
   "cell_type": "code",
   "execution_count": 16,
   "id": "110cb217",
   "metadata": {},
   "outputs": [],
   "source": [
    "#dropping the 'speaker_title' since majority is Nan and it does not provide any useful insight for our use case\n",
    "speaker_data = speaker_data.drop(columns=['speaker_title'])"
   ]
  },
  {
   "cell_type": "code",
   "execution_count": 17,
   "id": "351b42f9",
   "metadata": {},
   "outputs": [
    {
     "data": {
      "text/html": [
       "<div>\n",
       "<style scoped>\n",
       "    .dataframe tbody tr th:only-of-type {\n",
       "        vertical-align: middle;\n",
       "    }\n",
       "\n",
       "    .dataframe tbody tr th {\n",
       "        vertical-align: top;\n",
       "    }\n",
       "\n",
       "    .dataframe thead th {\n",
       "        text-align: right;\n",
       "    }\n",
       "</style>\n",
       "<table border=\"1\" class=\"dataframe\">\n",
       "  <thead>\n",
       "    <tr style=\"text-align: right;\">\n",
       "      <th></th>\n",
       "      <th>talk</th>\n",
       "      <th>speaker</th>\n",
       "      <th>speaker_occ</th>\n",
       "      <th>speaker_bio</th>\n",
       "    </tr>\n",
       "  </thead>\n",
       "  <tbody>\n",
       "    <tr>\n",
       "      <th>0</th>\n",
       "      <td>Can you outsmart the apples and oranges fallacy?</td>\n",
       "      <td>Elizabeth Cox</td>\n",
       "      <td>Unknown</td>\n",
       "      <td>Unknown</td>\n",
       "    </tr>\n",
       "    <tr>\n",
       "      <th>1</th>\n",
       "      <td>The exploitation of US college athletes</td>\n",
       "      <td>Tim Nevius</td>\n",
       "      <td>College sports lawyer</td>\n",
       "      <td>Tim Nevius is a leading sports lawyer and coll...</td>\n",
       "    </tr>\n",
       "    <tr>\n",
       "      <th>2</th>\n",
       "      <td>How does ultrasound work?</td>\n",
       "      <td>Jacques Abramowicz</td>\n",
       "      <td>Unknown</td>\n",
       "      <td>Unknown</td>\n",
       "    </tr>\n",
       "    <tr>\n",
       "      <th>3</th>\n",
       "      <td>An honest history of an ancient and \"nasty\" word</td>\n",
       "      <td>Kate Lister</td>\n",
       "      <td>Sex historian</td>\n",
       "      <td>Kate Lister is a sex historian and lecturers a...</td>\n",
       "    </tr>\n",
       "    <tr>\n",
       "      <th>4</th>\n",
       "      <td>The electrical blueprints that orchestrate life</td>\n",
       "      <td>Michael Levin</td>\n",
       "      <td>Bioelectric explorer</td>\n",
       "      <td>Michael Levin's research could give rise to ad...</td>\n",
       "    </tr>\n",
       "    <tr>\n",
       "      <th>...</th>\n",
       "      <td>...</td>\n",
       "      <td>...</td>\n",
       "      <td>...</td>\n",
       "      <td>...</td>\n",
       "    </tr>\n",
       "    <tr>\n",
       "      <th>4437</th>\n",
       "      <td>The best stats you've ever seen</td>\n",
       "      <td>Hans Rosling</td>\n",
       "      <td>Global health expert; data visionary</td>\n",
       "      <td>In Hans Rosling’s hands, data sings. Global tr...</td>\n",
       "    </tr>\n",
       "    <tr>\n",
       "      <th>4438</th>\n",
       "      <td>Do schools kill creativity?</td>\n",
       "      <td>Sir Ken Robinson</td>\n",
       "      <td>Author, educator</td>\n",
       "      <td>Creativity expert Sir Ken Robinson challenged ...</td>\n",
       "    </tr>\n",
       "    <tr>\n",
       "      <th>4439</th>\n",
       "      <td>Greening the ghetto</td>\n",
       "      <td>Majora Carter</td>\n",
       "      <td>Activist for environmental justice</td>\n",
       "      <td>Majora Carter redefined the field of environme...</td>\n",
       "    </tr>\n",
       "    <tr>\n",
       "      <th>4440</th>\n",
       "      <td>Simplicity sells</td>\n",
       "      <td>David Pogue</td>\n",
       "      <td>Technology columnist</td>\n",
       "      <td>David Pogue is the personal technology columni...</td>\n",
       "    </tr>\n",
       "    <tr>\n",
       "      <th>4441</th>\n",
       "      <td>Averting the climate crisis</td>\n",
       "      <td>Al Gore</td>\n",
       "      <td>Climate advocate</td>\n",
       "      <td>Nobel Laureate Al Gore focused the world's att...</td>\n",
       "    </tr>\n",
       "  </tbody>\n",
       "</table>\n",
       "<p>4301 rows × 4 columns</p>\n",
       "</div>"
      ],
      "text/plain": [
       "                                                  talk             speaker  \\\n",
       "0     Can you outsmart the apples and oranges fallacy?       Elizabeth Cox   \n",
       "1              The exploitation of US college athletes          Tim Nevius   \n",
       "2                            How does ultrasound work?  Jacques Abramowicz   \n",
       "3     An honest history of an ancient and \"nasty\" word         Kate Lister   \n",
       "4      The electrical blueprints that orchestrate life       Michael Levin   \n",
       "...                                                ...                 ...   \n",
       "4437                   The best stats you've ever seen        Hans Rosling   \n",
       "4438                       Do schools kill creativity?    Sir Ken Robinson   \n",
       "4439                               Greening the ghetto       Majora Carter   \n",
       "4440                                  Simplicity sells         David Pogue   \n",
       "4441                       Averting the climate crisis             Al Gore   \n",
       "\n",
       "                               speaker_occ  \\\n",
       "0                                  Unknown   \n",
       "1                    College sports lawyer   \n",
       "2                                  Unknown   \n",
       "3                            Sex historian   \n",
       "4                     Bioelectric explorer   \n",
       "...                                    ...   \n",
       "4437  Global health expert; data visionary   \n",
       "4438                      Author, educator   \n",
       "4439    Activist for environmental justice   \n",
       "4440                  Technology columnist   \n",
       "4441                      Climate advocate   \n",
       "\n",
       "                                            speaker_bio  \n",
       "0                                               Unknown  \n",
       "1     Tim Nevius is a leading sports lawyer and coll...  \n",
       "2                                               Unknown  \n",
       "3     Kate Lister is a sex historian and lecturers a...  \n",
       "4     Michael Levin's research could give rise to ad...  \n",
       "...                                                 ...  \n",
       "4437  In Hans Rosling’s hands, data sings. Global tr...  \n",
       "4438  Creativity expert Sir Ken Robinson challenged ...  \n",
       "4439  Majora Carter redefined the field of environme...  \n",
       "4440  David Pogue is the personal technology columni...  \n",
       "4441  Nobel Laureate Al Gore focused the world's att...  \n",
       "\n",
       "[4301 rows x 4 columns]"
      ]
     },
     "execution_count": 17,
     "metadata": {},
     "output_type": "execute_result"
    }
   ],
   "source": [
    "speaker_data"
   ]
  },
  {
   "cell_type": "code",
   "execution_count": 18,
   "id": "b148260e",
   "metadata": {},
   "outputs": [
    {
     "name": "stdout",
     "output_type": "stream",
     "text": [
      "<class 'pandas.core.frame.DataFrame'>\n",
      "RangeIndex: 4322 entries, 0 to 4321\n",
      "Data columns (total 8 columns):\n",
      " #   Column        Non-Null Count  Dtype \n",
      "---  ------        --------------  ----- \n",
      " 0   talk_desc     4322 non-null   object\n",
      " 1   event         4322 non-null   object\n",
      " 2   talk_name     4322 non-null   object\n",
      " 3   views         4322 non-null   int64 \n",
      " 4   duration      4322 non-null   int64 \n",
      " 5   tags          4322 non-null   object\n",
      " 6   recorded_at   4322 non-null   object\n",
      " 7   published on  4322 non-null   int64 \n",
      "dtypes: int64(3), object(5)\n",
      "memory usage: 270.2+ KB\n"
     ]
    }
   ],
   "source": [
    "talk_data.info()"
   ]
  },
  {
   "cell_type": "code",
   "execution_count": 19,
   "id": "b2bdf183",
   "metadata": {},
   "outputs": [
    {
     "data": {
      "text/plain": [
       "talk_desc       0\n",
       "event           0\n",
       "talk_name       0\n",
       "views           0\n",
       "duration        0\n",
       "tags            0\n",
       "recorded_at     0\n",
       "published on    0\n",
       "dtype: int64"
      ]
     },
     "execution_count": 19,
     "metadata": {},
     "output_type": "execute_result"
    }
   ],
   "source": [
    "talk_data.isnull().sum()"
   ]
  },
  {
   "cell_type": "code",
   "execution_count": 20,
   "id": "4e2bcf3a",
   "metadata": {},
   "outputs": [
    {
     "name": "stdout",
     "output_type": "stream",
     "text": [
      "<class 'pandas.core.frame.DataFrame'>\n",
      "RangeIndex: 4442 entries, 0 to 4441\n",
      "Data columns (total 2 columns):\n",
      " #   Column      Non-Null Count  Dtype \n",
      "---  ------      --------------  ----- \n",
      " 0   title       4442 non-null   object\n",
      " 1   transcript  4298 non-null   object\n",
      "dtypes: object(2)\n",
      "memory usage: 69.5+ KB\n"
     ]
    }
   ],
   "source": [
    "transcript_data.info()"
   ]
  },
  {
   "cell_type": "code",
   "execution_count": 21,
   "id": "b5146c14",
   "metadata": {},
   "outputs": [
    {
     "data": {
      "text/plain": [
       "title           0\n",
       "transcript    144\n",
       "dtype: int64"
      ]
     },
     "execution_count": 21,
     "metadata": {},
     "output_type": "execute_result"
    }
   ],
   "source": [
    "transcript_data.isnull().sum()"
   ]
  },
  {
   "cell_type": "code",
   "execution_count": 22,
   "id": "9bdd3edd",
   "metadata": {},
   "outputs": [],
   "source": [
    "transcript_data = transcript_data.dropna(subset=['transcript'])"
   ]
  },
  {
   "cell_type": "code",
   "execution_count": 23,
   "id": "ea6b436f",
   "metadata": {},
   "outputs": [
    {
     "name": "stdout",
     "output_type": "stream",
     "text": [
      "<class 'pandas.core.frame.DataFrame'>\n",
      "Int64Index: 4298 entries, 0 to 4441\n",
      "Data columns (total 2 columns):\n",
      " #   Column      Non-Null Count  Dtype \n",
      "---  ------      --------------  ----- \n",
      " 0   title       4298 non-null   object\n",
      " 1   transcript  4298 non-null   object\n",
      "dtypes: object(2)\n",
      "memory usage: 100.7+ KB\n"
     ]
    }
   ],
   "source": [
    "transcript_data.info()"
   ]
  },
  {
   "cell_type": "code",
   "execution_count": 24,
   "id": "687d2942",
   "metadata": {},
   "outputs": [
    {
     "name": "stdout",
     "output_type": "stream",
     "text": [
      "<class 'pandas.core.frame.DataFrame'>\n",
      "Int64Index: 4301 entries, 0 to 4441\n",
      "Data columns (total 4 columns):\n",
      " #   Column       Non-Null Count  Dtype \n",
      "---  ------       --------------  ----- \n",
      " 0   talk         4301 non-null   object\n",
      " 1   speaker      4301 non-null   object\n",
      " 2   speaker_occ  4301 non-null   object\n",
      " 3   speaker_bio  4301 non-null   object\n",
      "dtypes: object(4)\n",
      "memory usage: 168.0+ KB\n"
     ]
    }
   ],
   "source": [
    "speaker_data.info()"
   ]
  },
  {
   "cell_type": "code",
   "execution_count": 25,
   "id": "ba4b732e",
   "metadata": {},
   "outputs": [
    {
     "name": "stdout",
     "output_type": "stream",
     "text": [
      "<class 'pandas.core.frame.DataFrame'>\n",
      "RangeIndex: 4322 entries, 0 to 4321\n",
      "Data columns (total 8 columns):\n",
      " #   Column        Non-Null Count  Dtype \n",
      "---  ------        --------------  ----- \n",
      " 0   talk_desc     4322 non-null   object\n",
      " 1   event         4322 non-null   object\n",
      " 2   talk_name     4322 non-null   object\n",
      " 3   views         4322 non-null   int64 \n",
      " 4   duration      4322 non-null   int64 \n",
      " 5   tags          4322 non-null   object\n",
      " 6   recorded_at   4322 non-null   object\n",
      " 7   published on  4322 non-null   int64 \n",
      "dtypes: int64(3), object(5)\n",
      "memory usage: 270.2+ KB\n"
     ]
    }
   ],
   "source": [
    "talk_data.info()"
   ]
  },
  {
   "cell_type": "code",
   "execution_count": 26,
   "id": "74a8c217",
   "metadata": {},
   "outputs": [],
   "source": [
    "final_df = pd.merge(speaker_data, talk_data, how='inner', left_on = 'talk', right_on = 'talk_name')"
   ]
  },
  {
   "cell_type": "code",
   "execution_count": 27,
   "id": "3a439993",
   "metadata": {},
   "outputs": [
    {
     "name": "stdout",
     "output_type": "stream",
     "text": [
      "<class 'pandas.core.frame.DataFrame'>\n",
      "Int64Index: 4418 entries, 0 to 4417\n",
      "Data columns (total 12 columns):\n",
      " #   Column        Non-Null Count  Dtype \n",
      "---  ------        --------------  ----- \n",
      " 0   talk          4418 non-null   object\n",
      " 1   speaker       4418 non-null   object\n",
      " 2   speaker_occ   4418 non-null   object\n",
      " 3   speaker_bio   4418 non-null   object\n",
      " 4   talk_desc     4418 non-null   object\n",
      " 5   event         4418 non-null   object\n",
      " 6   talk_name     4418 non-null   object\n",
      " 7   views         4418 non-null   int64 \n",
      " 8   duration      4418 non-null   int64 \n",
      " 9   tags          4418 non-null   object\n",
      " 10  recorded_at   4418 non-null   object\n",
      " 11  published on  4418 non-null   int64 \n",
      "dtypes: int64(3), object(9)\n",
      "memory usage: 448.7+ KB\n"
     ]
    }
   ],
   "source": [
    "final_df.info()"
   ]
  },
  {
   "cell_type": "code",
   "execution_count": 28,
   "id": "6fe49041",
   "metadata": {},
   "outputs": [],
   "source": [
    "#Dropping the duplicate column 'talk_name'\n",
    "final_df = final_df.drop(columns=['talk_name'])"
   ]
  },
  {
   "cell_type": "code",
   "execution_count": 29,
   "id": "dea39571",
   "metadata": {},
   "outputs": [
    {
     "name": "stdout",
     "output_type": "stream",
     "text": [
      "<class 'pandas.core.frame.DataFrame'>\n",
      "Int64Index: 4418 entries, 0 to 4417\n",
      "Data columns (total 11 columns):\n",
      " #   Column        Non-Null Count  Dtype \n",
      "---  ------        --------------  ----- \n",
      " 0   talk          4418 non-null   object\n",
      " 1   speaker       4418 non-null   object\n",
      " 2   speaker_occ   4418 non-null   object\n",
      " 3   speaker_bio   4418 non-null   object\n",
      " 4   talk_desc     4418 non-null   object\n",
      " 5   event         4418 non-null   object\n",
      " 6   views         4418 non-null   int64 \n",
      " 7   duration      4418 non-null   int64 \n",
      " 8   tags          4418 non-null   object\n",
      " 9   recorded_at   4418 non-null   object\n",
      " 10  published on  4418 non-null   int64 \n",
      "dtypes: int64(3), object(8)\n",
      "memory usage: 414.2+ KB\n"
     ]
    }
   ],
   "source": [
    "final_df.info()"
   ]
  },
  {
   "cell_type": "code",
   "execution_count": 30,
   "id": "899b3a9b",
   "metadata": {},
   "outputs": [],
   "source": [
    "final_df = pd.merge(final_df, transcript_data, how='inner', left_on = 'talk', right_on = 'title')"
   ]
  },
  {
   "cell_type": "code",
   "execution_count": 31,
   "id": "1dddda11",
   "metadata": {},
   "outputs": [
    {
     "name": "stdout",
     "output_type": "stream",
     "text": [
      "<class 'pandas.core.frame.DataFrame'>\n",
      "Int64Index: 7167 entries, 0 to 7166\n",
      "Data columns (total 13 columns):\n",
      " #   Column        Non-Null Count  Dtype \n",
      "---  ------        --------------  ----- \n",
      " 0   talk          7167 non-null   object\n",
      " 1   speaker       7167 non-null   object\n",
      " 2   speaker_occ   7167 non-null   object\n",
      " 3   speaker_bio   7167 non-null   object\n",
      " 4   talk_desc     7167 non-null   object\n",
      " 5   event         7167 non-null   object\n",
      " 6   views         7167 non-null   int64 \n",
      " 7   duration      7167 non-null   int64 \n",
      " 8   tags          7167 non-null   object\n",
      " 9   recorded_at   7167 non-null   object\n",
      " 10  published on  7167 non-null   int64 \n",
      " 11  title         7167 non-null   object\n",
      " 12  transcript    7167 non-null   object\n",
      "dtypes: int64(3), object(10)\n",
      "memory usage: 783.9+ KB\n"
     ]
    }
   ],
   "source": [
    "final_df.info()"
   ]
  },
  {
   "cell_type": "code",
   "execution_count": 32,
   "id": "a60b08c9",
   "metadata": {},
   "outputs": [],
   "source": [
    "final_df = final_df.drop(columns=['title'])"
   ]
  },
  {
   "cell_type": "code",
   "execution_count": 33,
   "id": "51458cf7",
   "metadata": {},
   "outputs": [],
   "source": [
    "#Removing all rows which have duplicated talk name\n",
    "final_df = final_df.drop_duplicates(subset=['talk'])"
   ]
  },
  {
   "cell_type": "code",
   "execution_count": 34,
   "id": "9cb14d25",
   "metadata": {},
   "outputs": [
    {
     "name": "stdout",
     "output_type": "stream",
     "text": [
      "<class 'pandas.core.frame.DataFrame'>\n",
      "Int64Index: 4016 entries, 0 to 7166\n",
      "Data columns (total 12 columns):\n",
      " #   Column        Non-Null Count  Dtype \n",
      "---  ------        --------------  ----- \n",
      " 0   talk          4016 non-null   object\n",
      " 1   speaker       4016 non-null   object\n",
      " 2   speaker_occ   4016 non-null   object\n",
      " 3   speaker_bio   4016 non-null   object\n",
      " 4   talk_desc     4016 non-null   object\n",
      " 5   event         4016 non-null   object\n",
      " 6   views         4016 non-null   int64 \n",
      " 7   duration      4016 non-null   int64 \n",
      " 8   tags          4016 non-null   object\n",
      " 9   recorded_at   4016 non-null   object\n",
      " 10  published on  4016 non-null   int64 \n",
      " 11  transcript    4016 non-null   object\n",
      "dtypes: int64(3), object(9)\n",
      "memory usage: 407.9+ KB\n"
     ]
    }
   ],
   "source": [
    "final_df.info()"
   ]
  },
  {
   "cell_type": "code",
   "execution_count": 35,
   "id": "bef54c7d",
   "metadata": {},
   "outputs": [
    {
     "data": {
      "text/plain": [
       "Alex Gendler                     35\n",
       "Iseult Gillespie                 27\n",
       "Daniel Finkel                    12\n",
       "Elizabeth Cox                    11\n",
       "Emma Bryce                       10\n",
       "                                 ..\n",
       "Christian Rudder                  1\n",
       "Alex Kipman                       1\n",
       "Martine Rothblatt                 1\n",
       "Paul Snelgrove                    1\n",
       "Elizabeth Camarillo Gutierrez     1\n",
       "Name: speaker, Length: 3292, dtype: int64"
      ]
     },
     "execution_count": 35,
     "metadata": {},
     "output_type": "execute_result"
    }
   ],
   "source": [
    "final_df.speaker.value_counts()"
   ]
  },
  {
   "cell_type": "code",
   "execution_count": null,
   "id": "cc2da36c",
   "metadata": {},
   "outputs": [],
   "source": [
    "final_df.to_csv('cleaned data/vaishak_data.csv',index=False)"
   ]
  },
  {
   "cell_type": "code",
   "execution_count": null,
   "id": "c037f71d",
   "metadata": {},
   "outputs": [],
   "source": [
    "final_df.iloc[3][8]"
   ]
  },
  {
   "cell_type": "code",
   "execution_count": null,
   "id": "56b603a6",
   "metadata": {},
   "outputs": [],
   "source": []
  },
  {
   "cell_type": "code",
   "execution_count": null,
   "id": "b38cee92",
   "metadata": {},
   "outputs": [],
   "source": []
  }
 ],
 "metadata": {
  "kernelspec": {
   "display_name": "Python 3",
   "language": "python",
   "name": "python3"
  },
  "language_info": {
   "codemirror_mode": {
    "name": "ipython",
    "version": 3
   },
   "file_extension": ".py",
   "mimetype": "text/x-python",
   "name": "python",
   "nbconvert_exporter": "python",
   "pygments_lexer": "ipython3",
   "version": "3.8.8"
  }
 },
 "nbformat": 4,
 "nbformat_minor": 5
}
