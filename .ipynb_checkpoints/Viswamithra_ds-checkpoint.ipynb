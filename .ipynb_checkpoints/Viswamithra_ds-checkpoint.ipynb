{
 "cells": [
  {
   "cell_type": "code",
   "execution_count": 48,
   "metadata": {
    "id": "QOMRWc_wEHMp"
   },
   "outputs": [],
   "source": [
    "import numpy as np\n",
    "import pandas as pd\n",
    "import matplotlib.pyplot as plt"
   ]
  },
  {
   "cell_type": "code",
   "execution_count": 49,
   "metadata": {
    "id": "plgETFj-EREA"
   },
   "outputs": [],
   "source": [
    "speaker_data = pd.read_csv('speaker_data.csv')\n",
    "talk_data = pd.read_csv('talk_data.csv')\n",
    "transcript_data = pd.read_csv('transcript_data.csv')"
   ]
  },
  {
   "cell_type": "code",
   "execution_count": null,
   "metadata": {
    "id": "Fdh9fPQbixt1"
   },
   "outputs": [],
   "source": [
    "speaker_data.isnull().sum()"
   ]
  },
  {
   "cell_type": "code",
   "execution_count": null,
   "metadata": {
    "id": "oibBrT4Apa4_"
   },
   "outputs": [],
   "source": [
    "speaker_data.info()\n",
    "talk_data.info()\n",
    "transcript_data.info()"
   ]
  },
  {
   "cell_type": "code",
   "execution_count": 11,
   "metadata": {
    "id": "e5YJKpOhkCLD"
   },
   "outputs": [],
   "source": [
    "# Remove rows with no talk \n",
    "speaker_data=speaker_data.dropna(subset=['talk'])"
   ]
  },
  {
   "cell_type": "code",
   "execution_count": 12,
   "metadata": {
    "colab": {
     "base_uri": "https://localhost:8080/"
    },
    "id": "fXNc1Atgndrj",
    "outputId": "e3721159-75ee-4d62-c8b6-3b84844340de"
   },
   "outputs": [
    {
     "data": {
      "text/plain": [
       "talk                0\n",
       "speaker             4\n",
       "speaker_title    4292\n",
       "speaker_occ       648\n",
       "speaker_bio       623\n",
       "dtype: int64"
      ]
     },
     "execution_count": 12,
     "metadata": {},
     "output_type": "execute_result"
    }
   ],
   "source": [
    "speaker_data.isnull().sum()"
   ]
  },
  {
   "cell_type": "code",
   "execution_count": 13,
   "metadata": {
    "id": "GmGazu4YngsF"
   },
   "outputs": [],
   "source": [
    "speaker_data=speaker_data.drop(columns=['speaker_title'])"
   ]
  },
  {
   "cell_type": "code",
   "execution_count": 14,
   "metadata": {
    "colab": {
     "base_uri": "https://localhost:8080/"
    },
    "id": "EgdMNkCup9QA",
    "outputId": "8fa71b0b-7489-4aea-a34f-2e7ec24d6a4f"
   },
   "outputs": [
    {
     "data": {
      "text/plain": [
       "talk             0\n",
       "speaker          4\n",
       "speaker_occ    648\n",
       "speaker_bio    623\n",
       "dtype: int64"
      ]
     },
     "execution_count": 14,
     "metadata": {},
     "output_type": "execute_result"
    }
   ],
   "source": [
    "speaker_data.isnull().sum()"
   ]
  },
  {
   "cell_type": "code",
   "execution_count": 15,
   "metadata": {
    "id": "OzVrnvJpkd0y"
   },
   "outputs": [],
   "source": [
    "#fill the null values for speaker occ with \"unknown\"\n",
    "speaker_data['speaker_occ'] = speaker_data['speaker_occ'].fillna('Unknown')"
   ]
  },
  {
   "cell_type": "code",
   "execution_count": 16,
   "metadata": {
    "id": "aAfzEsZ4nolH"
   },
   "outputs": [],
   "source": [
    "#fill the null values for speaker bio with \"unknown\"\n",
    "speaker_data['speaker_bio'] = speaker_data['speaker_bio'].fillna('Unknown')"
   ]
  },
  {
   "cell_type": "code",
   "execution_count": 17,
   "metadata": {
    "colab": {
     "base_uri": "https://localhost:8080/"
    },
    "id": "LoqWkyNCnqyY",
    "outputId": "9a6b368b-c12e-45ac-ba75-3eae54e51e56"
   },
   "outputs": [
    {
     "data": {
      "text/plain": [
       "talk           0\n",
       "speaker        4\n",
       "speaker_occ    0\n",
       "speaker_bio    0\n",
       "dtype: int64"
      ]
     },
     "execution_count": 17,
     "metadata": {},
     "output_type": "execute_result"
    }
   ],
   "source": [
    "speaker_data.isnull().sum()"
   ]
  },
  {
   "cell_type": "code",
   "execution_count": 18,
   "metadata": {
    "id": "oyRZc7jUu8q1"
   },
   "outputs": [],
   "source": [
    "#fill the null values for speaker with \"unknown\"\n",
    "speaker_data['speaker'] = speaker_data['speaker'].fillna('Unknown')"
   ]
  },
  {
   "cell_type": "code",
   "execution_count": 19,
   "metadata": {
    "colab": {
     "base_uri": "https://localhost:8080/"
    },
    "id": "R0Xyv0TYvJU2",
    "outputId": "3161a670-20de-4dc3-c2cf-217965e7d261"
   },
   "outputs": [
    {
     "data": {
      "text/plain": [
       "talk           0\n",
       "speaker        0\n",
       "speaker_occ    0\n",
       "speaker_bio    0\n",
       "dtype: int64"
      ]
     },
     "execution_count": 19,
     "metadata": {},
     "output_type": "execute_result"
    }
   ],
   "source": [
    "speaker_data.isnull().sum()"
   ]
  },
  {
   "cell_type": "code",
   "execution_count": null,
   "metadata": {
    "id": "hggPx_axvXlj"
   },
   "outputs": [],
   "source": [
    "talk_data.head()"
   ]
  },
  {
   "cell_type": "code",
   "execution_count": 21,
   "metadata": {
    "colab": {
     "base_uri": "https://localhost:8080/"
    },
    "id": "6g6qJdeuv05d",
    "outputId": "38571262-61fa-4b44-99ec-daf03e0968e8"
   },
   "outputs": [
    {
     "data": {
      "text/plain": [
       "talk_desc       0\n",
       "event           0\n",
       "talk_name       0\n",
       "views           0\n",
       "duration        0\n",
       "tags            0\n",
       "recorded_at     0\n",
       "published on    0\n",
       "dtype: int64"
      ]
     },
     "execution_count": 21,
     "metadata": {},
     "output_type": "execute_result"
    }
   ],
   "source": [
    "#no null values\n",
    "talk_data.isnull().sum()"
   ]
  },
  {
   "cell_type": "code",
   "execution_count": 22,
   "metadata": {
    "colab": {
     "base_uri": "https://localhost:8080/"
    },
    "id": "Awl2r0msv7Gy",
    "outputId": "0d16f312-9f52-4db9-8241-5387c9d1c2a8"
   },
   "outputs": [
    {
     "data": {
      "text/plain": [
       "title           0\n",
       "transcript    144\n",
       "dtype: int64"
      ]
     },
     "execution_count": 22,
     "metadata": {},
     "output_type": "execute_result"
    }
   ],
   "source": [
    "transcript_data.isnull().sum()"
   ]
  },
  {
   "cell_type": "code",
   "execution_count": 23,
   "metadata": {
    "id": "iyv2t0FDwA4z"
   },
   "outputs": [],
   "source": [
    "transcript_data = transcript_data.dropna(subset=['transcript'])"
   ]
  },
  {
   "cell_type": "code",
   "execution_count": 24,
   "metadata": {
    "id": "BgtZLup1wFPX"
   },
   "outputs": [],
   "source": [
    "df = pd.merge(speaker_data, talk_data, how='inner', left_on = 'talk', right_on = 'talk_name')"
   ]
  },
  {
   "cell_type": "code",
   "execution_count": 25,
   "metadata": {
    "colab": {
     "base_uri": "https://localhost:8080/"
    },
    "id": "JhZsxogLwN7n",
    "outputId": "6cd36ae6-241c-4593-ad81-78947bc2346c"
   },
   "outputs": [
    {
     "name": "stdout",
     "output_type": "stream",
     "text": [
      "<class 'pandas.core.frame.DataFrame'>\n",
      "Int64Index: 4418 entries, 0 to 4417\n",
      "Data columns (total 12 columns):\n",
      " #   Column        Non-Null Count  Dtype \n",
      "---  ------        --------------  ----- \n",
      " 0   talk          4418 non-null   object\n",
      " 1   speaker       4418 non-null   object\n",
      " 2   speaker_occ   4418 non-null   object\n",
      " 3   speaker_bio   4418 non-null   object\n",
      " 4   talk_desc     4418 non-null   object\n",
      " 5   event         4418 non-null   object\n",
      " 6   talk_name     4418 non-null   object\n",
      " 7   views         4418 non-null   int64 \n",
      " 8   duration      4418 non-null   int64 \n",
      " 9   tags          4418 non-null   object\n",
      " 10  recorded_at   4418 non-null   object\n",
      " 11  published on  4418 non-null   int64 \n",
      "dtypes: int64(3), object(9)\n",
      "memory usage: 448.7+ KB\n"
     ]
    }
   ],
   "source": [
    "df.info()"
   ]
  },
  {
   "cell_type": "code",
   "execution_count": null,
   "metadata": {
    "id": "dtxRG3jVZ8hC"
   },
   "outputs": [],
   "source": [
    "df.head()"
   ]
  },
  {
   "cell_type": "code",
   "execution_count": 28,
   "metadata": {
    "id": "mwLjygtjbqE1"
   },
   "outputs": [],
   "source": [
    "#Dropping the duplicate column 'talk_name'\n",
    "df = df.drop(columns=['talk_name'])"
   ]
  },
  {
   "cell_type": "code",
   "execution_count": 29,
   "metadata": {
    "colab": {
     "base_uri": "https://localhost:8080/"
    },
    "id": "pEb7lnlUbyfp",
    "outputId": "b46e681a-854c-4069-eb42-1a9ab2fbe785"
   },
   "outputs": [
    {
     "name": "stdout",
     "output_type": "stream",
     "text": [
      "<class 'pandas.core.frame.DataFrame'>\n",
      "Int64Index: 4418 entries, 0 to 4417\n",
      "Data columns (total 11 columns):\n",
      " #   Column        Non-Null Count  Dtype \n",
      "---  ------        --------------  ----- \n",
      " 0   talk          4418 non-null   object\n",
      " 1   speaker       4418 non-null   object\n",
      " 2   speaker_occ   4418 non-null   object\n",
      " 3   speaker_bio   4418 non-null   object\n",
      " 4   talk_desc     4418 non-null   object\n",
      " 5   event         4418 non-null   object\n",
      " 6   views         4418 non-null   int64 \n",
      " 7   duration      4418 non-null   int64 \n",
      " 8   tags          4418 non-null   object\n",
      " 9   recorded_at   4418 non-null   object\n",
      " 10  published on  4418 non-null   int64 \n",
      "dtypes: int64(3), object(8)\n",
      "memory usage: 414.2+ KB\n"
     ]
    }
   ],
   "source": [
    "df.info()"
   ]
  },
  {
   "cell_type": "code",
   "execution_count": 30,
   "metadata": {
    "id": "7fvH0kRsb-6X"
   },
   "outputs": [],
   "source": [
    "df = pd.merge(df, transcript_data, how='inner', left_on = 'talk', right_on = 'title')"
   ]
  },
  {
   "cell_type": "code",
   "execution_count": 31,
   "metadata": {
    "colab": {
     "base_uri": "https://localhost:8080/"
    },
    "id": "THB8WNXycC7c",
    "outputId": "612c3a31-2eb9-4fd1-8102-d0d4431482a9"
   },
   "outputs": [
    {
     "name": "stdout",
     "output_type": "stream",
     "text": [
      "<class 'pandas.core.frame.DataFrame'>\n",
      "Int64Index: 7167 entries, 0 to 7166\n",
      "Data columns (total 13 columns):\n",
      " #   Column        Non-Null Count  Dtype \n",
      "---  ------        --------------  ----- \n",
      " 0   talk          7167 non-null   object\n",
      " 1   speaker       7167 non-null   object\n",
      " 2   speaker_occ   7167 non-null   object\n",
      " 3   speaker_bio   7167 non-null   object\n",
      " 4   talk_desc     7167 non-null   object\n",
      " 5   event         7167 non-null   object\n",
      " 6   views         7167 non-null   int64 \n",
      " 7   duration      7167 non-null   int64 \n",
      " 8   tags          7167 non-null   object\n",
      " 9   recorded_at   7167 non-null   object\n",
      " 10  published on  7167 non-null   int64 \n",
      " 11  title         7167 non-null   object\n",
      " 12  transcript    7167 non-null   object\n",
      "dtypes: int64(3), object(10)\n",
      "memory usage: 783.9+ KB\n"
     ]
    }
   ],
   "source": [
    "df.info()"
   ]
  },
  {
   "cell_type": "code",
   "execution_count": null,
   "metadata": {
    "id": "x7gIYcn5cHGn"
   },
   "outputs": [],
   "source": [
    "df.head()"
   ]
  },
  {
   "cell_type": "code",
   "execution_count": 33,
   "metadata": {
    "id": "i8YS_Jw8cLxz"
   },
   "outputs": [],
   "source": [
    "df = df.drop(columns=['title'])"
   ]
  },
  {
   "cell_type": "code",
   "execution_count": null,
   "metadata": {
    "id": "w7Qjec9RcOi0"
   },
   "outputs": [],
   "source": [
    "df.head(50)"
   ]
  },
  {
   "cell_type": "code",
   "execution_count": 36,
   "metadata": {
    "id": "hsAXBYppcavH"
   },
   "outputs": [],
   "source": [
    "#Removing all rows which have duplicated talk name\n",
    "df = df.drop_duplicates(subset=['talk'])"
   ]
  },
  {
   "cell_type": "code",
   "execution_count": 37,
   "metadata": {
    "colab": {
     "base_uri": "https://localhost:8080/"
    },
    "id": "xkDmodAMcfFL",
    "outputId": "7cc8ab5a-cece-4841-8121-15e7e29e1b89"
   },
   "outputs": [
    {
     "name": "stdout",
     "output_type": "stream",
     "text": [
      "<class 'pandas.core.frame.DataFrame'>\n",
      "Int64Index: 4016 entries, 0 to 7166\n",
      "Data columns (total 12 columns):\n",
      " #   Column        Non-Null Count  Dtype \n",
      "---  ------        --------------  ----- \n",
      " 0   talk          4016 non-null   object\n",
      " 1   speaker       4016 non-null   object\n",
      " 2   speaker_occ   4016 non-null   object\n",
      " 3   speaker_bio   4016 non-null   object\n",
      " 4   talk_desc     4016 non-null   object\n",
      " 5   event         4016 non-null   object\n",
      " 6   views         4016 non-null   int64 \n",
      " 7   duration      4016 non-null   int64 \n",
      " 8   tags          4016 non-null   object\n",
      " 9   recorded_at   4016 non-null   object\n",
      " 10  published on  4016 non-null   int64 \n",
      " 11  transcript    4016 non-null   object\n",
      "dtypes: int64(3), object(9)\n",
      "memory usage: 407.9+ KB\n"
     ]
    }
   ],
   "source": [
    "df.info()"
   ]
  },
  {
   "cell_type": "code",
   "execution_count": 39,
   "metadata": {
    "id": "U1wrWqtUcjFN"
   },
   "outputs": [],
   "source": [
    "df.to_csv('clean_data_Mithra.csv',index=False)"
   ]
  },
  {
   "cell_type": "code",
   "execution_count": 42,
   "metadata": {
    "colab": {
     "base_uri": "https://localhost:8080/",
     "height": 266
    },
    "id": "cZJTMH2bkmDj",
    "outputId": "b87af79a-4cfc-4dfd-ddab-758367cb69fb"
   },
   "outputs": [
    {
     "data": {
      "text/html": [
       "\n",
       "  <div id=\"df-4dd49e70-e462-4253-9e4b-e2ec6b489e03\">\n",
       "    <div class=\"colab-df-container\">\n",
       "      <div>\n",
       "<style scoped>\n",
       "    .dataframe tbody tr th:only-of-type {\n",
       "        vertical-align: middle;\n",
       "    }\n",
       "\n",
       "    .dataframe tbody tr th {\n",
       "        vertical-align: top;\n",
       "    }\n",
       "\n",
       "    .dataframe thead th {\n",
       "        text-align: right;\n",
       "    }\n",
       "</style>\n",
       "<table border=\"1\" class=\"dataframe\">\n",
       "  <thead>\n",
       "    <tr style=\"text-align: right;\">\n",
       "      <th></th>\n",
       "      <th>talk</th>\n",
       "      <th>speaker</th>\n",
       "      <th>speaker_occ</th>\n",
       "      <th>speaker_bio</th>\n",
       "      <th>talk_desc</th>\n",
       "      <th>event</th>\n",
       "      <th>views</th>\n",
       "      <th>duration</th>\n",
       "      <th>tags</th>\n",
       "      <th>recorded_at</th>\n",
       "      <th>published on</th>\n",
       "      <th>transcript</th>\n",
       "    </tr>\n",
       "  </thead>\n",
       "  <tbody>\n",
       "    <tr>\n",
       "      <th>0</th>\n",
       "      <td>Can you outsmart the apples and oranges fallacy?</td>\n",
       "      <td>Elizabeth Cox</td>\n",
       "      <td>Unknown</td>\n",
       "      <td>Unknown</td>\n",
       "      <td>It's 1997. The United States Senate has called...</td>\n",
       "      <td>TED-Ed</td>\n",
       "      <td>119359</td>\n",
       "      <td>327</td>\n",
       "      <td>['education', 'psychology', 'animation', 'TED-...</td>\n",
       "      <td>2021-04-05T00:00:00.000+00:00</td>\n",
       "      <td>1617636753</td>\n",
       "      <td>Baking apple pie? Discount orange warehouse ha...</td>\n",
       "    </tr>\n",
       "  </tbody>\n",
       "</table>\n",
       "</div>\n",
       "      <button class=\"colab-df-convert\" onclick=\"convertToInteractive('df-4dd49e70-e462-4253-9e4b-e2ec6b489e03')\"\n",
       "              title=\"Convert this dataframe to an interactive table.\"\n",
       "              style=\"display:none;\">\n",
       "        \n",
       "  <svg xmlns=\"http://www.w3.org/2000/svg\" height=\"24px\"viewBox=\"0 0 24 24\"\n",
       "       width=\"24px\">\n",
       "    <path d=\"M0 0h24v24H0V0z\" fill=\"none\"/>\n",
       "    <path d=\"M18.56 5.44l.94 2.06.94-2.06 2.06-.94-2.06-.94-.94-2.06-.94 2.06-2.06.94zm-11 1L8.5 8.5l.94-2.06 2.06-.94-2.06-.94L8.5 2.5l-.94 2.06-2.06.94zm10 10l.94 2.06.94-2.06 2.06-.94-2.06-.94-.94-2.06-.94 2.06-2.06.94z\"/><path d=\"M17.41 7.96l-1.37-1.37c-.4-.4-.92-.59-1.43-.59-.52 0-1.04.2-1.43.59L10.3 9.45l-7.72 7.72c-.78.78-.78 2.05 0 2.83L4 21.41c.39.39.9.59 1.41.59.51 0 1.02-.2 1.41-.59l7.78-7.78 2.81-2.81c.8-.78.8-2.07 0-2.86zM5.41 20L4 18.59l7.72-7.72 1.47 1.35L5.41 20z\"/>\n",
       "  </svg>\n",
       "      </button>\n",
       "      \n",
       "  <style>\n",
       "    .colab-df-container {\n",
       "      display:flex;\n",
       "      flex-wrap:wrap;\n",
       "      gap: 12px;\n",
       "    }\n",
       "\n",
       "    .colab-df-convert {\n",
       "      background-color: #E8F0FE;\n",
       "      border: none;\n",
       "      border-radius: 50%;\n",
       "      cursor: pointer;\n",
       "      display: none;\n",
       "      fill: #1967D2;\n",
       "      height: 32px;\n",
       "      padding: 0 0 0 0;\n",
       "      width: 32px;\n",
       "    }\n",
       "\n",
       "    .colab-df-convert:hover {\n",
       "      background-color: #E2EBFA;\n",
       "      box-shadow: 0px 1px 2px rgba(60, 64, 67, 0.3), 0px 1px 3px 1px rgba(60, 64, 67, 0.15);\n",
       "      fill: #174EA6;\n",
       "    }\n",
       "\n",
       "    [theme=dark] .colab-df-convert {\n",
       "      background-color: #3B4455;\n",
       "      fill: #D2E3FC;\n",
       "    }\n",
       "\n",
       "    [theme=dark] .colab-df-convert:hover {\n",
       "      background-color: #434B5C;\n",
       "      box-shadow: 0px 1px 3px 1px rgba(0, 0, 0, 0.15);\n",
       "      filter: drop-shadow(0px 1px 2px rgba(0, 0, 0, 0.3));\n",
       "      fill: #FFFFFF;\n",
       "    }\n",
       "  </style>\n",
       "\n",
       "      <script>\n",
       "        const buttonEl =\n",
       "          document.querySelector('#df-4dd49e70-e462-4253-9e4b-e2ec6b489e03 button.colab-df-convert');\n",
       "        buttonEl.style.display =\n",
       "          google.colab.kernel.accessAllowed ? 'block' : 'none';\n",
       "\n",
       "        async function convertToInteractive(key) {\n",
       "          const element = document.querySelector('#df-4dd49e70-e462-4253-9e4b-e2ec6b489e03');\n",
       "          const dataTable =\n",
       "            await google.colab.kernel.invokeFunction('convertToInteractive',\n",
       "                                                     [key], {});\n",
       "          if (!dataTable) return;\n",
       "\n",
       "          const docLinkHtml = 'Like what you see? Visit the ' +\n",
       "            '<a target=\"_blank\" href=https://colab.research.google.com/notebooks/data_table.ipynb>data table notebook</a>'\n",
       "            + ' to learn more about interactive tables.';\n",
       "          element.innerHTML = '';\n",
       "          dataTable['output_type'] = 'display_data';\n",
       "          await google.colab.output.renderOutput(dataTable, element);\n",
       "          const docLink = document.createElement('div');\n",
       "          docLink.innerHTML = docLinkHtml;\n",
       "          element.appendChild(docLink);\n",
       "        }\n",
       "      </script>\n",
       "    </div>\n",
       "  </div>\n",
       "  "
      ],
      "text/plain": [
       "                                               talk        speaker  \\\n",
       "0  Can you outsmart the apples and oranges fallacy?  Elizabeth Cox   \n",
       "\n",
       "  speaker_occ speaker_bio                                          talk_desc  \\\n",
       "0     Unknown     Unknown  It's 1997. The United States Senate has called...   \n",
       "\n",
       "    event   views  duration  \\\n",
       "0  TED-Ed  119359       327   \n",
       "\n",
       "                                                tags  \\\n",
       "0  ['education', 'psychology', 'animation', 'TED-...   \n",
       "\n",
       "                     recorded_at  published on  \\\n",
       "0  2021-04-05T00:00:00.000+00:00    1617636753   \n",
       "\n",
       "                                          transcript  \n",
       "0  Baking apple pie? Discount orange warehouse ha...  "
      ]
     },
     "execution_count": 42,
     "metadata": {},
     "output_type": "execute_result"
    }
   ],
   "source": [
    "df.head(1)"
   ]
  },
  {
   "cell_type": "code",
   "execution_count": null,
   "metadata": {
    "id": "8wYyhoHHm9st"
   },
   "outputs": [],
   "source": [
    "# convert the recorded_at  Date to datetime\n",
    "df['recorded_at'] = pd.to_datetime(df['recorded_at'])\n",
    "# add a column for Year\n",
    "df['Year'] = df['recorded_at'].dt.year\n",
    "# print the dataframe\n",
    "print(df)"
   ]
  },
  {
   "cell_type": "code",
   "execution_count": null,
   "metadata": {
    "id": "8d7DFrOMnSeK"
   },
   "outputs": [],
   "source": [
    "df.head(3)"
   ]
  },
  {
   "cell_type": "markdown",
   "metadata": {
    "id": "jTLSjKjLoE_T"
   },
   "source": [
    " Plot the number of talks that took place each year"
   ]
  },
  {
   "cell_type": "code",
   "execution_count": 46,
   "metadata": {
    "colab": {
     "base_uri": "https://localhost:8080/",
     "height": 283
    },
    "id": "rtK98_kKoMYq",
    "outputId": "5c6d46f4-c0cb-4b67-f44f-77f7d1f2ddb2"
   },
   "outputs": [
    {
     "data": {
      "text/plain": [
       "<matplotlib.axes._subplots.AxesSubplot at 0x7ff03c5d5b50>"
      ]
     },
     "execution_count": 46,
     "metadata": {},
     "output_type": "execute_result"
    },
    {
     "data": {
      "image/png": "[encoded data removed]",
      "text/plain": [
       "<Figure size 432x288 with 1 Axes>"
      ]
     },
     "metadata": {
      "needs_background": "light"
     },
     "output_type": "display_data"
    }
   ],
   "source": [
    "df['year'] = pd.to_datetime(df['recorded_at']).dt.year\n",
    "df.Year.value_counts().sort_index().plot()"
   ]
  },
  {
   "cell_type": "markdown",
   "metadata": {
    "id": "1DB7AtTVor0M"
   },
   "source": [
    "Finding out the best events in the TED "
   ]
  },
  {
   "cell_type": "code",
   "execution_count": 47,
   "metadata": {
    "colab": {
     "base_uri": "https://localhost:8080/",
     "height": 237
    },
    "id": "am0XzJKQorGC",
    "outputId": "f2c6b1d1-fad6-4169-8a03-e50f0de22558"
   },
   "outputs": [
    {
     "data": {
      "text/html": [
       "\n",
       "  <div id=\"df-96767fbe-1e10-48d9-b147-52ac4e743915\">\n",
       "    <div class=\"colab-df-container\">\n",
       "      <div>\n",
       "<style scoped>\n",
       "    .dataframe tbody tr th:only-of-type {\n",
       "        vertical-align: middle;\n",
       "    }\n",
       "\n",
       "    .dataframe tbody tr th {\n",
       "        vertical-align: top;\n",
       "    }\n",
       "\n",
       "    .dataframe thead th {\n",
       "        text-align: right;\n",
       "    }\n",
       "</style>\n",
       "<table border=\"1\" class=\"dataframe\">\n",
       "  <thead>\n",
       "    <tr style=\"text-align: right;\">\n",
       "      <th></th>\n",
       "      <th>mean</th>\n",
       "      <th>count</th>\n",
       "      <th>sum</th>\n",
       "    </tr>\n",
       "    <tr>\n",
       "      <th>event</th>\n",
       "      <th></th>\n",
       "      <th></th>\n",
       "      <th></th>\n",
       "    </tr>\n",
       "  </thead>\n",
       "  <tbody>\n",
       "    <tr>\n",
       "      <th>TEDxMidAtlantic 2013</th>\n",
       "      <td>1.468846e+07</td>\n",
       "      <td>3</td>\n",
       "      <td>44065366</td>\n",
       "    </tr>\n",
       "    <tr>\n",
       "      <th>TEDxCreativeCoast</th>\n",
       "      <td>2.381281e+07</td>\n",
       "      <td>1</td>\n",
       "      <td>23812808</td>\n",
       "    </tr>\n",
       "    <tr>\n",
       "      <th>TEDxHull</th>\n",
       "      <td>3.512422e+07</td>\n",
       "      <td>1</td>\n",
       "      <td>35124222</td>\n",
       "    </tr>\n",
       "    <tr>\n",
       "      <th>TEDxHouston</th>\n",
       "      <td>5.287168e+07</td>\n",
       "      <td>1</td>\n",
       "      <td>52871680</td>\n",
       "    </tr>\n",
       "    <tr>\n",
       "      <th>TEDxPuget Sound</th>\n",
       "      <td>5.435166e+07</td>\n",
       "      <td>1</td>\n",
       "      <td>54351663</td>\n",
       "    </tr>\n",
       "  </tbody>\n",
       "</table>\n",
       "</div>\n",
       "      <button class=\"colab-df-convert\" onclick=\"convertToInteractive('df-96767fbe-1e10-48d9-b147-52ac4e743915')\"\n",
       "              title=\"Convert this dataframe to an interactive table.\"\n",
       "              style=\"display:none;\">\n",
       "        \n",
       "  <svg xmlns=\"http://www.w3.org/2000/svg\" height=\"24px\"viewBox=\"0 0 24 24\"\n",
       "       width=\"24px\">\n",
       "    <path d=\"M0 0h24v24H0V0z\" fill=\"none\"/>\n",
       "    <path d=\"M18.56 5.44l.94 2.06.94-2.06 2.06-.94-2.06-.94-.94-2.06-.94 2.06-2.06.94zm-11 1L8.5 8.5l.94-2.06 2.06-.94-2.06-.94L8.5 2.5l-.94 2.06-2.06.94zm10 10l.94 2.06.94-2.06 2.06-.94-2.06-.94-.94-2.06-.94 2.06-2.06.94z\"/><path d=\"M17.41 7.96l-1.37-1.37c-.4-.4-.92-.59-1.43-.59-.52 0-1.04.2-1.43.59L10.3 9.45l-7.72 7.72c-.78.78-.78 2.05 0 2.83L4 21.41c.39.39.9.59 1.41.59.51 0 1.02-.2 1.41-.59l7.78-7.78 2.81-2.81c.8-.78.8-2.07 0-2.86zM5.41 20L4 18.59l7.72-7.72 1.47 1.35L5.41 20z\"/>\n",
       "  </svg>\n",
       "      </button>\n",
       "      \n",
       "  <style>\n",
       "    .colab-df-container {\n",
       "      display:flex;\n",
       "      flex-wrap:wrap;\n",
       "      gap: 12px;\n",
       "    }\n",
       "\n",
       "    .colab-df-convert {\n",
       "      background-color: #E8F0FE;\n",
       "      border: none;\n",
       "      border-radius: 50%;\n",
       "      cursor: pointer;\n",
       "      display: none;\n",
       "      fill: #1967D2;\n",
       "      height: 32px;\n",
       "      padding: 0 0 0 0;\n",
       "      width: 32px;\n",
       "    }\n",
       "\n",
       "    .colab-df-convert:hover {\n",
       "      background-color: #E2EBFA;\n",
       "      box-shadow: 0px 1px 2px rgba(60, 64, 67, 0.3), 0px 1px 3px 1px rgba(60, 64, 67, 0.15);\n",
       "      fill: #174EA6;\n",
       "    }\n",
       "\n",
       "    [theme=dark] .colab-df-convert {\n",
       "      background-color: #3B4455;\n",
       "      fill: #D2E3FC;\n",
       "    }\n",
       "\n",
       "    [theme=dark] .colab-df-convert:hover {\n",
       "      background-color: #434B5C;\n",
       "      box-shadow: 0px 1px 3px 1px rgba(0, 0, 0, 0.15);\n",
       "      filter: drop-shadow(0px 1px 2px rgba(0, 0, 0, 0.3));\n",
       "      fill: #FFFFFF;\n",
       "    }\n",
       "  </style>\n",
       "\n",
       "      <script>\n",
       "        const buttonEl =\n",
       "          document.querySelector('#df-96767fbe-1e10-48d9-b147-52ac4e743915 button.colab-df-convert');\n",
       "        buttonEl.style.display =\n",
       "          google.colab.kernel.accessAllowed ? 'block' : 'none';\n",
       "\n",
       "        async function convertToInteractive(key) {\n",
       "          const element = document.querySelector('#df-96767fbe-1e10-48d9-b147-52ac4e743915');\n",
       "          const dataTable =\n",
       "            await google.colab.kernel.invokeFunction('convertToInteractive',\n",
       "                                                     [key], {});\n",
       "          if (!dataTable) return;\n",
       "\n",
       "          const docLinkHtml = 'Like what you see? Visit the ' +\n",
       "            '<a target=\"_blank\" href=https://colab.research.google.com/notebooks/data_table.ipynb>data table notebook</a>'\n",
       "            + ' to learn more about interactive tables.';\n",
       "          element.innerHTML = '';\n",
       "          dataTable['output_type'] = 'display_data';\n",
       "          await google.colab.output.renderOutput(dataTable, element);\n",
       "          const docLink = document.createElement('div');\n",
       "          docLink.innerHTML = docLinkHtml;\n",
       "          element.appendChild(docLink);\n",
       "        }\n",
       "      </script>\n",
       "    </div>\n",
       "  </div>\n",
       "  "
      ],
      "text/plain": [
       "                              mean  count       sum\n",
       "event                                              \n",
       "TEDxMidAtlantic 2013  1.468846e+07      3  44065366\n",
       "TEDxCreativeCoast     2.381281e+07      1  23812808\n",
       "TEDxHull              3.512422e+07      1  35124222\n",
       "TEDxHouston           5.287168e+07      1  52871680\n",
       "TEDxPuget Sound       5.435166e+07      1  54351663"
      ]
     },
     "execution_count": 47,
     "metadata": {},
     "output_type": "execute_result"
    }
   ],
   "source": [
    "df.groupby('event').views.agg(['mean','count','sum']).sort_values('mean').tail()"
   ]
  }
 ],
 "metadata": {
  "colab": {
   "collapsed_sections": [],
   "name": "Viswamithra_ds.ipynb",
   "provenance": []
  },
  "kernelspec": {
   "display_name": "Python 3",
   "language": "python",
   "name": "python3"
  },
  "language_info": {
   "codemirror_mode": {
    "name": "ipython",
    "version": 3
   },
   "file_extension": ".py",
   "mimetype": "text/x-python",
   "name": "python",
   "nbconvert_exporter": "python",
   "pygments_lexer": "ipython3",
   "version": "3.8.8"
  }
 },
 "nbformat": 4,
 "nbformat_minor": 1
}
