{
 "cells": [
  {
   "cell_type": "code",
   "execution_count": 1,
   "id": "d8895bea",
   "metadata": {},
   "outputs": [],
   "source": [
    "import numpy as np\n",
    "import pandas as pd\n",
    "import matplotlib.pyplot as plt"
   ]
  },
  {
   "cell_type": "code",
   "execution_count": null,
   "id": "e8cf916d",
   "metadata": {},
   "outputs": [],
   "source": [
    "speaker_data = pd.read_csv('dataset/speaker_data.csv')\n",
    "talk_data = pd.read_csv('dataset/talk_data.csv')\n",
    "transcript_data = pd.read_csv('dataset/transcript_data.csv')"
   ]
  },
  {
   "cell_type": "code",
   "execution_count": null,
   "id": "5495e551",
   "metadata": {},
   "outputs": [],
   "source": [
    "speaker_data.info()"
   ]
  },
  {
   "cell_type": "code",
   "execution_count": null,
   "id": "00e36e03",
   "metadata": {},
   "outputs": [],
   "source": [
    "speaker_data.shape"
   ]
  },
  {
   "cell_type": "code",
   "execution_count": null,
   "id": "f81c5c1c",
   "metadata": {},
   "outputs": [],
   "source": [
    "talk_data.shape"
   ]
  },
  {
   "cell_type": "code",
   "execution_count": null,
   "id": "5e904c23",
   "metadata": {},
   "outputs": [],
   "source": [
    "transcript_data.shape"
   ]
  },
  {
   "cell_type": "code",
   "execution_count": null,
   "id": "0b29431d",
   "metadata": {},
   "outputs": [],
   "source": [
    "speaker_data.isnull().sum()"
   ]
  },
  {
   "cell_type": "code",
   "execution_count": null,
   "id": "7a6b3296",
   "metadata": {},
   "outputs": [],
   "source": [
    "speaker_data = speaker_data.dropna(subset=['talk'])"
   ]
  },
  {
   "cell_type": "code",
   "execution_count": null,
   "id": "089fbf5a",
   "metadata": {},
   "outputs": [],
   "source": [
    "speaker_data.isnull().sum()"
   ]
  },
  {
   "cell_type": "code",
   "execution_count": null,
   "id": "f7956b83",
   "metadata": {},
   "outputs": [],
   "source": [
    "# filling 648 'speaker_occ'=Nan with value 'Unknown'\n",
    "speaker_data['speaker_occ'] = speaker_data['speaker_occ'].fillna('Unknown')"
   ]
  },
  {
   "cell_type": "code",
   "execution_count": null,
   "id": "9e26e6c5",
   "metadata": {},
   "outputs": [],
   "source": [
    "speaker_data.isnull().sum()"
   ]
  },
  {
   "cell_type": "code",
   "execution_count": null,
   "id": "bc39ddd9",
   "metadata": {},
   "outputs": [],
   "source": [
    "#filling 623 'speaker_bio'=Nan with value 'Unknown'\n",
    "speaker_data['speaker_bio'] = speaker_data['speaker_bio'].fillna('Unknown')"
   ]
  },
  {
   "cell_type": "code",
   "execution_count": null,
   "id": "06afa661",
   "metadata": {},
   "outputs": [],
   "source": [
    "speaker_data.isnull().sum()"
   ]
  },
  {
   "cell_type": "code",
   "execution_count": null,
   "id": "0fb96bda",
   "metadata": {},
   "outputs": [],
   "source": [
    "speaker_data['speaker'] = speaker_data['speaker'].fillna('Unknown')"
   ]
  },
  {
   "cell_type": "code",
   "execution_count": null,
   "id": "62e5b5c6",
   "metadata": {},
   "outputs": [],
   "source": [
    "speaker_data.isnull().sum()"
   ]
  },
  {
   "cell_type": "code",
   "execution_count": null,
   "id": "110cb217",
   "metadata": {},
   "outputs": [],
   "source": [
    "#dropping the 'speaker_title' since majority is Nan and it does not provide any useful insight for our use case\n",
    "speaker_data = speaker_data.drop(columns=['speaker_title'])"
   ]
  },
  {
   "cell_type": "code",
   "execution_count": null,
   "id": "351b42f9",
   "metadata": {},
   "outputs": [],
   "source": [
    "speaker_data"
   ]
  },
  {
   "cell_type": "code",
   "execution_count": null,
   "id": "b148260e",
   "metadata": {},
   "outputs": [],
   "source": [
    "talk_data.info()"
   ]
  },
  {
   "cell_type": "code",
   "execution_count": null,
   "id": "b2bdf183",
   "metadata": {},
   "outputs": [],
   "source": [
    "talk_data.isnull().sum()"
   ]
  },
  {
   "cell_type": "code",
   "execution_count": null,
   "id": "4e2bcf3a",
   "metadata": {},
   "outputs": [],
   "source": [
    "transcript_data.info()"
   ]
  },
  {
   "cell_type": "code",
   "execution_count": null,
   "id": "b5146c14",
   "metadata": {},
   "outputs": [],
   "source": [
    "transcript_data.isnull().sum()"
   ]
  },
  {
   "cell_type": "code",
   "execution_count": null,
   "id": "9bdd3edd",
   "metadata": {},
   "outputs": [],
   "source": [
    "transcript_data = transcript_data.dropna(subset=['transcript'])"
   ]
  },
  {
   "cell_type": "code",
   "execution_count": null,
   "id": "ea6b436f",
   "metadata": {},
   "outputs": [],
   "source": [
    "transcript_data.info()"
   ]
  },
  {
   "cell_type": "code",
   "execution_count": null,
   "id": "687d2942",
   "metadata": {},
   "outputs": [],
   "source": [
    "speaker_data.info()"
   ]
  },
  {
   "cell_type": "code",
   "execution_count": null,
   "id": "ba4b732e",
   "metadata": {},
   "outputs": [],
   "source": [
    "talk_data.info()"
   ]
  },
  {
   "cell_type": "code",
   "execution_count": null,
   "id": "74a8c217",
   "metadata": {},
   "outputs": [],
   "source": [
    "final_df = pd.merge(speaker_data, talk_data, how='inner', left_on = 'talk', right_on = 'talk_name')"
   ]
  },
  {
   "cell_type": "code",
   "execution_count": null,
   "id": "3a439993",
   "metadata": {},
   "outputs": [],
   "source": [
    "final_df.info()"
   ]
  },
  {
   "cell_type": "code",
   "execution_count": null,
   "id": "6fe49041",
   "metadata": {},
   "outputs": [],
   "source": [
    "#Dropping the duplicate column 'talk_name'\n",
    "final_df = final_df.drop(columns=['talk_name'])"
   ]
  },
  {
   "cell_type": "code",
   "execution_count": null,
   "id": "dea39571",
   "metadata": {},
   "outputs": [],
   "source": [
    "final_df.info()"
   ]
  },
  {
   "cell_type": "code",
   "execution_count": null,
   "id": "899b3a9b",
   "metadata": {},
   "outputs": [],
   "source": [
    "final_df = pd.merge(final_df, transcript_data, how='inner', left_on = 'talk', right_on = 'title')"
   ]
  },
  {
   "cell_type": "code",
   "execution_count": null,
   "id": "1dddda11",
   "metadata": {},
   "outputs": [],
   "source": [
    "final_df.info()"
   ]
  },
  {
   "cell_type": "code",
   "execution_count": null,
   "id": "a60b08c9",
   "metadata": {},
   "outputs": [],
   "source": [
    "final_df = final_df.drop(columns=['title'])"
   ]
  },
  {
   "cell_type": "code",
   "execution_count": null,
   "id": "51458cf7",
   "metadata": {},
   "outputs": [],
   "source": [
    "#Removing all rows which have duplicated talk name\n",
    "final_df = final_df.drop_duplicates(subset=['talk'])"
   ]
  },
  {
   "cell_type": "code",
   "execution_count": null,
   "id": "9cb14d25",
   "metadata": {},
   "outputs": [],
   "source": [
    "final_df.info()"
   ]
  },
  {
   "cell_type": "code",
   "execution_count": null,
   "id": "cc2da36c",
   "metadata": {},
   "outputs": [],
   "source": [
    "final_df.to_csv('cleaned data/vaishak_data.csv',index=False)"
   ]
  },
  {
   "cell_type": "code",
   "execution_count": null,
   "id": "c037f71d",
   "metadata": {},
   "outputs": [],
   "source": [
    "final_df.iloc[3][8]"
   ]
  },
  {
   "cell_type": "code",
   "execution_count": 7,
   "id": "56b603a6",
   "metadata": {},
   "outputs": [],
   "source": [
    "cleaned_df = pd.read_csv('cleaned data/vaishak_data.csv')"
   ]
  },
  {
   "cell_type": "code",
   "execution_count": 8,
   "id": "616b4b64",
   "metadata": {},
   "outputs": [
    {
     "data": {
      "text/plain": [
       "(4016, 12)"
      ]
     },
     "execution_count": 8,
     "metadata": {},
     "output_type": "execute_result"
    }
   ],
   "source": [
    "cleaned_df.shape"
   ]
  },
  {
   "cell_type": "markdown",
   "id": "ec2d8d2a",
   "metadata": {},
   "source": [
    "## Term Frequency-Inverse Document Frequency (Tf-Idf)"
   ]
  },
  {
   "cell_type": "code",
   "execution_count": 9,
   "id": "a9eefc21",
   "metadata": {},
   "outputs": [
    {
     "name": "stdout",
     "output_type": "stream",
     "text": [
      "(4016, 68448)\n"
     ]
    }
   ],
   "source": [
    "from sklearn.feature_extraction import text\n",
    "Text=cleaned_df['transcript'].tolist()\n",
    "tfidf=text.TfidfVectorizer(input=Text,stop_words=\"english\")\n",
    "matrix=tfidf.fit_transform(Text)\n",
    "print(matrix.shape)"
   ]
  },
  {
   "cell_type": "code",
   "execution_count": 24,
   "id": "dfd5af3d",
   "metadata": {},
   "outputs": [
    {
     "data": {
      "text/plain": [
       "TfidfVectorizer(input=['Baking apple pie? Discount orange warehouse has you '\n",
       "                       'covered! A fruit’s a fruit, right?It’s 1988, and '\n",
       "                       'scientist James Hansen  has just testified to the '\n",
       "                       'United States Congress  that global warming trends are '\n",
       "                       'caused by human activity, and will pose an increasing '\n",
       "                       'threat  to humanity in the future.Well, well.  That’s '\n",
       "                       'unusually prescient for a human.Looking for a wedding '\n",
       "                       'dress...\n",
       "                       'mind has changed over the years and grown because of '\n",
       "                       'the people in my life who planted seeds in me, some '\n",
       "                       \"that I saw and some that I didn't. So wouldn't it be \"\n",
       "                       'great if instead of having a cancel culture we create '\n",
       "                       'a compassion culture where we are willing to suffer '\n",
       "                       'alongside the ones we love, because we love them. And '\n",
       "                       \"can't we become a community that plants seeds? After \"\n",
       "                       \"all, if we don't, who will?Thank you.\", ...],\n",
       "                stop_words='english')"
      ]
     },
     "execution_count": 24,
     "metadata": {},
     "output_type": "execute_result"
    }
   ],
   "source": [
    "tfidf"
   ]
  },
  {
   "cell_type": "code",
   "execution_count": null,
   "id": "ebd73999",
   "metadata": {},
   "outputs": [],
   "source": [
    "matrix"
   ]
  },
  {
   "cell_type": "markdown",
   "id": "2ec53e74",
   "metadata": {},
   "source": [
    "## Cosine Similarity"
   ]
  },
  {
   "cell_type": "code",
   "execution_count": 10,
   "id": "ed064900",
   "metadata": {
    "scrolled": false
   },
   "outputs": [
    {
     "data": {
      "text/plain": [
       "(4016, 4016)"
      ]
     },
     "execution_count": 10,
     "metadata": {},
     "output_type": "execute_result"
    }
   ],
   "source": [
    "from sklearn.metrics.pairwise import cosine_similarity\n",
    "sim_unigram=cosine_similarity(matrix)\n",
    "sim_unigram.shape"
   ]
  },
  {
   "cell_type": "code",
   "execution_count": 13,
   "id": "65a7e88a",
   "metadata": {},
   "outputs": [],
   "source": [
    "#https://www.kaggle.com/code/gunnvant/building-content-recommender-tutorial\n",
    "#finding the most similar 5 ted talks using the correlation matrix of words created using cosine similarity\n",
    "def get_similar_articles(x):\n",
    "    return \",\".join((cleaned_df['talk']).loc[x.argsort()[-5:-1]])\n",
    "cleaned_df['most_similar_talks_unigrams']=[get_similar_articles(x) for x in sim_unigram]"
   ]
  },
  {
   "cell_type": "code",
   "execution_count": 14,
   "id": "dd3d6249",
   "metadata": {},
   "outputs": [
    {
     "data": {
      "text/html": [
       "<div>\n",
       "<style scoped>\n",
       "    .dataframe tbody tr th:only-of-type {\n",
       "        vertical-align: middle;\n",
       "    }\n",
       "\n",
       "    .dataframe tbody tr th {\n",
       "        vertical-align: top;\n",
       "    }\n",
       "\n",
       "    .dataframe thead th {\n",
       "        text-align: right;\n",
       "    }\n",
       "</style>\n",
       "<table border=\"1\" class=\"dataframe\">\n",
       "  <thead>\n",
       "    <tr style=\"text-align: right;\">\n",
       "      <th></th>\n",
       "      <th>talk</th>\n",
       "      <th>speaker</th>\n",
       "      <th>speaker_occ</th>\n",
       "      <th>speaker_bio</th>\n",
       "      <th>talk_desc</th>\n",
       "      <th>event</th>\n",
       "      <th>views</th>\n",
       "      <th>duration</th>\n",
       "      <th>tags</th>\n",
       "      <th>recorded_at</th>\n",
       "      <th>published on</th>\n",
       "      <th>transcript</th>\n",
       "      <th>most_similar_talks_unigrams</th>\n",
       "    </tr>\n",
       "  </thead>\n",
       "  <tbody>\n",
       "    <tr>\n",
       "      <th>0</th>\n",
       "      <td>Can you outsmart the apples and oranges fallacy?</td>\n",
       "      <td>Elizabeth Cox</td>\n",
       "      <td>Unknown</td>\n",
       "      <td>Unknown</td>\n",
       "      <td>It's 1997. The United States Senate has called...</td>\n",
       "      <td>TED-Ed</td>\n",
       "      <td>119359</td>\n",
       "      <td>327</td>\n",
       "      <td>['education', 'psychology', 'animation', 'TED-...</td>\n",
       "      <td>2021-04-05T00:00:00.000+00:00</td>\n",
       "      <td>1617636753</td>\n",
       "      <td>Baking apple pie? Discount orange warehouse ha...</td>\n",
       "      <td>100 solutions to reverse global warming,How we...</td>\n",
       "    </tr>\n",
       "    <tr>\n",
       "      <th>1</th>\n",
       "      <td>The exploitation of US college athletes</td>\n",
       "      <td>Tim Nevius</td>\n",
       "      <td>College sports lawyer</td>\n",
       "      <td>Tim Nevius is a leading sports lawyer and coll...</td>\n",
       "      <td>Colleges and universities in the US make billi...</td>\n",
       "      <td>TEDxDayton</td>\n",
       "      <td>438573</td>\n",
       "      <td>611</td>\n",
       "      <td>['sports', 'law', 'education', 'United States'...</td>\n",
       "      <td>2020-11-10T00:00:00.000+00:00</td>\n",
       "      <td>1617634131</td>\n",
       "      <td>In college sports, American universities are e...</td>\n",
       "      <td>Protecting the brain against concussion,A summ...</td>\n",
       "    </tr>\n",
       "    <tr>\n",
       "      <th>2</th>\n",
       "      <td>How does ultrasound work?</td>\n",
       "      <td>Jacques Abramowicz</td>\n",
       "      <td>Unknown</td>\n",
       "      <td>Unknown</td>\n",
       "      <td>In a dark cave, bats can't see much. But even ...</td>\n",
       "      <td>TED-Ed</td>\n",
       "      <td>140874</td>\n",
       "      <td>295</td>\n",
       "      <td>['education', 'technology', 'animation', 'TED-...</td>\n",
       "      <td>2021-04-01T00:00:00.000+00:00</td>\n",
       "      <td>1617290223</td>\n",
       "      <td>In a pitch-black cave, bats can’t see much. Bu...</td>\n",
       "      <td>How LIGO discovered gravitational waves -- and...</td>\n",
       "    </tr>\n",
       "    <tr>\n",
       "      <th>3</th>\n",
       "      <td>An honest history of an ancient and \"nasty\" word</td>\n",
       "      <td>Kate Lister</td>\n",
       "      <td>Sex historian</td>\n",
       "      <td>Kate Lister is a sex historian and lecturers a...</td>\n",
       "      <td>With candor and cunning, sex historian Kate Li...</td>\n",
       "      <td>TEDxUniversityofGlasgow</td>\n",
       "      <td>569477</td>\n",
       "      <td>1148</td>\n",
       "      <td>['sex', 'language', 'ancient world', 'history'...</td>\n",
       "      <td>2020-03-06T00:00:00.000+00:00</td>\n",
       "      <td>1617289565</td>\n",
       "      <td>First, a warning. As far as offensive words go...</td>\n",
       "      <td>Beautiful new words to describe obscure emotio...</td>\n",
       "    </tr>\n",
       "    <tr>\n",
       "      <th>4</th>\n",
       "      <td>The electrical blueprints that orchestrate life</td>\n",
       "      <td>Michael Levin</td>\n",
       "      <td>Bioelectric explorer</td>\n",
       "      <td>Michael Levin's research could give rise to ad...</td>\n",
       "      <td>DNA isn't the only builder in the biological w...</td>\n",
       "      <td>TED2020</td>\n",
       "      <td>122682</td>\n",
       "      <td>1176</td>\n",
       "      <td>['biology', 'science', 'invention', 'robots', ...</td>\n",
       "      <td>2020-05-18T00:00:00.000+00:00</td>\n",
       "      <td>1617213773</td>\n",
       "      <td>Chris Anderson: Mike, welcome. It's good to se...</td>\n",
       "      <td>The next software revolution,Growing new organ...</td>\n",
       "    </tr>\n",
       "  </tbody>\n",
       "</table>\n",
       "</div>"
      ],
      "text/plain": [
       "                                               talk             speaker  \\\n",
       "0  Can you outsmart the apples and oranges fallacy?       Elizabeth Cox   \n",
       "1           The exploitation of US college athletes          Tim Nevius   \n",
       "2                         How does ultrasound work?  Jacques Abramowicz   \n",
       "3  An honest history of an ancient and \"nasty\" word         Kate Lister   \n",
       "4   The electrical blueprints that orchestrate life       Michael Levin   \n",
       "\n",
       "             speaker_occ                                        speaker_bio  \\\n",
       "0                Unknown                                            Unknown   \n",
       "1  College sports lawyer  Tim Nevius is a leading sports lawyer and coll...   \n",
       "2                Unknown                                            Unknown   \n",
       "3          Sex historian  Kate Lister is a sex historian and lecturers a...   \n",
       "4   Bioelectric explorer  Michael Levin's research could give rise to ad...   \n",
       "\n",
       "                                           talk_desc                    event  \\\n",
       "0  It's 1997. The United States Senate has called...                   TED-Ed   \n",
       "1  Colleges and universities in the US make billi...               TEDxDayton   \n",
       "2  In a dark cave, bats can't see much. But even ...                   TED-Ed   \n",
       "3  With candor and cunning, sex historian Kate Li...  TEDxUniversityofGlasgow   \n",
       "4  DNA isn't the only builder in the biological w...                 TED2020    \n",
       "\n",
       "    views  duration                                               tags  \\\n",
       "0  119359       327  ['education', 'psychology', 'animation', 'TED-...   \n",
       "1  438573       611  ['sports', 'law', 'education', 'United States'...   \n",
       "2  140874       295  ['education', 'technology', 'animation', 'TED-...   \n",
       "3  569477      1148  ['sex', 'language', 'ancient world', 'history'...   \n",
       "4  122682      1176  ['biology', 'science', 'invention', 'robots', ...   \n",
       "\n",
       "                     recorded_at  published on  \\\n",
       "0  2021-04-05T00:00:00.000+00:00    1617636753   \n",
       "1  2020-11-10T00:00:00.000+00:00    1617634131   \n",
       "2  2021-04-01T00:00:00.000+00:00    1617290223   \n",
       "3  2020-03-06T00:00:00.000+00:00    1617289565   \n",
       "4  2020-05-18T00:00:00.000+00:00    1617213773   \n",
       "\n",
       "                                          transcript  \\\n",
       "0  Baking apple pie? Discount orange warehouse ha...   \n",
       "1  In college sports, American universities are e...   \n",
       "2  In a pitch-black cave, bats can’t see much. Bu...   \n",
       "3  First, a warning. As far as offensive words go...   \n",
       "4  Chris Anderson: Mike, welcome. It's good to se...   \n",
       "\n",
       "                         most_similar_talks_unigrams  \n",
       "0  100 solutions to reverse global warming,How we...  \n",
       "1  Protecting the brain against concussion,A summ...  \n",
       "2  How LIGO discovered gravitational waves -- and...  \n",
       "3  Beautiful new words to describe obscure emotio...  \n",
       "4  The next software revolution,Growing new organ...  "
      ]
     },
     "execution_count": 14,
     "metadata": {},
     "output_type": "execute_result"
    }
   ],
   "source": [
    "cleaned_df.head(5)"
   ]
  },
  {
   "cell_type": "markdown",
   "id": "941f8d64",
   "metadata": {},
   "source": [
    "### Bigrams"
   ]
  },
  {
   "cell_type": "code",
   "execution_count": 15,
   "id": "e98ec9ca",
   "metadata": {},
   "outputs": [
    {
     "data": {
      "text/plain": [
       "(4016, 1881347)"
      ]
     },
     "execution_count": 15,
     "metadata": {},
     "output_type": "execute_result"
    }
   ],
   "source": [
    "tfidf_bigrams=text.TfidfVectorizer(input=Text,stop_words=\"english\",ngram_range=(2,2))\n",
    "matrix_bigrams=tfidf_bigrams.fit_transform(Text)\n",
    "matrix_bigrams.shape"
   ]
  },
  {
   "cell_type": "code",
   "execution_count": 16,
   "id": "50ae233b",
   "metadata": {},
   "outputs": [
    {
     "data": {
      "text/plain": [
       "(4016, 4016)"
      ]
     },
     "execution_count": 16,
     "metadata": {},
     "output_type": "execute_result"
    }
   ],
   "source": [
    "sim_bigram=cosine_similarity(matrix_bigrams)\n",
    "sim_bigram.shape"
   ]
  },
  {
   "cell_type": "code",
   "execution_count": 17,
   "id": "71d75ef6",
   "metadata": {},
   "outputs": [],
   "source": [
    "cleaned_df['most_similar_talks_bigrams']=[get_similar_articles(x) for x in sim_bigram]"
   ]
  },
  {
   "cell_type": "code",
   "execution_count": 18,
   "id": "595f3e7f",
   "metadata": {},
   "outputs": [
    {
     "data": {
      "text/plain": [
       "0    100 solutions to reverse global warming,How we...\n",
       "Name: most_similar_talks_unigrams, dtype: object"
      ]
     },
     "execution_count": 18,
     "metadata": {},
     "output_type": "execute_result"
    }
   ],
   "source": [
    "cleaned_df.head(1).most_similar_talks_unigrams"
   ]
  },
  {
   "cell_type": "markdown",
   "id": "90edb873",
   "metadata": {},
   "source": [
    "### Trigrams"
   ]
  },
  {
   "cell_type": "code",
   "execution_count": 19,
   "id": "cee0f69e",
   "metadata": {},
   "outputs": [
    {
     "data": {
      "text/plain": [
       "(4016, 2893949)"
      ]
     },
     "execution_count": 19,
     "metadata": {},
     "output_type": "execute_result"
    }
   ],
   "source": [
    "tfidf_trigrams=text.TfidfVectorizer(input=Text,stop_words=\"english\",ngram_range=(3,3))\n",
    "matrix_trigrams=tfidf_trigrams.fit_transform(Text)\n",
    "matrix_trigrams.shape"
   ]
  },
  {
   "cell_type": "code",
   "execution_count": 20,
   "id": "ac7d02e0",
   "metadata": {},
   "outputs": [
    {
     "data": {
      "text/plain": [
       "(4016, 4016)"
      ]
     },
     "execution_count": 20,
     "metadata": {},
     "output_type": "execute_result"
    }
   ],
   "source": [
    "sim_trigram=cosine_similarity(matrix_trigrams)\n",
    "sim_trigram.shape"
   ]
  },
  {
   "cell_type": "code",
   "execution_count": 21,
   "id": "8d1f6703",
   "metadata": {},
   "outputs": [],
   "source": [
    "cleaned_df['most_similar_talks_trigrams']=[get_similar_articles(x) for x in sim_trigram]"
   ]
  },
  {
   "cell_type": "code",
   "execution_count": 22,
   "id": "002bc963",
   "metadata": {},
   "outputs": [],
   "source": [
    "example_talk = cleaned_df.iloc[10,0]\n",
    "example_tags = cleaned_df.iloc[10,8]\n",
    "example_recommendations_unigram = cleaned_df.iloc[10,12].split(',')\n",
    "example_recommendations_bigram = cleaned_df.iloc[10,13].split(',')\n",
    "example_recommendations_trigram = cleaned_df.iloc[10,14].split(',')"
   ]
  },
  {
   "cell_type": "code",
   "execution_count": 23,
   "id": "20af9e17",
   "metadata": {},
   "outputs": [
    {
     "name": "stdout",
     "output_type": "stream",
     "text": [
      "Example\n",
      "\n",
      "Talk name -> Why I photograph the quiet moments of grief and loss\n",
      "Talk tags -> ['life', 'death', 'photography', 'family', 'relationships', 'emotions', 'humanity', 'TEDx']\n",
      "\n",
      "Recommendations Unigram : \n",
      "How grief helped me become a better caregiver\n",
      "We don't \"move on\" from grief. We move forward with it\n",
      "3 ways companies can support grieving employees\n",
      "Grief and love in the animal kingdom\n",
      "\n",
      "Recommendations Bigram : \n",
      "We can start winning the war against cancer\n",
      "Stories from a home for terminally ill children\n",
      "A video game that helps us understand loneliness\n",
      "How craving attention makes you less creative\n",
      "\n",
      "Recommendations Trigram : \n",
      "How do daily habits lead to political violence?\n",
      "I stepped out of grief -- by dancing with fire\n",
      "Helping others makes us happier -- but it matters how we do it\n",
      " perspective and change\n",
      "An astronaut's story of curiosity\n"
     ]
    }
   ],
   "source": [
    "print(\"Example\\n\")\n",
    "print(\"Talk name ->\",example_talk)\n",
    "print(\"Talk tags ->\",example_tags)\n",
    "print()\n",
    "print(\"Recommendations Unigram : \")\n",
    "for each in example_recommendations_unigram[::-1]:\n",
    "    print(each)\n",
    "print()\n",
    "print(\"Recommendations Bigram : \")\n",
    "for each in example_recommendations_bigram[::-1]:\n",
    "    print(each)\n",
    "print()\n",
    "print(\"Recommendations Trigram : \")\n",
    "for each in example_recommendations_trigram[::-1]:\n",
    "    print(each)\n",
    "    "
   ]
  },
  {
   "cell_type": "code",
   "execution_count": 25,
   "id": "64aef8eb",
   "metadata": {},
   "outputs": [
    {
     "name": "stdout",
     "output_type": "stream",
     "text": [
      "Collecting bert-embedding\n",
      "  Downloading bert_embedding-1.0.1-py3-none-any.whl (13 kB)\n",
      "Collecting numpy==1.14.6\n",
      "  Downloading numpy-1.14.6.zip (4.9 MB)\n",
      "\u001b[K     |████████████████████████████████| 4.9 MB 3.8 MB/s eta 0:00:01\n",
      "\u001b[?25hCollecting gluonnlp==0.6.0\n",
      "  Downloading gluonnlp-0.6.0.tar.gz (209 kB)\n",
      "\u001b[K     |████████████████████████████████| 209 kB 29.9 MB/s eta 0:00:01\n",
      "\u001b[?25hCollecting bert-embedding\n",
      "  Downloading bert_embedding-1.0.0-py3-none-any.whl (12 kB)\n",
      "  Downloading bert_embedding-0.1.5-py3-none-any.whl (11 kB)\n",
      "  Downloading bert_embedding-0.1.4-py3-none-any.whl (11 kB)\n",
      "  Downloading bert_embedding-0.1.3-py3-none-any.whl (11 kB)\n",
      "  Downloading bert_embedding-0.1.2-py3-none-any.whl (10 kB)\n",
      "  Downloading bert_embedding-0.1.1-py3-none-any.whl (10 kB)\n",
      "  Downloading bert_embedding-0.1.0-py3-none-any.whl (13 kB)\n",
      "\u001b[31mERROR: Cannot install bert-embedding==0.1.0, bert-embedding==0.1.1, bert-embedding==0.1.2, bert-embedding==0.1.3, bert-embedding==0.1.4, bert-embedding==0.1.5, bert-embedding==1.0.0 and bert-embedding==1.0.1 because these package versions have conflicting dependencies.\u001b[0m\n",
      "\n",
      "The conflict is caused by:\n",
      "    bert-embedding 1.0.1 depends on mxnet==1.4.0\n",
      "    bert-embedding 1.0.0 depends on mxnet==1.4.0\n",
      "    bert-embedding 0.1.5 depends on mxnet==1.4.0\n",
      "    bert-embedding 0.1.4 depends on mxnet==1.3.0\n",
      "    bert-embedding 0.1.3 depends on mxnet==1.3.0\n",
      "    bert-embedding 0.1.2 depends on mxnet==1.3.0\n",
      "    bert-embedding 0.1.1 depends on mxnet==1.3.0\n",
      "    bert-embedding 0.1.0 depends on mxnet==1.3.0\n",
      "\n",
      "To fix this you could try to:\n",
      "1. loosen the range of package versions you've specified\n",
      "2. remove package versions to allow pip attempt to solve the dependency conflict\n",
      "\n",
      "\u001b[31mERROR: ResolutionImpossible: for help visit https://pip.pypa.io/en/latest/user_guide/#fixing-conflicting-dependencies\u001b[0m\n",
      "Note: you may need to restart the kernel to use updated packages.\n"
     ]
    }
   ],
   "source": [
    "pip install bert-embedding"
   ]
  },
  {
   "cell_type": "code",
   "execution_count": null,
   "id": "874a24c4",
   "metadata": {},
   "outputs": [],
   "source": []
  }
 ],
 "metadata": {
  "kernelspec": {
   "display_name": "Python 3",
   "language": "python",
   "name": "python3"
  },
  "language_info": {
   "codemirror_mode": {
    "name": "ipython",
    "version": 3
   },
   "file_extension": ".py",
   "mimetype": "text/x-python",
   "name": "python",
   "nbconvert_exporter": "python",
   "pygments_lexer": "ipython3",
   "version": "3.8.8"
  }
 },
 "nbformat": 4,
 "nbformat_minor": 5
}
