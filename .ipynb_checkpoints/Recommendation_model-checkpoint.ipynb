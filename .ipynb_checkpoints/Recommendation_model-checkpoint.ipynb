{
 "cells": [
  {
   "cell_type": "code",
   "execution_count": null,
   "id": "6fe6ea1c",
   "metadata": {},
   "outputs": [],
   "source": [
    "from sklearn.feature_extraction import text"
   ]
  },
  {
   "cell_type": "markdown",
   "id": "1574c37e",
   "metadata": {},
   "source": [
    "## Term Frequency-Inverse Document Frequency (Tf-Idf)"
   ]
  },
  {
   "cell_type": "code",
   "execution_count": null,
   "id": "6611bedd",
   "metadata": {},
   "outputs": [],
   "source": [
    "Text=cleaned_df['transcript'].tolist()\n",
    "tfidf=text.TfidfVectorizer(input=Text,stop_words=\"english\")\n",
    "matrix=tfidf.fit_transform(Text)\n",
    "print(matrix.shape)"
   ]
  },
  {
   "cell_type": "markdown",
   "id": "f71ea70e",
   "metadata": {},
   "source": [
    "## Cosine Similarity"
   ]
  },
  {
   "cell_type": "markdown",
   "id": "ae481150",
   "metadata": {},
   "source": [
    "### Unigrams"
   ]
  },
  {
   "cell_type": "code",
   "execution_count": null,
   "id": "6c525814",
   "metadata": {},
   "outputs": [],
   "source": [
    "from sklearn.metrics.pairwise import cosine_similarity\n",
    "sim_unigram=cosine_similarity(matrix)\n",
    "sim_unigram.shape"
   ]
  },
  {
   "cell_type": "code",
   "execution_count": null,
   "id": "e2fc7a59",
   "metadata": {},
   "outputs": [],
   "source": [
    "#https://www.kaggle.com/code/gunnvant/building-content-recommender-tutorial\n",
    "#finding the most similar 5 ted talks using the correlation matrix of words created using cosine similarity\n",
    "def get_similar_articles(x):\n",
    "    return \",\".join((cleaned_df['talk']).loc[x.argsort()[-5:-1]])\n",
    "cleaned_df['most_similar_talks_unigrams']=[get_similar_articles(x) for x in sim_unigram]"
   ]
  },
  {
   "cell_type": "code",
   "execution_count": null,
   "id": "738d4289",
   "metadata": {},
   "outputs": [],
   "source": [
    "cleaned_df.head(5)"
   ]
  },
  {
   "cell_type": "markdown",
   "id": "5d687dee",
   "metadata": {},
   "source": [
    "### Bigrams"
   ]
  },
  {
   "cell_type": "code",
   "execution_count": null,
   "id": "a27dc522",
   "metadata": {},
   "outputs": [],
   "source": [
    "tfidf_bigrams=text.TfidfVectorizer(input=Text,stop_words=\"english\",ngram_range=(2,2))\n",
    "matrix_bigrams=tfidf_bigrams.fit_transform(Text)\n",
    "matrix_bigrams.shape"
   ]
  },
  {
   "cell_type": "code",
   "execution_count": null,
   "id": "4309b18f",
   "metadata": {},
   "outputs": [],
   "source": [
    "sim_bigram=cosine_similarity(matrix_bigrams)\n",
    "sim_bigram.shape"
   ]
  },
  {
   "cell_type": "code",
   "execution_count": null,
   "id": "26286c9c",
   "metadata": {},
   "outputs": [],
   "source": [
    "cleaned_df['most_similar_talks_bigrams']=[get_similar_articles(x) for x in sim_bigram]"
   ]
  },
  {
   "cell_type": "code",
   "execution_count": null,
   "id": "a746e037",
   "metadata": {},
   "outputs": [],
   "source": [
    "cleaned_df.head(1).most_similar_talks_unigrams"
   ]
  },
  {
   "cell_type": "markdown",
   "id": "6cc7abaa",
   "metadata": {},
   "source": [
    "### Trigrams"
   ]
  },
  {
   "cell_type": "code",
   "execution_count": null,
   "id": "facd8cf2",
   "metadata": {},
   "outputs": [],
   "source": [
    "tfidf_trigrams=text.TfidfVectorizer(input=Text,stop_words=\"english\",ngram_range=(3,3))\n",
    "matrix_trigrams=tfidf_trigrams.fit_transform(Text)\n",
    "matrix_trigrams.shape"
   ]
  },
  {
   "cell_type": "code",
   "execution_count": null,
   "id": "dd1007c1",
   "metadata": {},
   "outputs": [],
   "source": [
    "sim_trigram=cosine_similarity(matrix_trigrams)\n",
    "sim_trigram.shape"
   ]
  },
  {
   "cell_type": "code",
   "execution_count": null,
   "id": "1416c6c3",
   "metadata": {},
   "outputs": [],
   "source": [
    "cleaned_df['most_similar_talks_trigrams']=[get_similar_articles(x) for x in sim_trigram]"
   ]
  },
  {
   "cell_type": "code",
   "execution_count": null,
   "id": "553c2c7f",
   "metadata": {},
   "outputs": [],
   "source": [
    "example_talk = cleaned_df.iloc[23,0]\n",
    "example_tags = cleaned_df.iloc[23,8]\n",
    "example_recommendations_unigram = cleaned_df.iloc[23,12].split(',')\n",
    "example_recommendations_bigram = cleaned_df.iloc[23,13].split(',')\n",
    "example_recommendations_trigram = cleaned_df.iloc[23,14].split(',')\n",
    "example_recommendations_w2v = cleaned_df.iloc[23,15].split(',')"
   ]
  },
  {
   "cell_type": "code",
   "execution_count": null,
   "id": "4bd726d3",
   "metadata": {},
   "outputs": [],
   "source": [
    "print(\"Example\\n\")\n",
    "print(\"Talk name ->\",example_talk)\n",
    "print(\"Talk tags ->\",example_tags)\n",
    "print()\n",
    "print(\"Recommendations Unigram : \")\n",
    "for each in example_recommendations_unigram[::-1]:\n",
    "    print(each)\n",
    "print()\n",
    "print(\"Recommendations Bigram : \")\n",
    "for each in example_recommendations_bigram[::-1]:\n",
    "    print(each)\n",
    "print()\n",
    "print(\"Recommendations Trigram : \")\n",
    "for each in example_recommendations_trigram[::-1]:\n",
    "    print(each)\n",
    "print()\n",
    "print(\"Recommendations W2V : \")\n",
    "for each in example_recommendations_w2v[::-1]:\n",
    "    print(each)\n",
    "    "
   ]
  },
  {
   "cell_type": "code",
   "execution_count": null,
   "id": "b57601a8",
   "metadata": {},
   "outputs": [],
   "source": []
  }
 ],
 "metadata": {
  "kernelspec": {
   "display_name": "Python 3.8 (tensorflow)",
   "language": "python",
   "name": "tensorflow"
  },
  "language_info": {
   "codemirror_mode": {
    "name": "ipython",
    "version": 3
   },
   "file_extension": ".py",
   "mimetype": "text/x-python",
   "name": "python",
   "nbconvert_exporter": "python",
   "pygments_lexer": "ipython3",
   "version": "3.8.12"
  }
 },
 "nbformat": 4,
 "nbformat_minor": 5
}
